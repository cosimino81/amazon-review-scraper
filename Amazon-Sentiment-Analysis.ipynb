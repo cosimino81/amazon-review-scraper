{
 "cells": [
  {
   "cell_type": "markdown",
   "metadata": {},
   "source": [
    "# Scraper\n",
    "In this first part we will scrape the data from the urls stored into the file \"urls_list.txt\". The scraped data will be stored into a data frame and a \"data.csv\""
   ]
  },
  {
   "cell_type": "code",
   "execution_count": 268,
   "metadata": {},
   "outputs": [],
   "source": [
    "from selectorlib import Extractor\n",
    "import requests \n",
    "import json \n",
    "import pandas as pd\n",
    "from time import sleep\n",
    "import csv\n",
    "from dateutil import parser as dateparser"
   ]
  },
  {
   "cell_type": "code",
   "execution_count": 269,
   "metadata": {},
   "outputs": [],
   "source": [
    "# Create an Extractor by reading from the YAML file\n",
    "e = Extractor.from_yaml_file('selectors.yml')"
   ]
  },
  {
   "cell_type": "code",
   "execution_count": 270,
   "metadata": {},
   "outputs": [],
   "source": [
    "# Scraping function\n",
    "def scrape(url):    \n",
    "    headers = {\n",
    "        'authority': 'www.amazon.com',\n",
    "        'pragma': 'no-cache',\n",
    "        'cache-control': 'no-cache',\n",
    "        'dnt': '1',\n",
    "        'upgrade-insecure-requests': '1',\n",
    "        'user-agent': 'Mozilla/5.0 (X11; CrOS x86_64 8172.45.0) AppleWebKit/537.36 (KHTML, like Gecko) Chrome/51.0.2704.64 Safari/537.36',\n",
    "        'accept': 'text/html,application/xhtml+xml,application/xml;q=0.9,image/webp,image/apng,*/*;q=0.8,application/signed-exchange;v=b3;q=0.9',\n",
    "        'sec-fetch-site': 'none',\n",
    "        'sec-fetch-mode': 'navigate',\n",
    "        'sec-fetch-dest': 'document',\n",
    "        'accept-language': 'en-GB,en-US;q=0.9,en;q=0.8',\n",
    "    }\n",
    "\n",
    "    # Download the page using requests\n",
    "    #print(\"Downloading %s\"%url)\n",
    "    r = requests.get(url, headers=headers)\n",
    "    # Simple check to check if page was blocked (Usually 503)\n",
    "    if r.status_code > 500:\n",
    "        if \"To discuss automated access to Amazon data please contact\" in r.text:\n",
    "            print(\"Page %s was blocked by Amazon. Please try using better proxies\\n\"%url)\n",
    "        else:\n",
    "            print(\"Page %s must have been blocked by Amazon as the status code was %d\"%(url,r.status_code))\n",
    "        return None\n",
    "    # Pass the HTML of the page and create \n",
    "    return e.extract(r.text)\n"
   ]
  },
  {
   "cell_type": "code",
   "execution_count": 271,
   "metadata": {},
   "outputs": [
    {
     "name": "stdout",
     "output_type": "stream",
     "text": [
      "{'title': 'Look just like the photo', 'content': 'I love the shoes they are true to size , I wear a 7 1/2 but I ordered a 8 to allow a little extra room and I got just that', 'date': '18 Sep 2018', 'variant': 'Size: 8 Color: White/Metallic Silver/Dark Grey', 'images': 'https://images-na.ssl-images-amazon.com/images/I/81wdRdaAfmL._SY88.jpg', 'verified': 'Yes', 'author': 'Diane Johnson', 'rating': '5.0', 'product': \"Nike Women's Reax Run 5 Running Shoes\", 'url': 'https://www.amazon.com/Nike-Womens-Reax-Running-Shoes/product-reviews/B07ZPL752N/ref=cm_cr_arp_d_viewopt_srt?ie=UTF8&reviewerType=all_reviews&pageNumber=1&sortBy=recent\\n'}\n",
      "{'title': 'After 20 returns', 'content': 'Just writing a rare review on these . I love Nike’s but my feet don’t usually. So I’ve ordered and returned a lot. Tried again lol and these ARE AMAZING comfortable. So much that I may order 3 more this year just to have them. The color is so cute and clean and sporty. I’m 99.9% sure I’ve dinally found a pair of Nikes I’m not going to return , fingers crossed 🤞😊', 'date': '08 May 2019', 'variant': 'Size: 10 Color: White/Metallic Silver/Dark Grey', 'images': 'https://images-na.ssl-images-amazon.com/images/I/717EKthL0BL._SY88.jpg', 'verified': 'Yes', 'author': 'sherlain miranda', 'rating': '4.0', 'product': \"Nike Women's Reax Run 5 Running Shoes\", 'url': 'https://www.amazon.com/Nike-Womens-Reax-Running-Shoes/product-reviews/B07ZPL752N/ref=cm_cr_arp_d_viewopt_srt?ie=UTF8&reviewerType=all_reviews&pageNumber=1&sortBy=recent\\n'}\n",
      "{'title': 'Half size up :)', 'content': 'I have only run in them a couple of times, but so far they feel great. I normally wear a size 9, and I ordered a 9.5, and I’m glad I did. There is plenty of room, but not too much. The only thing that will take me getting used to is that they are slightly bulkier than my ASICS. Like any running shoes, I’m sure it will take a little bit of time to work out the stiffness and fully break them in, but they are amazing!', 'date': '14 Dec 2018', 'variant': 'Size: 9.5 Color: White/Metallic Silver/Dark Grey', 'images': 'https://images-na.ssl-images-amazon.com/images/I/71ap+mslLBL._SY88.jpg', 'verified': 'Yes', 'author': 'Blondie', 'rating': '5.0', 'product': \"Nike Women's Reax Run 5 Running Shoes\", 'url': 'https://www.amazon.com/Nike-Womens-Reax-Running-Shoes/product-reviews/B07ZPL752N/ref=cm_cr_arp_d_viewopt_srt?ie=UTF8&reviewerType=all_reviews&pageNumber=1&sortBy=recent\\n'}\n",
      "{'title': 'Surprisingly comfortable', 'content': 'I have a very hard time finding shoes that are comfortable for me, I have severe fibromyalgia with no help from medications because nothing works for me. So I am constantly looking for comfortable clothing and sneakers. Usually nike isnt good for me but after deciding to give this pair a try I was happy I did. Not only are they nice looking but they really are comfortable. I wore them all day today did a lot of walking and have zero issues with my feet hurting. Worth the extra money', 'date': '26 Aug 2018', 'variant': 'Size: 8 Color: White/Metallic Silver/Dark Grey', 'images': None, 'verified': 'Yes', 'author': 'E Diaz', 'rating': '5.0', 'product': \"Nike Women's Reax Run 5 Running Shoes\", 'url': 'https://www.amazon.com/Nike-Womens-Reax-Running-Shoes/product-reviews/B07ZPL752N/ref=cm_cr_arp_d_viewopt_srt?ie=UTF8&reviewerType=all_reviews&pageNumber=1&sortBy=recent\\n'}\n",
      "{'title': 'Cute and Stylish..', 'content': 'Great workout shoes. Very comfortable.', 'date': '04 Sep 2017', 'variant': None, 'images': 'https://images-na.ssl-images-amazon.com/images/I/713WLuPPK-L._SY88.jpg', 'verified': 'Yes', 'author': 'Angel Buchanan', 'rating': '5.0', 'product': \"Nike Women's Reax Run 5 Running Shoes\", 'url': 'https://www.amazon.com/Nike-Womens-Reax-Running-Shoes/product-reviews/B07ZPL752N/ref=cm_cr_arp_d_viewopt_srt?ie=UTF8&reviewerType=all_reviews&pageNumber=1&sortBy=recent\\n'}\n",
      "{'title': 'Great, Comfortable Shoe', 'content': \"This is my second pair.  They are the most comfortable tennis shoes I own, I can be on my feet all day and they don't hurt.  I normally wear a 8.5 but in this shoe I wear a 9.  I find the toe box is wider and more comfortable especially if I wear a little thicker sock, it's just roomy enough to my toes are scrunched together.  I don't have a wide foot either.\", 'date': '18 Jul 2017', 'variant': 'Size: 9 Color: White/Metallic Silver/Dark Grey', 'images': None, 'verified': 'Yes', 'author': 'msgrnbay', 'rating': '5.0', 'product': \"Nike Women's Reax Run 5 Running Shoes\", 'url': 'https://www.amazon.com/Nike-Womens-Reax-Running-Shoes/product-reviews/B07ZPL752N/ref=cm_cr_arp_d_viewopt_srt?ie=UTF8&reviewerType=all_reviews&pageNumber=1&sortBy=recent\\n'}\n",
      "{'title': 'Great shoes', 'content': \"This is my second pair. I think these shoes are comfy and aren't hard to keep looking fresh and white. I wear them to work every day and wash them about once a month and let them air dry. Love them.\", 'date': '02 Aug 2017', 'variant': 'Size: 9 Color: White/Metallic Silver/Dark Grey', 'images': None, 'verified': 'Yes', 'author': 'Amy Klein', 'rating': '5.0', 'product': \"Nike Women's Reax Run 5 Running Shoes\", 'url': 'https://www.amazon.com/Nike-Womens-Reax-Running-Shoes/product-reviews/B07ZPL752N/ref=cm_cr_arp_d_viewopt_srt?ie=UTF8&reviewerType=all_reviews&pageNumber=1&sortBy=recent\\n'}\n",
      "{'title': 'Loving these shoes', 'content': \"I'm really loving these shoe's. A little pricey. I'm on my feet a lot for work plus I  jog. I've worn them three times now and they're very comfortable. I wear a 6 1/2, purchase a 6 1/2, fits perfect. I like my shoes a little wide in the toe area. Read some reviews that the heels were too wide, I haven't an experience that.\", 'date': '15 Jul 2019', 'variant': 'Size: 6.5 Color: White/Metallic Silver/Dark Grey', 'images': 'https://images-na.ssl-images-amazon.com/images/I/81V1HUrmAZL._SY88.jpg\\nhttps://images-na.ssl-images-amazon.com/images/I/81XLfLSdzvL._SY88.jpg', 'verified': 'Yes', 'author': 'stephanie stone', 'rating': '5.0', 'product': \"Nike Women's Reax Run 5 Running Shoes\", 'url': 'https://www.amazon.com/Nike-Womens-Reax-Running-Shoes/product-reviews/B07ZPL752N/ref=cm_cr_arp_d_viewopt_srt?ie=UTF8&reviewerType=all_reviews&pageNumber=1&sortBy=recent\\n'}\n",
      "{'title': 'Gorgeous shoes', 'content': 'Gorgeous shoes! I love it. Nice for running', 'date': '24 Oct 2019', 'variant': 'Size: 6.5 Color: White/Metallic Silver/Dark Grey', 'images': 'https://images-na.ssl-images-amazon.com/images/I/71pw3tp3dWL._SY88.jpg\\nhttps://images-na.ssl-images-amazon.com/images/I/71wccS4Z-QL._SY88.jpg', 'verified': 'Yes', 'author': 'Kamila', 'rating': '5.0', 'product': \"Nike Women's Reax Run 5 Running Shoes\", 'url': 'https://www.amazon.com/Nike-Womens-Reax-Running-Shoes/product-reviews/B07ZPL752N/ref=cm_cr_arp_d_viewopt_srt?ie=UTF8&reviewerType=all_reviews&pageNumber=1&sortBy=recent\\n'}\n",
      "{'title': 'Three Stars', 'content': 'Look great but my feet are killing me during my walk and after my walk.', 'date': '02 Aug 2018', 'variant': 'Size: 8.5 Color: White/Metallic Silver/Dark Grey', 'images': None, 'verified': 'Yes', 'author': 'Michelle Finnegan', 'rating': '3.0', 'product': \"Nike Women's Reax Run 5 Running Shoes\", 'url': 'https://www.amazon.com/Nike-Womens-Reax-Running-Shoes/product-reviews/B07ZPL752N/ref=cm_cr_arp_d_viewopt_srt?ie=UTF8&reviewerType=all_reviews&pageNumber=1&sortBy=recent\\n'}\n",
      "{'title': 'Great shoes, but still had a security tag attached...', 'content': \"I love these shoes! It took a couple days to break them in, but they're really comfortable and don't make my feet hurt. I would've given them 5 stars, but the shoes still had a security tag attached to them and I had to go to a few stores to find a place that could remove it. That was really frustrating!\", 'date': '12 Sep 2018', 'variant': 'Size: 8.5 Color: White/Metallic Silver/Dark Grey', 'images': None, 'verified': 'Yes', 'author': 'Miranda R.', 'rating': '4.0', 'product': \"Nike Women's Reax Run 5 Running Shoes\", 'url': 'https://www.amazon.com/Nike-Womens-Reax-Running-Shoes/product-reviews/B07ZPL752N/ref=cm_cr_getr_d_paging_btm_next_2?ie=UTF8&reviewerType=all_reviews&pageNumber=2&sortBy=recent\\n'}\n",
      "{'title': 'Love Nike', 'content': 'Perfect for my high arches. No break in needed. Comfortable for long hikes', 'date': '16 Jan 2019', 'variant': 'Size: 7 Color: White/Metallic Silver/Dark Grey', 'images': None, 'verified': 'Yes', 'author': 'AmazonJunkie', 'rating': '5.0', 'product': \"Nike Women's Reax Run 5 Running Shoes\", 'url': 'https://www.amazon.com/Nike-Womens-Reax-Running-Shoes/product-reviews/B07ZPL752N/ref=cm_cr_getr_d_paging_btm_next_2?ie=UTF8&reviewerType=all_reviews&pageNumber=2&sortBy=recent\\n'}\n",
      "{'title': 'Great!', 'content': \"I'm not really big into sneakers but I'm a fan of Nike and their activewear. When I saw these a few months ago, I HAD to have them. I usually only buy shoes that are black or black & white so this was a change for me. They're on the pricey side so for months I watched the price yo-yo. Right after the holidays they were the cheapest I've seen them, so I bought them! I had received them a few days ago. I wore them for the first time today and they were great! I'm normally a size 7 in women's shoes and one reviewer mentioned going up a half size, which ended up being a good idea so I ordered the 7. 5. Definitely very comfortable and I feel like it gives me a little bit of height (I'm 5'0 so I like it!). I love the colors! Can't wait to break them in!\", 'date': '13 Jan 2020', 'variant': 'Size: 7.5 Color: Black/White/Mtlc Cool Grey', 'images': None, 'verified': 'Yes', 'author': 'Alana Marie', 'rating': '5.0', 'product': \"Nike Women's Reax Run 5 Running Shoes\", 'url': 'https://www.amazon.com/Nike-Womens-Reax-Running-Shoes/product-reviews/B07ZPL752N/ref=cm_cr_getr_d_paging_btm_next_2?ie=UTF8&reviewerType=all_reviews&pageNumber=2&sortBy=recent\\n'}\n",
      "{'title': \"Haven't tried on Nike's in years\", 'content': \"Not a good fit for me.  The sole material is incredible stiff (hardly bendable). Compared to my old Gel Nimbus 16 Asics little front foot support for impact.  The heel fits fine ... shoe is tight around top of foot and toe box. I feel an odd bump in the ball of foot cushion.  Another half size up MIGHT do it (I always wear a 7 in running shoes and that's what I ordered), if it weren't for the other issues. I own a pair the original Nike's Lady running shoes from the 80's. They STILL fit perfectly!\", 'date': '27 Jul 2019', 'variant': 'Size: 7 Color: White/Metallic Silver/Dark Grey', 'images': None, 'verified': 'Yes', 'author': 'CarrieK', 'rating': '2.0', 'product': \"Nike Women's Reax Run 5 Running Shoes\", 'url': 'https://www.amazon.com/Nike-Womens-Reax-Running-Shoes/product-reviews/B07ZPL752N/ref=cm_cr_getr_d_paging_btm_next_2?ie=UTF8&reviewerType=all_reviews&pageNumber=2&sortBy=recent\\n'}\n",
      "{'title': 'Perfect fit - Great product', 'content': \"I love these running shoes.  The only thing I will say is I wish I had worn socks with them.  Otherwise they are like walking on clouds.  I have circulation issues and these are the only shoes that don't pinch anywhere.  (rubbing on the arch of the foot is probably more to do with my foot than the shoe design it self).\", 'date': '27 Oct 2018', 'variant': 'Size: 7.5 Color: White/Metallic Silver/Dark Grey', 'images': None, 'verified': 'Yes', 'author': 'L Huurm', 'rating': '4.0', 'product': \"Nike Women's Reax Run 5 Running Shoes\", 'url': 'https://www.amazon.com/Nike-Womens-Reax-Running-Shoes/product-reviews/B07ZPL752N/ref=cm_cr_getr_d_paging_btm_next_2?ie=UTF8&reviewerType=all_reviews&pageNumber=2&sortBy=recent\\n'}\n",
      "{'title': 'Very comfortable!! Work great when you’re on concrete floors all day long!', 'content': 'I’m on concrete floors all day at work and these shoes have helped sooo much!!!! Very comfortable!!', 'date': '05 Nov 2018', 'variant': 'Size: 9 Color: White/Metallic Silver/Dark Grey', 'images': None, 'verified': 'Yes', 'author': 'Amazon Customer', 'rating': '4.0', 'product': \"Nike Women's Reax Run 5 Running Shoes\", 'url': 'https://www.amazon.com/Nike-Womens-Reax-Running-Shoes/product-reviews/B07ZPL752N/ref=cm_cr_getr_d_paging_btm_next_2?ie=UTF8&reviewerType=all_reviews&pageNumber=2&sortBy=recent\\n'}\n",
      "{'title': 'NIKE reax run5 awesome shoes with no breaking feeling wonderful in my feet true to size', 'content': 'Very nice sneakers I have osteoarthritis very comfortable straight out of box with no break in needed no shock to my knees or feet . I highly recommend this item very comfortable great support', 'date': '11 Oct 2018', 'variant': 'Size: 7.5 Color: White/Metallic Silver/Dark Grey', 'images': None, 'verified': 'Yes', 'author': 'Lisa53', 'rating': '5.0', 'product': \"Nike Women's Reax Run 5 Running Shoes\", 'url': 'https://www.amazon.com/Nike-Womens-Reax-Running-Shoes/product-reviews/B07ZPL752N/ref=cm_cr_getr_d_paging_btm_next_2?ie=UTF8&reviewerType=all_reviews&pageNumber=2&sortBy=recent\\n'}\n",
      "{'title': 'Great shoes.', 'content': 'Not shoes I wanted, but needed a pair I could actually walk in due to being pregnant and keeping up with my 2yr old outside. So I ordered these was bummed out till I received them I fell in love instantly I get so many compliments and when I say how much they cost people are wowed at how such great shoes are pricy, but not costing a arm and leg like most. However they do rub a little and are tight around the ankles (My ankles have not swollen yet only 3m along) SO I would least suggest socks that go a little above your ankle at least. I got a size 9 they are a little big on me so I would say order a size down or if you like the extra room get your normal size.', 'date': '14 May 2019', 'variant': 'Size: 9 Color: White/Metallic Silver/Dark Grey', 'images': None, 'verified': 'Yes', 'author': 'Shannon Jones', 'rating': '4.0', 'product': \"Nike Women's Reax Run 5 Running Shoes\", 'url': 'https://www.amazon.com/Nike-Womens-Reax-Running-Shoes/product-reviews/B07ZPL752N/ref=cm_cr_getr_d_paging_btm_next_2?ie=UTF8&reviewerType=all_reviews&pageNumber=2&sortBy=recent\\n'}\n",
      "{'title': 'True: Not a typical Nike fit', 'content': \"This shoe is awesome. I usually get half a size larger in Nike because they are typically narrow and short. This shoe, however, I ordered in my normal size six and it's great. The toe box is roomier. The whole shoe seems wider to me. They are comfortable and I love running in them. I have gone on long runs, short runs with them and they are great! If you are looking for the typical snug fitting nike, this is not it.\", 'date': '20 Jun 2019', 'variant': 'Size: 6 Color: White/Metallic Silver/Dark Grey', 'images': None, 'verified': 'Yes', 'author': 'sba', 'rating': '5.0', 'product': \"Nike Women's Reax Run 5 Running Shoes\", 'url': 'https://www.amazon.com/Nike-Womens-Reax-Running-Shoes/product-reviews/B07ZPL752N/ref=cm_cr_getr_d_paging_btm_next_2?ie=UTF8&reviewerType=all_reviews&pageNumber=2&sortBy=recent\\n'}\n",
      "{'title': 'I really recommend these shoes!', 'content': 'I love these shoes! I finally found shoes not only help me walk 3 of my dogs but they also have great grip on the ground! My dogs saw someone walking their dog and these shoes kept me from slipping off the pavement! Comedy avoided that day!', 'date': '01 May 2019', 'variant': 'Size: 7.5 Color: White/Metallic Silver/Dark Grey', 'images': None, 'verified': 'Yes', 'author': 'Nicole Lynch', 'rating': '5.0', 'product': \"Nike Women's Reax Run 5 Running Shoes\", 'url': 'https://www.amazon.com/Nike-Womens-Reax-Running-Shoes/product-reviews/B07ZPL752N/ref=cm_cr_getr_d_paging_btm_next_2?ie=UTF8&reviewerType=all_reviews&pageNumber=2&sortBy=recent\\n'}\n"
     ]
    },
    {
     "name": "stdout",
     "output_type": "stream",
     "text": [
      "{'title': 'Love them!!!!!!', 'content': 'This is the first time I have ever bought shoes for myself online so I was a bit scared/sceptical, but they fit perfectly. I was in an auto accident and my shoes were ruined. I was unable to go shopping due to injuries and I am so thankful they fit perfectly!!', 'date': '12 Feb 2019', 'variant': 'Size: 7.5 Color: White/Metallic Silver/Dark Grey', 'images': None, 'verified': 'Yes', 'author': 'Lea Vanderlei', 'rating': '5.0', 'product': \"Nike Women's Reax Run 5 Running Shoes\", 'url': 'https://www.amazon.com/Nike-Womens-Reax-Running-Shoes/product-reviews/B07ZPL752N/ref=cm_cr_getr_d_paging_btm_next_3?ie=UTF8&reviewerType=all_reviews&pageNumber=3&sortBy=recent\\n'}\n",
      "{'title': 'Pretty shoe but runs small', 'content': 'I wear a 7 in most shoes, my Brooks shoes are a 7.5 so I ordered these in a 7.5 too and unfortunately they’re too small. The shoe is quite stiff going on, not a lot of give in them at all. I’m not sure I could run in these but they’re so beautiful I’m returning them and getting an 8 hoping those will fit better. It’s such a pretty shoe, but I’ll be looking for something else to run in and use these with my jeans or capris.', 'date': '28 Apr 2020', 'variant': 'Size: 7.5 Color: White/Metallic Silver/Dark Grey', 'images': None, 'verified': 'Yes', 'author': 'Serena', 'rating': '4.0', 'product': \"Nike Women's Reax Run 5 Running Shoes\", 'url': 'https://www.amazon.com/Nike-Womens-Reax-Running-Shoes/product-reviews/B07ZPL752N/ref=cm_cr_getr_d_paging_btm_next_3?ie=UTF8&reviewerType=all_reviews&pageNumber=3&sortBy=recent\\n'}\n",
      "{'title': 'Cheaply Made & DAMAGED!!!', 'content': 'The shoe appears to look great till you get them and then when I got them in the mail they already had scuffs and scratches in the paint and the shoe had some bumpy areas towards the back of the shoe that should not be there the material seems to be made real cheap or I just ended up with a pair that was made horribly! I’m not that happy about this shoe (Nike Reax Run 5)  I should not have to pay for a pair of shoes that’s already damaged! When I get shoes I take care of them and don’t like marks and scuffs so all in all I’m not very happy with this product I would Have never paid the amount I paid for these shoes if I would have known they were going to be damaged!! I’m not satisfied at all!! Now I have to wait until I get paid again before I can even get a decent pair of shoes to wear !', 'date': '22 Mar 2020', 'variant': 'Size: 9.5 Color: Black/White/Mtlc Cool Grey', 'images': 'https://images-na.ssl-images-amazon.com/images/I/71+edvuqi+L._SY88.jpg\\nhttps://images-na.ssl-images-amazon.com/images/I/71GaqzIG7LL._SY88.jpg\\nhttps://images-na.ssl-images-amazon.com/images/I/71lRsq0h2tL._SY88.jpg\\nhttps://images-na.ssl-images-amazon.com/images/I/71nbsOQ0PDL._SY88.jpg\\nhttps://images-na.ssl-images-amazon.com/images/I/71xutUjC5YL._SY88.jpg\\nhttps://images-na.ssl-images-amazon.com/images/I/81N+kIkAr+L._SY88.jpg', 'verified': 'Yes', 'author': 'Dawn', 'rating': '2.0', 'product': \"Nike Women's Reax Run 5 Running Shoes\", 'url': 'https://www.amazon.com/Nike-Womens-Reax-Running-Shoes/product-reviews/B07ZPL752N/ref=cm_cr_getr_d_paging_btm_next_3?ie=UTF8&reviewerType=all_reviews&pageNumber=3&sortBy=recent\\n'}\n",
      "{'title': 'You have to buy them to believe them, iam in Love with my Sneakers', 'content': 'This is the best Sneaker I have ever purchased iam on my feet, walking according to my Fitbit way over eight thousand steps and I don’t feel it at all I love these sneakers', 'date': '28 Feb 2019', 'variant': 'Size: 9 Color: White/Metallic Silver/Dark Grey', 'images': None, 'verified': 'Yes', 'author': 'Sweet Nancy', 'rating': '5.0', 'product': \"Nike Women's Reax Run 5 Running Shoes\", 'url': 'https://www.amazon.com/Nike-Womens-Reax-Running-Shoes/product-reviews/B07ZPL752N/ref=cm_cr_getr_d_paging_btm_next_3?ie=UTF8&reviewerType=all_reviews&pageNumber=3&sortBy=recent\\n'}\n",
      "{'title': 'Perfect fit, comfortable', 'content': 'These were just what I wanted. Perfect fit, comfortable, and not super bright and tacky like most athletic shoes these days.', 'date': '14 Nov 2018', 'variant': 'Size: 6 Color: White/Metallic Silver/Dark Grey', 'images': None, 'verified': 'Yes', 'author': 'Kim', 'rating': '5.0', 'product': \"Nike Women's Reax Run 5 Running Shoes\", 'url': 'https://www.amazon.com/Nike-Womens-Reax-Running-Shoes/product-reviews/B07ZPL752N/ref=cm_cr_getr_d_paging_btm_next_3?ie=UTF8&reviewerType=all_reviews&pageNumber=3&sortBy=recent\\n'}\n",
      "{'title': 'Stylish, supportive, Comfortable', 'content': \"I am usually do not buy Nikes because of the narrow fit on me.  but I read the reviews and gave it a shot.  Well I couldn't be happier! These have been comfortable from the minute I put them on!  They seem wider than the typical Nikes I've bought and extremely supportive..  I walk and workout and they've been perfect.  I recently have had some lower back pain and am trying to wear these which really helps.  You can't go wrong with these shoes.  I plan on ordering more colors\", 'date': '11 Nov 2019', 'variant': 'Size: 8.5 Color: White/Metallic Silver/Dark Grey', 'images': None, 'verified': 'Yes', 'author': 'Ruthie', 'rating': '5.0', 'product': \"Nike Women's Reax Run 5 Running Shoes\", 'url': 'https://www.amazon.com/Nike-Womens-Reax-Running-Shoes/product-reviews/B07ZPL752N/ref=cm_cr_getr_d_paging_btm_next_3?ie=UTF8&reviewerType=all_reviews&pageNumber=3&sortBy=recent\\n'}\n",
      "{'title': 'Greatest athletic shoes EVER, greatest footwear ever.', 'content': \"So comfortable for any physical activity, walking, weights, yoga, and running the distance. The comfort is top notch and unmatched by any other I've ever worn, period. Great looking, and great for all physical activities, from walking all over doing errands to running a marathon. Best athletic shoes ever, hands down, worth every dollar, it is worth its price and beyond.  Highly recommend for all.\", 'date': '12 Apr 2020', 'variant': 'Size: 8 Color: White/Metallic Silver/Dark Grey', 'images': None, 'verified': 'Yes', 'author': 'LDee', 'rating': '5.0', 'product': \"Nike Women's Reax Run 5 Running Shoes\", 'url': 'https://www.amazon.com/Nike-Womens-Reax-Running-Shoes/product-reviews/B07ZPL752N/ref=cm_cr_getr_d_paging_btm_next_3?ie=UTF8&reviewerType=all_reviews&pageNumber=3&sortBy=recent\\n'}\n",
      "{'title': 'Need more size 12 women’s shoes', 'content': 'Comfortable. It’s hard for me to find athletic shoes because I wear women’s 12 but men’s shoes tend to be to wide and boxy in the toe area for me. It’s wonderful to find a pair I like and can wear.', 'date': '30 Nov 2019', 'variant': 'Size: 12 Color: White/Metallic Silver/Dark Grey', 'images': None, 'verified': 'Yes', 'author': 'Shopping', 'rating': '5.0', 'product': \"Nike Women's Reax Run 5 Running Shoes\", 'url': 'https://www.amazon.com/Nike-Womens-Reax-Running-Shoes/product-reviews/B07ZPL752N/ref=cm_cr_getr_d_paging_btm_next_3?ie=UTF8&reviewerType=all_reviews&pageNumber=3&sortBy=recent\\n'}\n",
      "{'title': 'Comfort', 'content': 'I was getting foot pain while in gym and this was 4th pair I be trying to help me with pain in my feet while gym training and this is the shoes I wear everyday no pain. I have all expensive types of shoes but this one helped me with pain and I can enjoy my gym', 'date': '04 May 2019', 'variant': 'Size: 9.5 Color: White/Metallic Silver/Dark Grey', 'images': None, 'verified': 'Yes', 'author': 'Amazon Customer', 'rating': '5.0', 'product': \"Nike Women's Reax Run 5 Running Shoes\", 'url': 'https://www.amazon.com/Nike-Womens-Reax-Running-Shoes/product-reviews/B07ZPL752N/ref=cm_cr_getr_d_paging_btm_next_3?ie=UTF8&reviewerType=all_reviews&pageNumber=3&sortBy=recent\\n'}\n",
      "{'title': 'Nike shors', 'content': 'These shoes are great!  I have been doing power walking in them .  They fit great and no blisters.  So comfortable!  I would be these again .', 'date': '18 Apr 2019', 'variant': 'Size: 6.5 Color: White/Metallic Silver/Dark Grey', 'images': None, 'verified': 'Yes', 'author': 'Karen Wilkinson', 'rating': '5.0', 'product': \"Nike Women's Reax Run 5 Running Shoes\", 'url': 'https://www.amazon.com/Nike-Womens-Reax-Running-Shoes/product-reviews/B07ZPL752N/ref=cm_cr_getr_d_paging_btm_next_3?ie=UTF8&reviewerType=all_reviews&pageNumber=3&sortBy=recent\\n'}\n"
     ]
    },
    {
     "name": "stdout",
     "output_type": "stream",
     "text": [
      "{'title': 'Very hard shoes', 'content': \"I'm a Nike shoes expert, I always wear Nike for my workouts cause simply it's the best choice for me and I always order them online. This time I was amazed by the design, the color.. everything but when it reached. I was a bit disappointed :( the quality is way too poor for Nike brand, the shoes is so hard on my feet and toes although I have a very slim foot and the shoes is wide! so it's really big  NO for this model for me.\", 'date': '01 Feb 2020', 'variant': 'Size: 9.5 Color: Black/White/Mtlc Cool Grey', 'images': None, 'verified': 'Yes', 'author': 'Shereen El Mahdy', 'rating': '3.0', 'product': \"Nike Women's Reax Run 5 Running Shoes\", 'url': 'https://www.amazon.com/Nike-Womens-Reax-Running-Shoes/product-reviews/B07ZPL752N/ref=cm_cr_arp_d_paging_btm_next_4?ie=UTF8&reviewerType=all_reviews&pageNumber=4&sortBy=recent\\n'}\n",
      "{'title': 'Nice', 'content': \"Left foot feels like you have a bunches up sock under your toes. I took out the inserts and it's the shoe itself not the insert. So that's annoying. Beautiful but can't wear them very long due to that. I would guess this is a one off issue so I wouldn't that stop you from ordering this was just my experience and only issue.\", 'date': '03 Mar 2020', 'variant': 'Size: 7.5 Color: White/Metallic Silver/Dark Grey', 'images': None, 'verified': 'Yes', 'author': 'JODY', 'rating': '4.0', 'product': \"Nike Women's Reax Run 5 Running Shoes\", 'url': 'https://www.amazon.com/Nike-Womens-Reax-Running-Shoes/product-reviews/B07ZPL752N/ref=cm_cr_arp_d_paging_btm_next_4?ie=UTF8&reviewerType=all_reviews&pageNumber=4&sortBy=recent\\n'}\n",
      "{'title': 'Pray over Nike Shoes always', 'content': \"Great and comfortable tennis shoe. Just pray over them because Michael Jordan may have sold his soul to sell Nike's for generations and everyone who wore them be cursed. So we pray over all of our products before we use. Feels great.\", 'date': '05 Apr 2020', 'variant': 'Size: 8 Color: White/Metallic Silver/Dark Grey', 'images': None, 'verified': 'Yes', 'author': 'Lady', 'rating': '5.0', 'product': \"Nike Women's Reax Run 5 Running Shoes\", 'url': 'https://www.amazon.com/Nike-Womens-Reax-Running-Shoes/product-reviews/B07ZPL752N/ref=cm_cr_arp_d_paging_btm_next_4?ie=UTF8&reviewerType=all_reviews&pageNumber=4&sortBy=recent\\n'}\n",
      "{'title': 'Love these shoes!!!', 'content': 'These are very cute, comfortable and are great running shoes! The only issue is the back of the shoe rubbed a blister on my heel with no show socks. I would wear a little higher of a sock because the back of the shoe comes up higher than most.', 'date': '07 Mar 2019', 'variant': 'Size: 6 Color: White/Metallic Silver/Dark Grey', 'images': None, 'verified': 'Yes', 'author': 'Dashia Lovvorn', 'rating': '4.0', 'product': \"Nike Women's Reax Run 5 Running Shoes\", 'url': 'https://www.amazon.com/Nike-Womens-Reax-Running-Shoes/product-reviews/B07ZPL752N/ref=cm_cr_arp_d_paging_btm_next_4?ie=UTF8&reviewerType=all_reviews&pageNumber=4&sortBy=recent\\n'}\n",
      "{'title': 'I love these shoes. Are so nice.', 'content': 'These shoes are so clean. Love em...', 'date': '10 Dec 2018', 'variant': 'Size: 7.5 Color: White/Metallic Silver/Dark Grey', 'images': None, 'verified': 'Yes', 'author': 'Amy price', 'rating': '5.0', 'product': \"Nike Women's Reax Run 5 Running Shoes\", 'url': 'https://www.amazon.com/Nike-Womens-Reax-Running-Shoes/product-reviews/B07ZPL752N/ref=cm_cr_arp_d_paging_btm_next_4?ie=UTF8&reviewerType=all_reviews&pageNumber=4&sortBy=recent\\n'}\n",
      "{'title': 'I don’t do reviews but  I felt I should share my honest opinion to try to help someone else', 'content': 'Appearance- very stylish, cute Fitting- I have small feet size 6 and these were really tight on my feet, the arch in the right shoe felt off which made for a uncomfortable feeling. Comfort- I’m on my feet a majority of the time that I’m awake and I’m constantly going, I tried these for half a day I couldn’t do it my feet hurt. These shoes are not breathable. I definitely do not feel that these are worth the money', 'date': '12 Mar 2019', 'variant': 'Size: 6 Color: White/Metallic Silver/Dark Grey', 'images': None, 'verified': 'Yes', 'author': 'Lacinda Herrmann', 'rating': '1.0', 'product': \"Nike Women's Reax Run 5 Running Shoes\", 'url': 'https://www.amazon.com/Nike-Womens-Reax-Running-Shoes/product-reviews/B07ZPL752N/ref=cm_cr_arp_d_paging_btm_next_4?ie=UTF8&reviewerType=all_reviews&pageNumber=4&sortBy=recent\\n'}\n",
      "{'title': 'I love the look', 'content': \"I love the look. It's hard to find a normal looking seeker.  These are perfect.  The price is a little much.\", 'date': '18 Aug 2018', 'variant': 'Size: 8.5 Color: White/Metallic Silver/Dark Grey', 'images': None, 'verified': 'Yes', 'author': 'Teresa Caldwell', 'rating': '5.0', 'product': \"Nike Women's Reax Run 5 Running Shoes\", 'url': 'https://www.amazon.com/Nike-Womens-Reax-Running-Shoes/product-reviews/B07ZPL752N/ref=cm_cr_arp_d_paging_btm_next_4?ie=UTF8&reviewerType=all_reviews&pageNumber=4&sortBy=recent\\n'}\n",
      "{'title': 'Durability of shoe', 'content': 'Ok I have now had the shoe for one month. I have to say I can see lots of stress on my shoe. I work in the construction field so I am in and out of an office and running and walking a ton. Not the best shoe for wear and tear durability. Very comfortable shoe I must say but not very durable.', 'date': '19 Oct 2018', 'variant': 'Size: 6.5 Color: White/Metallic Silver/Dark Grey', 'images': None, 'verified': 'Yes', 'author': 'Leah', 'rating': '4.0', 'product': \"Nike Women's Reax Run 5 Running Shoes\", 'url': 'https://www.amazon.com/Nike-Womens-Reax-Running-Shoes/product-reviews/B07ZPL752N/ref=cm_cr_arp_d_paging_btm_next_4?ie=UTF8&reviewerType=all_reviews&pageNumber=4&sortBy=recent\\n'}\n",
      "{'title': 'My sweetie is pleased', 'content': 'My lady is very pleased with the product. They look cute on her feet and she is happy that I got her exactly what she asked for. The shoes fit bit she already had a pair and they lasted a  very long time. I’m still very pleased with Amazon over all as whatever I need from furniture to hard to get snacks you guys are truly a technological wonder.', 'date': '16 Jan 2020', 'variant': 'Size: 9 Color: White/Metallic Silver/Dark Grey', 'images': None, 'verified': 'Yes', 'author': 'Chauncey Pope', 'rating': '5.0', 'product': \"Nike Women's Reax Run 5 Running Shoes\", 'url': 'https://www.amazon.com/Nike-Womens-Reax-Running-Shoes/product-reviews/B07ZPL752N/ref=cm_cr_arp_d_paging_btm_next_4?ie=UTF8&reviewerType=all_reviews&pageNumber=4&sortBy=recent\\n'}\n",
      "{'title': 'Good shoes', 'content': 'I received the shoes today. So far I really like them. They are very comfortable and offer good support for my arches. My only complaint is that they left the plastic security device on the shoes. With some time and help from the internet on how to remove the device, we were able to remove it from the shoe. Aside from that I am very happy with my purchase.', 'date': '16 Oct 2019', 'variant': 'Size: 11 Color: White/Metallic Silver/Dark Grey', 'images': None, 'verified': 'Yes', 'author': 'Mary Seawright', 'rating': '5.0', 'product': \"Nike Women's Reax Run 5 Running Shoes\", 'url': 'https://www.amazon.com/Nike-Womens-Reax-Running-Shoes/product-reviews/B07ZPL752N/ref=cm_cr_arp_d_paging_btm_next_4?ie=UTF8&reviewerType=all_reviews&pageNumber=4&sortBy=recent\\n'}\n",
      "{'title': 'Fabulous Sneaker', 'content': 'Really comfortable, looks great feels amazing , my feet don’t ever hurt in these sneakers , kinda reminds me of a base ball', 'date': '27 Nov 2018', 'variant': 'Size: 6.5 Color: White/Metallic Silver/Dark Grey', 'images': None, 'verified': 'Yes', 'author': 'Carolyn Edmiston', 'rating': '5.0', 'product': \"Nike Women's Reax Run 5 Running Shoes\", 'url': 'https://www.amazon.com/Nike-Womens-Reax-Running-Shoes/product-reviews/B07ZPL752N/ref=cm_cr_getr_d_paging_btm_next_5?ie=UTF8&reviewerType=all_reviews&pageNumber=5&sortBy=recent\\n'}\n",
      "{'title': 'Super hard to find shoes that fit nicely and look good from my eye level', 'content': 'These shoe a super cool for appearance on the side. I personally hate looking down at sneakers on my feet because I have wide feet. These shoes kinda give me the same vibe when looking down at them. I’ve been walking around in them to break them in. So far the are doing the job.', 'date': '24 Mar 2019', 'variant': 'Size: 9.5 Color: White/Metallic Silver/Dark Grey', 'images': None, 'verified': 'Yes', 'author': 'JoJo', 'rating': '5.0', 'product': \"Nike Women's Reax Run 5 Running Shoes\", 'url': 'https://www.amazon.com/Nike-Womens-Reax-Running-Shoes/product-reviews/B07ZPL752N/ref=cm_cr_getr_d_paging_btm_next_5?ie=UTF8&reviewerType=all_reviews&pageNumber=5&sortBy=recent\\n'}\n",
      "{'title': 'Dirty, worn right shoe', 'content': 'Didn’t try it on because the right shoe was yellowish grey, looked dirty. Sent them back', 'date': '25 Sep 2018', 'variant': 'Size: 7.5 Color: White/Metallic Silver/Dark Grey', 'images': None, 'verified': 'Yes', 'author': 'mogulsskier', 'rating': '1.0', 'product': \"Nike Women's Reax Run 5 Running Shoes\", 'url': 'https://www.amazon.com/Nike-Womens-Reax-Running-Shoes/product-reviews/B07ZPL752N/ref=cm_cr_getr_d_paging_btm_next_5?ie=UTF8&reviewerType=all_reviews&pageNumber=5&sortBy=recent\\n'}\n",
      "{'title': 'Very comfortable and supportive', 'content': 'I baby these, white shoes in nursing don’t stay white for very long. But if I do t have sore feet after a double shift I’m happy. I get a lot compliments and several people have told me they have never seen these in the store. Amazon is the only place I shop for my Nike’s!! Great service and shoes!!', 'date': '12 Jun 2019', 'variant': 'Size: 8.5 Color: White/Metallic Silver/Dark Grey', 'images': None, 'verified': 'Yes', 'author': 'Brattykell', 'rating': '5.0', 'product': \"Nike Women's Reax Run 5 Running Shoes\", 'url': 'https://www.amazon.com/Nike-Womens-Reax-Running-Shoes/product-reviews/B07ZPL752N/ref=cm_cr_getr_d_paging_btm_next_5?ie=UTF8&reviewerType=all_reviews&pageNumber=5&sortBy=recent\\n'}\n",
      "{'title': 'A bit narrow', 'content': 'I was hoping this shoe would help my aching feet but it was a bit too narrow for me. Thatsaidit was a good looking shoe and well padded. If this comes in a wider version, I would definitely order it.', 'date': '02 May 2020', 'variant': 'Size: 8.5 Color: White/Metallic Silver/Dark Grey', 'images': None, 'verified': 'Yes', 'author': 'Judith S. Traynor', 'rating': '3.0', 'product': \"Nike Women's Reax Run 5 Running Shoes\", 'url': 'https://www.amazon.com/Nike-Womens-Reax-Running-Shoes/product-reviews/B07ZPL752N/ref=cm_cr_getr_d_paging_btm_next_5?ie=UTF8&reviewerType=all_reviews&pageNumber=5&sortBy=recent\\n'}\n",
      "{'title': 'Knock offs', 'content': 'I like the sneakers, but there is a huge smudge in the one side, for nearly $100, you would think they would be perfect. I’m not happy about this, I would like a partial refund as they are not perfect!', 'date': '30 Mar 2020', 'variant': 'Size: 8.5 Color: Black/White/Mtlc Cool Grey', 'images': None, 'verified': 'Yes', 'author': 'M.R.', 'rating': '3.0', 'product': \"Nike Women's Reax Run 5 Running Shoes\", 'url': 'https://www.amazon.com/Nike-Womens-Reax-Running-Shoes/product-reviews/B07ZPL752N/ref=cm_cr_getr_d_paging_btm_next_5?ie=UTF8&reviewerType=all_reviews&pageNumber=5&sortBy=recent\\n'}\n",
      "{'title': '\"Stiff\" shoe', 'content': 'I like to the look of the shoe but it is very \\'stiff\" and \"bulky\".  I tried to break it in for a couple of months but no luck. I cannot wear it to my crossfit workouts since it is not flexible.', 'date': '25 Mar 2020', 'variant': 'Size: 9.5 Color: White/Metallic Silver/Dark Grey', 'images': None, 'verified': 'Yes', 'author': 'Ms. M', 'rating': '1.0', 'product': \"Nike Women's Reax Run 5 Running Shoes\", 'url': 'https://www.amazon.com/Nike-Womens-Reax-Running-Shoes/product-reviews/B07ZPL752N/ref=cm_cr_getr_d_paging_btm_next_5?ie=UTF8&reviewerType=all_reviews&pageNumber=5&sortBy=recent\\n'}\n",
      "{'title': 'Great shoe but can find less expensive at other stores', 'content': 'I absolute LOVE this shoe. Nike’s are usually hit or miss for me but these are wide enough, leave room to wiggle my toes and the sole is soft and supportive. Only problem I found buying them from Amazon is I bought them for just under $100 and two days after wearing them, Kohl’s had them on sale for $56!!! Shop around! You may find them for a better price elsewhere.', 'date': '03 May 2020', 'variant': 'Size: 9 Color: White/Metallic Silver/Dark Grey', 'images': None, 'verified': 'Yes', 'author': 'SarahSam', 'rating': '4.0', 'product': \"Nike Women's Reax Run 5 Running Shoes\", 'url': 'https://www.amazon.com/Nike-Womens-Reax-Running-Shoes/product-reviews/B07ZPL752N/ref=cm_cr_getr_d_paging_btm_next_5?ie=UTF8&reviewerType=all_reviews&pageNumber=5&sortBy=recent\\n'}\n",
      "{'title': 'Awesome!', 'content': 'I live these shoes. I get a lot of compliments. They’re what you should expect from these kinds of gym shoes. They’re white, so I’m always trying to keep them clean. I love them though!', 'date': '10 Nov 2019', 'variant': 'Size: 11 Color: White/Metallic Silver/Dark Grey', 'images': None, 'verified': 'Yes', 'author': 'Kymberlei', 'rating': '5.0', 'product': \"Nike Women's Reax Run 5 Running Shoes\", 'url': 'https://www.amazon.com/Nike-Womens-Reax-Running-Shoes/product-reviews/B07ZPL752N/ref=cm_cr_getr_d_paging_btm_next_5?ie=UTF8&reviewerType=all_reviews&pageNumber=5&sortBy=recent\\n'}\n",
      "{'title': 'Great shoes!!!!', 'content': 'Love these shoes!  These are my 2nd pair, I wore the first pair for so long that they finally wore out.  A co worker of mine saw me wearing them and liked them so much she tried mine on to know what size to order. Lol.  They are comfy and super cute, highly recommend them.', 'date': '04 Mar 2020', 'variant': 'Size: 8.5 Color: White/Metallic Silver/Dark Grey', 'images': None, 'verified': 'Yes', 'author': 'Amazon Customer', 'rating': '5.0', 'product': \"Nike Women's Reax Run 5 Running Shoes\", 'url': 'https://www.amazon.com/Nike-Womens-Reax-Running-Shoes/product-reviews/B07ZPL752N/ref=cm_cr_getr_d_paging_btm_next_5?ie=UTF8&reviewerType=all_reviews&pageNumber=5&sortBy=recent\\n'}\n"
     ]
    },
    {
     "name": "stdout",
     "output_type": "stream",
     "text": [
      "{'title': 'These are my go to tennis shoes!!', 'content': \"I have had several pairs of these shoes, usually bought at stores, but haven't been able to find them anywhere lately. Found these on Amazon, they were more expensive here, $109 or so, but I know how they fit and I love them!\", 'date': '30 Jul 2019', 'variant': 'Size: 9 Color: White/Metallic Silver/Dark Grey', 'images': None, 'verified': 'Yes', 'author': 'Sara', 'rating': '5.0', 'product': \"Nike Women's Reax Run 5 Running Shoes\", 'url': 'https://www.amazon.com/Nike-Womens-Reax-Running-Shoes/product-reviews/B07ZPL752N/ref=cm_cr_getr_d_paging_btm_next_6?ie=UTF8&reviewerType=all_reviews&pageNumber=6&sortBy=recent\\n'}\n",
      "{'title': 'Perfect', 'content': 'I’ve seen these shoes on someone else and fell in love with them. I ordered them for myself and I love them on me too. They’re comfortable and look great.', 'date': '04 Nov 2018', 'variant': 'Size: 7.5 Color: White/Metallic Silver/Dark Grey', 'images': None, 'verified': 'Yes', 'author': 'sabine', 'rating': '5.0', 'product': \"Nike Women's Reax Run 5 Running Shoes\", 'url': 'https://www.amazon.com/Nike-Womens-Reax-Running-Shoes/product-reviews/B07ZPL752N/ref=cm_cr_getr_d_paging_btm_next_6?ie=UTF8&reviewerType=all_reviews&pageNumber=6&sortBy=recent\\n'}\n",
      "{'title': 'Need to be broken in..', 'content': \"I really like this shoe style. They are really cute. The only problem was the back of my ankle  hurt from the shoe rubbing against it. I had to place a few bandaids on the area for comfort. Once broken in they're the perfect fit.\", 'date': '18 Mar 2020', 'variant': 'Size: 9 Color: White/Metallic Silver/Dark Grey', 'images': None, 'verified': 'Yes', 'author': 'Theresa Washington', 'rating': '5.0', 'product': \"Nike Women's Reax Run 5 Running Shoes\", 'url': 'https://www.amazon.com/Nike-Womens-Reax-Running-Shoes/product-reviews/B07ZPL752N/ref=cm_cr_getr_d_paging_btm_next_6?ie=UTF8&reviewerType=all_reviews&pageNumber=6&sortBy=recent\\n'}\n",
      "{'title': 'Glad I bought them', 'content': 'I love these shoes. Some of the new tennis shoes are a fabric material and as a result are a bit soft. I prefer the sturdier ones like these. Love them!', 'date': '16 Feb 2020', 'variant': 'Size: 9.5 Color: White/Metallic Silver/Dark Grey', 'images': None, 'verified': 'Yes', 'author': 'Jane T.', 'rating': '5.0', 'product': \"Nike Women's Reax Run 5 Running Shoes\", 'url': 'https://www.amazon.com/Nike-Womens-Reax-Running-Shoes/product-reviews/B07ZPL752N/ref=cm_cr_getr_d_paging_btm_next_6?ie=UTF8&reviewerType=all_reviews&pageNumber=6&sortBy=recent\\n'}\n",
      "{'title': 'Love them', 'content': 'I bought these for work and they are super comfy. Just be warned, they are wide but narrow across the laces so if you have a super high arch they may not be comfortable.', 'date': '12 Nov 2019', 'variant': 'Size: 7 Color: White/Metallic Silver/Dark Grey', 'images': None, 'verified': 'Yes', 'author': 'RRoberts', 'rating': '5.0', 'product': \"Nike Women's Reax Run 5 Running Shoes\", 'url': 'https://www.amazon.com/Nike-Womens-Reax-Running-Shoes/product-reviews/B07ZPL752N/ref=cm_cr_getr_d_paging_btm_next_6?ie=UTF8&reviewerType=all_reviews&pageNumber=6&sortBy=recent\\n'}\n",
      "{'title': '💘', 'content': 'I read all reviews. They were stiff, but I wore last night to work and they loosened right up. My shoes WERE PERFECT, NO DAMAGE OR DISCOLORATION. WORTH THE MONEY.', 'date': '07 May 2020', 'variant': 'Size: 7 Color: White/Metallic Silver/Dark Grey', 'images': None, 'verified': 'Yes', 'author': 'CHARLENE MARLOW', 'rating': '5.0', 'product': \"Nike Women's Reax Run 5 Running Shoes\", 'url': 'https://www.amazon.com/Nike-Womens-Reax-Running-Shoes/product-reviews/B07ZPL752N/ref=cm_cr_getr_d_paging_btm_next_6?ie=UTF8&reviewerType=all_reviews&pageNumber=6&sortBy=recent\\n'}\n",
      "{'title': 'True fit', 'content': \"True fit and feels great on foot. Only thing is the back of shoe will hit Achilles area if you're sensitive. But you can condition that area of the shoe so it's not so stiff. Love the shoes!\", 'date': '06 Apr 2019', 'variant': 'Size: 8 Color: White/Metallic Silver/Dark Grey', 'images': None, 'verified': 'Yes', 'author': 'KMS', 'rating': '5.0', 'product': \"Nike Women's Reax Run 5 Running Shoes\", 'url': 'https://www.amazon.com/Nike-Womens-Reax-Running-Shoes/product-reviews/B07ZPL752N/ref=cm_cr_getr_d_paging_btm_next_6?ie=UTF8&reviewerType=all_reviews&pageNumber=6&sortBy=recent\\n'}\n",
      "{'title': 'Not comfortable', 'content': 'Not real comfortable.  Wouldnt wear on a run. Wear to the gym. Ok for cardio machines. I kept cuz I liked the color but a great disappointment for athletic shoe', 'date': '03 Jan 2020', 'variant': 'Size: 8 Color: White/Metallic Silver/Dark Grey', 'images': None, 'verified': 'Yes', 'author': 'Silvia', 'rating': '3.0', 'product': \"Nike Women's Reax Run 5 Running Shoes\", 'url': 'https://www.amazon.com/Nike-Womens-Reax-Running-Shoes/product-reviews/B07ZPL752N/ref=cm_cr_getr_d_paging_btm_next_6?ie=UTF8&reviewerType=all_reviews&pageNumber=6&sortBy=recent\\n'}\n",
      "{'title': 'Great support!', 'content': 'Amazingly comfortable and great for high arches and plantar fasciitis.', 'date': '03 Jun 2019', 'variant': 'Size: 9 Color: White/Metallic Silver/Dark Grey', 'images': None, 'verified': 'Yes', 'author': 'Shawna McMullen', 'rating': '5.0', 'product': \"Nike Women's Reax Run 5 Running Shoes\", 'url': 'https://www.amazon.com/Nike-Womens-Reax-Running-Shoes/product-reviews/B07ZPL752N/ref=cm_cr_getr_d_paging_btm_next_6?ie=UTF8&reviewerType=all_reviews&pageNumber=6&sortBy=recent\\n'}\n",
      "{'title': 'Cute but not comfy', 'content': 'I receive a lot of compliments on these shoes but they are not as comfortable as I would have hoped. I do not use them to workout in because of that.', 'date': '03 Jan 2020', 'variant': 'Size: 8 Color: White/Metallic Silver/Dark Grey', 'images': None, 'verified': 'Yes', 'author': 'Amazon Customer', 'rating': '3.0', 'product': \"Nike Women's Reax Run 5 Running Shoes\", 'url': 'https://www.amazon.com/Nike-Womens-Reax-Running-Shoes/product-reviews/B07ZPL752N/ref=cm_cr_getr_d_paging_btm_next_6?ie=UTF8&reviewerType=all_reviews&pageNumber=6&sortBy=recent\\n'}\n",
      "{'title': 'Comfortable and Cute', 'content': 'Used for walking around in Boston. Comfortable all day and very cute! Glad I made the purchase.', 'date': '08 Jun 2019', 'variant': 'Size: 7.5 Color: White/Metallic Silver/Dark Grey', 'images': None, 'verified': 'Yes', 'author': 'Claudene R.', 'rating': '5.0', 'product': \"Nike Women's Reax Run 5 Running Shoes\", 'url': 'https://www.amazon.com/Nike-Womens-Reax-Running-Shoes/product-reviews/B07ZPL752N/ref=cm_cr_getr_d_paging_btm_next_7?ie=UTF8&reviewerType=all_reviews&pageNumber=7&sortBy=recent\\n'}\n",
      "{'title': 'I LOVE these shoes.', 'content': 'I have Plantar Fasciitis so arch support is very important. I have wasted A LOT of money on shoes that claim to be great. This style of shoe has never disappointed me. This is my second pair of this style and will be the only shoe I buy from now on.', 'date': '09 Apr 2020', 'variant': 'Size: 8.5 Color: White/Metallic Silver/Dark Grey', 'images': None, 'verified': 'Yes', 'author': 'Janene Wheaton', 'rating': '5.0', 'product': \"Nike Women's Reax Run 5 Running Shoes\", 'url': 'https://www.amazon.com/Nike-Womens-Reax-Running-Shoes/product-reviews/B07ZPL752N/ref=cm_cr_getr_d_paging_btm_next_7?ie=UTF8&reviewerType=all_reviews&pageNumber=7&sortBy=recent\\n'}\n",
      "{'title': 'True fit', 'content': 'These are soooooooi comfy I can’t express how much I love them. I wish they were in other colors (green, orange, or teal) I hate pink and they make me like it.  Slightly less than moderate arch support.  But a new insole specifically for that would resolve the issue', 'date': '18 Apr 2020', 'variant': 'Size: 9 Color: White/Metallic Silver/Dark Grey', 'images': None, 'verified': 'Yes', 'author': 'Freedom', 'rating': '5.0', 'product': \"Nike Women's Reax Run 5 Running Shoes\", 'url': 'https://www.amazon.com/Nike-Womens-Reax-Running-Shoes/product-reviews/B07ZPL752N/ref=cm_cr_getr_d_paging_btm_next_7?ie=UTF8&reviewerType=all_reviews&pageNumber=7&sortBy=recent\\n'}\n",
      "{'title': 'Wonderful price and beautiful shoes', 'content': 'Wife love the way they feel', 'date': '26 Nov 2018', 'variant': 'Size: 9 Color: White/Metallic Silver/Dark Grey', 'images': None, 'verified': 'Yes', 'author': 'Shuntwon barnett', 'rating': '5.0', 'product': \"Nike Women's Reax Run 5 Running Shoes\", 'url': 'https://www.amazon.com/Nike-Womens-Reax-Running-Shoes/product-reviews/B07ZPL752N/ref=cm_cr_getr_d_paging_btm_next_7?ie=UTF8&reviewerType=all_reviews&pageNumber=7&sortBy=recent\\n'}\n",
      "{'title': 'Nike is the best shoes for me', 'content': 'This is my second pair or I probably would not have ordered them online. They’re very good shoes. I stand on my feet all day so I have to use arch support with them but that’s due to my occupation.', 'date': '27 Oct 2019', 'variant': 'Size: 8.5 Color: White/Metallic Silver/Dark Grey', 'images': None, 'verified': 'Yes', 'author': 'Amazon Customer', 'rating': '5.0', 'product': \"Nike Women's Reax Run 5 Running Shoes\", 'url': 'https://www.amazon.com/Nike-Womens-Reax-Running-Shoes/product-reviews/B07ZPL752N/ref=cm_cr_getr_d_paging_btm_next_7?ie=UTF8&reviewerType=all_reviews&pageNumber=7&sortBy=recent\\n'}\n",
      "{'title': 'Order a half size up', 'content': 'I ordered up a half size as usual for Nike, the run half a size snug. Great arch and heel support. I wish the came in grey instead of stark white thou. Overall very happy', 'date': '01 May 2019', 'variant': 'Size: 8.5 Color: White/Metallic Silver/Dark Grey', 'images': None, 'verified': 'Yes', 'author': 'Amy', 'rating': '5.0', 'product': \"Nike Women's Reax Run 5 Running Shoes\", 'url': 'https://www.amazon.com/Nike-Womens-Reax-Running-Shoes/product-reviews/B07ZPL752N/ref=cm_cr_getr_d_paging_btm_next_7?ie=UTF8&reviewerType=all_reviews&pageNumber=7&sortBy=recent\\n'}\n",
      "{'title': 'Not for the narrow', 'content': 'Too loose in the heel for my narrow feet.  I was hoping the heel would fit similar to the Shox NZ but that wasnt the case.  Nice shoe, great price, just not right for my narrow feet', 'date': '05 Feb 2020', 'variant': 'Size: 7.5 Color: White/Metallic Silver/Dark Grey', 'images': None, 'verified': 'Yes', 'author': 'Susan Pelkey', 'rating': '4.0', 'product': \"Nike Women's Reax Run 5 Running Shoes\", 'url': 'https://www.amazon.com/Nike-Womens-Reax-Running-Shoes/product-reviews/B07ZPL752N/ref=cm_cr_getr_d_paging_btm_next_7?ie=UTF8&reviewerType=all_reviews&pageNumber=7&sortBy=recent\\n'}\n",
      "{'title': 'Nice colors', 'content': 'There okay, the  colors are pretty but I like the white ones they sell better.  So I bought the last pair of those Also 😆💯👍🏼', 'date': '10 Nov 2019', 'variant': 'Size: 9 Color: Black/White/Mtlc Cool Grey', 'images': None, 'verified': 'Yes', 'author': 'Jen', 'rating': '2.0', 'product': \"Nike Women's Reax Run 5 Running Shoes\", 'url': 'https://www.amazon.com/Nike-Womens-Reax-Running-Shoes/product-reviews/B07ZPL752N/ref=cm_cr_getr_d_paging_btm_next_7?ie=UTF8&reviewerType=all_reviews&pageNumber=7&sortBy=recent\\n'}\n",
      "{'title': 'These sneakers are great.', 'content': 'I love these tennis shoes.  They fit well.  They look and feel comfortable.  I would recommend these sneakers to anyone.', 'date': '05 Aug 2018', 'variant': 'Size: 8 Color: White/Metallic Silver/Dark Grey', 'images': None, 'verified': 'Yes', 'author': 'Shannon Lyons', 'rating': '5.0', 'product': \"Nike Women's Reax Run 5 Running Shoes\", 'url': 'https://www.amazon.com/Nike-Womens-Reax-Running-Shoes/product-reviews/B07ZPL752N/ref=cm_cr_getr_d_paging_btm_next_7?ie=UTF8&reviewerType=all_reviews&pageNumber=7&sortBy=recent\\n'}\n",
      "{'title': 'Love these!', 'content': 'These shoes are gorgeous! Pics do no justice. Totally in love with them. Wish they came with memory foam soles but well worth buying  :)', 'date': '20 Apr 2020', 'variant': 'Size: 8.5 Color: White/Metallic Silver/Dark Grey', 'images': None, 'verified': 'Yes', 'author': 'hkeeley', 'rating': '5.0', 'product': \"Nike Women's Reax Run 5 Running Shoes\", 'url': 'https://www.amazon.com/Nike-Womens-Reax-Running-Shoes/product-reviews/B07ZPL752N/ref=cm_cr_getr_d_paging_btm_next_7?ie=UTF8&reviewerType=all_reviews&pageNumber=7&sortBy=recent\\n'}\n"
     ]
    },
    {
     "name": "stdout",
     "output_type": "stream",
     "text": [
      "{'title': 'Four Stars', 'content': 'very comfy.', 'date': '06 Aug 2018', 'variant': 'Size: 7 Color: White/Metallic Silver/Dark Grey', 'images': None, 'verified': 'Yes', 'author': 'Jayne Morgan', 'rating': '4.0', 'product': \"Nike Women's Reax Run 5 Running Shoes\", 'url': 'https://www.amazon.com/Nike-Womens-Reax-Running-Shoes/product-reviews/B07ZPL752N/ref=cm_cr_getr_d_paging_btm_next_8?ie=UTF8&reviewerType=all_reviews&pageNumber=8&sortBy=recent\\n'}\n",
      "{'title': 'Awesome fit & awesome support', 'content': 'Best shoes I have found in a long time. I love these shoes', 'date': '27 Apr 2019', 'variant': 'Size: 7.5 Color: White/Metallic Silver/Dark Grey', 'images': None, 'verified': 'Yes', 'author': 'Kathy Dwyer', 'rating': '5.0', 'product': \"Nike Women's Reax Run 5 Running Shoes\", 'url': 'https://www.amazon.com/Nike-Womens-Reax-Running-Shoes/product-reviews/B07ZPL752N/ref=cm_cr_getr_d_paging_btm_next_8?ie=UTF8&reviewerType=all_reviews&pageNumber=8&sortBy=recent\\n'}\n",
      "{'title': 'Amazing beautiful shoe', 'content': 'I love this shoe. Most Nike shoes are narrow and don’t fit good. I crushed my right foot and have 13 screws and 8 plates so I have to have a good wide shoe with good support. I love this shoe it is perfect for my foot. Not only does it fit good it’s beautiful just love it. Going to buy a second pair. Great price as well.', 'date': '01 Mar 2020', 'variant': 'Size: 9 Color: White/Metallic Silver/Dark Grey', 'images': None, 'verified': 'Yes', 'author': 'Patricia S.', 'rating': '5.0', 'product': \"Nike Women's Reax Run 5 Running Shoes\", 'url': 'https://www.amazon.com/Nike-Womens-Reax-Running-Shoes/product-reviews/B07ZPL752N/ref=cm_cr_getr_d_paging_btm_next_8?ie=UTF8&reviewerType=all_reviews&pageNumber=8&sortBy=recent\\n'}\n",
      "{'title': 'Cute', 'content': 'I did not get them for running. I got them for looks. They have no arch to them so I do not wear them for long periods of time.', 'date': '19 Jan 2020', 'variant': 'Size: 12 Color: White/Metallic Silver/Dark Grey', 'images': None, 'verified': 'Yes', 'author': 'Heidi', 'rating': '5.0', 'product': \"Nike Women's Reax Run 5 Running Shoes\", 'url': 'https://www.amazon.com/Nike-Womens-Reax-Running-Shoes/product-reviews/B07ZPL752N/ref=cm_cr_getr_d_paging_btm_next_8?ie=UTF8&reviewerType=all_reviews&pageNumber=8&sortBy=recent\\n'}\n",
      "{'title': 'Perfect walking shoe! So comfy!', 'content': 'Love love love these shoes! So comfy. I walked in these and so far no troubles! Will order in another color!', 'date': '30 Dec 2019', 'variant': 'Size: 10 Color: White/Metallic Silver/Dark Grey', 'images': None, 'verified': 'Yes', 'author': 'Mswilk', 'rating': '5.0', 'product': \"Nike Women's Reax Run 5 Running Shoes\", 'url': 'https://www.amazon.com/Nike-Womens-Reax-Running-Shoes/product-reviews/B07ZPL752N/ref=cm_cr_getr_d_paging_btm_next_8?ie=UTF8&reviewerType=all_reviews&pageNumber=8&sortBy=recent\\n'}\n",
      "{'title': 'Thanks , Nike!', 'content': 'These are great!  Take my dog in a 3-mile run every morn and they don’t give out on me!  Thanks Nike!', 'date': '21 Feb 2020', 'variant': 'Size: 6 Color: White/Metallic Silver/Dark Grey', 'images': None, 'verified': 'Yes', 'author': 'Ss', 'rating': '5.0', 'product': \"Nike Women's Reax Run 5 Running Shoes\", 'url': 'https://www.amazon.com/Nike-Womens-Reax-Running-Shoes/product-reviews/B07ZPL752N/ref=cm_cr_getr_d_paging_btm_next_8?ie=UTF8&reviewerType=all_reviews&pageNumber=8&sortBy=recent\\n'}\n",
      "{'title': 'Buy a size bigger', 'content': 'Abit too short in length and width', 'date': '10 May 2019', 'variant': 'Size: 11 Color: White/Metallic Silver/Dark Grey', 'images': None, 'verified': 'Yes', 'author': 'Cassandra L.', 'rating': '4.0', 'product': \"Nike Women's Reax Run 5 Running Shoes\", 'url': 'https://www.amazon.com/Nike-Womens-Reax-Running-Shoes/product-reviews/B07ZPL752N/ref=cm_cr_getr_d_paging_btm_next_8?ie=UTF8&reviewerType=all_reviews&pageNumber=8&sortBy=recent\\n'}\n",
      "{'title': 'Large toe box, little to no arch support.', 'content': 'These looked huge from above when I tried them on and, as mentioned, the toe box was too wide for me. Main reason I returned them however was due to no arch support and overall not comfortable for me.', 'date': '10 Jan 2020', 'variant': 'Size: 8 Color: White/Metallic Silver/Dark Grey', 'images': None, 'verified': 'Yes', 'author': 'Queen McLissa', 'rating': '3.0', 'product': \"Nike Women's Reax Run 5 Running Shoes\", 'url': 'https://www.amazon.com/Nike-Womens-Reax-Running-Shoes/product-reviews/B07ZPL752N/ref=cm_cr_getr_d_paging_btm_next_8?ie=UTF8&reviewerType=all_reviews&pageNumber=8&sortBy=recent\\n'}\n",
      "{'title': 'I love these tennis for walking', 'content': 'I love these tennis for walking.  They are so comfortable.  I bought a black and pink pair, and also a white pair.', 'date': '28 Dec 2019', 'variant': 'Size: 8.5 Color: Black/White/Mtlc Cool Grey', 'images': None, 'verified': 'Yes', 'author': 'lou', 'rating': '5.0', 'product': \"Nike Women's Reax Run 5 Running Shoes\", 'url': 'https://www.amazon.com/Nike-Womens-Reax-Running-Shoes/product-reviews/B07ZPL752N/ref=cm_cr_getr_d_paging_btm_next_8?ie=UTF8&reviewerType=all_reviews&pageNumber=8&sortBy=recent\\n'}\n",
      "{'title': 'great shoes', 'content': 'i wear them daily and my feet quit hurting', 'date': '18 May 2019', 'variant': 'Size: 11 Color: White/Metallic Silver/Dark Grey', 'images': None, 'verified': 'Yes', 'author': 'private', 'rating': '5.0', 'product': \"Nike Women's Reax Run 5 Running Shoes\", 'url': 'https://www.amazon.com/Nike-Womens-Reax-Running-Shoes/product-reviews/B07ZPL752N/ref=cm_cr_getr_d_paging_btm_next_8?ie=UTF8&reviewerType=all_reviews&pageNumber=8&sortBy=recent\\n'}\n",
      "{'title': 'Looked different online', 'content': 'I liked the way they looked in the picture but they looked a lot different in person.', 'date': '10 Apr 2020', 'variant': 'Size: 6 Color: White/Metallic Silver/Dark Grey', 'images': None, 'verified': 'Yes', 'author': 'Tammy C', 'rating': '2.0', 'product': \"Nike Women's Reax Run 5 Running Shoes\", 'url': 'https://www.amazon.com/Nike-Womens-Reax-Running-Shoes/product-reviews/B07ZPL752N/ref=cm_cr_getr_d_paging_btm_next_9?ie=UTF8&reviewerType=all_reviews&pageNumber=9&sortBy=recent\\n'}\n",
      "{'title': 'Love them', 'content': 'Love these!!!', 'date': '28 Mar 2019', 'variant': 'Size: 8.5 Color: White/Metallic Silver/Dark Grey', 'images': None, 'verified': 'Yes', 'author': 'SFC. Retired', 'rating': '4.0', 'product': \"Nike Women's Reax Run 5 Running Shoes\", 'url': 'https://www.amazon.com/Nike-Womens-Reax-Running-Shoes/product-reviews/B07ZPL752N/ref=cm_cr_getr_d_paging_btm_next_9?ie=UTF8&reviewerType=all_reviews&pageNumber=9&sortBy=recent\\n'}\n",
      "{'title': \"I love my new NIKE Women's Reax Run 5, Running sneakers!!!\", 'content': \"My new NIKE Women's Reax Run 5, Running sneakers are so comfortable. I tried them on when I received and my feet felt real good. I love my new sneakers.\", 'date': '01 Dec 2018', 'variant': 'Size: 9.5 Color: White/Metallic Silver/Dark Grey', 'images': None, 'verified': 'Yes', 'author': 'Lisa C Jenkins', 'rating': '5.0', 'product': \"Nike Women's Reax Run 5 Running Shoes\", 'url': 'https://www.amazon.com/Nike-Womens-Reax-Running-Shoes/product-reviews/B07ZPL752N/ref=cm_cr_getr_d_paging_btm_next_9?ie=UTF8&reviewerType=all_reviews&pageNumber=9&sortBy=recent\\n'}\n",
      "{'title': 'Larger then described fit poor', 'content': 'Seemed larger then store version. Like there was a issue defective and resold on Nike Amazon', 'date': '20 Apr 2020', 'variant': 'Size: 9 Color: White/Metallic Silver/Dark Grey', 'images': None, 'verified': 'Yes', 'author': 'Kitty', 'rating': '3.0', 'product': \"Nike Women's Reax Run 5 Running Shoes\", 'url': 'https://www.amazon.com/Nike-Womens-Reax-Running-Shoes/product-reviews/B07ZPL752N/ref=cm_cr_getr_d_paging_btm_next_9?ie=UTF8&reviewerType=all_reviews&pageNumber=9&sortBy=recent\\n'}\n",
      "{'title': 'Very supportive and comfortable.', 'content': 'I just had full hip and both knees replaced. Have been working on fitness and rehabilitation for weeks now. These Nike shoes have been AMAZING! Worth the money and more. I’m ordering another pair in a darker color for dog walking in the Midwest. I do have a somewhat narrow foot. FYI', 'date': '06 Jan 2020', 'variant': 'Size: 8.5 Color: White/Metallic Silver/Dark Grey', 'images': None, 'verified': 'Yes', 'author': 'Amazon Customer', 'rating': '5.0', 'product': \"Nike Women's Reax Run 5 Running Shoes\", 'url': 'https://www.amazon.com/Nike-Womens-Reax-Running-Shoes/product-reviews/B07ZPL752N/ref=cm_cr_getr_d_paging_btm_next_9?ie=UTF8&reviewerType=all_reviews&pageNumber=9&sortBy=recent\\n'}\n",
      "{'title': 'True to size, very comfortable!', 'content': 'Bought them for my daughter, who loves them; very comfortable.', 'date': '09 Sep 2018', 'variant': 'Size: 12 Color: White/Metallic Silver/Dark Grey', 'images': None, 'verified': 'Yes', 'author': 'Delores Mack', 'rating': '5.0', 'product': \"Nike Women's Reax Run 5 Running Shoes\", 'url': 'https://www.amazon.com/Nike-Womens-Reax-Running-Shoes/product-reviews/B07ZPL752N/ref=cm_cr_getr_d_paging_btm_next_9?ie=UTF8&reviewerType=all_reviews&pageNumber=9&sortBy=recent\\n'}\n",
      "{'title': 'Loves these tennis shoes', 'content': 'Love this tennis shoe.  It provides the support I need for walking and working around the house.', 'date': '29 Oct 2019', 'variant': 'Size: 8 Color: White/Metallic Silver/Dark Grey', 'images': None, 'verified': 'Yes', 'author': 'lou', 'rating': '5.0', 'product': \"Nike Women's Reax Run 5 Running Shoes\", 'url': 'https://www.amazon.com/Nike-Womens-Reax-Running-Shoes/product-reviews/B07ZPL752N/ref=cm_cr_getr_d_paging_btm_next_9?ie=UTF8&reviewerType=all_reviews&pageNumber=9&sortBy=recent\\n'}\n",
      "{'title': 'Very Dissatisfied', 'content': 'Looks nothing like the picture. The shoe was so wide it look like I was wearing a huge brick on my foot. No arch at all, very uncomfortable.', 'date': '29 Apr 2019', 'variant': 'Size: 8.5 Color: White/Metallic Silver/Dark Grey', 'images': None, 'verified': 'Yes', 'author': 'Heather D.', 'rating': '1.0', 'product': \"Nike Women's Reax Run 5 Running Shoes\", 'url': 'https://www.amazon.com/Nike-Womens-Reax-Running-Shoes/product-reviews/B07ZPL752N/ref=cm_cr_getr_d_paging_btm_next_9?ie=UTF8&reviewerType=all_reviews&pageNumber=9&sortBy=recent\\n'}\n",
      "{'title': 'Love them!', 'content': 'I’be loved This shoes since the first time I saw them ... they make a perfect match for training outfits', 'date': '01 Aug 2019', 'variant': 'Size: 8.5 Color: White/Metallic Silver/Dark Grey', 'images': None, 'verified': 'Yes', 'author': 'Maria F.', 'rating': '5.0', 'product': \"Nike Women's Reax Run 5 Running Shoes\", 'url': 'https://www.amazon.com/Nike-Womens-Reax-Running-Shoes/product-reviews/B07ZPL752N/ref=cm_cr_getr_d_paging_btm_next_9?ie=UTF8&reviewerType=all_reviews&pageNumber=9&sortBy=recent\\n'}\n",
      "{'title': 'Not happy at all with them', 'content': 'The item is not like a regular Nike', 'date': '23 Dec 2018', 'variant': 'Size: 10 Color: White/Metallic Silver/Dark Grey', 'images': None, 'verified': 'Yes', 'author': 'Amazon Customer', 'rating': '2.0', 'product': \"Nike Women's Reax Run 5 Running Shoes\", 'url': 'https://www.amazon.com/Nike-Womens-Reax-Running-Shoes/product-reviews/B07ZPL752N/ref=cm_cr_getr_d_paging_btm_next_9?ie=UTF8&reviewerType=all_reviews&pageNumber=9&sortBy=recent\\n'}\n"
     ]
    },
    {
     "name": "stdout",
     "output_type": "stream",
     "text": [
      "{'title': \"Fit great, don't have to break in.\", 'content': \"I really wanted the bigger 'Shox' but they were really expensive. These shoes are a great second option, just a little heavier than my last pair.\", 'date': '12 Nov 2019', 'variant': 'Size: 8.5 Color: Black/White/Mtlc Cool Grey', 'images': None, 'verified': 'Yes', 'author': 'Amazon Customer', 'rating': '4.0', 'product': \"Nike Women's Reax Run 5 Running Shoes\", 'url': 'https://www.amazon.com/Nike-Womens-Reax-Running-Shoes/product-reviews/B07ZPL752N/ref=cm_cr_getr_d_paging_btm_next_10?ie=UTF8&reviewerType=all_reviews&pageNumber=10&sortBy=recent\\n'}\n",
      "{'title': \"I think it's the men's and not women's shoe.\", 'content': \"The toe part of the shoe is boxie looking. Over all a nice shoe just nit what I was looking for. It looks like the man's shoe. I really don't think it is the women's shoe.\", 'date': '14 Aug 2019', 'variant': 'Size: 8 Color: White/Metallic Silver/Dark Grey', 'images': None, 'verified': 'Yes', 'author': 'Aprile Logsdon', 'rating': '3.0', 'product': \"Nike Women's Reax Run 5 Running Shoes\", 'url': 'https://www.amazon.com/Nike-Womens-Reax-Running-Shoes/product-reviews/B07ZPL752N/ref=cm_cr_getr_d_paging_btm_next_10?ie=UTF8&reviewerType=all_reviews&pageNumber=10&sortBy=recent\\n'}\n",
      "{'title': 'Ok', 'content': 'Boxy toe. Not exactly what I needed but quality ok. It’s like the shape is ‘off’.', 'date': '03 May 2020', 'variant': 'Size: 9 Color: White/Metallic Silver/Dark Grey', 'images': None, 'verified': 'Yes', 'author': 'Susan Wilson', 'rating': '3.0', 'product': \"Nike Women's Reax Run 5 Running Shoes\", 'url': 'https://www.amazon.com/Nike-Womens-Reax-Running-Shoes/product-reviews/B07ZPL752N/ref=cm_cr_getr_d_paging_btm_next_10?ie=UTF8&reviewerType=all_reviews&pageNumber=10&sortBy=recent\\n'}\n",
      "{'title': 'Recommended!', 'content': 'Super supportive. I am a nurse and stay in my feet for long hours at a time.', 'date': '06 Oct 2019', 'variant': 'Size: 9.5 Color: White/Metallic Silver/Dark Grey', 'images': None, 'verified': 'Yes', 'author': 'Nurse192', 'rating': '5.0', 'product': \"Nike Women's Reax Run 5 Running Shoes\", 'url': 'https://www.amazon.com/Nike-Womens-Reax-Running-Shoes/product-reviews/B07ZPL752N/ref=cm_cr_getr_d_paging_btm_next_10?ie=UTF8&reviewerType=all_reviews&pageNumber=10&sortBy=recent\\n'}\n",
      "{'title': 'nike', 'content': 'usually nikes fit me perfectly but these are too big and just sitting on the shoe shelf.. sadness', 'date': '11 Sep 2019', 'variant': 'Size: 9 Color: White/Metallic Silver/Dark Grey', 'images': None, 'verified': 'Yes', 'author': 'mess29tam', 'rating': '1.0', 'product': \"Nike Women's Reax Run 5 Running Shoes\", 'url': 'https://www.amazon.com/Nike-Womens-Reax-Running-Shoes/product-reviews/B07ZPL752N/ref=cm_cr_getr_d_paging_btm_next_10?ie=UTF8&reviewerType=all_reviews&pageNumber=10&sortBy=recent\\n'}\n",
      "{'title': 'Bulky sneaker', 'content': 'these sneakers are cute, but I think they are a little bulky. I am not a big sneaker person but I was hoping for something lighter. But they fit true to size and they are cute.', 'date': '18 Jun 2019', 'variant': 'Size: 8 Color: White/Metallic Silver/Dark Grey', 'images': None, 'verified': 'Yes', 'author': 'Leslie P.', 'rating': '4.0', 'product': \"Nike Women's Reax Run 5 Running Shoes\", 'url': 'https://www.amazon.com/Nike-Womens-Reax-Running-Shoes/product-reviews/B07ZPL752N/ref=cm_cr_getr_d_paging_btm_next_10?ie=UTF8&reviewerType=all_reviews&pageNumber=10&sortBy=recent\\n'}\n",
      "{'title': 'Odd fit.', 'content': 'This shoe fit weird is best way to explain.  It fit wide and looked bulky on my foot.  Not sure if I mistakenly purchased wide fit.', 'date': '14 Dec 2019', 'variant': 'Size: 6.5 Color: White/Metallic Silver/Dark Grey', 'images': None, 'verified': 'Yes', 'author': 'Katrina', 'rating': '2.0', 'product': \"Nike Women's Reax Run 5 Running Shoes\", 'url': 'https://www.amazon.com/Nike-Womens-Reax-Running-Shoes/product-reviews/B07ZPL752N/ref=cm_cr_getr_d_paging_btm_next_10?ie=UTF8&reviewerType=all_reviews&pageNumber=10&sortBy=recent\\n'}\n",
      "{'title': 'Ordered 1/2 size larger.', 'content': 'Well constructed.  Needed extra support (cushion) for ball of right foot.  So far, So good.  Very happy with the shoe.', 'date': '17 Mar 2020', 'variant': 'Size: 7 Color: White/Metallic Silver/Dark Grey', 'images': None, 'verified': 'Yes', 'author': 'ushteacher2001', 'rating': '5.0', 'product': \"Nike Women's Reax Run 5 Running Shoes\", 'url': 'https://www.amazon.com/Nike-Womens-Reax-Running-Shoes/product-reviews/B07ZPL752N/ref=cm_cr_getr_d_paging_btm_next_10?ie=UTF8&reviewerType=all_reviews&pageNumber=10&sortBy=recent\\n'}\n",
      "{'title': 'Support', 'content': 'Easy to walk on sidewalk the shoe is not heavy perfect match.', 'date': '03 Apr 2020', 'variant': 'Size: 7 Color: White/Metallic Silver/Dark Grey', 'images': None, 'verified': 'Yes', 'author': 'jennifer collins', 'rating': '5.0', 'product': \"Nike Women's Reax Run 5 Running Shoes\", 'url': 'https://www.amazon.com/Nike-Womens-Reax-Running-Shoes/product-reviews/B07ZPL752N/ref=cm_cr_getr_d_paging_btm_next_10?ie=UTF8&reviewerType=all_reviews&pageNumber=10&sortBy=recent\\n'}\n",
      "{'title': 'Great shoe.', 'content': 'Shoe fit well, looks great, and stands up with frequent use.', 'date': '10 Feb 2020', 'variant': 'Size: 6.5 Color: White/Metallic Silver/Dark Grey', 'images': None, 'verified': 'Yes', 'author': 'M Irwin', 'rating': '5.0', 'product': \"Nike Women's Reax Run 5 Running Shoes\", 'url': 'https://www.amazon.com/Nike-Womens-Reax-Running-Shoes/product-reviews/B07ZPL752N/ref=cm_cr_getr_d_paging_btm_next_10?ie=UTF8&reviewerType=all_reviews&pageNumber=10&sortBy=recent\\n'}\n",
      "{'title': 'Perfect shoe', 'content': 'Great fit, lots of comfort and looks very stylish.', 'date': '29 Oct 2018', 'variant': 'Size: 12 Color: White/Metallic Silver/Dark Grey', 'images': None, 'verified': 'Yes', 'author': 'Dahlia Alert', 'rating': '5.0', 'product': \"Nike Women's Reax Run 5 Running Shoes\", 'url': 'https://www.amazon.com/Nike-Womens-Reax-Running-Shoes/product-reviews/B07ZPL752N/ref=cm_cr_getr_d_paging_btm_next_11?ie=UTF8&reviewerType=all_reviews&pageNumber=11&sortBy=recent\\n'}\n",
      "{'title': 'Dirty', 'content': 'Very cute love the shoes except they sent them in a box that says the original box was damaged in transit and the shoes are dirty.  Paying over 100 for shoes and they are dirty is not acceptable', 'date': '24 Feb 2020', 'variant': 'Size: 11 Color: White/Metallic Silver/Dark Grey', 'images': 'https://images-na.ssl-images-amazon.com/images/I/61z4QEOJEfL._SY88.jpg\\nhttps://images-na.ssl-images-amazon.com/images/I/71jv2BWYXXL._SY88.jpg', 'verified': 'Yes', 'author': 'Amazon Customer', 'rating': '1.0', 'product': \"Nike Women's Reax Run 5 Running Shoes\", 'url': 'https://www.amazon.com/Nike-Womens-Reax-Running-Shoes/product-reviews/B07ZPL752N/ref=cm_cr_getr_d_paging_btm_next_11?ie=UTF8&reviewerType=all_reviews&pageNumber=11&sortBy=recent\\n'}\n",
      "{'title': 'They were very comfortable', 'content': 'They were very comfortable', 'date': '08 Feb 2019', 'variant': 'Size: 9.5 Color: White/Metallic Silver/Dark Grey', 'images': None, 'verified': 'Yes', 'author': 'Amazon Customer', 'rating': '5.0', 'product': \"Nike Women's Reax Run 5 Running Shoes\", 'url': 'https://www.amazon.com/Nike-Womens-Reax-Running-Shoes/product-reviews/B07ZPL752N/ref=cm_cr_getr_d_paging_btm_next_11?ie=UTF8&reviewerType=all_reviews&pageNumber=11&sortBy=recent\\n'}\n",
      "{'title': 'Great look and fit.', 'content': 'Perfect fit and love the look. So many compliments.', 'date': '11 Dec 2019', 'variant': 'Size: 6.5 Color: White/Metallic Silver/Dark Grey', 'images': None, 'verified': 'Yes', 'author': 'Keneagle', 'rating': '5.0', 'product': \"Nike Women's Reax Run 5 Running Shoes\", 'url': 'https://www.amazon.com/Nike-Womens-Reax-Running-Shoes/product-reviews/B07ZPL752N/ref=cm_cr_getr_d_paging_btm_next_11?ie=UTF8&reviewerType=all_reviews&pageNumber=11&sortBy=recent\\n'}\n",
      "{'title': 'Love them', 'content': 'Love these shoes? A bit too expensive but worth it.', 'date': '06 Mar 2020', 'variant': 'Size: 8 Color: White/Metallic Silver/Dark Grey', 'images': None, 'verified': 'Yes', 'author': 'Shauna Exner', 'rating': '5.0', 'product': \"Nike Women's Reax Run 5 Running Shoes\", 'url': 'https://www.amazon.com/Nike-Womens-Reax-Running-Shoes/product-reviews/B07ZPL752N/ref=cm_cr_getr_d_paging_btm_next_11?ie=UTF8&reviewerType=all_reviews&pageNumber=11&sortBy=recent\\n'}\n",
      "{'title': 'Good', 'content': 'Great', 'date': '03 Feb 2019', 'variant': 'Size: 9 Color: White/Metallic Silver/Dark Grey', 'images': None, 'verified': 'Yes', 'author': 'Christopher Foster', 'rating': '5.0', 'product': \"Nike Women's Reax Run 5 Running Shoes\", 'url': 'https://www.amazon.com/Nike-Womens-Reax-Running-Shoes/product-reviews/B07ZPL752N/ref=cm_cr_getr_d_paging_btm_next_11?ie=UTF8&reviewerType=all_reviews&pageNumber=11&sortBy=recent\\n'}\n",
      "{'title': 'Nice style', 'content': 'I like them,I am using them for work.', 'date': '24 Sep 2018', 'variant': 'Size: 9.5 Color: White/Metallic Silver/Dark Grey', 'images': None, 'verified': 'Yes', 'author': 'Rosie Daniels', 'rating': '4.0', 'product': \"Nike Women's Reax Run 5 Running Shoes\", 'url': 'https://www.amazon.com/Nike-Womens-Reax-Running-Shoes/product-reviews/B07ZPL752N/ref=cm_cr_getr_d_paging_btm_next_11?ie=UTF8&reviewerType=all_reviews&pageNumber=11&sortBy=recent\\n'}\n",
      "{'title': 'Very nice shoes', 'content': 'I adore the shoes they are awesome and gorgeous', 'date': '24 Dec 2019', 'variant': 'Size: 8 Color: White/Metallic Silver/Dark Grey', 'images': None, 'verified': 'Yes', 'author': 's s', 'rating': '5.0', 'product': \"Nike Women's Reax Run 5 Running Shoes\", 'url': 'https://www.amazon.com/Nike-Womens-Reax-Running-Shoes/product-reviews/B07ZPL752N/ref=cm_cr_getr_d_paging_btm_next_11?ie=UTF8&reviewerType=all_reviews&pageNumber=11&sortBy=recent\\n'}\n",
      "{'title': 'Great shoe', 'content': 'Love everything about this shoe.. looks great.. nothing negative to say... casual wear', 'date': '15 Oct 2018', 'variant': 'Size: 6.5 Color: White/Metallic Silver/Dark Grey', 'images': None, 'verified': 'Yes', 'author': 'Dawn Wood', 'rating': '5.0', 'product': \"Nike Women's Reax Run 5 Running Shoes\", 'url': 'https://www.amazon.com/Nike-Womens-Reax-Running-Shoes/product-reviews/B07ZPL752N/ref=cm_cr_getr_d_paging_btm_next_11?ie=UTF8&reviewerType=all_reviews&pageNumber=11&sortBy=recent\\n'}\n",
      "{'title': 'Cant go wrong with Nike!', 'content': 'Great comfortable shoe', 'date': '25 Oct 2018', 'variant': 'Size: 11 Color: White/Metallic Silver/Dark Grey', 'images': None, 'verified': 'Yes', 'author': 'Lenore', 'rating': '5.0', 'product': \"Nike Women's Reax Run 5 Running Shoes\", 'url': 'https://www.amazon.com/Nike-Womens-Reax-Running-Shoes/product-reviews/B07ZPL752N/ref=cm_cr_getr_d_paging_btm_next_11?ie=UTF8&reviewerType=all_reviews&pageNumber=11&sortBy=recent\\n'}\n"
     ]
    },
    {
     "name": "stdout",
     "output_type": "stream",
     "text": [
      "{'title': 'good looking shoe and comfortable love them', 'content': 'very comfortable and a very good looking shoe to ma as in pretty they have my favorite colors i was worried about the size cuz i normally wear a size 6 1/2 and they where sold out so i went ahead and got a size 7 and they fit great i dont run so not really sure how they feel during a run but im gonna go ahead and give them 5 stars love my nike', 'date': '04 Mar 2020', 'variant': 'Size: 7 Color: Black/White/Mtlc Cool Grey', 'images': None, 'verified': 'Yes', 'author': 'Katherine Moore', 'rating': '5.0', 'product': \"Nike Women's Reax Run 5 Running Shoes\", 'url': 'https://www.amazon.com/Nike-Womens-Reax-Running-Shoes/product-reviews/B07ZPL752N/ref=cm_cr_getr_d_paging_btm_next_12?ie=UTF8&reviewerType=all_reviews&pageNumber=12&sortBy=recent\\n'}\n",
      "{'title': 'Great shoe', 'content': 'Very comfortable', 'date': '26 Dec 2018', 'variant': 'Size: 6 Color: White/Metallic Silver/Dark Grey', 'images': None, 'verified': 'Yes', 'author': 'Pamela Thornton', 'rating': '5.0', 'product': \"Nike Women's Reax Run 5 Running Shoes\", 'url': 'https://www.amazon.com/Nike-Womens-Reax-Running-Shoes/product-reviews/B07ZPL752N/ref=cm_cr_getr_d_paging_btm_next_12?ie=UTF8&reviewerType=all_reviews&pageNumber=12&sortBy=recent\\n'}\n",
      "{'title': 'PERFECT WALKIN SHOE :)', 'content': 'Ahhhhh . This is a perfect walking shoe', 'date': '05 May 2020', 'variant': 'Size: 8 Color: White/Metallic Silver/Dark Grey', 'images': None, 'verified': 'Yes', 'author': 'Lil', 'rating': '5.0', 'product': \"Nike Women's Reax Run 5 Running Shoes\", 'url': 'https://www.amazon.com/Nike-Womens-Reax-Running-Shoes/product-reviews/B07ZPL752N/ref=cm_cr_getr_d_paging_btm_next_12?ie=UTF8&reviewerType=all_reviews&pageNumber=12&sortBy=recent\\n'}\n",
      "{'title': 'Love these!', 'content': 'Fit amazing! I order 1/2 size larger in a sneaker for socks. Putting them on makes you want to run lol', 'date': '22 Jun 2019', 'variant': 'Size: 9 Color: White/Metallic Silver/Dark Grey', 'images': None, 'verified': 'Yes', 'author': 'Dawn Werley', 'rating': '5.0', 'product': \"Nike Women's Reax Run 5 Running Shoes\", 'url': 'https://www.amazon.com/Nike-Womens-Reax-Running-Shoes/product-reviews/B07ZPL752N/ref=cm_cr_getr_d_paging_btm_next_12?ie=UTF8&reviewerType=all_reviews&pageNumber=12&sortBy=recent\\n'}\n",
      "{'title': 'Runs very small', 'content': 'I was so excited to get these shoes then they came damaged and 2 sizes too small minimum even though the shoe and box said they were the right size.', 'date': '01 Jun 2019', 'variant': 'Size: 9.5 Color: White/Metallic Silver/Dark Grey', 'images': None, 'verified': 'Yes', 'author': 'Chelsae Raine', 'rating': '1.0', 'product': \"Nike Women's Reax Run 5 Running Shoes\", 'url': 'https://www.amazon.com/Nike-Womens-Reax-Running-Shoes/product-reviews/B07ZPL752N/ref=cm_cr_getr_d_paging_btm_next_12?ie=UTF8&reviewerType=all_reviews&pageNumber=12&sortBy=recent\\n'}\n",
      "{'title': 'Nice shoe', 'content': '👍👍', 'date': '14 Dec 2018', 'variant': 'Size: 8.5 Color: White/Metallic Silver/Dark Grey', 'images': None, 'verified': 'Yes', 'author': 'Bookie', 'rating': '5.0', 'product': \"Nike Women's Reax Run 5 Running Shoes\", 'url': 'https://www.amazon.com/Nike-Womens-Reax-Running-Shoes/product-reviews/B07ZPL752N/ref=cm_cr_getr_d_paging_btm_next_12?ie=UTF8&reviewerType=all_reviews&pageNumber=12&sortBy=recent\\n'}\n",
      "{'title': 'So far so good', 'content': \"But to large because I followed the advice on reviews and ordered then 1/2 size larger.  Won't do that again. No fault to the shoe\", 'date': '19 Feb 2020', 'variant': 'Size: 8 Color: White/Metallic Silver/Dark Grey', 'images': None, 'verified': 'Yes', 'author': 'Lilasmeemaw', 'rating': '5.0', 'product': \"Nike Women's Reax Run 5 Running Shoes\", 'url': 'https://www.amazon.com/Nike-Womens-Reax-Running-Shoes/product-reviews/B07ZPL752N/ref=cm_cr_getr_d_paging_btm_next_12?ie=UTF8&reviewerType=all_reviews&pageNumber=12&sortBy=recent\\n'}\n",
      "{'title': 'Highly recommend', 'content': 'Great product and true to size fit', 'date': '01 Jan 2020', 'variant': 'Size: 7.5 Color: White/Metallic Silver/Dark Grey', 'images': None, 'verified': 'Yes', 'author': 'Wendi Hulsey', 'rating': '5.0', 'product': \"Nike Women's Reax Run 5 Running Shoes\", 'url': 'https://www.amazon.com/Nike-Womens-Reax-Running-Shoes/product-reviews/B07ZPL752N/ref=cm_cr_getr_d_paging_btm_next_12?ie=UTF8&reviewerType=all_reviews&pageNumber=12&sortBy=recent\\n'}\n",
      "{'title': 'True fit', 'content': 'I work in a warehouse 10 hours a day on my feet. The cushion in it helps my heals.', 'date': '04 Oct 2019', 'variant': 'Size: 7.5 Color: Black/White/Mtlc Cool Grey', 'images': None, 'verified': 'Yes', 'author': 'vicki', 'rating': '5.0', 'product': \"Nike Women's Reax Run 5 Running Shoes\", 'url': 'https://www.amazon.com/Nike-Womens-Reax-Running-Shoes/product-reviews/B07ZPL752N/ref=cm_cr_getr_d_paging_btm_next_12?ie=UTF8&reviewerType=all_reviews&pageNumber=12&sortBy=recent\\n'}\n",
      "{'title': 'Best fit EVER!!', 'content': 'Shoe is like the Ruby Slippers! Beautiful! So comfortable! Want another pair!!', 'date': '16 Jan 2019', 'variant': 'Size: 7.5 Color: White/Metallic Silver/Dark Grey', 'images': None, 'verified': 'Yes', 'author': 'Alissa Tyau', 'rating': '5.0', 'product': \"Nike Women's Reax Run 5 Running Shoes\", 'url': 'https://www.amazon.com/Nike-Womens-Reax-Running-Shoes/product-reviews/B07ZPL752N/ref=cm_cr_getr_d_paging_btm_next_12?ie=UTF8&reviewerType=all_reviews&pageNumber=12&sortBy=recent\\n'}\n",
      "{'title': 'Super Cool Kicks', 'content': 'I get many compliments on these shoes. They are hard to keep clean but worth every penny.', 'date': '10 Dec 2019', 'variant': 'Size: 9 Color: White/Metallic Silver/Dark Grey', 'images': None, 'verified': 'Yes', 'author': 'Amazon Customer', 'rating': '5.0', 'product': \"Nike Women's Reax Run 5 Running Shoes\", 'url': 'https://www.amazon.com/Nike-Womens-Reax-Running-Shoes/product-reviews/B07ZPL752N/ref=cm_cr_getr_d_paging_btm_next_13?ie=UTF8&reviewerType=all_reviews&pageNumber=13&sortBy=recent\\n'}\n",
      "{'title': 'Perfect', 'content': 'Absolutely perfect will be buying another pair', 'date': '22 Sep 2019', 'variant': 'Size: 9.5 Color: White/Metallic Silver/Dark Grey', 'images': None, 'verified': 'Yes', 'author': 'samantha murphree', 'rating': '5.0', 'product': \"Nike Women's Reax Run 5 Running Shoes\", 'url': 'https://www.amazon.com/Nike-Womens-Reax-Running-Shoes/product-reviews/B07ZPL752N/ref=cm_cr_getr_d_paging_btm_next_13?ie=UTF8&reviewerType=all_reviews&pageNumber=13&sortBy=recent\\n'}\n",
      "{'title': 'Very nice supportive shoe once I change insert', 'content': 'Love this running shoe for treadmill!', 'date': '09 Jan 2020', 'variant': 'Size: 8 Color: White/Metallic Silver/Dark Grey', 'images': None, 'verified': 'Yes', 'author': 'pamela l.', 'rating': '5.0', 'product': \"Nike Women's Reax Run 5 Running Shoes\", 'url': 'https://www.amazon.com/Nike-Womens-Reax-Running-Shoes/product-reviews/B07ZPL752N/ref=cm_cr_getr_d_paging_btm_next_13?ie=UTF8&reviewerType=all_reviews&pageNumber=13&sortBy=recent\\n'}\n",
      "{'title': 'Too heavy.', 'content': 'This sneaker is very heavy. When running it feels like you have lead in your shoes. Also for a size 9 I had to pay $40 more. If I ordered any other size the shoe was $40 less. Must be the extra lead they put in the size 9. For how much I paid, the sneaker was not what was expected.', 'date': '05 Nov 2019', 'variant': 'Size: 9 Color: White/Metallic Silver/Dark Grey', 'images': None, 'verified': 'Yes', 'author': 'Amazon Customer', 'rating': '1.0', 'product': \"Nike Women's Reax Run 5 Running Shoes\", 'url': 'https://www.amazon.com/Nike-Womens-Reax-Running-Shoes/product-reviews/B07ZPL752N/ref=cm_cr_getr_d_paging_btm_next_13?ie=UTF8&reviewerType=all_reviews&pageNumber=13&sortBy=recent\\n'}\n",
      "{'title': 'Great shoe.', 'content': 'Great quality for the price.', 'date': '05 Jan 2020', 'variant': 'Size: 7 Color: White/Metallic Silver/Dark Grey', 'images': None, 'verified': 'Yes', 'author': 'CC', 'rating': '5.0', 'product': \"Nike Women's Reax Run 5 Running Shoes\", 'url': 'https://www.amazon.com/Nike-Womens-Reax-Running-Shoes/product-reviews/B07ZPL752N/ref=cm_cr_getr_d_paging_btm_next_13?ie=UTF8&reviewerType=all_reviews&pageNumber=13&sortBy=recent\\n'}\n",
      "{'title': 'Great quality product', 'content': 'Christmas present for my wife,she loved them and had many compliments on the way they looked', 'date': '29 Dec 2019', 'variant': 'Size: 8.5 Color: White/Metallic Silver/Dark Grey', 'images': None, 'verified': 'Yes', 'author': 'Phillip duggan', 'rating': '5.0', 'product': \"Nike Women's Reax Run 5 Running Shoes\", 'url': 'https://www.amazon.com/Nike-Womens-Reax-Running-Shoes/product-reviews/B07ZPL752N/ref=cm_cr_getr_d_paging_btm_next_13?ie=UTF8&reviewerType=all_reviews&pageNumber=13&sortBy=recent\\n'}\n",
      "{'title': 'Four Stars', 'content': 'Fits great, very comfortable.  Little wide at toes.', 'date': '28 May 2016', 'variant': 'Size: 8 Color: White/Metallic Silver/Dark Grey', 'images': None, 'verified': 'Yes', 'author': 'Amazon Customer', 'rating': '4.0', 'product': \"Nike Women's Reax Run 5 Running Shoes\", 'url': 'https://www.amazon.com/Nike-Womens-Reax-Running-Shoes/product-reviews/B07ZPL752N/ref=cm_cr_getr_d_paging_btm_next_13?ie=UTF8&reviewerType=all_reviews&pageNumber=13&sortBy=recent\\n'}\n",
      "{'title': 'Love them', 'content': 'Love the shoe fits great', 'date': '05 May 2020', 'variant': 'Size: 10 Color: White/Metallic Silver/Dark Grey', 'images': None, 'verified': 'Yes', 'author': 'jeannie holland', 'rating': '5.0', 'product': \"Nike Women's Reax Run 5 Running Shoes\", 'url': 'https://www.amazon.com/Nike-Womens-Reax-Running-Shoes/product-reviews/B07ZPL752N/ref=cm_cr_getr_d_paging_btm_next_13?ie=UTF8&reviewerType=all_reviews&pageNumber=13&sortBy=recent\\n'}\n",
      "{'title': 'Fashionista', 'content': 'Like the shoe over all', 'date': '05 Jan 2020', 'variant': 'Size: 7 Color: White/Metallic Silver/Dark Grey', 'images': None, 'verified': 'Yes', 'author': 'Pee', 'rating': '5.0', 'product': \"Nike Women's Reax Run 5 Running Shoes\", 'url': 'https://www.amazon.com/Nike-Womens-Reax-Running-Shoes/product-reviews/B07ZPL752N/ref=cm_cr_getr_d_paging_btm_next_13?ie=UTF8&reviewerType=all_reviews&pageNumber=13&sortBy=recent\\n'}\n",
      "{'title': 'Cute', 'content': 'So cute and comfortable', 'date': '30 Dec 2019', 'variant': 'Size: 9 Color: White/Metallic Silver/Dark Grey', 'images': None, 'verified': 'Yes', 'author': 'Erica D Mardis', 'rating': '5.0', 'product': \"Nike Women's Reax Run 5 Running Shoes\", 'url': 'https://www.amazon.com/Nike-Womens-Reax-Running-Shoes/product-reviews/B07ZPL752N/ref=cm_cr_getr_d_paging_btm_next_13?ie=UTF8&reviewerType=all_reviews&pageNumber=13&sortBy=recent\\n'}\n"
     ]
    },
    {
     "name": "stdout",
     "output_type": "stream",
     "text": [
      "{'title': 'Returned them', 'content': 'Terribly made. Had to return them.', 'date': '28 Dec 2019', 'variant': 'Size: 6.5 Color: White/Metallic Silver/Dark Grey', 'images': None, 'verified': 'Yes', 'author': 'Teena Mulcahy', 'rating': '2.0', 'product': \"Nike Women's Reax Run 5 Running Shoes\", 'url': 'https://www.amazon.com/Nike-Womens-Reax-Running-Shoes/product-reviews/B07ZPL752N/ref=cm_cr_getr_d_paging_btm_next_14?ie=UTF8&reviewerType=all_reviews&pageNumber=14&sortBy=recent\\n'}\n",
      "{'title': 'Thumbs up', 'content': 'Love the look, fit is just right. Thumbs up', 'date': '23 Apr 2020', 'variant': 'Size: 8.5 Color: White/Metallic Silver/Dark Grey', 'images': None, 'verified': 'Yes', 'author': 'Cathi Henry', 'rating': '4.0', 'product': \"Nike Women's Reax Run 5 Running Shoes\", 'url': 'https://www.amazon.com/Nike-Womens-Reax-Running-Shoes/product-reviews/B07ZPL752N/ref=cm_cr_getr_d_paging_btm_next_14?ie=UTF8&reviewerType=all_reviews&pageNumber=14&sortBy=recent\\n'}\n",
      "{'title': 'Makes my foot look so long', 'content': 'Loved these shoes . Just to narrow for my foot.', 'date': '14 Oct 2019', 'variant': 'Size: 9.5 Color: White/Metallic Silver/Dark Grey', 'images': None, 'verified': 'Yes', 'author': 'Amazon Customer', 'rating': '4.0', 'product': \"Nike Women's Reax Run 5 Running Shoes\", 'url': 'https://www.amazon.com/Nike-Womens-Reax-Running-Shoes/product-reviews/B07ZPL752N/ref=cm_cr_getr_d_paging_btm_next_14?ie=UTF8&reviewerType=all_reviews&pageNumber=14&sortBy=recent\\n'}\n",
      "{'title': 'Wrong product', 'content': 'Sent the wrong product totally different from picture.', 'date': '13 Aug 2019', 'variant': 'Size: 7.5 Color: White/Metallic Silver/Dark Grey', 'images': None, 'verified': 'Yes', 'author': 'Vincent', 'rating': '1.0', 'product': \"Nike Women's Reax Run 5 Running Shoes\", 'url': 'https://www.amazon.com/Nike-Womens-Reax-Running-Shoes/product-reviews/B07ZPL752N/ref=cm_cr_getr_d_paging_btm_next_14?ie=UTF8&reviewerType=all_reviews&pageNumber=14&sortBy=recent\\n'}\n",
      "{'title': 'Comfortable', 'content': 'Comfortable and fits', 'date': '16 Dec 2019', 'variant': 'Size: 8.5 Color: White/Metallic Silver/Dark Grey', 'images': None, 'verified': 'Yes', 'author': 'Anna Fleischhacker', 'rating': '5.0', 'product': \"Nike Women's Reax Run 5 Running Shoes\", 'url': 'https://www.amazon.com/Nike-Womens-Reax-Running-Shoes/product-reviews/B07ZPL752N/ref=cm_cr_getr_d_paging_btm_next_14?ie=UTF8&reviewerType=all_reviews&pageNumber=14&sortBy=recent\\n'}\n",
      "{'title': 'Love these', 'content': 'Love the look and fit', 'date': '23 Jan 2020', 'variant': 'Size: 9 Color: White/Metallic Silver/Dark Grey', 'images': None, 'verified': 'Yes', 'author': 'Daphne', 'rating': '5.0', 'product': \"Nike Women's Reax Run 5 Running Shoes\", 'url': 'https://www.amazon.com/Nike-Womens-Reax-Running-Shoes/product-reviews/B07ZPL752N/ref=cm_cr_getr_d_paging_btm_next_14?ie=UTF8&reviewerType=all_reviews&pageNumber=14&sortBy=recent\\n'}\n",
      "{'title': 'great shoes', 'content': '2nd pair. love these shoes.', 'date': '21 Nov 2019', 'variant': 'Size: 8 Color: White/Metallic Silver/Dark Grey', 'images': None, 'verified': 'Yes', 'author': 'Bonnie j hirsch', 'rating': '5.0', 'product': \"Nike Women's Reax Run 5 Running Shoes\", 'url': 'https://www.amazon.com/Nike-Womens-Reax-Running-Shoes/product-reviews/B07ZPL752N/ref=cm_cr_getr_d_paging_btm_next_14?ie=UTF8&reviewerType=all_reviews&pageNumber=14&sortBy=recent\\n'}\n",
      "{'title': 'love these shoes', 'content': 'love these shoes, they are hard to find and last a long time.', 'date': '15 Jan 2020', 'variant': 'Size: 8.5 Color: White/Metallic Silver/Dark Grey', 'images': None, 'verified': 'Yes', 'author': 'marcia', 'rating': '5.0', 'product': \"Nike Women's Reax Run 5 Running Shoes\", 'url': 'https://www.amazon.com/Nike-Womens-Reax-Running-Shoes/product-reviews/B07ZPL752N/ref=cm_cr_getr_d_paging_btm_next_14?ie=UTF8&reviewerType=all_reviews&pageNumber=14&sortBy=recent\\n'}\n",
      "{'title': 'Comfy', 'content': 'Comfy and a Good price', 'date': '26 Oct 2019', 'variant': 'Size: 10 Color: White/Metallic Silver/Dark Grey', 'images': None, 'verified': 'Yes', 'author': 'lovemyamazon', 'rating': '5.0', 'product': \"Nike Women's Reax Run 5 Running Shoes\", 'url': 'https://www.amazon.com/Nike-Womens-Reax-Running-Shoes/product-reviews/B07ZPL752N/ref=cm_cr_getr_d_paging_btm_next_14?ie=UTF8&reviewerType=all_reviews&pageNumber=14&sortBy=recent\\n'}\n",
      "{'title': 'Very comfortable fits as expected', 'content': 'Very comfortable. This is my second pair I have purchased. Best shoes ever for working', 'date': '22 Apr 2020', 'variant': 'Size: 7 Color: White/Metallic Silver/Dark Grey', 'images': None, 'verified': 'Yes', 'author': 'L. Twinam', 'rating': '5.0', 'product': \"Nike Women's Reax Run 5 Running Shoes\", 'url': 'https://www.amazon.com/Nike-Womens-Reax-Running-Shoes/product-reviews/B07ZPL752N/ref=cm_cr_getr_d_paging_btm_next_14?ie=UTF8&reviewerType=all_reviews&pageNumber=14&sortBy=recent\\n'}\n",
      "{'title': 'Love love love these!!!', 'content': 'I’m a prison nurse and CONSTANTLY on my feet. These are the BEST shoes ever!!!', 'date': '20 Dec 2019', 'variant': 'Size: 8 Color: White/Metallic Silver/Dark Grey', 'images': None, 'verified': 'Yes', 'author': 'Catherine Del Vecchio', 'rating': '5.0', 'product': \"Nike Women's Reax Run 5 Running Shoes\", 'url': 'https://www.amazon.com/Nike-Womens-Reax-Running-Shoes/product-reviews/B07ZPL752N/ref=cm_cr_getr_d_paging_btm_next_15?ie=UTF8&reviewerType=all_reviews&pageNumber=15&sortBy=recent\\n'}\n",
      "{'title': 'Order 2', 'content': 'Love them. Will likely purchase another pair so I’ll have backup. Also department stores in detroit area did not carry my size. Largest was size 9. Lots of compliments.', 'date': '10 May 2019', 'variant': 'Size: 11 Color: White/Metallic Silver/Dark Grey', 'images': None, 'verified': 'Yes', 'author': 'Tracy Holloway', 'rating': '5.0', 'product': \"Nike Women's Reax Run 5 Running Shoes\", 'url': 'https://www.amazon.com/Nike-Womens-Reax-Running-Shoes/product-reviews/B07ZPL752N/ref=cm_cr_getr_d_paging_btm_next_15?ie=UTF8&reviewerType=all_reviews&pageNumber=15&sortBy=recent\\n'}\n",
      "{'title': 'No me gusto', 'content': 'No me gusto', 'date': '06 Jan 2020', 'variant': 'Size: 7.5 Color: White/Metallic Silver/Dark Grey', 'images': None, 'verified': 'Yes', 'author': 'Dennys', 'rating': '2.0', 'product': \"Nike Women's Reax Run 5 Running Shoes\", 'url': 'https://www.amazon.com/Nike-Womens-Reax-Running-Shoes/product-reviews/B07ZPL752N/ref=cm_cr_getr_d_paging_btm_next_15?ie=UTF8&reviewerType=all_reviews&pageNumber=15&sortBy=recent\\n'}\n",
      "{'title': 'Very comfortable', 'content': 'Very pretty and lots of compliments every time I wear them', 'date': '08 Jun 2019', 'variant': 'Size: 6.5 Color: White/Metallic Silver/Dark Grey', 'images': None, 'verified': 'Yes', 'author': 'tessa', 'rating': '5.0', 'product': \"Nike Women's Reax Run 5 Running Shoes\", 'url': 'https://www.amazon.com/Nike-Womens-Reax-Running-Shoes/product-reviews/B07ZPL752N/ref=cm_cr_getr_d_paging_btm_next_15?ie=UTF8&reviewerType=all_reviews&pageNumber=15&sortBy=recent\\n'}\n",
      "{'title': 'Fit as Nikes should', 'content': 'Great shoes', 'date': '13 Feb 2020', 'variant': 'Size: 10 Color: White/Metallic Silver/Dark Grey', 'images': None, 'verified': 'Yes', 'author': 'Scott Stevenson', 'rating': '5.0', 'product': \"Nike Women's Reax Run 5 Running Shoes\", 'url': 'https://www.amazon.com/Nike-Womens-Reax-Running-Shoes/product-reviews/B07ZPL752N/ref=cm_cr_getr_d_paging_btm_next_15?ie=UTF8&reviewerType=all_reviews&pageNumber=15&sortBy=recent\\n'}\n",
      "{'title': 'Nike sneakrers', 'content': 'A bit heavy and high in the heel part but nice looking', 'date': '15 Oct 2018', 'variant': 'Size: 8.5 Color: White/Metallic Silver/Dark Grey', 'images': None, 'verified': 'Yes', 'author': 'Amazon Customer', 'rating': '4.0', 'product': \"Nike Women's Reax Run 5 Running Shoes\", 'url': 'https://www.amazon.com/Nike-Womens-Reax-Running-Shoes/product-reviews/B07ZPL752N/ref=cm_cr_getr_d_paging_btm_next_15?ie=UTF8&reviewerType=all_reviews&pageNumber=15&sortBy=recent\\n'}\n",
      "{'title': 'Love them, well made and have support for running', 'content': 'Super comfortable', 'date': '02 Apr 2020', 'variant': 'Size: 7 Color: Black/White/Mtlc Cool Grey', 'images': None, 'verified': 'Yes', 'author': 'Shopper', 'rating': '5.0', 'product': \"Nike Women's Reax Run 5 Running Shoes\", 'url': 'https://www.amazon.com/Nike-Womens-Reax-Running-Shoes/product-reviews/B07ZPL752N/ref=cm_cr_getr_d_paging_btm_next_15?ie=UTF8&reviewerType=all_reviews&pageNumber=15&sortBy=recent\\n'}\n",
      "{'title': 'Nice purchase', 'content': 'Little and comfortable', 'date': '17 Feb 2020', 'variant': 'Size: 9.5 Color: White/Metallic Silver/Dark Grey', 'images': None, 'verified': 'Yes', 'author': 'Nelly', 'rating': '4.0', 'product': \"Nike Women's Reax Run 5 Running Shoes\", 'url': 'https://www.amazon.com/Nike-Womens-Reax-Running-Shoes/product-reviews/B07ZPL752N/ref=cm_cr_getr_d_paging_btm_next_15?ie=UTF8&reviewerType=all_reviews&pageNumber=15&sortBy=recent\\n'}\n",
      "{'title': 'Bueno', 'content': 'Muy lindos', 'date': '15 Jan 2020', 'variant': 'Size: 7.5 Color: White/Metallic Silver/Dark Grey', 'images': None, 'verified': 'Yes', 'author': 'Lissette Cano', 'rating': '5.0', 'product': \"Nike Women's Reax Run 5 Running Shoes\", 'url': 'https://www.amazon.com/Nike-Womens-Reax-Running-Shoes/product-reviews/B07ZPL752N/ref=cm_cr_getr_d_paging_btm_next_15?ie=UTF8&reviewerType=all_reviews&pageNumber=15&sortBy=recent\\n'}\n",
      "{'title': 'Good shoe , just not true to size', 'content': 'Very big ,Took advice about the reviews ordered bigger size ,should have not was way too big', 'date': '14 Jun 2019', 'variant': 'Size: 8 Color: White/Metallic Silver/Dark Grey', 'images': None, 'verified': 'Yes', 'author': 'Brenda', 'rating': '3.0', 'product': \"Nike Women's Reax Run 5 Running Shoes\", 'url': 'https://www.amazon.com/Nike-Womens-Reax-Running-Shoes/product-reviews/B07ZPL752N/ref=cm_cr_getr_d_paging_btm_next_15?ie=UTF8&reviewerType=all_reviews&pageNumber=15&sortBy=recent\\n'}\n"
     ]
    },
    {
     "name": "stdout",
     "output_type": "stream",
     "text": [
      "{'title': 'Perfect!', 'content': 'Such a comfy shoe for running! I love it! And it came early, thank you!', 'date': '24 Apr 2020', 'variant': 'Size: 8 Color: White/Metallic Silver/Dark Grey', 'images': None, 'verified': 'Yes', 'author': 'Sabrina Lincicome', 'rating': '5.0', 'product': \"Nike Women's Reax Run 5 Running Shoes\", 'url': 'https://www.amazon.com/Nike-Womens-Reax-Running-Shoes/product-reviews/B07ZPL752N/ref=cm_cr_getr_d_paging_btm_next_16?ie=UTF8&reviewerType=all_reviews&pageNumber=16&sortBy=recent\\n'}\n",
      "{'title': 'Great sneakers', 'content': 'Good looking sneaker very vomfortable', 'date': '26 Jul 2019', 'variant': 'Size: 6 Color: White/Metallic Silver/Dark Grey', 'images': None, 'verified': 'Yes', 'author': 'Karen P Hoven', 'rating': '5.0', 'product': \"Nike Women's Reax Run 5 Running Shoes\", 'url': 'https://www.amazon.com/Nike-Womens-Reax-Running-Shoes/product-reviews/B07ZPL752N/ref=cm_cr_getr_d_paging_btm_next_16?ie=UTF8&reviewerType=all_reviews&pageNumber=16&sortBy=recent\\n'}\n",
      "{'title': 'Very happy with my buy', 'content': 'I bought these for my lady and it was a very pleasurable surprise. She thanked me and I thank you for these being official Nike sneakers.', 'date': '26 Oct 2018', 'variant': 'Size: 9 Color: White/Metallic Silver/Dark Grey', 'images': None, 'verified': 'Yes', 'author': 'Jason Landrum', 'rating': '5.0', 'product': \"Nike Women's Reax Run 5 Running Shoes\", 'url': 'https://www.amazon.com/Nike-Womens-Reax-Running-Shoes/product-reviews/B07ZPL752N/ref=cm_cr_getr_d_paging_btm_next_16?ie=UTF8&reviewerType=all_reviews&pageNumber=16&sortBy=recent\\n'}\n",
      "{'title': 'Excellent', 'content': 'Excellent', 'date': '30 Apr 2020', 'variant': 'Size: 7.5 Color: Black/White/Mtlc Cool Grey', 'images': None, 'verified': 'Yes', 'author': 'Jamie pelkey', 'rating': '5.0', 'product': \"Nike Women's Reax Run 5 Running Shoes\", 'url': 'https://www.amazon.com/Nike-Womens-Reax-Running-Shoes/product-reviews/B07ZPL752N/ref=cm_cr_getr_d_paging_btm_next_16?ie=UTF8&reviewerType=all_reviews&pageNumber=16&sortBy=recent\\n'}\n",
      "{'title': 'Fits nicely, comfort and support for fast walking', 'content': 'I prefer it as a fast walking shoe. Nice comfort and support. Good durability', 'date': '15 Jan 2020', 'variant': 'Size: 8 Color: White/Metallic Silver/Dark Grey', 'images': None, 'verified': 'Yes', 'author': 'Nicole Frank', 'rating': '5.0', 'product': \"Nike Women's Reax Run 5 Running Shoes\", 'url': 'https://www.amazon.com/Nike-Womens-Reax-Running-Shoes/product-reviews/B07ZPL752N/ref=cm_cr_getr_d_paging_btm_next_16?ie=UTF8&reviewerType=all_reviews&pageNumber=16&sortBy=recent\\n'}\n",
      "{'title': 'Good foe back problems', 'content': 'I love these sneakers. They are great foe my backz', 'date': '16 Sep 2019', 'variant': 'Size: 10 Color: White/Metallic Silver/Dark Grey', 'images': None, 'verified': 'Yes', 'author': 'Cheryl Bowden', 'rating': '5.0', 'product': \"Nike Women's Reax Run 5 Running Shoes\", 'url': 'https://www.amazon.com/Nike-Womens-Reax-Running-Shoes/product-reviews/B07ZPL752N/ref=cm_cr_getr_d_paging_btm_next_16?ie=UTF8&reviewerType=all_reviews&pageNumber=16&sortBy=recent\\n'}\n",
      "{'title': 'Great NIKE RELAX SHOE', 'content': 'Comfy!!!! True to size nice colors nice arch support Glad I ordered mine', 'date': '02 Mar 2020', 'variant': 'Size: 10 Color: White/Metallic Silver/Dark Grey', 'images': None, 'verified': 'Yes', 'author': 'Lisa M Smith', 'rating': '5.0', 'product': \"Nike Women's Reax Run 5 Running Shoes\", 'url': 'https://www.amazon.com/Nike-Womens-Reax-Running-Shoes/product-reviews/B07ZPL752N/ref=cm_cr_getr_d_paging_btm_next_16?ie=UTF8&reviewerType=all_reviews&pageNumber=16&sortBy=recent\\n'}\n",
      "{'title': 'Make you know your size.', 'content': 'Nice and comfy.', 'date': '10 Jan 2020', 'variant': 'Size: 9.5 Color: White/Metallic Silver/Dark Grey', 'images': None, 'verified': 'Yes', 'author': 'Nancy Morales', 'rating': '4.0', 'product': \"Nike Women's Reax Run 5 Running Shoes\", 'url': 'https://www.amazon.com/Nike-Womens-Reax-Running-Shoes/product-reviews/B07ZPL752N/ref=cm_cr_getr_d_paging_btm_next_16?ie=UTF8&reviewerType=all_reviews&pageNumber=16&sortBy=recent\\n'}\n",
      "{'title': 'Love them!!!', 'content': 'Very comfortable love them', 'date': '08 Apr 2020', 'variant': 'Size: 8 Color: White/Metallic Silver/Dark Grey', 'images': None, 'verified': 'Yes', 'author': 'Benzy', 'rating': '5.0', 'product': \"Nike Women's Reax Run 5 Running Shoes\", 'url': 'https://www.amazon.com/Nike-Womens-Reax-Running-Shoes/product-reviews/B07ZPL752N/ref=cm_cr_getr_d_paging_btm_next_16?ie=UTF8&reviewerType=all_reviews&pageNumber=16&sortBy=recent\\n'}\n",
      "{'title': 'Very comfortable, size perfect and a great walking/exercising sneaker.', 'content': 'I walk 5-6 miles everyday and the Nike MaxAir and the Reax are just perfect. A little wider toe area makes them soo comfortable. I’m sold on them.', 'date': '19 Dec 2019', 'variant': 'Size: 9 Color: White/Metallic Silver/Dark Grey', 'images': None, 'verified': 'Yes', 'author': 'Tante', 'rating': '5.0', 'product': \"Nike Women's Reax Run 5 Running Shoes\", 'url': 'https://www.amazon.com/Nike-Womens-Reax-Running-Shoes/product-reviews/B07ZPL752N/ref=cm_cr_getr_d_paging_btm_next_16?ie=UTF8&reviewerType=all_reviews&pageNumber=16&sortBy=recent\\n'}\n",
      "{'title': 'Happy', 'content': 'True to size. nice shoes. pretty comfortable, takes some wearing in though.', 'date': '02 Jul 2019', 'variant': 'Size: 8 Color: White/Metallic Silver/Dark Grey', 'images': None, 'verified': 'Yes', 'author': 'Morgan Gail Machnik', 'rating': '5.0', 'product': \"Nike Women's Reax Run 5 Running Shoes\", 'url': 'https://www.amazon.com/Nike-Womens-Reax-Running-Shoes/product-reviews/B07ZPL752N/ref=cm_cr_getr_d_paging_btm_next_17?ie=UTF8&reviewerType=all_reviews&pageNumber=17&sortBy=recent\\n'}\n",
      "{'title': 'Good', 'content': 'The heel looks like knock off nike', 'date': '19 Dec 2019', 'variant': 'Size: 6.5 Color: White/Metallic Silver/Dark Grey', 'images': None, 'verified': 'Yes', 'author': 'Amazon Customer', 'rating': '5.0', 'product': \"Nike Women's Reax Run 5 Running Shoes\", 'url': 'https://www.amazon.com/Nike-Womens-Reax-Running-Shoes/product-reviews/B07ZPL752N/ref=cm_cr_getr_d_paging_btm_next_17?ie=UTF8&reviewerType=all_reviews&pageNumber=17&sortBy=recent\\n'}\n",
      "{'title': 'Nice', 'content': 'Design', 'date': '09 Oct 2019', 'variant': 'Size: 9 Color: White/Metallic Silver/Dark Grey', 'images': None, 'verified': 'Yes', 'author': 'Evelyn Marie randles', 'rating': '5.0', 'product': \"Nike Women's Reax Run 5 Running Shoes\", 'url': 'https://www.amazon.com/Nike-Womens-Reax-Running-Shoes/product-reviews/B07ZPL752N/ref=cm_cr_getr_d_paging_btm_next_17?ie=UTF8&reviewerType=all_reviews&pageNumber=17&sortBy=recent\\n'}\n",
      "{'title': 'Extremely comfortable', 'content': 'I’m usually a size 8 and had to get a 7', 'date': '12 Jun 2019', 'variant': 'Size: 8 Color: White/Metallic Silver/Dark Grey', 'images': None, 'verified': 'Yes', 'author': 'MTaylor', 'rating': '4.0', 'product': \"Nike Women's Reax Run 5 Running Shoes\", 'url': 'https://www.amazon.com/Nike-Womens-Reax-Running-Shoes/product-reviews/B07ZPL752N/ref=cm_cr_getr_d_paging_btm_next_17?ie=UTF8&reviewerType=all_reviews&pageNumber=17&sortBy=recent\\n'}\n",
      "{'title': 'Very nice looking', 'content': 'You have to break them in', 'date': '16 Feb 2020', 'variant': 'Size: 7 Color: White/Metallic Silver/Dark Grey', 'images': None, 'verified': 'Yes', 'author': 'Timothy allen', 'rating': '5.0', 'product': \"Nike Women's Reax Run 5 Running Shoes\", 'url': 'https://www.amazon.com/Nike-Womens-Reax-Running-Shoes/product-reviews/B07ZPL752N/ref=cm_cr_getr_d_paging_btm_next_17?ie=UTF8&reviewerType=all_reviews&pageNumber=17&sortBy=recent\\n'}\n",
      "{'title': 'Bomb.com', 'content': 'They look good. They are super comfortable to wear all day on my feet. I could still kick you in the face if I had too.', 'date': '07 May 2020', 'variant': 'Size: 8.5 Color: White/Metallic Silver/Dark Grey', 'images': None, 'verified': 'Yes', 'author': 'julia munson', 'rating': '5.0', 'product': \"Nike Women's Reax Run 5 Running Shoes\", 'url': 'https://www.amazon.com/Nike-Womens-Reax-Running-Shoes/product-reviews/B07ZPL752N/ref=cm_cr_getr_d_paging_btm_next_17?ie=UTF8&reviewerType=all_reviews&pageNumber=17&sortBy=recent\\n'}\n",
      "{'title': 'Good shoes for work.', 'content': 'Cushiony!', 'date': '14 Aug 2019', 'variant': 'Size: 8.5 Color: White/Metallic Silver/Dark Grey', 'images': None, 'verified': 'Yes', 'author': 'Alley Al', 'rating': '5.0', 'product': \"Nike Women's Reax Run 5 Running Shoes\", 'url': 'https://www.amazon.com/Nike-Womens-Reax-Running-Shoes/product-reviews/B07ZPL752N/ref=cm_cr_getr_d_paging_btm_next_17?ie=UTF8&reviewerType=all_reviews&pageNumber=17&sortBy=recent\\n'}\n",
      "{'title': 'enjoying my shoes', 'content': 'love hpw they look', 'date': '17 Oct 2019', 'variant': 'Size: 7.5 Color: White/Metallic Silver/Dark Grey', 'images': None, 'verified': 'Yes', 'author': 'ana', 'rating': '5.0', 'product': \"Nike Women's Reax Run 5 Running Shoes\", 'url': 'https://www.amazon.com/Nike-Womens-Reax-Running-Shoes/product-reviews/B07ZPL752N/ref=cm_cr_getr_d_paging_btm_next_17?ie=UTF8&reviewerType=all_reviews&pageNumber=17&sortBy=recent\\n'}\n",
      "{'title': 'Shoe looks wide', 'content': 'Like the color.', 'date': '25 Jun 2019', 'variant': 'Size: 9 Color: White/Metallic Silver/Dark Grey', 'images': None, 'verified': 'Yes', 'author': 'JW', 'rating': '3.0', 'product': \"Nike Women's Reax Run 5 Running Shoes\", 'url': 'https://www.amazon.com/Nike-Womens-Reax-Running-Shoes/product-reviews/B07ZPL752N/ref=cm_cr_getr_d_paging_btm_next_17?ie=UTF8&reviewerType=all_reviews&pageNumber=17&sortBy=recent\\n'}\n",
      "{'title': 'Superb running shoe!', 'content': \"Received in a timely manner from the seller.  I was afraid that nothing could replace my old Shox, but I'm glad I waited and took a chance on these.  They are great.\", 'date': '26 Jul 2017', 'variant': 'Size: 8 Color: White/Metallic Silver/Dark Grey', 'images': None, 'verified': 'Yes', 'author': 'J4ssss', 'rating': '5.0', 'product': \"Nike Women's Reax Run 5 Running Shoes\", 'url': 'https://www.amazon.com/Nike-Womens-Reax-Running-Shoes/product-reviews/B07ZPL752N/ref=cm_cr_getr_d_paging_btm_next_17?ie=UTF8&reviewerType=all_reviews&pageNumber=17&sortBy=recent\\n'}\n"
     ]
    },
    {
     "name": "stdout",
     "output_type": "stream",
     "text": [
      "{'title': 'Love it', 'content': 'Love these shoes, super comfy when ur on ur feet so much and doing a lot wo walking ... fast shipping.', 'date': '24 Feb 2020', 'variant': 'Size: 9.5 Color: Black/White/Mtlc Cool Grey', 'images': None, 'verified': 'Yes', 'author': 'Melissa Stumpf', 'rating': '4.0', 'product': \"Nike Women's Reax Run 5 Running Shoes\", 'url': 'https://www.amazon.com/Nike-Womens-Reax-Running-Shoes/product-reviews/B07ZPL752N/ref=cm_cr_getr_d_paging_btm_next_18?ie=UTF8&reviewerType=all_reviews&pageNumber=18&sortBy=recent\\n'}\n",
      "{'title': 'Very comfortable!', 'content': 'I needed the support in this shoe for my back', 'date': '30 Apr 2020', 'variant': 'Size: 8 Color: White/Metallic Silver/Dark Grey', 'images': None, 'verified': 'Yes', 'author': 'Carol Fonseca', 'rating': '5.0', 'product': \"Nike Women's Reax Run 5 Running Shoes\", 'url': 'https://www.amazon.com/Nike-Womens-Reax-Running-Shoes/product-reviews/B07ZPL752N/ref=cm_cr_getr_d_paging_btm_next_18?ie=UTF8&reviewerType=all_reviews&pageNumber=18&sortBy=recent\\n'}\n",
      "{'title': 'Bulky', 'content': \"Bought these shoes to run in but they are too bulky. I don't like them\", 'date': '05 Jul 2019', 'variant': 'Size: 9 Color: White/Metallic Silver/Dark Grey', 'images': None, 'verified': 'Yes', 'author': 'Nicole Butler', 'rating': '2.0', 'product': \"Nike Women's Reax Run 5 Running Shoes\", 'url': 'https://www.amazon.com/Nike-Womens-Reax-Running-Shoes/product-reviews/B07ZPL752N/ref=cm_cr_getr_d_paging_btm_next_18?ie=UTF8&reviewerType=all_reviews&pageNumber=18&sortBy=recent\\n'}\n",
      "{'title': 'Comfortable enough to wear all day!', 'content': 'I work 10 hour shifts most of it on my feet. Shoes are comfortable all day. I have wide feet and usually wear Danskos, but needed a flatter shoe because my hips were hurting. These work perfect!', 'date': '18 Jan 2020', 'variant': 'Size: 8 Color: White/Metallic Silver/Dark Grey', 'images': None, 'verified': 'Yes', 'author': 'Amazon Customer', 'rating': '5.0', 'product': \"Nike Women's Reax Run 5 Running Shoes\", 'url': 'https://www.amazon.com/Nike-Womens-Reax-Running-Shoes/product-reviews/B07ZPL752N/ref=cm_cr_getr_d_paging_btm_next_18?ie=UTF8&reviewerType=all_reviews&pageNumber=18&sortBy=recent\\n'}\n",
      "{'title': 'My Favorite Shoes', 'content': 'Great shoes, fit great, and look awesome on.', 'date': '14 Apr 2020', 'variant': 'Size: 9 Color: White/Metallic Silver/Dark Grey', 'images': None, 'verified': 'Yes', 'author': 'Amazon Customer', 'rating': '5.0', 'product': \"Nike Women's Reax Run 5 Running Shoes\", 'url': 'https://www.amazon.com/Nike-Womens-Reax-Running-Shoes/product-reviews/B07ZPL752N/ref=cm_cr_getr_d_paging_btm_next_18?ie=UTF8&reviewerType=all_reviews&pageNumber=18&sortBy=recent\\n'}\n",
      "{'title': 'Nice', 'content': 'Great shoe!! She loves them', 'date': '31 May 2019', 'variant': 'Size: 7.5 Color: White/Metallic Silver/Dark Grey', 'images': None, 'verified': 'Yes', 'author': 'rodney walker', 'rating': '5.0', 'product': \"Nike Women's Reax Run 5 Running Shoes\", 'url': 'https://www.amazon.com/Nike-Womens-Reax-Running-Shoes/product-reviews/B07ZPL752N/ref=cm_cr_getr_d_paging_btm_next_18?ie=UTF8&reviewerType=all_reviews&pageNumber=18&sortBy=recent\\n'}\n",
      "{'title': 'Great shoes', 'content': 'Comfy shoes, I wear on a concrete floor all day and never have pain or soreness in my feet.', 'date': '05 May 2019', 'variant': 'Size: 8.5 Color: White/Metallic Silver/Dark Grey', 'images': None, 'verified': 'Yes', 'author': 'Amazon Customer', 'rating': '5.0', 'product': \"Nike Women's Reax Run 5 Running Shoes\", 'url': 'https://www.amazon.com/Nike-Womens-Reax-Running-Shoes/product-reviews/B07ZPL752N/ref=cm_cr_getr_d_paging_btm_next_18?ie=UTF8&reviewerType=all_reviews&pageNumber=18&sortBy=recent\\n'}\n",
      "{'title': 'Cute color...larger than expected.', 'content': 'I really liked the color. Having large feet sometimes it’s hard to find feminine style sneakers.  These where more of a 13 than a 12. Had to return.', 'date': '24 Apr 2020', 'variant': 'Size: 12 Color: White/Metallic Silver/Dark Grey', 'images': None, 'verified': 'Yes', 'author': 'Gigi', 'rating': '3.0', 'product': \"Nike Women's Reax Run 5 Running Shoes\", 'url': 'https://www.amazon.com/Nike-Womens-Reax-Running-Shoes/product-reviews/B07ZPL752N/ref=cm_cr_getr_d_paging_btm_next_18?ie=UTF8&reviewerType=all_reviews&pageNumber=18&sortBy=recent\\n'}\n",
      "{'title': 'Cute shoes', 'content': 'Stylish and comfortable.', 'date': '19 May 2019', 'variant': 'Size: 9 Color: White/Metallic Silver/Dark Grey', 'images': None, 'verified': 'Yes', 'author': 'Andrews', 'rating': '5.0', 'product': \"Nike Women's Reax Run 5 Running Shoes\", 'url': 'https://www.amazon.com/Nike-Womens-Reax-Running-Shoes/product-reviews/B07ZPL752N/ref=cm_cr_getr_d_paging_btm_next_18?ie=UTF8&reviewerType=all_reviews&pageNumber=18&sortBy=recent\\n'}\n",
      "{'title': 'Totally disappointed', 'content': 'These were the most uncomfortable pair of shoes I ever bought.', 'date': '05 May 2019', 'variant': 'Size: 6 Color: White/Metallic Silver/Dark Grey', 'images': None, 'verified': 'Yes', 'author': 'lakid', 'rating': '1.0', 'product': \"Nike Women's Reax Run 5 Running Shoes\", 'url': 'https://www.amazon.com/Nike-Womens-Reax-Running-Shoes/product-reviews/B07ZPL752N/ref=cm_cr_getr_d_paging_btm_next_18?ie=UTF8&reviewerType=all_reviews&pageNumber=18&sortBy=recent\\n'}\n",
      "{'title': 'Perfect', 'content': 'Perfect! Love these for running!', 'date': '17 Apr 2019', 'variant': 'Size: 9 Color: White/Metallic Silver/Dark Grey', 'images': None, 'verified': 'Yes', 'author': 'Amazon Customer', 'rating': '5.0', 'product': \"Nike Women's Reax Run 5 Running Shoes\", 'url': 'https://www.amazon.com/Nike-Womens-Reax-Running-Shoes/product-reviews/B07ZPL752N/ref=cm_cr_getr_d_paging_btm_next_19?ie=UTF8&reviewerType=all_reviews&pageNumber=19&sortBy=recent\\n'}\n",
      "{'title': 'Igual q en la pagina', 'content': 'Me encantaron', 'date': '29 Oct 2019', 'variant': 'Size: 8.5 Color: White/Metallic Silver/Dark Grey', 'images': None, 'verified': 'Yes', 'author': 'Mercedes', 'rating': '1.0', 'product': \"Nike Women's Reax Run 5 Running Shoes\", 'url': 'https://www.amazon.com/Nike-Womens-Reax-Running-Shoes/product-reviews/B07ZPL752N/ref=cm_cr_getr_d_paging_btm_next_19?ie=UTF8&reviewerType=all_reviews&pageNumber=19&sortBy=recent\\n'}\n",
      "{'title': 'Excellent', 'content': 'She loves them', 'date': '06 Jan 2020', 'variant': 'Size: 6.5 Color: White/Metallic Silver/Dark Grey', 'images': None, 'verified': 'Yes', 'author': 'Steven Swinson', 'rating': '5.0', 'product': \"Nike Women's Reax Run 5 Running Shoes\", 'url': 'https://www.amazon.com/Nike-Womens-Reax-Running-Shoes/product-reviews/B07ZPL752N/ref=cm_cr_getr_d_paging_btm_next_19?ie=UTF8&reviewerType=all_reviews&pageNumber=19&sortBy=recent\\n'}\n",
      "{'title': 'Love the STYLE and fit.', 'content': 'They fit great, love the style, and the color.', 'date': '21 Oct 2018', 'variant': 'Size: 10 Color: White/Metallic Silver/Dark Grey', 'images': None, 'verified': 'Yes', 'author': 'dale', 'rating': '5.0', 'product': \"Nike Women's Reax Run 5 Running Shoes\", 'url': 'https://www.amazon.com/Nike-Womens-Reax-Running-Shoes/product-reviews/B07ZPL752N/ref=cm_cr_getr_d_paging_btm_next_19?ie=UTF8&reviewerType=all_reviews&pageNumber=19&sortBy=recent\\n'}\n",
      "{'title': 'Not a good look', 'content': 'I did not like how bulky and wide the shoe looked on my foot.  It was a return.', 'date': '08 Nov 2019', 'variant': 'Size: 8.5 Color: White/Metallic Silver/Dark Grey', 'images': None, 'verified': 'Yes', 'author': 'Dawn James', 'rating': '2.0', 'product': \"Nike Women's Reax Run 5 Running Shoes\", 'url': 'https://www.amazon.com/Nike-Womens-Reax-Running-Shoes/product-reviews/B07ZPL752N/ref=cm_cr_getr_d_paging_btm_next_19?ie=UTF8&reviewerType=all_reviews&pageNumber=19&sortBy=recent\\n'}\n",
      "{'title': 'Love my shoe', 'content': 'I was skeptical about buying this sneaker because I never really wear sneakers but this one is so nice comfortable and I love the colors I give 5 thumbs up', 'date': '17 Apr 2020', 'variant': 'Size: 7 Color: White/Metallic Silver/Dark Grey', 'images': None, 'verified': 'Yes', 'author': 'Lisa Brooks,losses', 'rating': '5.0', 'product': \"Nike Women's Reax Run 5 Running Shoes\", 'url': 'https://www.amazon.com/Nike-Womens-Reax-Running-Shoes/product-reviews/B07ZPL752N/ref=cm_cr_getr_d_paging_btm_next_19?ie=UTF8&reviewerType=all_reviews&pageNumber=19&sortBy=recent\\n'}\n",
      "{'title': 'Comfortable, but glad I went up 1/2 size', 'content': \"I'm glad I read other's reviews about these shoes before I bought them. I normally wear a 6 1/2 to 7 but I read they run small. So, I purchased 7 1/2. So glad I did! These shoes are really comfortable with the larger size.\", 'date': '29 Jan 2020', 'variant': 'Size: 7.5 Color: White/Metallic Silver/Dark Grey', 'images': None, 'verified': 'Yes', 'author': 'P Wilkins', 'rating': '5.0', 'product': \"Nike Women's Reax Run 5 Running Shoes\", 'url': 'https://www.amazon.com/Nike-Womens-Reax-Running-Shoes/product-reviews/B07ZPL752N/ref=cm_cr_getr_d_paging_btm_next_19?ie=UTF8&reviewerType=all_reviews&pageNumber=19&sortBy=recent\\n'}\n",
      "{'title': 'Very nice', 'content': 'Love them', 'date': '08 Oct 2018', 'variant': 'Size: 7.5 Color: White/Metallic Silver/Dark Grey', 'images': None, 'verified': 'Yes', 'author': 'Kiyo13', 'rating': '5.0', 'product': \"Nike Women's Reax Run 5 Running Shoes\", 'url': 'https://www.amazon.com/Nike-Womens-Reax-Running-Shoes/product-reviews/B07ZPL752N/ref=cm_cr_getr_d_paging_btm_next_19?ie=UTF8&reviewerType=all_reviews&pageNumber=19&sortBy=recent\\n'}\n",
      "{'title': 'Don’t buy if you have if you want comfort', 'content': 'I am 51, I have always bought Nike shoes because they have always fit my feet perfectly. Until I bought these shoes, the pair I bought are the most uncomfortable shoes I have ever purchased,', 'date': '07 Feb 2020', 'variant': 'Size: 7.5 Color: White/Metallic Silver/Dark Grey', 'images': None, 'verified': 'Yes', 'author': 'Kat', 'rating': '1.0', 'product': \"Nike Women's Reax Run 5 Running Shoes\", 'url': 'https://www.amazon.com/Nike-Womens-Reax-Running-Shoes/product-reviews/B07ZPL752N/ref=cm_cr_getr_d_paging_btm_next_19?ie=UTF8&reviewerType=all_reviews&pageNumber=19&sortBy=recent\\n'}\n",
      "{'title': 'Beautiful shoe!', 'content': 'Beautiful looking smell!', 'date': '21 Mar 2019', 'variant': 'Size: 9 Color: White/Metallic Silver/Dark Grey', 'images': None, 'verified': 'Yes', 'author': 'Amazon Customer', 'rating': '5.0', 'product': \"Nike Women's Reax Run 5 Running Shoes\", 'url': 'https://www.amazon.com/Nike-Womens-Reax-Running-Shoes/product-reviews/B07ZPL752N/ref=cm_cr_getr_d_paging_btm_next_19?ie=UTF8&reviewerType=all_reviews&pageNumber=19&sortBy=recent\\n'}\n"
     ]
    },
    {
     "name": "stdout",
     "output_type": "stream",
     "text": [
      "{'title': 'Very good!', 'content': 'Excelent!', 'date': '21 Dec 2019', 'variant': 'Size: 7 Color: White/Metallic Silver/Dark Grey', 'images': None, 'verified': 'Yes', 'author': 'Juan R.', 'rating': '5.0', 'product': \"Nike Women's Reax Run 5 Running Shoes\", 'url': 'https://www.amazon.com/Nike-Womens-Reax-Running-Shoes/product-reviews/B07ZPL752N/ref=cm_cr_getr_d_paging_btm_next_20?ie=UTF8&reviewerType=all_reviews&pageNumber=20&sortBy=recent\\n'}\n",
      "{'title': 'Very disappointed', 'content': 'NEVER had a problem with sneakers before until now....so when I finally tried them on, it was too late to return! Not a happy camper.', 'date': '08 Oct 2019', 'variant': 'Size: 8 Color: White/Metallic Silver/Dark Grey', 'images': None, 'verified': 'Yes', 'author': 'Terry P', 'rating': '1.0', 'product': \"Nike Women's Reax Run 5 Running Shoes\", 'url': 'https://www.amazon.com/Nike-Womens-Reax-Running-Shoes/product-reviews/B07ZPL752N/ref=cm_cr_getr_d_paging_btm_next_20?ie=UTF8&reviewerType=all_reviews&pageNumber=20&sortBy=recent\\n'}\n",
      "{'title': 'Very nice', 'content': 'Love them', 'date': '29 Oct 2018', 'variant': 'Size: 8.5 Color: White/Metallic Silver/Dark Grey', 'images': None, 'verified': 'Yes', 'author': 'Neal Mescher', 'rating': '5.0', 'product': \"Nike Women's Reax Run 5 Running Shoes\", 'url': 'https://www.amazon.com/Nike-Womens-Reax-Running-Shoes/product-reviews/B07ZPL752N/ref=cm_cr_getr_d_paging_btm_next_20?ie=UTF8&reviewerType=all_reviews&pageNumber=20&sortBy=recent\\n'}\n",
      "{'title': 'sweet heart is happy', 'content': 'Liked the quality but I dislike Nikes political statements', 'date': '30 Jul 2019', 'variant': 'Size: 8.5 Color: Black/White/Mtlc Cool Grey', 'images': None, 'verified': 'Yes', 'author': 'James Foster', 'rating': '5.0', 'product': \"Nike Women's Reax Run 5 Running Shoes\", 'url': 'https://www.amazon.com/Nike-Womens-Reax-Running-Shoes/product-reviews/B07ZPL752N/ref=cm_cr_getr_d_paging_btm_next_20?ie=UTF8&reviewerType=all_reviews&pageNumber=20&sortBy=recent\\n'}\n",
      "{'title': 'Nike', 'content': 'Nice shoes', 'date': '05 Aug 2019', 'variant': 'Size: 9 Color: White/Metallic Silver/Dark Grey', 'images': None, 'verified': 'Yes', 'author': 'darrien williams', 'rating': '5.0', 'product': \"Nike Women's Reax Run 5 Running Shoes\", 'url': 'https://www.amazon.com/Nike-Womens-Reax-Running-Shoes/product-reviews/B07ZPL752N/ref=cm_cr_getr_d_paging_btm_next_20?ie=UTF8&reviewerType=all_reviews&pageNumber=20&sortBy=recent\\n'}\n",
      "{'title': 'Very Comfortable', 'content': 'Stylish, tru-to-fit, would definitely buy again...', 'date': '18 Aug 2019', 'variant': 'Size: 6 Color: White/Metallic Silver/Dark Grey', 'images': None, 'verified': 'Yes', 'author': 'Mrs. C', 'rating': '5.0', 'product': \"Nike Women's Reax Run 5 Running Shoes\", 'url': 'https://www.amazon.com/Nike-Womens-Reax-Running-Shoes/product-reviews/B07ZPL752N/ref=cm_cr_getr_d_paging_btm_next_20?ie=UTF8&reviewerType=all_reviews&pageNumber=20&sortBy=recent\\n'}\n",
      "{'title': 'Perfect fit', 'content': 'Love um perfect fit', 'date': '20 Feb 2020', 'variant': 'Size: 9 Color: White/Metallic Silver/Dark Grey', 'images': None, 'verified': 'Yes', 'author': 'debra  worzellaa', 'rating': '5.0', 'product': \"Nike Women's Reax Run 5 Running Shoes\", 'url': 'https://www.amazon.com/Nike-Womens-Reax-Running-Shoes/product-reviews/B07ZPL752N/ref=cm_cr_getr_d_paging_btm_next_20?ie=UTF8&reviewerType=all_reviews&pageNumber=20&sortBy=recent\\n'}\n",
      "{'title': 'Confortable and great support', 'content': 'Just right. I use it to work for more than 7 hours a day.', 'date': '10 Aug 2019', 'variant': 'Size: 6 Color: White/Metallic Silver/Dark Grey', 'images': None, 'verified': 'Yes', 'author': 'Amazon Customer', 'rating': '4.0', 'product': \"Nike Women's Reax Run 5 Running Shoes\", 'url': 'https://www.amazon.com/Nike-Womens-Reax-Running-Shoes/product-reviews/B07ZPL752N/ref=cm_cr_getr_d_paging_btm_next_20?ie=UTF8&reviewerType=all_reviews&pageNumber=20&sortBy=recent\\n'}\n",
      "{'title': 'Comfortable', 'content': 'Comfortable', 'date': '10 Jun 2019', 'variant': 'Size: 7 Color: White/Metallic Silver/Dark Grey', 'images': None, 'verified': 'Yes', 'author': 'Mrs T', 'rating': '5.0', 'product': \"Nike Women's Reax Run 5 Running Shoes\", 'url': 'https://www.amazon.com/Nike-Womens-Reax-Running-Shoes/product-reviews/B07ZPL752N/ref=cm_cr_getr_d_paging_btm_next_20?ie=UTF8&reviewerType=all_reviews&pageNumber=20&sortBy=recent\\n'}\n",
      "{'title': 'Order half a size bigger', 'content': \"They're extremely comfortable, but they're just about half a size smaller than I normally get. So I'd suggest to order them half a size bigger. And they had a stain on the inside of one of them.\", 'date': '09 Jan 2020', 'variant': 'Size: 9 Color: White/Metallic Silver/Dark Grey', 'images': None, 'verified': 'Yes', 'author': 'Brenda Mammenga', 'rating': '4.0', 'product': \"Nike Women's Reax Run 5 Running Shoes\", 'url': 'https://www.amazon.com/Nike-Womens-Reax-Running-Shoes/product-reviews/B07ZPL752N/ref=cm_cr_getr_d_paging_btm_next_20?ie=UTF8&reviewerType=all_reviews&pageNumber=20&sortBy=recent\\n'}\n",
      "{'title': 'They fit as they should', 'content': 'They look nice and feel great', 'date': '18 Feb 2020', 'variant': 'Size: 10 Color: White/Metallic Silver/Dark Grey', 'images': None, 'verified': 'Yes', 'author': 'Momma D', 'rating': '5.0', 'product': \"Nike Women's Reax Run 5 Running Shoes\", 'url': 'https://www.amazon.com/Nike-Womens-Reax-Running-Shoes/product-reviews/B07ZPL752N/ref=cm_cr_getr_d_paging_btm_next_21?ie=UTF8&reviewerType=all_reviews&pageNumber=21&sortBy=recent\\n'}\n",
      "{'title': 'Beautiful look!', 'content': 'Love the look! My only complaint is the ankle  cushion is stiff and rubs my ankles at certain angles. Otherwise, love them!', 'date': '15 Apr 2020', 'variant': 'Size: 9 Color: White/Metallic Silver/Dark Grey', 'images': None, 'verified': 'Yes', 'author': 'Noella Langston', 'rating': '4.0', 'product': \"Nike Women's Reax Run 5 Running Shoes\", 'url': 'https://www.amazon.com/Nike-Womens-Reax-Running-Shoes/product-reviews/B07ZPL752N/ref=cm_cr_getr_d_paging_btm_next_21?ie=UTF8&reviewerType=all_reviews&pageNumber=21&sortBy=recent\\n'}\n",
      "{'title': 'One Star', 'content': 'Great', 'date': '01 Sep 2018', 'variant': 'Size: 8.5 Color: White/Metallic Silver/Dark Grey', 'images': None, 'verified': 'Yes', 'author': 'Monica Appleby', 'rating': '1.0', 'product': \"Nike Women's Reax Run 5 Running Shoes\", 'url': 'https://www.amazon.com/Nike-Womens-Reax-Running-Shoes/product-reviews/B07ZPL752N/ref=cm_cr_getr_d_paging_btm_next_21?ie=UTF8&reviewerType=all_reviews&pageNumber=21&sortBy=recent\\n'}\n",
      "{'title': 'Q lo compre sin indagar mas', 'content': 'Muy caro,luego busque otras ofertas y mas barato 74.00', 'date': '04 Jan 2019', 'variant': 'Size: 7.5 Color: White/Metallic Silver/Dark Grey', 'images': None, 'verified': 'Yes', 'author': 'deblin Peralta', 'rating': '3.0', 'product': \"Nike Women's Reax Run 5 Running Shoes\", 'url': 'https://www.amazon.com/Nike-Womens-Reax-Running-Shoes/product-reviews/B07ZPL752N/ref=cm_cr_getr_d_paging_btm_next_21?ie=UTF8&reviewerType=all_reviews&pageNumber=21&sortBy=recent\\n'}\n",
      "{'title': 'Good quality', 'content': 'Cute shoes', 'date': '02 Feb 2019', 'variant': 'Size: 6.5 Color: White/Metallic Silver/Dark Grey', 'images': None, 'verified': 'Yes', 'author': 'Dawn', 'rating': '5.0', 'product': \"Nike Women's Reax Run 5 Running Shoes\", 'url': 'https://www.amazon.com/Nike-Womens-Reax-Running-Shoes/product-reviews/B07ZPL752N/ref=cm_cr_getr_d_paging_btm_next_21?ie=UTF8&reviewerType=all_reviews&pageNumber=21&sortBy=recent\\n'}\n",
      "{'title': 'Good', 'content': 'Like it', 'date': '13 May 2019', 'variant': 'Size: 7 Color: White/Metallic Silver/Dark Grey', 'images': None, 'verified': 'Yes', 'author': 'anamaria navarro', 'rating': '5.0', 'product': \"Nike Women's Reax Run 5 Running Shoes\", 'url': 'https://www.amazon.com/Nike-Womens-Reax-Running-Shoes/product-reviews/B07ZPL752N/ref=cm_cr_getr_d_paging_btm_next_21?ie=UTF8&reviewerType=all_reviews&pageNumber=21&sortBy=recent\\n'}\n",
      "{'title': 'Not for me', 'content': 'Hravy', 'date': '29 Dec 2019', 'variant': 'Size: 10 Color: White/Metallic Silver/Dark Grey', 'images': None, 'verified': 'Yes', 'author': 'Amazon Customer', 'rating': '1.0', 'product': \"Nike Women's Reax Run 5 Running Shoes\", 'url': 'https://www.amazon.com/Nike-Womens-Reax-Running-Shoes/product-reviews/B07ZPL752N/ref=cm_cr_getr_d_paging_btm_next_21?ie=UTF8&reviewerType=all_reviews&pageNumber=21&sortBy=recent\\n'}\n",
      "{'title': 'Not that happy', 'content': 'Very wide', 'date': '20 Jun 2019', 'variant': 'Size: 9.5 Color: White/Metallic Silver/Dark Grey', 'images': None, 'verified': 'Yes', 'author': 'Tina Clatterbuck', 'rating': '3.0', 'product': \"Nike Women's Reax Run 5 Running Shoes\", 'url': 'https://www.amazon.com/Nike-Womens-Reax-Running-Shoes/product-reviews/B07ZPL752N/ref=cm_cr_getr_d_paging_btm_next_21?ie=UTF8&reviewerType=all_reviews&pageNumber=21&sortBy=recent\\n'}\n",
      "{'title': 'Do not buy b', 'content': 'Horrible shoe doesn’t fit like a Nike shoe. Too stiff, wide and hard on sore. Throwing them out not even good for gardening.', 'date': '27 Apr 2019', 'variant': 'Size: 9 Color: White/Metallic Silver/Dark Grey', 'images': None, 'verified': 'Yes', 'author': 'Jennifer', 'rating': '1.0', 'product': \"Nike Women's Reax Run 5 Running Shoes\", 'url': 'https://www.amazon.com/Nike-Womens-Reax-Running-Shoes/product-reviews/B07ZPL752N/ref=cm_cr_getr_d_paging_btm_next_21?ie=UTF8&reviewerType=all_reviews&pageNumber=21&sortBy=recent\\n'}\n",
      "{'title': 'Good quality', 'content': 'I think maybe I could’ve got a extra wide 7 1/2 or eight regular', 'date': '07 May 2020', 'variant': 'Size: 7.5 Color: White/Metallic Silver/Dark Grey', 'images': None, 'verified': 'Yes', 'author': 'lilliean', 'rating': '5.0', 'product': \"Nike Women's Reax Run 5 Running Shoes\", 'url': 'https://www.amazon.com/Nike-Womens-Reax-Running-Shoes/product-reviews/B07ZPL752N/ref=cm_cr_getr_d_paging_btm_next_21?ie=UTF8&reviewerType=all_reviews&pageNumber=21&sortBy=recent\\n'}\n"
     ]
    },
    {
     "name": "stdout",
     "output_type": "stream",
     "text": [
      "{'title': 'Love these shoes!', 'content': 'Great purchase!', 'date': '25 Jun 2019', 'variant': 'Size: 8.5 Color: White/Metallic Silver/Dark Grey', 'images': None, 'verified': 'Yes', 'author': 'MCunningham', 'rating': '5.0', 'product': \"Nike Women's Reax Run 5 Running Shoes\", 'url': 'https://www.amazon.com/Nike-Womens-Reax-Running-Shoes/product-reviews/B07ZPL752N/ref=cm_cr_getr_d_paging_btm_next_22?ie=UTF8&reviewerType=all_reviews&pageNumber=22&sortBy=recent\\n'}\n",
      "{'title': 'Not for me', 'content': 'Not my style', 'date': '16 Feb 2019', 'variant': 'Size: 8 Color: White/Metallic Silver/Dark Grey', 'images': None, 'verified': 'Yes', 'author': 'isabel', 'rating': '4.0', 'product': \"Nike Women's Reax Run 5 Running Shoes\", 'url': 'https://www.amazon.com/Nike-Womens-Reax-Running-Shoes/product-reviews/B07ZPL752N/ref=cm_cr_getr_d_paging_btm_next_22?ie=UTF8&reviewerType=all_reviews&pageNumber=22&sortBy=recent\\n'}\n",
      "{'title': 'Don’t buy', 'content': 'Not worth it! If you want pain, buy these. After I week of attempting to break-in, my feet have blisters, they are in great pain. Sneakers in the garbage now.', 'date': '21 Sep 2019', 'variant': 'Size: 6 Color: White/Metallic Silver/Dark Grey', 'images': None, 'verified': 'Yes', 'author': 'Dina Andrianoasy', 'rating': '2.0', 'product': \"Nike Women's Reax Run 5 Running Shoes\", 'url': 'https://www.amazon.com/Nike-Womens-Reax-Running-Shoes/product-reviews/B07ZPL752N/ref=cm_cr_getr_d_paging_btm_next_22?ie=UTF8&reviewerType=all_reviews&pageNumber=22&sortBy=recent\\n'}\n",
      "{'title': 'Quality', 'content': 'Love them,comfy', 'date': '10 Aug 2019', 'variant': 'Size: 10 Color: White/Metallic Silver/Dark Grey', 'images': None, 'verified': 'Yes', 'author': 'Lisa C.', 'rating': '5.0', 'product': \"Nike Women's Reax Run 5 Running Shoes\", 'url': 'https://www.amazon.com/Nike-Womens-Reax-Running-Shoes/product-reviews/B07ZPL752N/ref=cm_cr_getr_d_paging_btm_next_22?ie=UTF8&reviewerType=all_reviews&pageNumber=22&sortBy=recent\\n'}\n",
      "{'title': 'Comfortable', 'content': 'Walking', 'date': '05 Oct 2019', 'variant': 'Size: 7 Color: White/Metallic Silver/Dark Grey', 'images': None, 'verified': 'Yes', 'author': 'karen pozenel', 'rating': '5.0', 'product': \"Nike Women's Reax Run 5 Running Shoes\", 'url': 'https://www.amazon.com/Nike-Womens-Reax-Running-Shoes/product-reviews/B07ZPL752N/ref=cm_cr_getr_d_paging_btm_next_22?ie=UTF8&reviewerType=all_reviews&pageNumber=22&sortBy=recent\\n'}\n",
      "{'title': 'Very comfortable', 'content': 'Love these!!! I am a Nurse and on my feet all day. Very comfortable!!! Wish they came in more colors, I would buy every color!', 'date': '18 Feb 2020', 'variant': 'Size: 10 Color: White/Metallic Silver/Dark Grey', 'images': None, 'verified': 'Yes', 'author': 'Amazon Customer', 'rating': '5.0', 'product': \"Nike Women's Reax Run 5 Running Shoes\", 'url': 'https://www.amazon.com/Nike-Womens-Reax-Running-Shoes/product-reviews/B07ZPL752N/ref=cm_cr_getr_d_paging_btm_next_22?ie=UTF8&reviewerType=all_reviews&pageNumber=22&sortBy=recent\\n'}\n",
      "{'title': 'Very supportive', 'content': 'Very supportive. Love them.  neat feet', 'date': '22 Oct 2019', 'variant': 'Size: 12 Color: White/Metallic Silver/Dark Grey', 'images': None, 'verified': 'Yes', 'author': 'Ralph Reid', 'rating': '5.0', 'product': \"Nike Women's Reax Run 5 Running Shoes\", 'url': 'https://www.amazon.com/Nike-Womens-Reax-Running-Shoes/product-reviews/B07ZPL752N/ref=cm_cr_getr_d_paging_btm_next_22?ie=UTF8&reviewerType=all_reviews&pageNumber=22&sortBy=recent\\n'}\n",
      "{'title': 'One shoe, not a pair', 'content': \"False advertising. It's 99.00 for ONE shoe not a pair. Don't be decieved\", 'date': '06 Mar 2019', 'variant': 'Size: 8.5 Color: White/Metallic Silver/Dark Grey', 'images': None, 'verified': 'Yes', 'author': 'Amazon Customer', 'rating': '1.0', 'product': \"Nike Women's Reax Run 5 Running Shoes\", 'url': 'https://www.amazon.com/Nike-Womens-Reax-Running-Shoes/product-reviews/B07ZPL752N/ref=cm_cr_getr_d_paging_btm_next_22?ie=UTF8&reviewerType=all_reviews&pageNumber=22&sortBy=recent\\n'}\n",
      "{'title': 'It is not a Nike Shox shoes as advertised!  I am VERY disappointed!', 'content': 'It looks crooked!  Nothing like the picture online.', 'date': '17 Oct 2019', 'variant': 'Size: 8.5 Color: White/Metallic Silver/Dark Grey', 'images': None, 'verified': 'Yes', 'author': 'Ruthann Osborne', 'rating': '1.0', 'product': \"Nike Women's Reax Run 5 Running Shoes\", 'url': 'https://www.amazon.com/Nike-Womens-Reax-Running-Shoes/product-reviews/B07ZPL752N/ref=cm_cr_getr_d_paging_btm_next_22?ie=UTF8&reviewerType=all_reviews&pageNumber=22&sortBy=recent\\n'}\n",
      "{'title': '👟', 'content': '👌', 'date': '29 Mar 2019', 'variant': 'Size: 8.5 Color: White/Metallic Silver/Dark Grey', 'images': None, 'verified': 'Yes', 'author': 'Britney', 'rating': '3.0', 'product': \"Nike Women's Reax Run 5 Running Shoes\", 'url': 'https://www.amazon.com/Nike-Womens-Reax-Running-Shoes/product-reviews/B07ZPL752N/ref=cm_cr_getr_d_paging_btm_next_22?ie=UTF8&reviewerType=all_reviews&pageNumber=22&sortBy=recent\\n'}\n",
      "{'title': 'My favorite shoes', 'content': \"These shoes are so comfortable. I own many different style Nike's (as well as other brands) and these are by far the most comfortable. I really like the design and color too.  I just wish there were more color options.\", 'date': '05 Oct 2019', 'variant': 'Size: 10 Color: Black/White/Mtlc Cool Grey', 'images': None, 'verified': 'Yes', 'author': 'B. Wallace', 'rating': '5.0', 'product': \"Nike Women's Reax Run 5 Running Shoes\", 'url': 'https://www.amazon.com/Nike-Womens-Reax-Running-Shoes/product-reviews/B07ZPL752N/ref=cm_cr_getr_d_paging_btm_next_23?ie=UTF8&reviewerType=all_reviews&pageNumber=23&sortBy=recent\\n'}\n",
      "{'title': 'Too stiff!', 'content': 'These shoes didn’t bend. They were the stiffest shoe I have ever held.  I returned them because it was like wearing a super stiff pair of cleats.', 'date': '02 Apr 2020', 'variant': 'Size: 8.5 Color: White/Metallic Silver/Dark Grey', 'images': None, 'verified': 'Yes', 'author': 'Diana', 'rating': '1.0', 'product': \"Nike Women's Reax Run 5 Running Shoes\", 'url': 'https://www.amazon.com/Nike-Womens-Reax-Running-Shoes/product-reviews/B07ZPL752N/ref=cm_cr_getr_d_paging_btm_next_23?ie=UTF8&reviewerType=all_reviews&pageNumber=23&sortBy=recent\\n'}\n",
      "{'title': 'None', 'content': 'None', 'date': '09 Dec 2019', 'variant': 'Size: 8 Color: White/Metallic Silver/Dark Grey', 'images': None, 'verified': 'Yes', 'author': 'april fergus', 'rating': '2.0', 'product': \"Nike Women's Reax Run 5 Running Shoes\", 'url': 'https://www.amazon.com/Nike-Womens-Reax-Running-Shoes/product-reviews/B07ZPL752N/ref=cm_cr_getr_d_paging_btm_next_23?ie=UTF8&reviewerType=all_reviews&pageNumber=23&sortBy=recent\\n'}\n",
      "{'title': 'Good quality', 'content': 'These are very comfortable. Would definitely buy again', 'date': '12 Sep 2019', 'variant': 'Size: 8.5 Color: White/Metallic Silver/Dark Grey', 'images': None, 'verified': 'Yes', 'author': 'mandy', 'rating': '5.0', 'product': \"Nike Women's Reax Run 5 Running Shoes\", 'url': 'https://www.amazon.com/Nike-Womens-Reax-Running-Shoes/product-reviews/B07ZPL752N/ref=cm_cr_getr_d_paging_btm_next_23?ie=UTF8&reviewerType=all_reviews&pageNumber=23&sortBy=recent\\n'}\n",
      "{'title': 'Love them!', 'content': 'Exactly as expected :)', 'date': '20 Jan 2019', 'variant': 'Size: 7.5 Color: White/Metallic Silver/Dark Grey', 'images': None, 'verified': 'Yes', 'author': 'Heather B.', 'rating': '4.0', 'product': \"Nike Women's Reax Run 5 Running Shoes\", 'url': 'https://www.amazon.com/Nike-Womens-Reax-Running-Shoes/product-reviews/B07ZPL752N/ref=cm_cr_getr_d_paging_btm_next_23?ie=UTF8&reviewerType=all_reviews&pageNumber=23&sortBy=recent\\n'}\n",
      "{'title': 'Comfortable and Stylish', 'content': 'Love this sneaker. Fits amazingly and supports my feet when working out.  Also, very stylish when worn out to run errands.', 'date': '23 Dec 2019', 'variant': 'Size: 10 Color: White/Metallic Silver/Dark Grey', 'images': None, 'verified': 'Yes', 'author': 'Amazon Customer', 'rating': '5.0', 'product': \"Nike Women's Reax Run 5 Running Shoes\", 'url': 'https://www.amazon.com/Nike-Womens-Reax-Running-Shoes/product-reviews/B07ZPL752N/ref=cm_cr_getr_d_paging_btm_next_23?ie=UTF8&reviewerType=all_reviews&pageNumber=23&sortBy=recent\\n'}\n",
      "{'title': 'Amazing', 'content': 'Amazing', 'date': '12 Dec 2018', 'variant': 'Size: 9 Color: White/Metallic Silver/Dark Grey', 'images': None, 'verified': 'Yes', 'author': 'Erica L Maddock', 'rating': '5.0', 'product': \"Nike Women's Reax Run 5 Running Shoes\", 'url': 'https://www.amazon.com/Nike-Womens-Reax-Running-Shoes/product-reviews/B07ZPL752N/ref=cm_cr_getr_d_paging_btm_next_23?ie=UTF8&reviewerType=all_reviews&pageNumber=23&sortBy=recent\\n'}\n",
      "{'title': 'Love my shoes', 'content': 'Love my shoes. They fit so good!', 'date': '25 Dec 2019', 'variant': 'Size: 7.5 Color: White/Metallic Silver/Dark Grey', 'images': None, 'verified': 'Yes', 'author': 'Teresa Turner', 'rating': '5.0', 'product': \"Nike Women's Reax Run 5 Running Shoes\", 'url': 'https://www.amazon.com/Nike-Womens-Reax-Running-Shoes/product-reviews/B07ZPL752N/ref=cm_cr_getr_d_paging_btm_next_23?ie=UTF8&reviewerType=all_reviews&pageNumber=23&sortBy=recent\\n'}\n",
      "{'title': 'Comfortable', 'content': 'Good fit; a little heavy by the end of the day.', 'date': '02 Jan 2020', 'variant': 'Size: 11 Color: White/Metallic Silver/Dark Grey', 'images': None, 'verified': 'Yes', 'author': 'Amazon Customer', 'rating': '4.0', 'product': \"Nike Women's Reax Run 5 Running Shoes\", 'url': 'https://www.amazon.com/Nike-Womens-Reax-Running-Shoes/product-reviews/B07ZPL752N/ref=cm_cr_getr_d_paging_btm_next_23?ie=UTF8&reviewerType=all_reviews&pageNumber=23&sortBy=recent\\n'}\n",
      "{'title': 'Shoe is exactly as pictured.', 'content': 'I like the fit of the shoe. I have knee problems and this shoe has extra padding on the sole of the shoe and inside of the shoe and it has helped me immensely with the knee pain.', 'date': '10 Jun 2019', 'variant': 'Size: 8.5 Color: White/Metallic Silver/Dark Grey', 'images': None, 'verified': 'Yes', 'author': 'Anita Ferguson', 'rating': '5.0', 'product': \"Nike Women's Reax Run 5 Running Shoes\", 'url': 'https://www.amazon.com/Nike-Womens-Reax-Running-Shoes/product-reviews/B07ZPL752N/ref=cm_cr_getr_d_paging_btm_next_23?ie=UTF8&reviewerType=all_reviews&pageNumber=23&sortBy=recent\\n'}\n"
     ]
    },
    {
     "name": "stdout",
     "output_type": "stream",
     "text": [
      "{'title': 'Excelente producto', 'content': 'Super conforme con mi compra estos tenis son muy comodos estan super lindos hice mi rutina de ejercicios ((HIT)) y los senti muy bien me encantaron Gracias Amazon ❤', 'date': '11 Apr 2020', 'variant': 'Size: 8 Color: White/Metallic Silver/Dark Grey', 'images': None, 'verified': 'Yes', 'author': 'Amazon Customer', 'rating': '5.0', 'product': \"Nike Women's Reax Run 5 Running Shoes\", 'url': 'https://www.amazon.com/Nike-Womens-Reax-Running-Shoes/product-reviews/B07ZPL752N/ref=cm_cr_getr_d_paging_btm_next_24?ie=UTF8&reviewerType=all_reviews&pageNumber=24&sortBy=recent\\n'}\n",
      "{'title': 'Most comfortable Nike shoes ever made', 'content': 'The most comfortable Nike shoes I ever bought. These are by far my favorite ❤️ I want every color', 'date': '14 Nov 2019', 'variant': 'Size: 10 Color: White/Metallic Silver/Dark Grey', 'images': None, 'verified': 'Yes', 'author': 'Tricia Lynn', 'rating': '5.0', 'product': \"Nike Women's Reax Run 5 Running Shoes\", 'url': 'https://www.amazon.com/Nike-Womens-Reax-Running-Shoes/product-reviews/B07ZPL752N/ref=cm_cr_getr_d_paging_btm_next_24?ie=UTF8&reviewerType=all_reviews&pageNumber=24&sortBy=recent\\n'}\n",
      "{'title': 'She likes them', 'content': 'It was a gift', 'date': '02 Sep 2019', 'variant': 'Size: 10 Color: White/Metallic Silver/Dark Grey', 'images': None, 'verified': 'Yes', 'author': 'Courtney', 'rating': '5.0', 'product': \"Nike Women's Reax Run 5 Running Shoes\", 'url': 'https://www.amazon.com/Nike-Womens-Reax-Running-Shoes/product-reviews/B07ZPL752N/ref=cm_cr_getr_d_paging_btm_next_24?ie=UTF8&reviewerType=all_reviews&pageNumber=24&sortBy=recent\\n'}\n",
      "{'title': 'Love em', 'content': 'Good arch support.', 'date': '27 Jan 2020', 'variant': 'Size: 8.5 Color: Black/White/Mtlc Cool Grey', 'images': None, 'verified': 'Yes', 'author': 'Katryna212', 'rating': '5.0', 'product': \"Nike Women's Reax Run 5 Running Shoes\", 'url': 'https://www.amazon.com/Nike-Womens-Reax-Running-Shoes/product-reviews/B07ZPL752N/ref=cm_cr_getr_d_paging_btm_next_24?ie=UTF8&reviewerType=all_reviews&pageNumber=24&sortBy=recent\\n'}\n",
      "{'title': 'Lindos nike', 'content': 'Lindos Nike solo que estan un poco mas grandes mi número es 9 y me quedaron un poco grandes.', 'date': '24 Apr 2020', 'variant': 'Size: 9 Color: White/Metallic Silver/Dark Grey', 'images': None, 'verified': 'Yes', 'author': 'Alma Castro', 'rating': '5.0', 'product': \"Nike Women's Reax Run 5 Running Shoes\", 'url': 'https://www.amazon.com/Nike-Womens-Reax-Running-Shoes/product-reviews/B07ZPL752N/ref=cm_cr_getr_d_paging_btm_next_24?ie=UTF8&reviewerType=all_reviews&pageNumber=24&sortBy=recent\\n'}\n",
      "{'title': 'Nice look', 'content': 'Great look', 'date': '31 Aug 2019', 'variant': 'Size: 10 Color: White/Metallic Silver/Dark Grey', 'images': None, 'verified': 'Yes', 'author': 'monica jackson', 'rating': '5.0', 'product': \"Nike Women's Reax Run 5 Running Shoes\", 'url': 'https://www.amazon.com/Nike-Womens-Reax-Running-Shoes/product-reviews/B07ZPL752N/ref=cm_cr_getr_d_paging_btm_next_24?ie=UTF8&reviewerType=all_reviews&pageNumber=24&sortBy=recent\\n'}\n",
      "{'title': 'Best shoes ever!!', 'content': \"Fits perfect. Very comfortable. I have lots of trouble with my feet. (bone spurs and I'm over weight) these shoes are amazing. I highly recommend them to anyone.\", 'date': '26 Nov 2019', 'variant': 'Size: 11 Color: White/Metallic Silver/Dark Grey', 'images': None, 'verified': 'Yes', 'author': 'Melissa C', 'rating': '5.0', 'product': \"Nike Women's Reax Run 5 Running Shoes\", 'url': 'https://www.amazon.com/Nike-Womens-Reax-Running-Shoes/product-reviews/B07ZPL752N/ref=cm_cr_getr_d_paging_btm_next_24?ie=UTF8&reviewerType=all_reviews&pageNumber=24&sortBy=recent\\n'}\n",
      "{'title': 'Great shoes', 'content': 'I am a nurse and do 12 hour shifts . They are the only shoes I wear for work.', 'date': '09 Mar 2020', 'variant': 'Size: 9 Color: White/Metallic Silver/Dark Grey', 'images': None, 'verified': 'Yes', 'author': 'Amazon Customer', 'rating': '5.0', 'product': \"Nike Women's Reax Run 5 Running Shoes\", 'url': 'https://www.amazon.com/Nike-Womens-Reax-Running-Shoes/product-reviews/B07ZPL752N/ref=cm_cr_getr_d_paging_btm_next_24?ie=UTF8&reviewerType=all_reviews&pageNumber=24&sortBy=recent\\n'}\n",
      "{'title': 'Great !', 'content': 'Love these shoes !', 'date': '27 Nov 2019', 'variant': 'Size: 8.5 Color: White/Metallic Silver/Dark Grey', 'images': None, 'verified': 'Yes', 'author': 'Malgorzata Koziel', 'rating': '5.0', 'product': \"Nike Women's Reax Run 5 Running Shoes\", 'url': 'https://www.amazon.com/Nike-Womens-Reax-Running-Shoes/product-reviews/B07ZPL752N/ref=cm_cr_getr_d_paging_btm_next_24?ie=UTF8&reviewerType=all_reviews&pageNumber=24&sortBy=recent\\n'}\n",
      "{'title': 'Fit great', 'content': 'Love them! Thank you', 'date': '13 Aug 2019', 'variant': 'Size: 7 Color: White/Metallic Silver/Dark Grey', 'images': None, 'verified': 'Yes', 'author': 'Brenda Sitzmann', 'rating': '5.0', 'product': \"Nike Women's Reax Run 5 Running Shoes\", 'url': 'https://www.amazon.com/Nike-Womens-Reax-Running-Shoes/product-reviews/B07ZPL752N/ref=cm_cr_getr_d_paging_btm_next_24?ie=UTF8&reviewerType=all_reviews&pageNumber=24&sortBy=recent\\n'}\n",
      "{'title': 'Comfy', 'content': 'Super cute and comfortable', 'date': '17 Feb 2020', 'variant': 'Size: 8.5 Color: Black/White/Mtlc Cool Grey', 'images': None, 'verified': 'Yes', 'author': 'Kerrie Moorhead', 'rating': '5.0', 'product': \"Nike Women's Reax Run 5 Running Shoes\", 'url': 'https://www.amazon.com/Nike-Womens-Reax-Running-Shoes/product-reviews/B07ZPL752N/ref=cm_cr_getr_d_paging_btm_next_25?ie=UTF8&reviewerType=all_reviews&pageNumber=25&sortBy=recent\\n'}\n",
      "{'title': 'Love the shoes', 'content': 'Nothing', 'date': '04 Feb 2020', 'variant': 'Size: 12 Color: White/Metallic Silver/Dark Grey', 'images': None, 'verified': 'Yes', 'author': 'Warnette W.', 'rating': '5.0', 'product': \"Nike Women's Reax Run 5 Running Shoes\", 'url': 'https://www.amazon.com/Nike-Womens-Reax-Running-Shoes/product-reviews/B07ZPL752N/ref=cm_cr_getr_d_paging_btm_next_25?ie=UTF8&reviewerType=all_reviews&pageNumber=25&sortBy=recent\\n'}\n",
      "{'title': 'For me Nike is the only shoe that’s fits my size all the time. And I wear a 10.', 'content': 'Love this shoe, we do a lot of walking and the support on this shoe is perfect for me because I have flat feet.', 'date': '02 Jan 2020', 'variant': 'Size: 10 Color: White/Metallic Silver/Dark Grey', 'images': None, 'verified': 'Yes', 'author': 'Kristen', 'rating': '5.0', 'product': \"Nike Women's Reax Run 5 Running Shoes\", 'url': 'https://www.amazon.com/Nike-Womens-Reax-Running-Shoes/product-reviews/B07ZPL752N/ref=cm_cr_getr_d_paging_btm_next_25?ie=UTF8&reviewerType=all_reviews&pageNumber=25&sortBy=recent\\n'}\n",
      "{'title': 'These are very supportive for up on ur feet', 'content': 'Thank excellent shoe extremely comfortanle', 'date': '17 Jul 2019', 'variant': 'Size: 8.5 Color: White/Metallic Silver/Dark Grey', 'images': None, 'verified': 'Yes', 'author': 'cindy massie', 'rating': '5.0', 'product': \"Nike Women's Reax Run 5 Running Shoes\", 'url': 'https://www.amazon.com/Nike-Womens-Reax-Running-Shoes/product-reviews/B07ZPL752N/ref=cm_cr_getr_d_paging_btm_next_25?ie=UTF8&reviewerType=all_reviews&pageNumber=25&sortBy=recent\\n'}\n",
      "{'title': 'I love this shoe. I just found in amazon', 'content': 'Workout in the gym', 'date': '30 Mar 2019', 'variant': 'Size: 7.5 Color: White/Metallic Silver/Dark Grey', 'images': None, 'verified': 'Yes', 'author': 'Sonia B', 'rating': '5.0', 'product': \"Nike Women's Reax Run 5 Running Shoes\", 'url': 'https://www.amazon.com/Nike-Womens-Reax-Running-Shoes/product-reviews/B07ZPL752N/ref=cm_cr_getr_d_paging_btm_next_25?ie=UTF8&reviewerType=all_reviews&pageNumber=25&sortBy=recent\\n'}\n",
      "{'title': 'Love these sneakers', 'content': 'Very happy with this purchase, shoes are very comfortable.', 'date': '15 Nov 2019', 'variant': 'Size: 6.5 Color: White/Metallic Silver/Dark Grey', 'images': None, 'verified': 'Yes', 'author': 'Melissa Gagne', 'rating': '5.0', 'product': \"Nike Women's Reax Run 5 Running Shoes\", 'url': 'https://www.amazon.com/Nike-Womens-Reax-Running-Shoes/product-reviews/B07ZPL752N/ref=cm_cr_getr_d_paging_btm_next_25?ie=UTF8&reviewerType=all_reviews&pageNumber=25&sortBy=recent\\n'}\n",
      "{'title': 'Fit as expected', 'content': 'Given as a gift. She loved them', 'date': '14 Dec 2019', 'variant': 'Size: 6.5 Color: White/Metallic Silver/Dark Grey', 'images': None, 'verified': 'Yes', 'author': 'David W.', 'rating': '5.0', 'product': \"Nike Women's Reax Run 5 Running Shoes\", 'url': 'https://www.amazon.com/Nike-Womens-Reax-Running-Shoes/product-reviews/B07ZPL752N/ref=cm_cr_getr_d_paging_btm_next_25?ie=UTF8&reviewerType=all_reviews&pageNumber=25&sortBy=recent\\n'}\n",
      "{'title': 'Fits as expected', 'content': 'Thwy are tight on the top of one foot but otherwise seem to be a good shoe hopefully they will stretch out a little bit', 'date': '05 Mar 2020', 'variant': 'Size: 7 Color: Black/White/Mtlc Cool Grey', 'images': None, 'verified': 'Yes', 'author': 'tracy haydon', 'rating': '3.0', 'product': \"Nike Women's Reax Run 5 Running Shoes\", 'url': 'https://www.amazon.com/Nike-Womens-Reax-Running-Shoes/product-reviews/B07ZPL752N/ref=cm_cr_getr_d_paging_btm_next_25?ie=UTF8&reviewerType=all_reviews&pageNumber=25&sortBy=recent\\n'}\n",
      "{'title': 'No support', 'content': 'I love the shoes dont have enough support to wear all day at work can be use to go shopping', 'date': '17 Apr 2020', 'variant': 'Size: 7 Color: White/Metallic Silver/Dark Grey', 'images': None, 'verified': 'Yes', 'author': 'juanita cropp', 'rating': '4.0', 'product': \"Nike Women's Reax Run 5 Running Shoes\", 'url': 'https://www.amazon.com/Nike-Womens-Reax-Running-Shoes/product-reviews/B07ZPL752N/ref=cm_cr_getr_d_paging_btm_next_25?ie=UTF8&reviewerType=all_reviews&pageNumber=25&sortBy=recent\\n'}\n",
      "{'title': 'Great Installation, sole bounce support.', 'content': 'My wife loves these shoes. Never stops wearing them.', 'date': '23 Nov 2019', 'variant': 'Size: 8.5 Color: White/Metallic Silver/Dark Grey', 'images': None, 'verified': 'Yes', 'author': 'maurice howell', 'rating': '5.0', 'product': \"Nike Women's Reax Run 5 Running Shoes\", 'url': 'https://www.amazon.com/Nike-Womens-Reax-Running-Shoes/product-reviews/B07ZPL752N/ref=cm_cr_getr_d_paging_btm_next_25?ie=UTF8&reviewerType=all_reviews&pageNumber=25&sortBy=recent\\n'}\n"
     ]
    },
    {
     "name": "stdout",
     "output_type": "stream",
     "text": [
      "{'title': 'Hard to get on', 'content': 'Hard to get on', 'date': '21 Mar 2019', 'variant': 'Size: 8 Color: White/Metallic Silver/Dark Grey', 'images': None, 'verified': 'Yes', 'author': 'Amazon Customer', 'rating': '1.0', 'product': \"Nike Women's Reax Run 5 Running Shoes\", 'url': 'https://www.amazon.com/Nike-Womens-Reax-Running-Shoes/product-reviews/B07ZPL752N/ref=cm_cr_getr_d_paging_btm_next_26?ie=UTF8&reviewerType=all_reviews&pageNumber=26&sortBy=recent\\n'}\n",
      "{'title': 'Extremely comfortable', 'content': 'There is nothing to dislike. I love wearing them and I get a lot of comments on them. Way worth the money.', 'date': '15 Jun 2019', 'variant': 'Size: 9 Color: White/Metallic Silver/Dark Grey', 'images': None, 'verified': 'Yes', 'author': 'Shara', 'rating': '5.0', 'product': \"Nike Women's Reax Run 5 Running Shoes\", 'url': 'https://www.amazon.com/Nike-Womens-Reax-Running-Shoes/product-reviews/B07ZPL752N/ref=cm_cr_getr_d_paging_btm_next_26?ie=UTF8&reviewerType=all_reviews&pageNumber=26&sortBy=recent\\n'}\n",
      "{'title': 'I will order Nike again, just wish they still had the Shocks!', 'content': 'My sneakers fit perfect, and they were delivered early!', 'date': '17 Apr 2019', 'variant': 'Size: 7.5 Color: White/Metallic Silver/Dark Grey', 'images': None, 'verified': 'Yes', 'author': 'Tina', 'rating': '5.0', 'product': \"Nike Women's Reax Run 5 Running Shoes\", 'url': 'https://www.amazon.com/Nike-Womens-Reax-Running-Shoes/product-reviews/B07ZPL752N/ref=cm_cr_getr_d_paging_btm_next_26?ie=UTF8&reviewerType=all_reviews&pageNumber=26&sortBy=recent\\n'}\n",
      "{'title': 'Excellent quality', 'content': 'Fantastic!', 'date': '09 Jan 2020', 'variant': 'Size: 8.5 Color: Black/White/Mtlc Cool Grey', 'images': None, 'verified': 'Yes', 'author': 'TexMex girl', 'rating': '5.0', 'product': \"Nike Women's Reax Run 5 Running Shoes\", 'url': 'https://www.amazon.com/Nike-Womens-Reax-Running-Shoes/product-reviews/B07ZPL752N/ref=cm_cr_getr_d_paging_btm_next_26?ie=UTF8&reviewerType=all_reviews&pageNumber=26&sortBy=recent\\n'}\n",
      "{'title': 'Great shoe', 'content': 'Best shoe I have ever had', 'date': '10 May 2019', 'variant': 'Size: 9.5 Color: White/Metallic Silver/Dark Grey', 'images': None, 'verified': 'Yes', 'author': 'Cook', 'rating': '5.0', 'product': \"Nike Women's Reax Run 5 Running Shoes\", 'url': 'https://www.amazon.com/Nike-Womens-Reax-Running-Shoes/product-reviews/B07ZPL752N/ref=cm_cr_getr_d_paging_btm_next_26?ie=UTF8&reviewerType=all_reviews&pageNumber=26&sortBy=recent\\n'}\n",
      "{'title': 'Wrong size', 'content': \"Shoes are gorgeous. Too bad they sent me a 7.5 instead of the 9.5 I need. Yup they're going back and a big waste of my time.\", 'date': '12 Jan 2020', 'variant': 'Size: 7.5 Color: White/Metallic Silver/Dark Grey', 'images': None, 'verified': 'Yes', 'author': 'Carrie Amerson', 'rating': '1.0', 'product': \"Nike Women's Reax Run 5 Running Shoes\", 'url': 'https://www.amazon.com/Nike-Womens-Reax-Running-Shoes/product-reviews/B07ZPL752N/ref=cm_cr_getr_d_paging_btm_next_26?ie=UTF8&reviewerType=all_reviews&pageNumber=26&sortBy=recent\\n'}\n",
      "{'title': 'New balance is better', 'content': 'Too high for quality', 'date': '24 Feb 2020', 'variant': 'Size: 9 Color: White/Metallic Silver/Dark Grey', 'images': None, 'verified': 'Yes', 'author': 'Shivam Sadarangani', 'rating': '2.0', 'product': \"Nike Women's Reax Run 5 Running Shoes\", 'url': 'https://www.amazon.com/Nike-Womens-Reax-Running-Shoes/product-reviews/B07ZPL752N/ref=cm_cr_getr_d_paging_btm_next_26?ie=UTF8&reviewerType=all_reviews&pageNumber=26&sortBy=recent\\n'}\n",
      "{'title': 'Awesome! Very comfortable, and looks great.', 'content': 'Awesome! Very comfortable, and looks great. I am going to buy one more.', 'date': '15 Jul 2019', 'variant': 'Size: 6.5 Color: White/Metallic Silver/Dark Grey', 'images': None, 'verified': 'Yes', 'author': 'Maya', 'rating': '5.0', 'product': \"Nike Women's Reax Run 5 Running Shoes\", 'url': 'https://www.amazon.com/Nike-Womens-Reax-Running-Shoes/product-reviews/B07ZPL752N/ref=cm_cr_getr_d_paging_btm_next_26?ie=UTF8&reviewerType=all_reviews&pageNumber=26&sortBy=recent\\n'}\n",
      "{'title': 'They are perfect!', 'content': 'These shoes are perfect for my feet and I love them.  The are comfortable and fit perfectly.  And they look sharp!', 'date': '31 Dec 2019', 'variant': 'Size: 7.5 Color: Black/White/Mtlc Cool Grey', 'images': None, 'verified': 'Yes', 'author': 'Brie M.', 'rating': '5.0', 'product': \"Nike Women's Reax Run 5 Running Shoes\", 'url': 'https://www.amazon.com/Nike-Womens-Reax-Running-Shoes/product-reviews/B07ZPL752N/ref=cm_cr_getr_d_paging_btm_next_26?ie=UTF8&reviewerType=all_reviews&pageNumber=26&sortBy=recent\\n'}\n",
      "{'title': 'I love these sneakers', 'content': 'I LOVE the look, comfort, and price as I have been waiting for price drop on most Nike sneakers.', 'date': '25 Jun 2019', 'variant': 'Size: 9 Color: White/Metallic Silver/Dark Grey', 'images': None, 'verified': 'Yes', 'author': 'TW', 'rating': '5.0', 'product': \"Nike Women's Reax Run 5 Running Shoes\", 'url': 'https://www.amazon.com/Nike-Womens-Reax-Running-Shoes/product-reviews/B07ZPL752N/ref=cm_cr_getr_d_paging_btm_next_26?ie=UTF8&reviewerType=all_reviews&pageNumber=26&sortBy=recent\\n'}\n",
      "{'title': 'Comfortable', 'content': 'Nice fit and comfortable.', 'date': '22 Nov 2018', 'variant': 'Size: 9 Color: White/Metallic Silver/Dark Grey', 'images': None, 'verified': 'Yes', 'author': 'Barbra Smith-Cockeran', 'rating': '5.0', 'product': \"Nike Women's Reax Run 5 Running Shoes\", 'url': 'https://www.amazon.com/Nike-Womens-Reax-Running-Shoes/product-reviews/B07ZPL752N/ref=cm_cr_getr_d_paging_btm_next_27?ie=UTF8&reviewerType=all_reviews&pageNumber=27&sortBy=recent\\n'}\n",
      "{'title': 'Bonitos', 'content': 'Muy buen terminado', 'date': '25 Feb 2019', 'variant': 'Size: 6.5 Color: White/Metallic Silver/Dark Grey', 'images': None, 'verified': 'Yes', 'author': 'Serpico rivers', 'rating': '5.0', 'product': \"Nike Women's Reax Run 5 Running Shoes\", 'url': 'https://www.amazon.com/Nike-Womens-Reax-Running-Shoes/product-reviews/B07ZPL752N/ref=cm_cr_getr_d_paging_btm_next_27?ie=UTF8&reviewerType=all_reviews&pageNumber=27&sortBy=recent\\n'}\n",
      "{'title': 'Good quality', 'content': 'Great shoe', 'date': '13 Aug 2019', 'variant': 'Size: 9 Color: White/Metallic Silver/Dark Grey', 'images': None, 'verified': 'Yes', 'author': 'marquett nappo', 'rating': '5.0', 'product': \"Nike Women's Reax Run 5 Running Shoes\", 'url': 'https://www.amazon.com/Nike-Womens-Reax-Running-Shoes/product-reviews/B07ZPL752N/ref=cm_cr_getr_d_paging_btm_next_27?ie=UTF8&reviewerType=all_reviews&pageNumber=27&sortBy=recent\\n'}\n",
      "{'title': 'Great shoes! Runs Big', 'content': \"I should've gotten a size 8 instead of 8 1/2 because they are a little big but I'll manage.\", 'date': '16 Apr 2019', 'variant': 'Size: 8.5 Color: White/Metallic Silver/Dark Grey', 'images': None, 'verified': 'Yes', 'author': 'April Dunn', 'rating': '4.0', 'product': \"Nike Women's Reax Run 5 Running Shoes\", 'url': 'https://www.amazon.com/Nike-Womens-Reax-Running-Shoes/product-reviews/B07ZPL752N/ref=cm_cr_getr_d_paging_btm_next_27?ie=UTF8&reviewerType=all_reviews&pageNumber=27&sortBy=recent\\n'}\n",
      "{'title': 'Ink tag', 'content': 'The ink tab was left on my shoes I can’t remove it there will be ink all over my shoes how do I remove this', 'date': '27 Nov 2019', 'variant': 'Size: 8 Color: White/Metallic Silver/Dark Grey', 'images': None, 'verified': 'Yes', 'author': 'elizabeth Fellows', 'rating': '5.0', 'product': \"Nike Women's Reax Run 5 Running Shoes\", 'url': 'https://www.amazon.com/Nike-Womens-Reax-Running-Shoes/product-reviews/B07ZPL752N/ref=cm_cr_getr_d_paging_btm_next_27?ie=UTF8&reviewerType=all_reviews&pageNumber=27&sortBy=recent\\n'}\n",
      "{'title': 'Excelente', 'content': 'Recomendado 100%', 'date': '04 Jan 2020', 'variant': 'Size: 6 Color: White/Metallic Silver/Dark Grey', 'images': None, 'verified': 'Yes', 'author': 'Amazon Customer', 'rating': '5.0', 'product': \"Nike Women's Reax Run 5 Running Shoes\", 'url': 'https://www.amazon.com/Nike-Womens-Reax-Running-Shoes/product-reviews/B07ZPL752N/ref=cm_cr_getr_d_paging_btm_next_27?ie=UTF8&reviewerType=all_reviews&pageNumber=27&sortBy=recent\\n'}\n",
      "{'title': 'REALLY', 'content': 'My shoe strings came with dirt on them.', 'date': '05 May 2020', 'variant': 'Size: 9.5 Color: White/Metallic Silver/Dark Grey', 'images': None, 'verified': 'Yes', 'author': \"Rachele' Marshall- Brooks\", 'rating': '2.0', 'product': \"Nike Women's Reax Run 5 Running Shoes\", 'url': 'https://www.amazon.com/Nike-Womens-Reax-Running-Shoes/product-reviews/B07ZPL752N/ref=cm_cr_getr_d_paging_btm_next_27?ie=UTF8&reviewerType=all_reviews&pageNumber=27&sortBy=recent\\n'}\n",
      "{'title': 'Comfortable shoes', 'content': 'Great shoes', 'date': '23 Jan 2019', 'variant': 'Size: 8.5 Color: White/Metallic Silver/Dark Grey', 'images': None, 'verified': 'Yes', 'author': 'Lakeisha H.', 'rating': '5.0', 'product': \"Nike Women's Reax Run 5 Running Shoes\", 'url': 'https://www.amazon.com/Nike-Womens-Reax-Running-Shoes/product-reviews/B07ZPL752N/ref=cm_cr_getr_d_paging_btm_next_27?ie=UTF8&reviewerType=all_reviews&pageNumber=27&sortBy=recent\\n'}\n",
      "{'title': 'After stretching them out a bit they were Comfortable.', 'content': 'I liked the style and that they came in my size. Sometimes it hard to find shoes in my size (10).', 'date': '19 May 2019', 'variant': 'Size: 10 Color: White/Metallic Silver/Dark Grey', 'images': None, 'verified': 'Yes', 'author': 'Charlotte Fritz', 'rating': '5.0', 'product': \"Nike Women's Reax Run 5 Running Shoes\", 'url': 'https://www.amazon.com/Nike-Womens-Reax-Running-Shoes/product-reviews/B07ZPL752N/ref=cm_cr_getr_d_paging_btm_next_27?ie=UTF8&reviewerType=all_reviews&pageNumber=27&sortBy=recent\\n'}\n",
      "{'title': 'Looks great!', 'content': 'Love the way these look! Saw them on a client of mine and had to get them. I am getting lots of compliments on them!', 'date': '20 Nov 2019', 'variant': 'Size: 7.5 Color: White/Metallic Silver/Dark Grey', 'images': None, 'verified': 'Yes', 'author': 'Amazon Customer', 'rating': '5.0', 'product': \"Nike Women's Reax Run 5 Running Shoes\", 'url': 'https://www.amazon.com/Nike-Womens-Reax-Running-Shoes/product-reviews/B07ZPL752N/ref=cm_cr_getr_d_paging_btm_next_27?ie=UTF8&reviewerType=all_reviews&pageNumber=27&sortBy=recent\\n'}\n"
     ]
    },
    {
     "name": "stdout",
     "output_type": "stream",
     "text": [
      "{'title': 'Excellent quality', 'content': 'Nursing', 'date': '11 Dec 2019', 'variant': 'Size: 8 Color: White/Metallic Silver/Dark Grey', 'images': None, 'verified': 'Yes', 'author': 'blondie', 'rating': '5.0', 'product': \"Nike Women's Reax Run 5 Running Shoes\", 'url': 'https://www.amazon.com/Nike-Womens-Reax-Running-Shoes/product-reviews/B07ZPL752N/ref=cm_cr_getr_d_paging_btm_next_28?ie=UTF8&reviewerType=all_reviews&pageNumber=28&sortBy=recent\\n'}\n",
      "{'title': 'Bad', 'content': 'Shoes came with a small piece of poop inside smelled very bad', 'date': '01 Mar 2020', 'variant': 'Size: 8.5 Color: White/Metallic Silver/Dark Grey', 'images': None, 'verified': 'Yes', 'author': 'Anthony vonderhaar', 'rating': '1.0', 'product': \"Nike Women's Reax Run 5 Running Shoes\", 'url': 'https://www.amazon.com/Nike-Womens-Reax-Running-Shoes/product-reviews/B07ZPL752N/ref=cm_cr_getr_d_paging_btm_next_28?ie=UTF8&reviewerType=all_reviews&pageNumber=28&sortBy=recent\\n'}\n",
      "{'title': 'tight shoes', 'content': 'very tight', 'date': '21 Feb 2020', 'variant': 'Size: 7.5 Color: White/Metallic Silver/Dark Grey', 'images': None, 'verified': 'Yes', 'author': 'RedRev', 'rating': '2.0', 'product': \"Nike Women's Reax Run 5 Running Shoes\", 'url': 'https://www.amazon.com/Nike-Womens-Reax-Running-Shoes/product-reviews/B07ZPL752N/ref=cm_cr_getr_d_paging_btm_next_28?ie=UTF8&reviewerType=all_reviews&pageNumber=28&sortBy=recent\\n'}\n",
      "{'title': 'Good but not great', 'content': 'The shoe was good- took a while to break in but not great. It gets dirty easily (being white) and doesn’t have as much support as some others', 'date': '13 Jul 2019', 'variant': 'Size: 9 Color: White/Metallic Silver/Dark Grey', 'images': None, 'verified': 'Yes', 'author': 'ABiller', 'rating': '3.0', 'product': \"Nike Women's Reax Run 5 Running Shoes\", 'url': 'https://www.amazon.com/Nike-Womens-Reax-Running-Shoes/product-reviews/B07ZPL752N/ref=cm_cr_getr_d_paging_btm_next_28?ie=UTF8&reviewerType=all_reviews&pageNumber=28&sortBy=recent\\n'}\n",
      "{'title': 'Will order more pairs', 'content': 'No words can tell how I am happy wearing this shoes,needs more of this', 'date': '20 Mar 2020', 'variant': 'Size: 7.5 Color: White/Metallic Silver/Dark Grey', 'images': None, 'verified': 'Yes', 'author': 'Irene kabata', 'rating': '5.0', 'product': \"Nike Women's Reax Run 5 Running Shoes\", 'url': 'https://www.amazon.com/Nike-Womens-Reax-Running-Shoes/product-reviews/B07ZPL752N/ref=cm_cr_getr_d_paging_btm_next_28?ie=UTF8&reviewerType=all_reviews&pageNumber=28&sortBy=recent\\n'}\n",
      "{'title': 'Buena compra', 'content': 'Buenos para caminar', 'date': '07 Sep 2019', 'variant': 'Size: 9 Color: White/Metallic Silver/Dark Grey', 'images': None, 'verified': 'Yes', 'author': 'julia a', 'rating': '4.0', 'product': \"Nike Women's Reax Run 5 Running Shoes\", 'url': 'https://www.amazon.com/Nike-Womens-Reax-Running-Shoes/product-reviews/B07ZPL752N/ref=cm_cr_getr_d_paging_btm_next_28?ie=UTF8&reviewerType=all_reviews&pageNumber=28&sortBy=recent\\n'}\n",
      "{'title': 'Average. Priced high', 'content': 'Makes toes numb and i bought a size larger', 'date': '28 Jan 2020', 'variant': 'Size: 6.5 Color: White/Metallic Silver/Dark Grey', 'images': None, 'verified': 'Yes', 'author': 'Amazon Customer', 'rating': '2.0', 'product': \"Nike Women's Reax Run 5 Running Shoes\", 'url': 'https://www.amazon.com/Nike-Womens-Reax-Running-Shoes/product-reviews/B07ZPL752N/ref=cm_cr_getr_d_paging_btm_next_28?ie=UTF8&reviewerType=all_reviews&pageNumber=28&sortBy=recent\\n'}\n",
      "{'title': 'Love the shoe', 'content': 'Great shoe fit and looked wonderful', 'date': '07 Mar 2019', 'variant': 'Size: 7.5 Color: White/Metallic Silver/Dark Grey', 'images': None, 'verified': 'Yes', 'author': 'Shannon', 'rating': '5.0', 'product': \"Nike Women's Reax Run 5 Running Shoes\", 'url': 'https://www.amazon.com/Nike-Womens-Reax-Running-Shoes/product-reviews/B07ZPL752N/ref=cm_cr_getr_d_paging_btm_next_28?ie=UTF8&reviewerType=all_reviews&pageNumber=28&sortBy=recent\\n'}\n",
      "{'title': 'The shape of the shoes is not what I expected.', 'content': 'When I took the shoes out of the box it look like they had been smashed down. They looked to wide. Overall a good looking shoe.', 'date': '14 May 2019', 'variant': 'Size: 11 Color: White/Metallic Silver/Dark Grey', 'images': None, 'verified': 'Yes', 'author': 'Amazon Customer', 'rating': '3.0', 'product': \"Nike Women's Reax Run 5 Running Shoes\", 'url': 'https://www.amazon.com/Nike-Womens-Reax-Running-Shoes/product-reviews/B07ZPL752N/ref=cm_cr_getr_d_paging_btm_next_28?ie=UTF8&reviewerType=all_reviews&pageNumber=28&sortBy=recent\\n'}\n",
      "{'title': 'Muy bonito', 'content': 'Good', 'date': '14 Jul 2019', 'variant': 'Size: 6 Color: White/Metallic Silver/Dark Grey', 'images': None, 'verified': 'Yes', 'author': 'Elsa Mulato', 'rating': '5.0', 'product': \"Nike Women's Reax Run 5 Running Shoes\", 'url': 'https://www.amazon.com/Nike-Womens-Reax-Running-Shoes/product-reviews/B07ZPL752N/ref=cm_cr_getr_d_paging_btm_next_28?ie=UTF8&reviewerType=all_reviews&pageNumber=28&sortBy=recent\\n'}\n",
      "{'title': 'Comfortable', 'content': 'Love them! Everything I expected. Great supportive shoe for everyday wear and moderate running', 'date': '01 Feb 2020', 'variant': 'Size: 8 Color: White/Metallic Silver/Dark Grey', 'images': None, 'verified': 'Yes', 'author': 'william herod', 'rating': '5.0', 'product': \"Nike Women's Reax Run 5 Running Shoes\", 'url': 'https://www.amazon.com/Nike-Womens-Reax-Running-Shoes/product-reviews/B07ZPL752N/ref=cm_cr_getr_d_paging_btm_next_29?ie=UTF8&reviewerType=all_reviews&pageNumber=29&sortBy=recent\\n'}\n",
      "{'title': 'Comfortable and lightweight', 'content': 'Comfortable and lightweight', 'date': '10 Feb 2020', 'variant': 'Size: 9 Color: White/Metallic Silver/Dark Grey', 'images': None, 'verified': 'Yes', 'author': 'Michele L.', 'rating': '4.0', 'product': \"Nike Women's Reax Run 5 Running Shoes\", 'url': 'https://www.amazon.com/Nike-Womens-Reax-Running-Shoes/product-reviews/B07ZPL752N/ref=cm_cr_getr_d_paging_btm_next_29?ie=UTF8&reviewerType=all_reviews&pageNumber=29&sortBy=recent\\n'}\n",
      "{'title': 'Muy lindos', 'content': 'Muy lindos y cómodo pero son más grande que el número que pedí!', 'date': '28 Apr 2020', 'variant': 'Size: 9 Color: White/Metallic Silver/Dark Grey', 'images': None, 'verified': 'Yes', 'author': 'anixis roman', 'rating': '4.0', 'product': \"Nike Women's Reax Run 5 Running Shoes\", 'url': 'https://www.amazon.com/Nike-Womens-Reax-Running-Shoes/product-reviews/B07ZPL752N/ref=cm_cr_getr_d_paging_btm_next_29?ie=UTF8&reviewerType=all_reviews&pageNumber=29&sortBy=recent\\n'}\n",
      "{'title': 'Problemas con la primera entrega', 'content': 'Hubo problemas con la entrega, hicieron reembolso y luego otra compra que salió bien todo', 'date': '03 Jan 2020', 'variant': 'Size: 7 Color: White/Metallic Silver/Dark Grey', 'images': None, 'verified': 'Yes', 'author': 'Josue Tang', 'rating': '3.0', 'product': \"Nike Women's Reax Run 5 Running Shoes\", 'url': 'https://www.amazon.com/Nike-Womens-Reax-Running-Shoes/product-reviews/B07ZPL752N/ref=cm_cr_getr_d_paging_btm_next_29?ie=UTF8&reviewerType=all_reviews&pageNumber=29&sortBy=recent\\n'}\n",
      "{'title': 'what size to buy in this shoe', 'content': 'I had a pair prior in white i liked them they  seemed to wear good.', 'date': '06 Aug 2019', 'variant': 'Size: 9 Color: Black/White/Mtlc Cool Grey', 'images': None, 'verified': 'Yes', 'author': 'Amazon Customer', 'rating': '4.0', 'product': \"Nike Women's Reax Run 5 Running Shoes\", 'url': 'https://www.amazon.com/Nike-Womens-Reax-Running-Shoes/product-reviews/B07ZPL752N/ref=cm_cr_getr_d_paging_btm_next_29?ie=UTF8&reviewerType=all_reviews&pageNumber=29&sortBy=recent\\n'}\n",
      "{'title': 'Comfortable', 'content': 'Great walking shoe that doesnt hurt your feet.', 'date': '29 Jan 2020', 'variant': 'Size: 8 Color: White/Metallic Silver/Dark Grey', 'images': None, 'verified': 'Yes', 'author': 'Cynthia Tobias', 'rating': '5.0', 'product': \"Nike Women's Reax Run 5 Running Shoes\", 'url': 'https://www.amazon.com/Nike-Womens-Reax-Running-Shoes/product-reviews/B07ZPL752N/ref=cm_cr_getr_d_paging_btm_next_29?ie=UTF8&reviewerType=all_reviews&pageNumber=29&sortBy=recent\\n'}\n",
      "{'title': 'Okay', 'content': 'Not as nice looking.', 'date': '24 Mar 2020', 'variant': 'Size: 10 Color: White/Metallic Silver/Dark Grey', 'images': None, 'verified': 'Yes', 'author': 'Amazon Customer', 'rating': '3.0', 'product': \"Nike Women's Reax Run 5 Running Shoes\", 'url': 'https://www.amazon.com/Nike-Womens-Reax-Running-Shoes/product-reviews/B07ZPL752N/ref=cm_cr_getr_d_paging_btm_next_29?ie=UTF8&reviewerType=all_reviews&pageNumber=29&sortBy=recent\\n'}\n",
      "{'title': 'GReat shoes', 'content': 'Great shoes and very comfortable', 'date': '26 Apr 2019', 'variant': 'Size: 8 Color: White/Metallic Silver/Dark Grey', 'images': None, 'verified': 'Yes', 'author': 'Amazon Customer', 'rating': '5.0', 'product': \"Nike Women's Reax Run 5 Running Shoes\", 'url': 'https://www.amazon.com/Nike-Womens-Reax-Running-Shoes/product-reviews/B07ZPL752N/ref=cm_cr_getr_d_paging_btm_next_29?ie=UTF8&reviewerType=all_reviews&pageNumber=29&sortBy=recent\\n'}\n",
      "{'title': 'Need to return', 'content': 'Just recently was able to try them would like to return these', 'date': '07 Jun 2019', 'variant': 'Size: 8 Color: White/Metallic Silver/Dark Grey', 'images': None, 'verified': 'Yes', 'author': 'sherrie francis', 'rating': '1.0', 'product': \"Nike Women's Reax Run 5 Running Shoes\", 'url': 'https://www.amazon.com/Nike-Womens-Reax-Running-Shoes/product-reviews/B07ZPL752N/ref=cm_cr_getr_d_paging_btm_next_29?ie=UTF8&reviewerType=all_reviews&pageNumber=29&sortBy=recent\\n'}\n",
      "{'title': 'Comfortable', 'content': 'The shoes are comfortable. My job requires me to be on my feet all day & these help my feet from hurting.', 'date': '07 Oct 2019', 'variant': 'Size: 8.5 Color: White/Metallic Silver/Dark Grey', 'images': None, 'verified': 'Yes', 'author': 'Amazon Customer', 'rating': '5.0', 'product': \"Nike Women's Reax Run 5 Running Shoes\", 'url': 'https://www.amazon.com/Nike-Womens-Reax-Running-Shoes/product-reviews/B07ZPL752N/ref=cm_cr_getr_d_paging_btm_next_29?ie=UTF8&reviewerType=all_reviews&pageNumber=29&sortBy=recent\\n'}\n"
     ]
    },
    {
     "name": "stdout",
     "output_type": "stream",
     "text": [
      "{'title': 'Size', 'content': 'Love them very nice fits right', 'date': '21 Mar 2020', 'variant': 'Size: 6.5 Color: White/Metallic Silver/Dark Grey', 'images': None, 'verified': 'Yes', 'author': 'kellie huffman', 'rating': '5.0', 'product': \"Nike Women's Reax Run 5 Running Shoes\", 'url': 'https://www.amazon.com/Nike-Womens-Reax-Running-Shoes/product-reviews/B07ZPL752N/ref=cm_cr_getr_d_paging_btm_next_30?ie=UTF8&reviewerType=all_reviews&pageNumber=30&sortBy=recent\\n'}\n",
      "{'title': 'Delivered on time and fit perfectly.', 'content': 'Work at hospital.', 'date': '05 Mar 2020', 'variant': 'Size: 6.5 Color: White/Metallic Silver/Dark Grey', 'images': None, 'verified': 'Yes', 'author': 'Delphia Blue', 'rating': '5.0', 'product': \"Nike Women's Reax Run 5 Running Shoes\", 'url': 'https://www.amazon.com/Nike-Womens-Reax-Running-Shoes/product-reviews/B07ZPL752N/ref=cm_cr_getr_d_paging_btm_next_30?ie=UTF8&reviewerType=all_reviews&pageNumber=30&sortBy=recent\\n'}\n",
      "{'title': 'Not wide enough', 'content': 'There was a protrusion near my large toe', 'date': '04 Apr 2020', 'variant': 'Size: 9 Color: White/Metallic Silver/Dark Grey', 'images': None, 'verified': 'Yes', 'author': 'Shirley S.', 'rating': '2.0', 'product': \"Nike Women's Reax Run 5 Running Shoes\", 'url': 'https://www.amazon.com/Nike-Womens-Reax-Running-Shoes/product-reviews/B07ZPL752N/ref=cm_cr_getr_d_paging_btm_next_30?ie=UTF8&reviewerType=all_reviews&pageNumber=30&sortBy=recent\\n'}\n",
      "{'title': 'Comfy and great looking!', 'content': 'Love this sneaker! I wear it for tennis!', 'date': '12 Nov 2019', 'variant': 'Size: 8.5 Color: White/Metallic Silver/Dark Grey', 'images': None, 'verified': 'Yes', 'author': 'Amazon Customer', 'rating': '5.0', 'product': \"Nike Women's Reax Run 5 Running Shoes\", 'url': 'https://www.amazon.com/Nike-Womens-Reax-Running-Shoes/product-reviews/B07ZPL752N/ref=cm_cr_getr_d_paging_btm_next_30?ie=UTF8&reviewerType=all_reviews&pageNumber=30&sortBy=recent\\n'}\n",
      "{'title': 'Nice', 'content': \"Feel like I'm walking on air... definitely recommend!\", 'date': '28 Jan 2020', 'variant': 'Size: 6.5 Color: White/Metallic Silver/Dark Grey', 'images': None, 'verified': 'Yes', 'author': 'Victoria', 'rating': '5.0', 'product': \"Nike Women's Reax Run 5 Running Shoes\", 'url': 'https://www.amazon.com/Nike-Womens-Reax-Running-Shoes/product-reviews/B07ZPL752N/ref=cm_cr_getr_d_paging_btm_next_30?ie=UTF8&reviewerType=all_reviews&pageNumber=30&sortBy=recent\\n'}\n",
      "{'title': 'Comfy', 'content': 'Very nice and comfy shoe', 'date': '26 Feb 2020', 'variant': 'Size: 9 Color: White/Metallic Silver/Dark Grey', 'images': None, 'verified': 'Yes', 'author': 'Sharie Jones', 'rating': '5.0', 'product': \"Nike Women's Reax Run 5 Running Shoes\", 'url': 'https://www.amazon.com/Nike-Womens-Reax-Running-Shoes/product-reviews/B07ZPL752N/ref=cm_cr_getr_d_paging_btm_next_30?ie=UTF8&reviewerType=all_reviews&pageNumber=30&sortBy=recent\\n'}\n",
      "{'title': 'New shoes', 'content': 'The shoes are wider then i would like', 'date': '06 Dec 2019', 'variant': 'Size: 8.5 Color: White/Metallic Silver/Dark Grey', 'images': None, 'verified': 'Yes', 'author': 'alisha', 'rating': '3.0', 'product': \"Nike Women's Reax Run 5 Running Shoes\", 'url': 'https://www.amazon.com/Nike-Womens-Reax-Running-Shoes/product-reviews/B07ZPL752N/ref=cm_cr_getr_d_paging_btm_next_30?ie=UTF8&reviewerType=all_reviews&pageNumber=30&sortBy=recent\\n'}\n",
      "{'title': 'nike shoes', 'content': 'i like the product,it’s just  fits right and very comfortable not big not small is just right', 'date': '16 Jan 2020', 'variant': 'Size: 8.5 Color: Black/White/Mtlc Cool Grey', 'images': None, 'verified': 'Yes', 'author': 'Maridel Sandoval', 'rating': '5.0', 'product': \"Nike Women's Reax Run 5 Running Shoes\", 'url': 'https://www.amazon.com/Nike-Womens-Reax-Running-Shoes/product-reviews/B07ZPL752N/ref=cm_cr_getr_d_paging_btm_next_30?ie=UTF8&reviewerType=all_reviews&pageNumber=30&sortBy=recent\\n'}\n",
      "{'title': 'Good shoe slightly pricey', 'content': 'Surprisingly comfortable usually nike shoes are narrow for me', 'date': '07 May 2020', 'variant': 'Size: 8.5 Color: Black/White/Mtlc Cool Grey', 'images': None, 'verified': 'Yes', 'author': 'Brandi', 'rating': '5.0', 'product': \"Nike Women's Reax Run 5 Running Shoes\", 'url': 'https://www.amazon.com/Nike-Womens-Reax-Running-Shoes/product-reviews/B07ZPL752N/ref=cm_cr_getr_d_paging_btm_next_30?ie=UTF8&reviewerType=all_reviews&pageNumber=30&sortBy=recent\\n'}\n",
      "{'title': 'Nike shoe', 'content': 'Ok just don’t like the plastic look of the shoe', 'date': '25 Dec 2019', 'variant': None, 'images': None, 'verified': 'Yes', 'author': 'Sheila Howerton', 'rating': '3.0', 'product': \"Nike Women's Reax Run 5 Running Shoes\", 'url': 'https://www.amazon.com/Nike-Womens-Reax-Running-Shoes/product-reviews/B07ZPL752N/ref=cm_cr_getr_d_paging_btm_next_30?ie=UTF8&reviewerType=all_reviews&pageNumber=30&sortBy=recent\\n'}\n"
     ]
    }
   ],
   "source": [
    "# Create an empty data frame\n",
    "df = pd.DataFrame(columns=[\"title\",\"content\",\"date\",\"variant\",\"images\",\"verified\",\"author\",\"rating\",\"product\",\"url\"])\n",
    "\n",
    "# Create an empty list\n",
    "product_data = []\n",
    "\n",
    "# Scraping part, reading the list of the \"urls_list.txt\" to scrape and saving the data into the \"data.csv\" and the empty df\n",
    "with open(\"urls_list.txt\",'r') as urllist, open('data.csv','w', encoding='utf-8') as outfile:\n",
    "    \n",
    "    # instancing an empty csv to populate with data\n",
    "    writer = csv.DictWriter(outfile, fieldnames=[\"title\",\"content\",\"date\",\"variant\",\"images\",\"verified\",\"author\",\"rating\",\"product\",\"url\"],quoting=csv.QUOTE_ALL)\n",
    "    writer.writeheader()\n",
    "    \n",
    "    for url in urllist.readlines():\n",
    "        data = scrape(url) \n",
    "        if data:\n",
    "            i = 0\n",
    "            for r in data['reviews']:\n",
    "                r[\"product\"] = data[\"product_title\"]\n",
    "                r['url'] = url\n",
    "                try:\n",
    "                    if 'verified' in r:\n",
    "                        if 'Verified Purchase' in r['verified']:\n",
    "                            r['verified'] = 'Yes'\n",
    "                        else:\n",
    "                            r['verified'] = 'Not Verified'\n",
    "                except:\n",
    "                    pass\n",
    "\n",
    "                r['rating'] = r['rating'].split(' out of')[0]\n",
    "                date_posted = r['date'].split('on ')[-1]\n",
    "                if r['images']:\n",
    "                    r['images'] = \"\\n\".join(r['images'])\n",
    "                r['date'] = dateparser.parse(date_posted).strftime('%d %b %Y')\n",
    "\n",
    "                print(r)\n",
    "\n",
    "                # append the data to the empty list\n",
    "                product_data.append([str(r['title']), str(r['content']), str(r['date']),  str(r['variant']), str(r['images']), str(r['verified']), str(r['author']), str(r['rating']), str(r['product']), str(r['url'])])\n",
    "                \n",
    "                # write data to csv\n",
    "                writer.writerow(r)\n",
    "                \n",
    "                i=i+1\n",
    "\n",
    "            sleep(1)"
   ]
  },
  {
   "cell_type": "code",
   "execution_count": 272,
   "metadata": {},
   "outputs": [
    {
     "data": {
      "text/plain": [
       "300"
      ]
     },
     "execution_count": 272,
     "metadata": {},
     "output_type": "execute_result"
    }
   ],
   "source": [
    "# number of reviews scraped\n",
    "len(product_data)"
   ]
  },
  {
   "cell_type": "markdown",
   "metadata": {},
   "source": [
    "## Add rows to the empty data frame"
   ]
  },
  {
   "cell_type": "code",
   "execution_count": 273,
   "metadata": {},
   "outputs": [],
   "source": [
    "i = 0\n",
    "for ls in product_data:\n",
    "    df.loc[i] = ls\n",
    "    i = i+1\n",
    "    "
   ]
  },
  {
   "cell_type": "code",
   "execution_count": 274,
   "metadata": {
    "scrolled": true
   },
   "outputs": [
    {
     "data": {
      "text/html": [
       "<div>\n",
       "<style scoped>\n",
       "    .dataframe tbody tr th:only-of-type {\n",
       "        vertical-align: middle;\n",
       "    }\n",
       "\n",
       "    .dataframe tbody tr th {\n",
       "        vertical-align: top;\n",
       "    }\n",
       "\n",
       "    .dataframe thead th {\n",
       "        text-align: right;\n",
       "    }\n",
       "</style>\n",
       "<table border=\"1\" class=\"dataframe\">\n",
       "  <thead>\n",
       "    <tr style=\"text-align: right;\">\n",
       "      <th></th>\n",
       "      <th>title</th>\n",
       "      <th>content</th>\n",
       "      <th>date</th>\n",
       "      <th>variant</th>\n",
       "      <th>images</th>\n",
       "      <th>verified</th>\n",
       "      <th>author</th>\n",
       "      <th>rating</th>\n",
       "      <th>product</th>\n",
       "      <th>url</th>\n",
       "    </tr>\n",
       "  </thead>\n",
       "  <tbody>\n",
       "    <tr>\n",
       "      <th>0</th>\n",
       "      <td>Look just like the photo</td>\n",
       "      <td>I love the shoes they are true to size , I wea...</td>\n",
       "      <td>18 Sep 2018</td>\n",
       "      <td>Size: 8 Color: White/Metallic Silver/Dark Grey</td>\n",
       "      <td>https://images-na.ssl-images-amazon.com/images...</td>\n",
       "      <td>Yes</td>\n",
       "      <td>Diane Johnson</td>\n",
       "      <td>5.0</td>\n",
       "      <td>Nike Women's Reax Run 5 Running Shoes</td>\n",
       "      <td>https://www.amazon.com/Nike-Womens-Reax-Runnin...</td>\n",
       "    </tr>\n",
       "    <tr>\n",
       "      <th>1</th>\n",
       "      <td>After 20 returns</td>\n",
       "      <td>Just writing a rare review on these . I love N...</td>\n",
       "      <td>08 May 2019</td>\n",
       "      <td>Size: 10 Color: White/Metallic Silver/Dark Grey</td>\n",
       "      <td>https://images-na.ssl-images-amazon.com/images...</td>\n",
       "      <td>Yes</td>\n",
       "      <td>sherlain miranda</td>\n",
       "      <td>4.0</td>\n",
       "      <td>Nike Women's Reax Run 5 Running Shoes</td>\n",
       "      <td>https://www.amazon.com/Nike-Womens-Reax-Runnin...</td>\n",
       "    </tr>\n",
       "    <tr>\n",
       "      <th>2</th>\n",
       "      <td>Half size up :)</td>\n",
       "      <td>I have only run in them a couple of times, but...</td>\n",
       "      <td>14 Dec 2018</td>\n",
       "      <td>Size: 9.5 Color: White/Metallic Silver/Dark Grey</td>\n",
       "      <td>https://images-na.ssl-images-amazon.com/images...</td>\n",
       "      <td>Yes</td>\n",
       "      <td>Blondie</td>\n",
       "      <td>5.0</td>\n",
       "      <td>Nike Women's Reax Run 5 Running Shoes</td>\n",
       "      <td>https://www.amazon.com/Nike-Womens-Reax-Runnin...</td>\n",
       "    </tr>\n",
       "    <tr>\n",
       "      <th>3</th>\n",
       "      <td>Surprisingly comfortable</td>\n",
       "      <td>I have a very hard time finding shoes that are...</td>\n",
       "      <td>26 Aug 2018</td>\n",
       "      <td>Size: 8 Color: White/Metallic Silver/Dark Grey</td>\n",
       "      <td>None</td>\n",
       "      <td>Yes</td>\n",
       "      <td>E Diaz</td>\n",
       "      <td>5.0</td>\n",
       "      <td>Nike Women's Reax Run 5 Running Shoes</td>\n",
       "      <td>https://www.amazon.com/Nike-Womens-Reax-Runnin...</td>\n",
       "    </tr>\n",
       "    <tr>\n",
       "      <th>4</th>\n",
       "      <td>Cute and Stylish..</td>\n",
       "      <td>Great workout shoes. Very comfortable.</td>\n",
       "      <td>04 Sep 2017</td>\n",
       "      <td>None</td>\n",
       "      <td>https://images-na.ssl-images-amazon.com/images...</td>\n",
       "      <td>Yes</td>\n",
       "      <td>Angel Buchanan</td>\n",
       "      <td>5.0</td>\n",
       "      <td>Nike Women's Reax Run 5 Running Shoes</td>\n",
       "      <td>https://www.amazon.com/Nike-Womens-Reax-Runnin...</td>\n",
       "    </tr>\n",
       "  </tbody>\n",
       "</table>\n",
       "</div>"
      ],
      "text/plain": [
       "                      title  \\\n",
       "0  Look just like the photo   \n",
       "1          After 20 returns   \n",
       "2           Half size up :)   \n",
       "3  Surprisingly comfortable   \n",
       "4        Cute and Stylish..   \n",
       "\n",
       "                                             content         date  \\\n",
       "0  I love the shoes they are true to size , I wea...  18 Sep 2018   \n",
       "1  Just writing a rare review on these . I love N...  08 May 2019   \n",
       "2  I have only run in them a couple of times, but...  14 Dec 2018   \n",
       "3  I have a very hard time finding shoes that are...  26 Aug 2018   \n",
       "4             Great workout shoes. Very comfortable.  04 Sep 2017   \n",
       "\n",
       "                                            variant  \\\n",
       "0    Size: 8 Color: White/Metallic Silver/Dark Grey   \n",
       "1   Size: 10 Color: White/Metallic Silver/Dark Grey   \n",
       "2  Size: 9.5 Color: White/Metallic Silver/Dark Grey   \n",
       "3    Size: 8 Color: White/Metallic Silver/Dark Grey   \n",
       "4                                              None   \n",
       "\n",
       "                                              images verified  \\\n",
       "0  https://images-na.ssl-images-amazon.com/images...      Yes   \n",
       "1  https://images-na.ssl-images-amazon.com/images...      Yes   \n",
       "2  https://images-na.ssl-images-amazon.com/images...      Yes   \n",
       "3                                               None      Yes   \n",
       "4  https://images-na.ssl-images-amazon.com/images...      Yes   \n",
       "\n",
       "             author rating                                product  \\\n",
       "0     Diane Johnson    5.0  Nike Women's Reax Run 5 Running Shoes   \n",
       "1  sherlain miranda    4.0  Nike Women's Reax Run 5 Running Shoes   \n",
       "2           Blondie    5.0  Nike Women's Reax Run 5 Running Shoes   \n",
       "3            E Diaz    5.0  Nike Women's Reax Run 5 Running Shoes   \n",
       "4    Angel Buchanan    5.0  Nike Women's Reax Run 5 Running Shoes   \n",
       "\n",
       "                                                 url  \n",
       "0  https://www.amazon.com/Nike-Womens-Reax-Runnin...  \n",
       "1  https://www.amazon.com/Nike-Womens-Reax-Runnin...  \n",
       "2  https://www.amazon.com/Nike-Womens-Reax-Runnin...  \n",
       "3  https://www.amazon.com/Nike-Womens-Reax-Runnin...  \n",
       "4  https://www.amazon.com/Nike-Womens-Reax-Runnin...  "
      ]
     },
     "execution_count": 274,
     "metadata": {},
     "output_type": "execute_result"
    }
   ],
   "source": [
    "df.head(5)"
   ]
  },
  {
   "cell_type": "code",
   "execution_count": 288,
   "metadata": {},
   "outputs": [],
   "source": [
    "# convert the string date to datetime\n",
    "df['date'] = pd.to_datetime(df['date'])\n",
    "\n",
    "# sort the df by date\n",
    "df.sort_values('date', ascending=False, inplace=True)"
   ]
  },
  {
   "cell_type": "markdown",
   "metadata": {},
   "source": [
    "# Sentiment Analysis\n",
    "After the scraping we perform the sentiment analysis on the reviews"
   ]
  },
  {
   "cell_type": "code",
   "execution_count": 275,
   "metadata": {},
   "outputs": [
    {
     "name": "stdout",
     "output_type": "stream",
     "text": [
      "0.165625 POSITIVE I love the shoes they are true to size , I wear a 7 1/2 but I ordered a 8 to allow a little extra room and I got just that\n",
      "--------------------------------------------------------------------\n",
      "0.40151515151515155 POSITIVE Just writing a rare review on these . I love Nike’s but my feet don’t usually. So I’ve ordered and returned a lot. Tried again lol and these ARE AMAZING comfortable. So much that I may order 3 more this year just to have them. The color is so cute and clean and sporty. I’m 99.9% sure I’ve dinally found a pair of Nikes I’m not going to return , fingers crossed 🤞😊\n",
      "--------------------------------------------------------------------\n",
      "0.240530303030303 POSITIVE I have only run in them a couple of times, but so far they feel great. I normally wear a size 9, and I ordered a 9.5, and I’m glad I did. There is plenty of room, but not too much. The only thing that will take me getting used to is that they are slightly bulkier than my ASICS. Like any running shoes, I’m sure it will take a little bit of time to work out the stiffness and fully break them in, but they are amazing!\n",
      "--------------------------------------------------------------------\n",
      "0.2439102564102564 POSITIVE I have a very hard time finding shoes that are comfortable for me, I have severe fibromyalgia with no help from medications because nothing works for me. So I am constantly looking for comfortable clothing and sneakers. Usually nike isnt good for me but after deciding to give this pair a try I was happy I did. Not only are they nice looking but they really are comfortable. I wore them all day today did a lot of walking and have zero issues with my feet hurting. Worth the extra money\n",
      "--------------------------------------------------------------------\n",
      "0.66 POSITIVE Great workout shoes. Very comfortable.\n",
      "--------------------------------------------------------------------\n",
      "0.20568181818181816 POSITIVE This is my second pair.  They are the most comfortable tennis shoes I own, I can be on my feet all day and they don't hurt.  I normally wear a 8.5 but in this shoe I wear a 9.  I find the toe box is wider and more comfortable especially if I wear a little thicker sock, it's just roomy enough to my toes are scrunched together.  I don't have a wide foot either.\n",
      "--------------------------------------------------------------------\n",
      "0.07361111111111111 POSITIVE This is my second pair. I think these shoes are comfy and aren't hard to keep looking fresh and white. I wear them to work every day and wash them about once a month and let them air dry. Love them.\n",
      "--------------------------------------------------------------------\n",
      "0.2207142857142857 POSITIVE I'm really loving these shoe's. A little pricey. I'm on my feet a lot for work plus I  jog. I've worn them three times now and they're very comfortable. I wear a 6 1/2, purchase a 6 1/2, fits perfect. I like my shoes a little wide in the toe area. Read some reviews that the heels were too wide, I haven't an experience that.\n",
      "--------------------------------------------------------------------\n",
      "0.6583333333333333 POSITIVE Gorgeous shoes! I love it. Nice for running\n",
      "--------------------------------------------------------------------\n",
      "0.8 POSITIVE Look great but my feet are killing me during my walk and after my walk.\n",
      "--------------------------------------------------------------------\n",
      "0.08124999999999999 POSITIVE I love these shoes! It took a couple days to break them in, but they're really comfortable and don't make my feet hurt. I would've given them 5 stars, but the shoes still had a security tag attached to them and I had to go to a few stores to find a place that could remove it. That was really frustrating!\n",
      "--------------------------------------------------------------------\n",
      "0.3775 POSITIVE Perfect for my high arches. No break in needed. Comfortable for long hikes\n",
      "--------------------------------------------------------------------\n",
      "0.16400111607142856 POSITIVE I'm not really big into sneakers but I'm a fan of Nike and their activewear. When I saw these a few months ago, I HAD to have them. I usually only buy shoes that are black or black & white so this was a change for me. They're on the pricey side so for months I watched the price yo-yo. Right after the holidays they were the cheapest I've seen them, so I bought them! I had received them a few days ago. I wore them for the first time today and they were great! I'm normally a size 7 in women's shoes and one reviewer mentioned going up a half size, which ended up being a good idea so I ordered the 7. 5. Definitely very comfortable and I feel like it gives me a little bit of height (I'm 5'0 so I like it!). I love the colors! Can't wait to break them in!\n",
      "--------------------------------------------------------------------\n",
      "0.16729497354497355 POSITIVE Not a good fit for me.  The sole material is incredible stiff (hardly bendable). Compared to my old Gel Nimbus 16 Asics little front foot support for impact.  The heel fits fine ... shoe is tight around top of foot and toe box. I feel an odd bump in the ball of foot cushion.  Another half size up MIGHT do it (I always wear a 7 in running shoes and that's what I ordered), if it weren't for the other issues. I own a pair the original Nike's Lady running shoes from the 80's. They STILL fit perfectly!\n",
      "--------------------------------------------------------------------\n",
      "0.25 POSITIVE I love these running shoes.  The only thing I will say is I wish I had worn socks with them.  Otherwise they are like walking on clouds.  I have circulation issues and these are the only shoes that don't pinch anywhere.  (rubbing on the arch of the foot is probably more to do with my foot than the shoe design it self).\n",
      "--------------------------------------------------------------------\n",
      "0.48125 POSITIVE I’m on concrete floors all day at work and these shoes have helped sooo much!!!! Very comfortable!!\n",
      "--------------------------------------------------------------------\n",
      "0.4966666666666666 POSITIVE Very nice sneakers I have osteoarthritis very comfortable straight out of box with no break in needed no shock to my knees or feet . I highly recommend this item very comfortable great support\n",
      "--------------------------------------------------------------------\n",
      "0.06090443121693123 POSITIVE Not shoes I wanted, but needed a pair I could actually walk in due to being pregnant and keeping up with my 2yr old outside. So I ordered these was bummed out till I received them I fell in love instantly I get so many compliments and when I say how much they cost people are wowed at how such great shoes are pricy, but not costing a arm and leg like most. However they do rub a little and are tight around the ankles (My ankles have not swollen yet only 3m along) SO I would least suggest socks that go a little above your ankle at least. I got a size 9 they are a little big on me so I would say order a size down or if you like the extra room get your normal size.\n",
      "--------------------------------------------------------------------\n",
      "0.2322916666666667 POSITIVE This shoe is awesome. I usually get half a size larger in Nike because they are typically narrow and short. This shoe, however, I ordered in my normal size six and it's great. The toe box is roomier. The whole shoe seems wider to me. They are comfortable and I love running in them. I have gone on long runs, short runs with them and they are great! If you are looking for the typical snug fitting nike, this is not it.\n",
      "--------------------------------------------------------------------\n",
      "0.29375 POSITIVE I love these shoes! I finally found shoes not only help me walk 3 of my dogs but they also have great grip on the ground! My dogs saw someone walking their dog and these shoes kept me from slipping off the pavement! Comedy avoided that day!\n",
      "--------------------------------------------------------------------\n",
      "0.3464285714285714 POSITIVE This is the first time I have ever bought shoes for myself online so I was a bit scared/sceptical, but they fit perfectly. I was in an auto accident and my shoes were ruined. I was unable to go shopping due to injuries and I am so thankful they fit perfectly!!\n",
      "--------------------------------------------------------------------\n",
      "0.12857142857142856 POSITIVE I wear a 7 in most shoes, my Brooks shoes are a 7.5 so I ordered these in a 7.5 too and unfortunately they’re too small. The shoe is quite stiff going on, not a lot of give in them at all. I’m not sure I could run in these but they’re so beautiful I’m returning them and getting an 8 hoping those will fit better. It’s such a pretty shoe, but I’ll be looking for something else to run in and use these with my jeans or capris.\n",
      "--------------------------------------------------------------------\n",
      "0.2796173878205129 POSITIVE The shoe appears to look great till you get them and then when I got them in the mail they already had scuffs and scratches in the paint and the shoe had some bumpy areas towards the back of the shoe that should not be there the material seems to be made real cheap or I just ended up with a pair that was made horribly! I’m not that happy about this shoe (Nike Reax Run 5)  I should not have to pay for a pair of shoes that’s already damaged! When I get shoes I take care of them and don’t like marks and scuffs so all in all I’m not very happy with this product I would Have never paid the amount I paid for these shoes if I would have known they were going to be damaged!! I’m not satisfied at all!! Now I have to wait until I get paid again before I can even get a decent pair of shoes to wear !\n",
      "--------------------------------------------------------------------\n",
      "0.75 POSITIVE This is the best Sneaker I have ever purchased iam on my feet, walking according to my Fitbit way over eight thousand steps and I don’t feel it at all I love these sneakers\n",
      "--------------------------------------------------------------------\n",
      "0.47222222222222215 POSITIVE These were just what I wanted. Perfect fit, comfortable, and not super bright and tacky like most athletic shoes these days.\n",
      "--------------------------------------------------------------------\n",
      "0.20486111111111113 POSITIVE I am usually do not buy Nikes because of the narrow fit on me.  but I read the reviews and gave it a shot.  Well I couldn't be happier! These have been comfortable from the minute I put them on!  They seem wider than the typical Nikes I've bought and extremely supportive..  I walk and workout and they've been perfect.  I recently have had some lower back pain and am trying to wear these which really helps.  You can't go wrong with these shoes.  I plan on ordering more colors\n",
      "--------------------------------------------------------------------\n",
      "0.33162037037037034 POSITIVE So comfortable for any physical activity, walking, weights, yoga, and running the distance. The comfort is top notch and unmatched by any other I've ever worn, period. Great looking, and great for all physical activities, from walking all over doing errands to running a marathon. Best athletic shoes ever, hands down, worth every dollar, it is worth its price and beyond.  Highly recommend for all.\n",
      "--------------------------------------------------------------------\n",
      "0.2520833333333333 POSITIVE Comfortable. It’s hard for me to find athletic shoes because I wear women’s 12 but men’s shoes tend to be to wide and boxy in the toe area for me. It’s wonderful to find a pair I like and can wear.\n",
      "--------------------------------------------------------------------\n",
      "-0.09999999999999998 NEGATIVE I was getting foot pain while in gym and this was 4th pair I be trying to help me with pain in my feet while gym training and this is the shoes I wear everyday no pain. I have all expensive types of shoes but this one helped me with pain and I can enjoy my gym\n",
      "--------------------------------------------------------------------\n",
      "0.675 POSITIVE These shoes are great!  I have been doing power walking in them .  They fit great and no blisters.  So comfortable!  I would be these again .\n",
      "--------------------------------------------------------------------\n",
      "-0.12407407407407407 NEGATIVE I'm a Nike shoes expert, I always wear Nike for my workouts cause simply it's the best choice for me and I always order them online. This time I was amazed by the design, the color.. everything but when it reached. I was a bit disappointed :( the quality is way too poor for Nike brand, the shoes is so hard on my feet and toes although I have a very slim foot and the shoes is wide! so it's really big  NO for this model for me.\n",
      "--------------------------------------------------------------------\n",
      "-0.023333333333333345 NEGATIVE Left foot feels like you have a bunches up sock under your toes. I took out the inserts and it's the shoe itself not the insert. So that's annoying. Beautiful but can't wear them very long due to that. I would guess this is a one off issue so I wouldn't that stop you from ordering this was just my experience and only issue.\n",
      "--------------------------------------------------------------------\n",
      "0.6666666666666666 POSITIVE Great and comfortable tennis shoe. Just pray over them because Michael Jordan may have sold his soul to sell Nike's for generations and everyone who wore them be cursed. So we pray over all of our products before we use. Feels great.\n",
      "--------------------------------------------------------------------\n",
      "0.28625 POSITIVE These are very cute, comfortable and are great running shoes! The only issue is the back of the shoe rubbed a blister on my heel with no show socks. I would wear a little higher of a sock because the back of the shoe comes up higher than most.\n",
      "--------------------------------------------------------------------\n",
      "0.43333333333333335 POSITIVE These shoes are so clean. Love em...\n",
      "--------------------------------------------------------------------\n",
      "0.10367965367965368 POSITIVE Appearance- very stylish, cute Fitting- I have small feet size 6 and these were really tight on my feet, the arch in the right shoe felt off which made for a uncomfortable feeling. Comfort- I’m on my feet a majority of the time that I’m awake and I’m constantly going, I tried these for half a day I couldn’t do it my feet hurt. These shoes are not breathable. I definitely do not feel that these are worth the money\n",
      "--------------------------------------------------------------------\n",
      "0.22847222222222222 POSITIVE I love the look. It's hard to find a normal looking seeker.  These are perfect.  The price is a little much.\n",
      "--------------------------------------------------------------------\n",
      "0.48 POSITIVE Ok I have now had the shoe for one month. I have to say I can see lots of stress on my shoe. I work in the construction field so I am in and out of an office and running and walking a ton. Not the best shoe for wear and tear durability. Very comfortable shoe I must say but not very durable.\n",
      "--------------------------------------------------------------------\n",
      "0.3616666666666667 POSITIVE My lady is very pleased with the product. They look cute on her feet and she is happy that I got her exactly what she asked for. The shoes fit bit she already had a pair and they lasted a  very long time. I’m still very pleased with Amazon over all as whatever I need from furniture to hard to get snacks you guys are truly a technological wonder.\n",
      "--------------------------------------------------------------------\n",
      "0.30222222222222217 POSITIVE I received the shoes today. So far I really like them. They are very comfortable and offer good support for my arches. My only complaint is that they left the plastic security device on the shoes. With some time and help from the internet on how to remove the device, we were able to remove it from the shoe. Aside from that I am very happy with my purchase.\n",
      "--------------------------------------------------------------------\n",
      "0.25000000000000006 POSITIVE Really comfortable, looks great feels amazing , my feet don’t ever hurt in these sneakers , kinda reminds me of a base ball\n",
      "--------------------------------------------------------------------\n",
      "-0.05347222222222223 NEGATIVE These shoe a super cool for appearance on the side. I personally hate looking down at sneakers on my feet because I have wide feet. These shoes kinda give me the same vibe when looking down at them. I’ve been walking around in them to break them in. So far the are doing the job.\n",
      "--------------------------------------------------------------------\n",
      "-0.09107142857142857 NEGATIVE Didn’t try it on because the right shoe was yellowish grey, looked dirty. Sent them back\n",
      "--------------------------------------------------------------------\n",
      "0.216875 POSITIVE I baby these, white shoes in nursing don’t stay white for very long. But if I do t have sore feet after a double shift I’m happy. I get a lot compliments and several people have told me they have never seen these in the store. Amazon is the only place I shop for my Nike’s!! Great service and shoes!!\n",
      "--------------------------------------------------------------------\n",
      "0.16666666666666666 POSITIVE I was hoping this shoe would help my aching feet but it was a bit too narrow for me. Thatsaidit was a good looking shoe and well padded. If this comes in a wider version, I would definitely order it.\n",
      "--------------------------------------------------------------------\n",
      "0.08333333333333333 POSITIVE I like the sneakers, but there is a huge smudge in the one side, for nearly $100, you would think they would be perfect. I’m not happy about this, I would like a partial refund as they are not perfect!\n",
      "--------------------------------------------------------------------\n",
      "-0.2785714285714286 NEGATIVE I like to the look of the shoe but it is very 'stiff\" and \"bulky\".  I tried to break it in for a couple of months but no luck. I cannot wear it to my crossfit workouts since it is not flexible.\n",
      "--------------------------------------------------------------------\n",
      "0.145 POSITIVE I absolute LOVE this shoe. Nike’s are usually hit or miss for me but these are wide enough, leave room to wiggle my toes and the sole is soft and supportive. Only problem I found buying them from Amazon is I bought them for just under $100 and two days after wearing them, Kohl’s had them on sale for $56!!! Shop around! You may find them for a better price elsewhere.\n",
      "--------------------------------------------------------------------\n",
      "0.28200757575757573 POSITIVE I live these shoes. I get a lot of compliments. They’re what you should expect from these kinds of gym shoes. They’re white, so I’m always trying to keep them clean. I love them though!\n",
      "--------------------------------------------------------------------\n",
      "0.3107575757575758 POSITIVE Love these shoes!  These are my 2nd pair, I wore the first pair for so long that they finally wore out.  A co worker of mine saw me wearing them and liked them so much she tried mine on to know what size to order. Lol.  They are comfy and super cute, highly recommend them.\n",
      "--------------------------------------------------------------------\n",
      "0.12187500000000001 POSITIVE I have had several pairs of these shoes, usually bought at stores, but haven't been able to find them anywhere lately. Found these on Amazon, they were more expensive here, $109 or so, but I know how they fit and I love them!\n",
      "--------------------------------------------------------------------\n",
      "0.55 POSITIVE I’ve seen these shoes on someone else and fell in love with them. I ordered them for myself and I love them on me too. They’re comfortable and look great.\n",
      "--------------------------------------------------------------------\n",
      "0.1875 POSITIVE I really like this shoe style. They are really cute. The only problem was the back of my ankle  hurt from the shoe rubbing against it. I had to place a few bandaids on the area for comfort. Once broken in they're the perfect fit.\n",
      "--------------------------------------------------------------------\n",
      "0.3403409090909091 POSITIVE I love these shoes. Some of the new tennis shoes are a fabric material and as a result are a bit soft. I prefer the sturdier ones like these. Love them!\n",
      "--------------------------------------------------------------------\n",
      "0.15444444444444444 POSITIVE I bought these for work and they are super comfy. Just be warned, they are wide but narrow across the laces so if you have a super high arch they may not be comfortable.\n",
      "--------------------------------------------------------------------\n",
      "0.2742857142857143 POSITIVE I read all reviews. They were stiff, but I wore last night to work and they loosened right up. My shoes WERE PERFECT, NO DAMAGE OR DISCOLORATION. WORTH THE MONEY.\n",
      "--------------------------------------------------------------------\n",
      "0.25758928571428574 POSITIVE True fit and feels great on foot. Only thing is the back of shoe will hit Achilles area if you're sensitive. But you can condition that area of the shoe so it's not so stiff. Love the shoes!\n",
      "--------------------------------------------------------------------\n",
      "0.2333333333333333 POSITIVE Not real comfortable.  Wouldnt wear on a run. Wear to the gym. Ok for cardio machines. I kept cuz I liked the color but a great disappointment for athletic shoe\n",
      "--------------------------------------------------------------------\n",
      "0.45333333333333337 POSITIVE Amazingly comfortable and great for high arches and plantar fasciitis.\n",
      "--------------------------------------------------------------------\n",
      "0.4 POSITIVE I receive a lot of compliments on these shoes but they are not as comfortable as I would have hoped. I do not use them to workout in because of that.\n",
      "--------------------------------------------------------------------\n",
      "0.5708333333333333 POSITIVE Used for walking around in Boston. Comfortable all day and very cute! Glad I made the purchase.\n",
      "--------------------------------------------------------------------\n",
      "0.24916666666666668 POSITIVE I have Plantar Fasciitis so arch support is very important. I have wasted A LOT of money on shoes that claim to be great. This style of shoe has never disappointed me. This is my second pair of this style and will be the only shoe I buy from now on.\n",
      "--------------------------------------------------------------------\n",
      "-0.09441287878787878 NEGATIVE These are soooooooi comfy I can’t express how much I love them. I wish they were in other colors (green, orange, or teal) I hate pink and they make me like it.  Slightly less than moderate arch support.  But a new insole specifically for that would resolve the issue\n",
      "--------------------------------------------------------------------\n",
      "0.5 POSITIVE Wife love the way they feel\n",
      "--------------------------------------------------------------------\n",
      "0.26166666666666666 POSITIVE This is my second pair or I probably would not have ordered them online. They’re very good shoes. I stand on my feet all day so I have to use arch support with them but that’s due to my occupation.\n",
      "--------------------------------------------------------------------\n",
      "0.10740740740740742 POSITIVE I ordered up a half size as usual for Nike, the run half a size snug. Great arch and heel support. I wish the came in grey instead of stark white thou. Overall very happy\n",
      "--------------------------------------------------------------------\n",
      "0.14752747252747253 POSITIVE Too loose in the heel for my narrow feet.  I was hoping the heel would fit similar to the Shox NZ but that wasnt the case.  Nice shoe, great price, just not right for my narrow feet\n",
      "--------------------------------------------------------------------\n",
      "0.25 POSITIVE There okay, the  colors are pretty but I like the white ones they sell better.  So I bought the last pair of those Also 😆💯👍🏼\n",
      "--------------------------------------------------------------------\n",
      "0.43333333333333335 POSITIVE I love these tennis shoes.  They fit well.  They look and feel comfortable.  I would recommend these sneakers to anyone.\n",
      "--------------------------------------------------------------------\n",
      "0.54375 POSITIVE These shoes are gorgeous! Pics do no justice. Totally in love with them. Wish they came with memory foam soles but well worth buying  :)\n",
      "--------------------------------------------------------------------\n",
      "0.2 POSITIVE very comfy.\n",
      "--------------------------------------------------------------------\n",
      "0.48333333333333334 POSITIVE Best shoes I have found in a long time. I love these shoes\n",
      "--------------------------------------------------------------------\n",
      "0.4281954887218045 POSITIVE I love this shoe. Most Nike shoes are narrow and don’t fit good. I crushed my right foot and have 13 screws and 8 plates so I have to have a good wide shoe with good support. I love this shoe it is perfect for my foot. Not only does it fit good it’s beautiful just love it. Going to buy a second pair. Great price as well.\n",
      "--------------------------------------------------------------------\n",
      "-0.05 NEGATIVE I did not get them for running. I got them for looks. They have no arch to them so I do not wear them for long periods of time.\n",
      "--------------------------------------------------------------------\n",
      "0.4453125 POSITIVE Love love love these shoes! So comfy. I walked in these and so far no troubles! Will order in another color!\n",
      "--------------------------------------------------------------------\n",
      "0.625 POSITIVE These are great!  Take my dog in a 3-mile run every morn and they don’t give out on me!  Thanks Nike!\n",
      "--------------------------------------------------------------------\n",
      "0.0 NEUTRAL Abit too short in length and width\n",
      "--------------------------------------------------------------------\n",
      "0.02023809523809524 POSITIVE These looked huge from above when I tried them on and, as mentioned, the toe box was too wide for me. Main reason I returned them however was due to no arch support and overall not comfortable for me.\n",
      "--------------------------------------------------------------------\n",
      "0.12666666666666668 POSITIVE I love these tennis for walking.  They are so comfortable.  I bought a black and pink pair, and also a white pair.\n",
      "--------------------------------------------------------------------\n",
      "0.0 NEUTRAL i wear them daily and my feet quit hurting\n",
      "--------------------------------------------------------------------\n",
      "0.3 POSITIVE I liked the way they looked in the picture but they looked a lot different in person.\n",
      "--------------------------------------------------------------------\n",
      "0.9765625 POSITIVE Love these!!!\n",
      "--------------------------------------------------------------------\n",
      "0.43454545454545446 POSITIVE My new NIKE Women's Reax Run 5, Running sneakers are so comfortable. I tried them on when I received and my feet felt real good. I love my new sneakers.\n",
      "--------------------------------------------------------------------\n",
      "0.0 NEUTRAL Seemed larger then store version. Like there was a issue defective and resold on Nike Amazon\n",
      "--------------------------------------------------------------------\n",
      "0.34 POSITIVE I just had full hip and both knees replaced. Have been working on fitness and rehabilitation for weeks now. These Nike shoes have been AMAZING! Worth the money and more. I’m ordering another pair in a darker color for dog walking in the Midwest. I do have a somewhat narrow foot. FYI\n",
      "--------------------------------------------------------------------\n",
      "0.52 POSITIVE Bought them for my daughter, who loves them; very comfortable.\n",
      "--------------------------------------------------------------------\n",
      "0.5 POSITIVE Love this tennis shoe.  It provides the support I need for walking and working around the house.\n",
      "--------------------------------------------------------------------\n",
      "-0.11666666666666665 NEGATIVE Looks nothing like the picture. The shoe was so wide it look like I was wearing a huge brick on my foot. No arch at all, very uncomfortable.\n",
      "--------------------------------------------------------------------\n",
      "0.65 POSITIVE I’be loved This shoes since the first time I saw them ... they make a perfect match for training outfits\n",
      "--------------------------------------------------------------------\n",
      "0.0 NEUTRAL The item is not like a regular Nike\n",
      "--------------------------------------------------------------------\n",
      "0.044642857142857144 POSITIVE I really wanted the bigger 'Shox' but they were really expensive. These shoes are a great second option, just a little heavier than my last pair.\n",
      "--------------------------------------------------------------------\n",
      "0.4 POSITIVE The toe part of the shoe is boxie looking. Over all a nice shoe just nit what I was looking for. It looks like the man's shoe. I really don't think it is the women's shoe.\n",
      "--------------------------------------------------------------------\n",
      "0.1875 POSITIVE Boxy toe. Not exactly what I needed but quality ok. It’s like the shape is ‘off’.\n",
      "--------------------------------------------------------------------\n",
      "0.26111111111111107 POSITIVE Super supportive. I am a nurse and stay in my feet for long hours at a time.\n",
      "--------------------------------------------------------------------\n",
      "0.2875 POSITIVE usually nikes fit me perfectly but these are too big and just sitting on the shoe shelf.. sadness\n",
      "--------------------------------------------------------------------\n",
      "0.2604166666666667 POSITIVE these sneakers are cute, but I think they are a little bulky. I am not a big sneaker person but I was hoping for something lighter. But they fit true to size and they are cute.\n",
      "--------------------------------------------------------------------\n",
      "0.15625 POSITIVE This shoe fit weird is best way to explain.  It fit wide and looked bulky on my foot.  Not sure if I mistakenly purchased wide fit.\n",
      "--------------------------------------------------------------------\n",
      "0.4171428571428571 POSITIVE Well constructed.  Needed extra support (cushion) for ball of right foot.  So far, So good.  Very happy with the shoe.\n",
      "--------------------------------------------------------------------\n",
      "0.5111111111111111 POSITIVE Easy to walk on sidewalk the shoe is not heavy perfect match.\n",
      "--------------------------------------------------------------------\n",
      "0.4333333333333334 POSITIVE Shoe fit well, looks great, and stands up with frequent use.\n",
      "--------------------------------------------------------------------\n",
      "0.6166666666666667 POSITIVE Great fit, lots of comfort and looks very stylish.\n",
      "--------------------------------------------------------------------\n",
      "0.06499999999999999 POSITIVE Very cute love the shoes except they sent them in a box that says the original box was damaged in transit and the shoes are dirty.  Paying over 100 for shoes and they are dirty is not acceptable\n",
      "--------------------------------------------------------------------\n",
      "0.52 POSITIVE They were very comfortable\n",
      "--------------------------------------------------------------------\n",
      "0.6 POSITIVE Perfect fit and love the look. So many compliments.\n",
      "--------------------------------------------------------------------\n",
      "0.09999999999999999 POSITIVE Love these shoes? A bit too expensive but worth it.\n",
      "--------------------------------------------------------------------\n",
      "0.8 POSITIVE Great\n",
      "--------------------------------------------------------------------\n",
      "0.0 NEUTRAL I like them,I am using them for work.\n",
      "--------------------------------------------------------------------\n",
      "0.85 POSITIVE I adore the shoes they are awesome and gorgeous\n",
      "--------------------------------------------------------------------\n",
      "0.12499999999999997 POSITIVE Love everything about this shoe.. looks great.. nothing negative to say... casual wear\n",
      "--------------------------------------------------------------------\n",
      "0.6000000000000001 POSITIVE Great comfortable shoe\n",
      "--------------------------------------------------------------------\n",
      "0.41999999999999993 POSITIVE very comfortable and a very good looking shoe to ma as in pretty they have my favorite colors i was worried about the size cuz i normally wear a size 6 1/2 and they where sold out so i went ahead and got a size 7 and they fit great i dont run so not really sure how they feel during a run but im gonna go ahead and give them 5 stars love my nike\n",
      "--------------------------------------------------------------------\n",
      "0.52 POSITIVE Very comfortable\n",
      "--------------------------------------------------------------------\n",
      "1.0 POSITIVE Ahhhhh . This is a perfect walking shoe\n",
      "--------------------------------------------------------------------\n",
      "0.48750000000000004 POSITIVE Fit amazing! I order 1/2 size larger in a sneaker for socks. Putting them on makes you want to run lol\n",
      "--------------------------------------------------------------------\n",
      "0.1369047619047619 POSITIVE I was so excited to get these shoes then they came damaged and 2 sizes too small minimum even though the shoe and box said they were the right size.\n",
      "--------------------------------------------------------------------\n",
      "0.0 NEUTRAL 👍👍\n",
      "--------------------------------------------------------------------\n",
      "0.10714285714285714 POSITIVE But to large because I followed the advice on reviews and ordered then 1/2 size larger.  Won't do that again. No fault to the shoe\n",
      "--------------------------------------------------------------------\n",
      "0.5166666666666666 POSITIVE Great product and true to size fit\n",
      "--------------------------------------------------------------------\n",
      "0.0 NEUTRAL I work in a warehouse 10 hours a day on my feet. The cushion in it helps my heals.\n",
      "--------------------------------------------------------------------\n",
      "0.890625 POSITIVE Shoe is like the Ruby Slippers! Beautiful! So comfortable! Want another pair!!\n",
      "--------------------------------------------------------------------\n",
      "0.21875 POSITIVE I get many compliments on these shoes. They are hard to keep clean but worth every penny.\n",
      "--------------------------------------------------------------------\n",
      "1.0 POSITIVE Absolutely perfect will be buying another pair\n",
      "--------------------------------------------------------------------\n",
      "0.625 POSITIVE Love this running shoe for treadmill!\n",
      "--------------------------------------------------------------------\n",
      "0.006904761904761906 POSITIVE This sneaker is very heavy. When running it feels like you have lead in your shoes. Also for a size 9 I had to pay $40 more. If I ordered any other size the shoe was $40 less. Must be the extra lead they put in the size 9. For how much I paid, the sneaker was not what was expected.\n",
      "--------------------------------------------------------------------\n",
      "0.8 POSITIVE Great quality for the price.\n",
      "--------------------------------------------------------------------\n",
      "0.39999999999999997 POSITIVE Christmas present for my wife,she loved them and had many compliments on the way they looked\n",
      "--------------------------------------------------------------------\n"
     ]
    },
    {
     "name": "stdout",
     "output_type": "stream",
     "text": [
      "0.258125 POSITIVE Fits great, very comfortable.  Little wide at toes.\n",
      "--------------------------------------------------------------------\n",
      "0.65 POSITIVE Love the shoe fits great\n",
      "--------------------------------------------------------------------\n",
      "0.0 NEUTRAL Like the shoe over all\n",
      "--------------------------------------------------------------------\n",
      "0.45 POSITIVE So cute and comfortable\n",
      "--------------------------------------------------------------------\n",
      "-1.0 NEGATIVE Terribly made. Had to return them.\n",
      "--------------------------------------------------------------------\n",
      "0.3952380952380952 POSITIVE Love the look, fit is just right. Thumbs up\n",
      "--------------------------------------------------------------------\n",
      "0.24999999999999997 POSITIVE Loved these shoes . Just to narrow for my foot.\n",
      "--------------------------------------------------------------------\n",
      "-0.25 NEGATIVE Sent the wrong product totally different from picture.\n",
      "--------------------------------------------------------------------\n",
      "0.4 POSITIVE Comfortable and fits\n",
      "--------------------------------------------------------------------\n",
      "0.45 POSITIVE Love the look and fit\n",
      "--------------------------------------------------------------------\n",
      "0.25 POSITIVE 2nd pair. love these shoes.\n",
      "--------------------------------------------------------------------\n",
      "0.03958333333333333 POSITIVE love these shoes, they are hard to find and last a long time.\n",
      "--------------------------------------------------------------------\n",
      "0.7 POSITIVE Comfy and a Good price\n",
      "--------------------------------------------------------------------\n",
      "0.5066666666666667 POSITIVE Very comfortable. This is my second pair I have purchased. Best shoes ever for working\n",
      "--------------------------------------------------------------------\n",
      "0.5 POSITIVE I’m a prison nurse and CONSTANTLY on my feet. These are the BEST shoes ever!!!\n",
      "--------------------------------------------------------------------\n",
      "0.25 POSITIVE Love them. Will likely purchase another pair so I’ll have backup. Also department stores in detroit area did not carry my size. Largest was size 9. Lots of compliments.\n",
      "--------------------------------------------------------------------\n",
      "0.0 NEUTRAL No me gusto\n",
      "--------------------------------------------------------------------\n",
      "0.325 POSITIVE Very pretty and lots of compliments every time I wear them\n",
      "--------------------------------------------------------------------\n",
      "0.8 POSITIVE Great shoes\n",
      "--------------------------------------------------------------------\n",
      "0.18666666666666665 POSITIVE A bit heavy and high in the heel part but nice looking\n",
      "--------------------------------------------------------------------\n",
      "0.3666666666666667 POSITIVE Super comfortable\n",
      "--------------------------------------------------------------------\n",
      "0.10625000000000001 POSITIVE Little and comfortable\n",
      "--------------------------------------------------------------------\n",
      "0.0 NEUTRAL Muy lindos\n",
      "--------------------------------------------------------------------\n",
      "0.0 NEUTRAL Very big ,Took advice about the reviews ordered bigger size ,should have not was way too big\n",
      "--------------------------------------------------------------------\n",
      "0.25 POSITIVE Such a comfy shoe for running! I love it! And it came early, thank you!\n",
      "--------------------------------------------------------------------\n",
      "0.44999999999999996 POSITIVE Good looking sneaker very vomfortable\n",
      "--------------------------------------------------------------------\n",
      "0.2 POSITIVE I bought these for my lady and it was a very pleasurable surprise. She thanked me and I thank you for these being official Nike sneakers.\n",
      "--------------------------------------------------------------------\n",
      "1.0 POSITIVE Excellent\n",
      "--------------------------------------------------------------------\n",
      "0.5 POSITIVE I prefer it as a fast walking shoe. Nice comfort and support. Good durability\n",
      "--------------------------------------------------------------------\n",
      "0.65 POSITIVE I love these sneakers. They are great foe my backz\n",
      "--------------------------------------------------------------------\n",
      "0.5125 POSITIVE Comfy!!!! True to size nice colors nice arch support Glad I ordered mine\n",
      "--------------------------------------------------------------------\n",
      "0.6 POSITIVE Nice and comfy.\n",
      "--------------------------------------------------------------------\n",
      "0.51 POSITIVE Very comfortable love them\n",
      "--------------------------------------------------------------------\n",
      "0.25312500000000004 POSITIVE I walk 5-6 miles everyday and the Nike MaxAir and the Reax are just perfect. A little wider toe area makes them soo comfortable. I’m sold on them.\n",
      "--------------------------------------------------------------------\n",
      "0.4 POSITIVE True to size. nice shoes. pretty comfortable, takes some wearing in though.\n",
      "--------------------------------------------------------------------\n",
      "0.0 NEUTRAL The heel looks like knock off nike\n",
      "--------------------------------------------------------------------\n",
      "0.0 NEUTRAL Design\n",
      "--------------------------------------------------------------------\n",
      "-0.25 NEGATIVE I’m usually a size 8 and had to get a 7\n",
      "--------------------------------------------------------------------\n",
      "0.0 NEUTRAL You have to break them in\n",
      "--------------------------------------------------------------------\n",
      "0.4777777777777777 POSITIVE They look good. They are super comfortable to wear all day on my feet. I could still kick you in the face if I had too.\n",
      "--------------------------------------------------------------------\n",
      "0.0 NEUTRAL Cushiony!\n",
      "--------------------------------------------------------------------\n",
      "0.5 POSITIVE love hpw they look\n",
      "--------------------------------------------------------------------\n",
      "0.0 NEUTRAL Like the color.\n",
      "--------------------------------------------------------------------\n",
      "0.2 POSITIVE Received in a timely manner from the seller.  I was afraid that nothing could replace my old Shox, but I'm glad I waited and took a chance on these.  They are great.\n",
      "--------------------------------------------------------------------\n",
      "0.3083333333333333 POSITIVE Love these shoes, super comfy when ur on ur feet so much and doing a lot wo walking ... fast shipping.\n",
      "--------------------------------------------------------------------\n",
      "0.0 NEUTRAL I needed the support in this shoe for my back\n",
      "--------------------------------------------------------------------\n",
      "0.0 NEUTRAL Bought these shoes to run in but they are too bulky. I don't like them\n",
      "--------------------------------------------------------------------\n",
      "0.31 POSITIVE I work 10 hour shifts most of it on my feet. Shoes are comfortable all day. I have wide feet and usually wear Danskos, but needed a flatter shoe because my hips were hurting. These work perfect!\n",
      "--------------------------------------------------------------------\n",
      "0.75 POSITIVE Great shoes, fit great, and look awesome on.\n",
      "--------------------------------------------------------------------\n",
      "1.0 POSITIVE Great shoe!! She loves them\n",
      "--------------------------------------------------------------------\n",
      "0.15000000000000002 POSITIVE Comfy shoes, I wear on a concrete floor all day and never have pain or soreness in my feet.\n",
      "--------------------------------------------------------------------\n",
      "0.2556547619047619 POSITIVE I really liked the color. Having large feet sometimes it’s hard to find feminine style sneakers.  These where more of a 13 than a 12. Had to return.\n",
      "--------------------------------------------------------------------\n",
      "0.45 POSITIVE Stylish and comfortable.\n",
      "--------------------------------------------------------------------\n",
      "0.0 NEUTRAL These were the most uncomfortable pair of shoes I ever bought.\n",
      "--------------------------------------------------------------------\n",
      "0.8125 POSITIVE Perfect! Love these for running!\n",
      "--------------------------------------------------------------------\n",
      "0.0 NEUTRAL Me encantaron\n",
      "--------------------------------------------------------------------\n",
      "0.0 NEUTRAL She loves them\n",
      "--------------------------------------------------------------------\n",
      "0.5666666666666668 POSITIVE They fit great, love the style, and the color.\n",
      "--------------------------------------------------------------------\n",
      "-0.1 NEGATIVE I did not like how bulky and wide the shoe looked on my foot.  It was a return.\n",
      "--------------------------------------------------------------------\n",
      "0.18 POSITIVE I was skeptical about buying this sneaker because I never really wear sneakers but this one is so nice comfortable and I love the colors I give 5 thumbs up\n",
      "--------------------------------------------------------------------\n",
      "0.18571428571428572 POSITIVE I'm glad I read other's reviews about these shoes before I bought them. I normally wear a 6 1/2 to 7 but I read they run small. So, I purchased 7 1/2. So glad I did! These shoes are really comfortable with the larger size.\n",
      "--------------------------------------------------------------------\n",
      "0.5 POSITIVE Love them\n",
      "--------------------------------------------------------------------\n",
      "0.35 POSITIVE I am 51, I have always bought Nike shoes because they have always fit my feet perfectly. Until I bought these shoes, the pair I bought are the most uncomfortable shoes I have ever purchased,\n",
      "--------------------------------------------------------------------\n",
      "1.0 POSITIVE Beautiful looking smell!\n",
      "--------------------------------------------------------------------\n",
      "0.0 NEUTRAL Excelent!\n",
      "--------------------------------------------------------------------\n",
      "-0.25833333333333336 NEGATIVE NEVER had a problem with sneakers before until now....so when I finally tried them on, it was too late to return! Not a happy camper.\n",
      "--------------------------------------------------------------------\n",
      "0.5 POSITIVE Love them\n",
      "--------------------------------------------------------------------\n",
      "0.3 POSITIVE Liked the quality but I dislike Nikes political statements\n",
      "--------------------------------------------------------------------\n",
      "0.6 POSITIVE Nice shoes\n",
      "--------------------------------------------------------------------\n",
      "0.25 POSITIVE Stylish, tru-to-fit, would definitely buy again...\n",
      "--------------------------------------------------------------------\n",
      "0.6333333333333333 POSITIVE Love um perfect fit\n",
      "--------------------------------------------------------------------\n",
      "0.39285714285714285 POSITIVE Just right. I use it to work for more than 7 hours a day.\n",
      "--------------------------------------------------------------------\n",
      "0.4 POSITIVE Comfortable\n",
      "--------------------------------------------------------------------\n",
      "0.036111111111111115 POSITIVE They're extremely comfortable, but they're just about half a size smaller than I normally get. So I'd suggest to order them half a size bigger. And they had a stain on the inside of one of them.\n",
      "--------------------------------------------------------------------\n",
      "0.7 POSITIVE They look nice and feel great\n",
      "--------------------------------------------------------------------\n",
      "0.15833333333333333 POSITIVE Love the look! My only complaint is the ankle  cushion is stiff and rubs my ankles at certain angles. Otherwise, love them!\n",
      "--------------------------------------------------------------------\n",
      "0.8 POSITIVE Great\n",
      "--------------------------------------------------------------------\n",
      "0.0 NEUTRAL Muy caro,luego busque otras ofertas y mas barato 74.00\n",
      "--------------------------------------------------------------------\n",
      "0.5 POSITIVE Cute shoes\n",
      "--------------------------------------------------------------------\n",
      "0.0 NEUTRAL Like it\n",
      "--------------------------------------------------------------------\n",
      "0.0 NEUTRAL Hravy\n",
      "--------------------------------------------------------------------\n",
      "-0.13 NEGATIVE Very wide\n",
      "--------------------------------------------------------------------\n",
      "-0.08432539682539682 NEGATIVE Horrible shoe doesn’t fit like a Nike shoe. Too stiff, wide and hard on sore. Throwing them out not even good for gardening.\n",
      "--------------------------------------------------------------------\n",
      "-0.03333333333333333 NEGATIVE I think maybe I could’ve got a extra wide 7 1/2 or eight regular\n",
      "--------------------------------------------------------------------\n",
      "1.0 POSITIVE Great purchase!\n",
      "--------------------------------------------------------------------\n",
      "0.0 NEUTRAL Not my style\n",
      "--------------------------------------------------------------------\n",
      "0.30625 POSITIVE Not worth it! If you want pain, buy these. After I week of attempting to break-in, my feet have blisters, they are in great pain. Sneakers in the garbage now.\n",
      "--------------------------------------------------------------------\n",
      "0.5 POSITIVE Love them,comfy\n",
      "--------------------------------------------------------------------\n",
      "0.0 NEUTRAL Walking\n",
      "--------------------------------------------------------------------\n",
      "0.8671875 POSITIVE Love these!!! I am a Nurse and on my feet all day. Very comfortable!!! Wish they came in more colors, I would buy every color!\n",
      "--------------------------------------------------------------------\n",
      "0.575 POSITIVE Very supportive. Love them.  neat feet\n",
      "--------------------------------------------------------------------\n",
      "-0.4000000000000001 NEGATIVE False advertising. It's 99.00 for ONE shoe not a pair. Don't be decieved\n",
      "--------------------------------------------------------------------\n",
      "0.0 NEUTRAL It looks crooked!  Nothing like the picture online.\n",
      "--------------------------------------------------------------------\n",
      "0.0 NEUTRAL 👌\n",
      "--------------------------------------------------------------------\n",
      "0.3075 POSITIVE These shoes are so comfortable. I own many different style Nike's (as well as other brands) and these are by far the most comfortable. I really like the design and color too.  I just wish there were more color options.\n",
      "--------------------------------------------------------------------\n",
      "0.05952380952380952 POSITIVE These shoes didn’t bend. They were the stiffest shoe I have ever held.  I returned them because it was like wearing a super stiff pair of cleats.\n",
      "--------------------------------------------------------------------\n",
      "0.0 NEUTRAL None\n",
      "--------------------------------------------------------------------\n",
      "0.26 POSITIVE These are very comfortable. Would definitely buy again\n",
      "--------------------------------------------------------------------\n",
      "0.2 POSITIVE Exactly as expected :)\n",
      "--------------------------------------------------------------------\n",
      "0.5833333333333334 POSITIVE Love this sneaker. Fits amazingly and supports my feet when working out.  Also, very stylish when worn out to run errands.\n",
      "--------------------------------------------------------------------\n",
      "0.6000000000000001 POSITIVE Amazing\n",
      "--------------------------------------------------------------------\n",
      "0.5916666666666667 POSITIVE Love my shoes. They fit so good!\n",
      "--------------------------------------------------------------------\n",
      "0.17812500000000003 POSITIVE Good fit; a little heavy by the end of the day.\n",
      "--------------------------------------------------------------------\n",
      "0.1 POSITIVE I like the fit of the shoe. I have knee problems and this shoe has extra padding on the sole of the shoe and inside of the shoe and it has helped me immensely with the knee pain.\n",
      "--------------------------------------------------------------------\n",
      "0.3333333333333333 POSITIVE Super conforme con mi compra estos tenis son muy comodos estan super lindos hice mi rutina de ejercicios ((HIT)) y los senti muy bien me encantaron Gracias Amazon ❤\n",
      "--------------------------------------------------------------------\n",
      "0.375 POSITIVE The most comfortable Nike shoes I ever bought. These are by far my favorite ❤️ I want every color\n",
      "--------------------------------------------------------------------\n",
      "0.0 NEUTRAL It was a gift\n",
      "--------------------------------------------------------------------\n",
      "0.7 POSITIVE Good arch support.\n",
      "--------------------------------------------------------------------\n",
      "0.0 NEUTRAL Lindos Nike solo que estan un poco mas grandes mi número es 9 y me quedaron un poco grandes.\n",
      "--------------------------------------------------------------------\n",
      "0.8 POSITIVE Great look\n",
      "--------------------------------------------------------------------\n",
      "0.41600000000000004 POSITIVE Fits perfect. Very comfortable. I have lots of trouble with my feet. (bone spurs and I'm over weight) these shoes are amazing. I highly recommend them to anyone.\n",
      "--------------------------------------------------------------------\n",
      "0.0 NEUTRAL I am a nurse and do 12 hour shifts . They are the only shoes I wear for work.\n",
      "--------------------------------------------------------------------\n",
      "0.625 POSITIVE Love these shoes !\n",
      "--------------------------------------------------------------------\n",
      "0.625 POSITIVE Love them! Thank you\n",
      "--------------------------------------------------------------------\n",
      "0.41111111111111115 POSITIVE Super cute and comfortable\n",
      "--------------------------------------------------------------------\n",
      "0.0 NEUTRAL Nothing\n",
      "--------------------------------------------------------------------\n",
      "0.4916666666666667 POSITIVE Love this shoe, we do a lot of walking and the support on this shoe is perfect for me because I have flat feet.\n",
      "--------------------------------------------------------------------\n",
      "0.4375 POSITIVE Thank excellent shoe extremely comfortanle\n",
      "--------------------------------------------------------------------\n",
      "0.0 NEUTRAL Workout in the gym\n",
      "--------------------------------------------------------------------\n",
      "0.76 POSITIVE Very happy with this purchase, shoes are very comfortable.\n",
      "--------------------------------------------------------------------\n",
      "0.7 POSITIVE Given as a gift. She loved them\n",
      "--------------------------------------------------------------------\n",
      "0.20848214285714284 POSITIVE Thwy are tight on the top of one foot but otherwise seem to be a good shoe hopefully they will stretch out a little bit\n",
      "--------------------------------------------------------------------\n",
      "0.25 POSITIVE I love the shoes dont have enough support to wear all day at work can be use to go shopping\n",
      "--------------------------------------------------------------------\n",
      "0.0 NEUTRAL My wife loves these shoes. Never stops wearing them.\n",
      "--------------------------------------------------------------------\n",
      "-0.2916666666666667 NEGATIVE Hard to get on\n",
      "--------------------------------------------------------------------\n",
      "0.4 POSITIVE There is nothing to dislike. I love wearing them and I get a lot of comments on them. Way worth the money.\n",
      "--------------------------------------------------------------------\n",
      "0.5083333333333333 POSITIVE My sneakers fit perfect, and they were delivered early!\n",
      "--------------------------------------------------------------------\n",
      "0.5 POSITIVE Fantastic!\n",
      "--------------------------------------------------------------------\n",
      "1.0 POSITIVE Best shoe I have ever had\n",
      "--------------------------------------------------------------------\n",
      "-0.03999999999999998 NEGATIVE Shoes are gorgeous. Too bad they sent me a 7.5 instead of the 9.5 I need. Yup they're going back and a big waste of my time.\n",
      "--------------------------------------------------------------------\n",
      "0.16 POSITIVE Too high for quality\n",
      "--------------------------------------------------------------------\n",
      "0.7050000000000001 POSITIVE Awesome! Very comfortable, and looks great. I am going to buy one more.\n",
      "--------------------------------------------------------------------\n",
      "0.5239583333333333 POSITIVE These shoes are perfect for my feet and I love them.  The are comfortable and fit perfectly.  And they look sharp!\n",
      "--------------------------------------------------------------------\n",
      "0.5 POSITIVE I LOVE the look, comfort, and price as I have been waiting for price drop on most Nike sneakers.\n",
      "--------------------------------------------------------------------\n",
      "0.4666666666666666 POSITIVE Nice fit and comfortable.\n",
      "--------------------------------------------------------------------\n",
      "0.0 NEUTRAL Muy buen terminado\n",
      "--------------------------------------------------------------------\n",
      "0.8 POSITIVE Great shoe\n",
      "--------------------------------------------------------------------\n",
      "-0.09375 NEGATIVE I should've gotten a size 8 instead of 8 1/2 because they are a little big but I'll manage.\n",
      "--------------------------------------------------------------------\n",
      "0.0 NEUTRAL The ink tab was left on my shoes I can’t remove it there will be ink all over my shoes how do I remove this\n",
      "--------------------------------------------------------------------\n",
      "0.0 NEUTRAL Recomendado 100%\n",
      "--------------------------------------------------------------------\n",
      "0.0 NEUTRAL My shoe strings came with dirt on them.\n",
      "--------------------------------------------------------------------\n",
      "0.8 POSITIVE Great shoes\n",
      "--------------------------------------------------------------------\n",
      "0.15416666666666665 POSITIVE I liked the style and that they came in my size. Sometimes it hard to find shoes in my size (10).\n",
      "--------------------------------------------------------------------\n",
      "0.78125 POSITIVE Love the way these look! Saw them on a client of mine and had to get them. I am getting lots of compliments on them!\n",
      "--------------------------------------------------------------------\n"
     ]
    },
    {
     "name": "stdout",
     "output_type": "stream",
     "text": [
      "0.0 NEUTRAL Nursing\n",
      "--------------------------------------------------------------------\n",
      "-0.5799999999999998 NEGATIVE Shoes came with a small piece of poop inside smelled very bad\n",
      "--------------------------------------------------------------------\n",
      "-0.23214285714285715 NEGATIVE very tight\n",
      "--------------------------------------------------------------------\n",
      "0.05555555555555555 POSITIVE The shoe was good- took a while to break in but not great. It gets dirty easily (being white) and doesn’t have as much support as some others\n",
      "--------------------------------------------------------------------\n",
      "0.65 POSITIVE No words can tell how I am happy wearing this shoes,needs more of this\n",
      "--------------------------------------------------------------------\n",
      "0.0 NEUTRAL Buenos para caminar\n",
      "--------------------------------------------------------------------\n",
      "-0.3 NEGATIVE Makes toes numb and i bought a size larger\n",
      "--------------------------------------------------------------------\n",
      "0.7333333333333334 POSITIVE Great shoe fit and looked wonderful\n",
      "--------------------------------------------------------------------\n",
      "0.11111111111111109 POSITIVE When I took the shoes out of the box it look like they had been smashed down. They looked to wide. Overall a good looking shoe.\n",
      "--------------------------------------------------------------------\n",
      "0.7 POSITIVE Good\n",
      "--------------------------------------------------------------------\n",
      "0.27083333333333337 POSITIVE Love them! Everything I expected. Great supportive shoe for everyday wear and moderate running\n",
      "--------------------------------------------------------------------\n",
      "0.4 POSITIVE Comfortable and lightweight\n",
      "--------------------------------------------------------------------\n",
      "0.0 NEUTRAL Muy lindos y cómodo pero son más grande que el número que pedí!\n",
      "--------------------------------------------------------------------\n",
      "0.0 NEUTRAL Hubo problemas con la entrega, hicieron reembolso y luego otra compra que salió bien todo\n",
      "--------------------------------------------------------------------\n",
      "0.32499999999999996 POSITIVE I had a pair prior in white i liked them they  seemed to wear good.\n",
      "--------------------------------------------------------------------\n",
      "0.8 POSITIVE Great walking shoe that doesnt hurt your feet.\n",
      "--------------------------------------------------------------------\n",
      "0.6 POSITIVE Not as nice looking.\n",
      "--------------------------------------------------------------------\n",
      "0.66 POSITIVE Great shoes and very comfortable\n",
      "--------------------------------------------------------------------\n",
      "0.25 POSITIVE Just recently was able to try them would like to return these\n",
      "--------------------------------------------------------------------\n",
      "0.4 POSITIVE The shoes are comfortable. My job requires me to be on my feet all day & these help my feet from hurting.\n",
      "--------------------------------------------------------------------\n",
      "0.521904761904762 POSITIVE Love them very nice fits right\n",
      "--------------------------------------------------------------------\n",
      "0.0 NEUTRAL Work at hospital.\n",
      "--------------------------------------------------------------------\n",
      "0.15714285714285714 POSITIVE There was a protrusion near my large toe\n",
      "--------------------------------------------------------------------\n",
      "0.78125 POSITIVE Love this sneaker! I wear it for tennis!\n",
      "--------------------------------------------------------------------\n",
      "0.0 NEUTRAL Feel like I'm walking on air... definitely recommend!\n",
      "--------------------------------------------------------------------\n",
      "0.78 POSITIVE Very nice and comfy shoe\n",
      "--------------------------------------------------------------------\n",
      "0.0 NEUTRAL The shoes are wider then i would like\n",
      "--------------------------------------------------------------------\n",
      "0.24328571428571427 POSITIVE i like the product,it’s just  fits right and very comfortable not big not small is just right\n",
      "--------------------------------------------------------------------\n",
      "-0.016666666666666663 NEGATIVE Surprisingly comfortable usually nike shoes are narrow for me\n",
      "--------------------------------------------------------------------\n",
      "0.5 POSITIVE Ok just don’t like the plastic look of the shoe\n",
      "--------------------------------------------------------------------\n"
     ]
    }
   ],
   "source": [
    "from textblob import TextBlob\n",
    "i = 0\n",
    "for comment in df.content:\n",
    "    #Convert text to a textblob and find polarity\n",
    "    activityBlob=TextBlob(comment)\n",
    "    polarity= activityBlob.sentiment.polarity\n",
    "\n",
    "    polarityString=\"NEUTRAL\"\n",
    "    if polarity > 0 :\n",
    "        polarityString=\"POSITIVE\"\n",
    "    elif polarity < 0 :\n",
    "        polarityString=\"NEGATIVE\"\n",
    "        \n",
    "    # populate df\n",
    "    df.loc[i, 'polarity'] = polarity\n",
    "    df.loc[i, 'polarityString'] = polarityString\n",
    "    i =i+1\n",
    "    \n",
    "    print (polarity, polarityString, comment)\n",
    "    print('--------------------------------------------------------------------')"
   ]
  },
  {
   "cell_type": "markdown",
   "metadata": {},
   "source": [
    "## Sentiment Percentage"
   ]
  },
  {
   "cell_type": "code",
   "execution_count": 276,
   "metadata": {},
   "outputs": [
    {
     "data": {
      "text/html": [
       "<div>\n",
       "<style scoped>\n",
       "    .dataframe tbody tr th:only-of-type {\n",
       "        vertical-align: middle;\n",
       "    }\n",
       "\n",
       "    .dataframe tbody tr th {\n",
       "        vertical-align: top;\n",
       "    }\n",
       "\n",
       "    .dataframe thead th {\n",
       "        text-align: right;\n",
       "    }\n",
       "</style>\n",
       "<table border=\"1\" class=\"dataframe\">\n",
       "  <thead>\n",
       "    <tr style=\"text-align: right;\">\n",
       "      <th></th>\n",
       "      <th>Sentiment</th>\n",
       "      <th>Count</th>\n",
       "    </tr>\n",
       "  </thead>\n",
       "  <tbody>\n",
       "    <tr>\n",
       "      <th>0</th>\n",
       "      <td>NEGATIVE</td>\n",
       "      <td>25</td>\n",
       "    </tr>\n",
       "    <tr>\n",
       "      <th>1</th>\n",
       "      <td>NEUTRAL</td>\n",
       "      <td>47</td>\n",
       "    </tr>\n",
       "    <tr>\n",
       "      <th>2</th>\n",
       "      <td>POSITIVE</td>\n",
       "      <td>228</td>\n",
       "    </tr>\n",
       "  </tbody>\n",
       "</table>\n",
       "</div>"
      ],
      "text/plain": [
       "  Sentiment  Count\n",
       "0  NEGATIVE     25\n",
       "1   NEUTRAL     47\n",
       "2  POSITIVE    228"
      ]
     },
     "execution_count": 276,
     "metadata": {},
     "output_type": "execute_result"
    }
   ],
   "source": [
    "df_polarit = df.groupby(['polarityString']).count().reset_index()\n",
    "df_polarit = df_polarit.loc[:,['polarityString', 'title']]\n",
    "df_polarit.rename(columns = {'polarityString':'Sentiment', 'title':'Count'}, inplace = True)\n",
    "df_polarit"
   ]
  },
  {
   "cell_type": "code",
   "execution_count": 277,
   "metadata": {},
   "outputs": [
    {
     "data": {
      "application/vnd.plotly.v1+json": {
       "config": {
        "plotlyServerURL": "https://plot.ly"
       },
       "data": [
        {
         "customdata": [
          [
           "NEGATIVE"
          ],
          [
           "NEUTRAL"
          ],
          [
           "POSITIVE"
          ]
         ],
         "domain": {
          "x": [
           0,
           1
          ],
          "y": [
           0,
           1
          ]
         },
         "hovertemplate": "Sentiment=%{label}<br>Count=%{value}<extra></extra>",
         "labels": [
          "NEGATIVE",
          "NEUTRAL",
          "POSITIVE"
         ],
         "legendgroup": "",
         "name": "",
         "showlegend": true,
         "textinfo": "percent+label",
         "textposition": "inside",
         "type": "pie",
         "values": [
          25,
          47,
          228
         ]
        }
       ],
       "layout": {
        "legend": {
         "tracegroupgap": 0
        },
        "template": {
         "data": {
          "bar": [
           {
            "error_x": {
             "color": "#2a3f5f"
            },
            "error_y": {
             "color": "#2a3f5f"
            },
            "marker": {
             "line": {
              "color": "#E5ECF6",
              "width": 0.5
             }
            },
            "type": "bar"
           }
          ],
          "barpolar": [
           {
            "marker": {
             "line": {
              "color": "#E5ECF6",
              "width": 0.5
             }
            },
            "type": "barpolar"
           }
          ],
          "carpet": [
           {
            "aaxis": {
             "endlinecolor": "#2a3f5f",
             "gridcolor": "white",
             "linecolor": "white",
             "minorgridcolor": "white",
             "startlinecolor": "#2a3f5f"
            },
            "baxis": {
             "endlinecolor": "#2a3f5f",
             "gridcolor": "white",
             "linecolor": "white",
             "minorgridcolor": "white",
             "startlinecolor": "#2a3f5f"
            },
            "type": "carpet"
           }
          ],
          "choropleth": [
           {
            "colorbar": {
             "outlinewidth": 0,
             "ticks": ""
            },
            "type": "choropleth"
           }
          ],
          "contour": [
           {
            "colorbar": {
             "outlinewidth": 0,
             "ticks": ""
            },
            "colorscale": [
             [
              0,
              "#0d0887"
             ],
             [
              0.1111111111111111,
              "#46039f"
             ],
             [
              0.2222222222222222,
              "#7201a8"
             ],
             [
              0.3333333333333333,
              "#9c179e"
             ],
             [
              0.4444444444444444,
              "#bd3786"
             ],
             [
              0.5555555555555556,
              "#d8576b"
             ],
             [
              0.6666666666666666,
              "#ed7953"
             ],
             [
              0.7777777777777778,
              "#fb9f3a"
             ],
             [
              0.8888888888888888,
              "#fdca26"
             ],
             [
              1,
              "#f0f921"
             ]
            ],
            "type": "contour"
           }
          ],
          "contourcarpet": [
           {
            "colorbar": {
             "outlinewidth": 0,
             "ticks": ""
            },
            "type": "contourcarpet"
           }
          ],
          "heatmap": [
           {
            "colorbar": {
             "outlinewidth": 0,
             "ticks": ""
            },
            "colorscale": [
             [
              0,
              "#0d0887"
             ],
             [
              0.1111111111111111,
              "#46039f"
             ],
             [
              0.2222222222222222,
              "#7201a8"
             ],
             [
              0.3333333333333333,
              "#9c179e"
             ],
             [
              0.4444444444444444,
              "#bd3786"
             ],
             [
              0.5555555555555556,
              "#d8576b"
             ],
             [
              0.6666666666666666,
              "#ed7953"
             ],
             [
              0.7777777777777778,
              "#fb9f3a"
             ],
             [
              0.8888888888888888,
              "#fdca26"
             ],
             [
              1,
              "#f0f921"
             ]
            ],
            "type": "heatmap"
           }
          ],
          "heatmapgl": [
           {
            "colorbar": {
             "outlinewidth": 0,
             "ticks": ""
            },
            "colorscale": [
             [
              0,
              "#0d0887"
             ],
             [
              0.1111111111111111,
              "#46039f"
             ],
             [
              0.2222222222222222,
              "#7201a8"
             ],
             [
              0.3333333333333333,
              "#9c179e"
             ],
             [
              0.4444444444444444,
              "#bd3786"
             ],
             [
              0.5555555555555556,
              "#d8576b"
             ],
             [
              0.6666666666666666,
              "#ed7953"
             ],
             [
              0.7777777777777778,
              "#fb9f3a"
             ],
             [
              0.8888888888888888,
              "#fdca26"
             ],
             [
              1,
              "#f0f921"
             ]
            ],
            "type": "heatmapgl"
           }
          ],
          "histogram": [
           {
            "marker": {
             "colorbar": {
              "outlinewidth": 0,
              "ticks": ""
             }
            },
            "type": "histogram"
           }
          ],
          "histogram2d": [
           {
            "colorbar": {
             "outlinewidth": 0,
             "ticks": ""
            },
            "colorscale": [
             [
              0,
              "#0d0887"
             ],
             [
              0.1111111111111111,
              "#46039f"
             ],
             [
              0.2222222222222222,
              "#7201a8"
             ],
             [
              0.3333333333333333,
              "#9c179e"
             ],
             [
              0.4444444444444444,
              "#bd3786"
             ],
             [
              0.5555555555555556,
              "#d8576b"
             ],
             [
              0.6666666666666666,
              "#ed7953"
             ],
             [
              0.7777777777777778,
              "#fb9f3a"
             ],
             [
              0.8888888888888888,
              "#fdca26"
             ],
             [
              1,
              "#f0f921"
             ]
            ],
            "type": "histogram2d"
           }
          ],
          "histogram2dcontour": [
           {
            "colorbar": {
             "outlinewidth": 0,
             "ticks": ""
            },
            "colorscale": [
             [
              0,
              "#0d0887"
             ],
             [
              0.1111111111111111,
              "#46039f"
             ],
             [
              0.2222222222222222,
              "#7201a8"
             ],
             [
              0.3333333333333333,
              "#9c179e"
             ],
             [
              0.4444444444444444,
              "#bd3786"
             ],
             [
              0.5555555555555556,
              "#d8576b"
             ],
             [
              0.6666666666666666,
              "#ed7953"
             ],
             [
              0.7777777777777778,
              "#fb9f3a"
             ],
             [
              0.8888888888888888,
              "#fdca26"
             ],
             [
              1,
              "#f0f921"
             ]
            ],
            "type": "histogram2dcontour"
           }
          ],
          "mesh3d": [
           {
            "colorbar": {
             "outlinewidth": 0,
             "ticks": ""
            },
            "type": "mesh3d"
           }
          ],
          "parcoords": [
           {
            "line": {
             "colorbar": {
              "outlinewidth": 0,
              "ticks": ""
             }
            },
            "type": "parcoords"
           }
          ],
          "pie": [
           {
            "automargin": true,
            "type": "pie"
           }
          ],
          "scatter": [
           {
            "marker": {
             "colorbar": {
              "outlinewidth": 0,
              "ticks": ""
             }
            },
            "type": "scatter"
           }
          ],
          "scatter3d": [
           {
            "line": {
             "colorbar": {
              "outlinewidth": 0,
              "ticks": ""
             }
            },
            "marker": {
             "colorbar": {
              "outlinewidth": 0,
              "ticks": ""
             }
            },
            "type": "scatter3d"
           }
          ],
          "scattercarpet": [
           {
            "marker": {
             "colorbar": {
              "outlinewidth": 0,
              "ticks": ""
             }
            },
            "type": "scattercarpet"
           }
          ],
          "scattergeo": [
           {
            "marker": {
             "colorbar": {
              "outlinewidth": 0,
              "ticks": ""
             }
            },
            "type": "scattergeo"
           }
          ],
          "scattergl": [
           {
            "marker": {
             "colorbar": {
              "outlinewidth": 0,
              "ticks": ""
             }
            },
            "type": "scattergl"
           }
          ],
          "scattermapbox": [
           {
            "marker": {
             "colorbar": {
              "outlinewidth": 0,
              "ticks": ""
             }
            },
            "type": "scattermapbox"
           }
          ],
          "scatterpolar": [
           {
            "marker": {
             "colorbar": {
              "outlinewidth": 0,
              "ticks": ""
             }
            },
            "type": "scatterpolar"
           }
          ],
          "scatterpolargl": [
           {
            "marker": {
             "colorbar": {
              "outlinewidth": 0,
              "ticks": ""
             }
            },
            "type": "scatterpolargl"
           }
          ],
          "scatterternary": [
           {
            "marker": {
             "colorbar": {
              "outlinewidth": 0,
              "ticks": ""
             }
            },
            "type": "scatterternary"
           }
          ],
          "surface": [
           {
            "colorbar": {
             "outlinewidth": 0,
             "ticks": ""
            },
            "colorscale": [
             [
              0,
              "#0d0887"
             ],
             [
              0.1111111111111111,
              "#46039f"
             ],
             [
              0.2222222222222222,
              "#7201a8"
             ],
             [
              0.3333333333333333,
              "#9c179e"
             ],
             [
              0.4444444444444444,
              "#bd3786"
             ],
             [
              0.5555555555555556,
              "#d8576b"
             ],
             [
              0.6666666666666666,
              "#ed7953"
             ],
             [
              0.7777777777777778,
              "#fb9f3a"
             ],
             [
              0.8888888888888888,
              "#fdca26"
             ],
             [
              1,
              "#f0f921"
             ]
            ],
            "type": "surface"
           }
          ],
          "table": [
           {
            "cells": {
             "fill": {
              "color": "#EBF0F8"
             },
             "line": {
              "color": "white"
             }
            },
            "header": {
             "fill": {
              "color": "#C8D4E3"
             },
             "line": {
              "color": "white"
             }
            },
            "type": "table"
           }
          ]
         },
         "layout": {
          "annotationdefaults": {
           "arrowcolor": "#2a3f5f",
           "arrowhead": 0,
           "arrowwidth": 1
          },
          "coloraxis": {
           "colorbar": {
            "outlinewidth": 0,
            "ticks": ""
           }
          },
          "colorscale": {
           "diverging": [
            [
             0,
             "#8e0152"
            ],
            [
             0.1,
             "#c51b7d"
            ],
            [
             0.2,
             "#de77ae"
            ],
            [
             0.3,
             "#f1b6da"
            ],
            [
             0.4,
             "#fde0ef"
            ],
            [
             0.5,
             "#f7f7f7"
            ],
            [
             0.6,
             "#e6f5d0"
            ],
            [
             0.7,
             "#b8e186"
            ],
            [
             0.8,
             "#7fbc41"
            ],
            [
             0.9,
             "#4d9221"
            ],
            [
             1,
             "#276419"
            ]
           ],
           "sequential": [
            [
             0,
             "#0d0887"
            ],
            [
             0.1111111111111111,
             "#46039f"
            ],
            [
             0.2222222222222222,
             "#7201a8"
            ],
            [
             0.3333333333333333,
             "#9c179e"
            ],
            [
             0.4444444444444444,
             "#bd3786"
            ],
            [
             0.5555555555555556,
             "#d8576b"
            ],
            [
             0.6666666666666666,
             "#ed7953"
            ],
            [
             0.7777777777777778,
             "#fb9f3a"
            ],
            [
             0.8888888888888888,
             "#fdca26"
            ],
            [
             1,
             "#f0f921"
            ]
           ],
           "sequentialminus": [
            [
             0,
             "#0d0887"
            ],
            [
             0.1111111111111111,
             "#46039f"
            ],
            [
             0.2222222222222222,
             "#7201a8"
            ],
            [
             0.3333333333333333,
             "#9c179e"
            ],
            [
             0.4444444444444444,
             "#bd3786"
            ],
            [
             0.5555555555555556,
             "#d8576b"
            ],
            [
             0.6666666666666666,
             "#ed7953"
            ],
            [
             0.7777777777777778,
             "#fb9f3a"
            ],
            [
             0.8888888888888888,
             "#fdca26"
            ],
            [
             1,
             "#f0f921"
            ]
           ]
          },
          "colorway": [
           "#636efa",
           "#EF553B",
           "#00cc96",
           "#ab63fa",
           "#FFA15A",
           "#19d3f3",
           "#FF6692",
           "#B6E880",
           "#FF97FF",
           "#FECB52"
          ],
          "font": {
           "color": "#2a3f5f"
          },
          "geo": {
           "bgcolor": "white",
           "lakecolor": "white",
           "landcolor": "#E5ECF6",
           "showlakes": true,
           "showland": true,
           "subunitcolor": "white"
          },
          "hoverlabel": {
           "align": "left"
          },
          "hovermode": "closest",
          "mapbox": {
           "style": "light"
          },
          "paper_bgcolor": "white",
          "plot_bgcolor": "#E5ECF6",
          "polar": {
           "angularaxis": {
            "gridcolor": "white",
            "linecolor": "white",
            "ticks": ""
           },
           "bgcolor": "#E5ECF6",
           "radialaxis": {
            "gridcolor": "white",
            "linecolor": "white",
            "ticks": ""
           }
          },
          "scene": {
           "xaxis": {
            "backgroundcolor": "#E5ECF6",
            "gridcolor": "white",
            "gridwidth": 2,
            "linecolor": "white",
            "showbackground": true,
            "ticks": "",
            "zerolinecolor": "white"
           },
           "yaxis": {
            "backgroundcolor": "#E5ECF6",
            "gridcolor": "white",
            "gridwidth": 2,
            "linecolor": "white",
            "showbackground": true,
            "ticks": "",
            "zerolinecolor": "white"
           },
           "zaxis": {
            "backgroundcolor": "#E5ECF6",
            "gridcolor": "white",
            "gridwidth": 2,
            "linecolor": "white",
            "showbackground": true,
            "ticks": "",
            "zerolinecolor": "white"
           }
          },
          "shapedefaults": {
           "line": {
            "color": "#2a3f5f"
           }
          },
          "ternary": {
           "aaxis": {
            "gridcolor": "white",
            "linecolor": "white",
            "ticks": ""
           },
           "baxis": {
            "gridcolor": "white",
            "linecolor": "white",
            "ticks": ""
           },
           "bgcolor": "#E5ECF6",
           "caxis": {
            "gridcolor": "white",
            "linecolor": "white",
            "ticks": ""
           }
          },
          "title": {
           "x": 0.05
          },
          "xaxis": {
           "automargin": true,
           "gridcolor": "white",
           "linecolor": "white",
           "ticks": "",
           "title": {
            "standoff": 15
           },
           "zerolinecolor": "white",
           "zerolinewidth": 2
          },
          "yaxis": {
           "automargin": true,
           "gridcolor": "white",
           "linecolor": "white",
           "ticks": "",
           "title": {
            "standoff": 15
           },
           "zerolinecolor": "white",
           "zerolinewidth": 2
          }
         }
        },
        "title": {
         "text": "Sentiment Percentage"
        }
       }
      },
      "text/html": [
       "<div>\n",
       "        \n",
       "        \n",
       "            <div id=\"fa1409a8-653d-4d5a-a367-e3c7f50441c1\" class=\"plotly-graph-div\" style=\"height:525px; width:100%;\"></div>\n",
       "            <script type=\"text/javascript\">\n",
       "                require([\"plotly\"], function(Plotly) {\n",
       "                    window.PLOTLYENV=window.PLOTLYENV || {};\n",
       "                    \n",
       "                if (document.getElementById(\"fa1409a8-653d-4d5a-a367-e3c7f50441c1\")) {\n",
       "                    Plotly.newPlot(\n",
       "                        'fa1409a8-653d-4d5a-a367-e3c7f50441c1',\n",
       "                        [{\"customdata\": [[\"NEGATIVE\"], [\"NEUTRAL\"], [\"POSITIVE\"]], \"domain\": {\"x\": [0.0, 1.0], \"y\": [0.0, 1.0]}, \"hovertemplate\": \"Sentiment=%{label}<br>Count=%{value}<extra></extra>\", \"labels\": [\"NEGATIVE\", \"NEUTRAL\", \"POSITIVE\"], \"legendgroup\": \"\", \"name\": \"\", \"showlegend\": true, \"textinfo\": \"percent+label\", \"textposition\": \"inside\", \"type\": \"pie\", \"values\": [25, 47, 228]}],\n",
       "                        {\"legend\": {\"tracegroupgap\": 0}, \"template\": {\"data\": {\"bar\": [{\"error_x\": {\"color\": \"#2a3f5f\"}, \"error_y\": {\"color\": \"#2a3f5f\"}, \"marker\": {\"line\": {\"color\": \"#E5ECF6\", \"width\": 0.5}}, \"type\": \"bar\"}], \"barpolar\": [{\"marker\": {\"line\": {\"color\": \"#E5ECF6\", \"width\": 0.5}}, \"type\": \"barpolar\"}], \"carpet\": [{\"aaxis\": {\"endlinecolor\": \"#2a3f5f\", \"gridcolor\": \"white\", \"linecolor\": \"white\", \"minorgridcolor\": \"white\", \"startlinecolor\": \"#2a3f5f\"}, \"baxis\": {\"endlinecolor\": \"#2a3f5f\", \"gridcolor\": \"white\", \"linecolor\": \"white\", \"minorgridcolor\": \"white\", \"startlinecolor\": \"#2a3f5f\"}, \"type\": \"carpet\"}], \"choropleth\": [{\"colorbar\": {\"outlinewidth\": 0, \"ticks\": \"\"}, \"type\": \"choropleth\"}], \"contour\": [{\"colorbar\": {\"outlinewidth\": 0, \"ticks\": \"\"}, \"colorscale\": [[0.0, \"#0d0887\"], [0.1111111111111111, \"#46039f\"], [0.2222222222222222, \"#7201a8\"], [0.3333333333333333, \"#9c179e\"], [0.4444444444444444, \"#bd3786\"], [0.5555555555555556, \"#d8576b\"], [0.6666666666666666, \"#ed7953\"], [0.7777777777777778, \"#fb9f3a\"], [0.8888888888888888, \"#fdca26\"], [1.0, \"#f0f921\"]], \"type\": \"contour\"}], \"contourcarpet\": [{\"colorbar\": {\"outlinewidth\": 0, \"ticks\": \"\"}, \"type\": \"contourcarpet\"}], \"heatmap\": [{\"colorbar\": {\"outlinewidth\": 0, \"ticks\": \"\"}, \"colorscale\": [[0.0, \"#0d0887\"], [0.1111111111111111, \"#46039f\"], [0.2222222222222222, \"#7201a8\"], [0.3333333333333333, \"#9c179e\"], [0.4444444444444444, \"#bd3786\"], [0.5555555555555556, \"#d8576b\"], [0.6666666666666666, \"#ed7953\"], [0.7777777777777778, \"#fb9f3a\"], [0.8888888888888888, \"#fdca26\"], [1.0, \"#f0f921\"]], \"type\": \"heatmap\"}], \"heatmapgl\": [{\"colorbar\": {\"outlinewidth\": 0, \"ticks\": \"\"}, \"colorscale\": [[0.0, \"#0d0887\"], [0.1111111111111111, \"#46039f\"], [0.2222222222222222, \"#7201a8\"], [0.3333333333333333, \"#9c179e\"], [0.4444444444444444, \"#bd3786\"], [0.5555555555555556, \"#d8576b\"], [0.6666666666666666, \"#ed7953\"], [0.7777777777777778, \"#fb9f3a\"], [0.8888888888888888, \"#fdca26\"], [1.0, \"#f0f921\"]], \"type\": \"heatmapgl\"}], \"histogram\": [{\"marker\": {\"colorbar\": {\"outlinewidth\": 0, \"ticks\": \"\"}}, \"type\": \"histogram\"}], \"histogram2d\": [{\"colorbar\": {\"outlinewidth\": 0, \"ticks\": \"\"}, \"colorscale\": [[0.0, \"#0d0887\"], [0.1111111111111111, \"#46039f\"], [0.2222222222222222, \"#7201a8\"], [0.3333333333333333, \"#9c179e\"], [0.4444444444444444, \"#bd3786\"], [0.5555555555555556, \"#d8576b\"], [0.6666666666666666, \"#ed7953\"], [0.7777777777777778, \"#fb9f3a\"], [0.8888888888888888, \"#fdca26\"], [1.0, \"#f0f921\"]], \"type\": \"histogram2d\"}], \"histogram2dcontour\": [{\"colorbar\": {\"outlinewidth\": 0, \"ticks\": \"\"}, \"colorscale\": [[0.0, \"#0d0887\"], [0.1111111111111111, \"#46039f\"], [0.2222222222222222, \"#7201a8\"], [0.3333333333333333, \"#9c179e\"], [0.4444444444444444, \"#bd3786\"], [0.5555555555555556, \"#d8576b\"], [0.6666666666666666, \"#ed7953\"], [0.7777777777777778, \"#fb9f3a\"], [0.8888888888888888, \"#fdca26\"], [1.0, \"#f0f921\"]], \"type\": \"histogram2dcontour\"}], \"mesh3d\": [{\"colorbar\": {\"outlinewidth\": 0, \"ticks\": \"\"}, \"type\": \"mesh3d\"}], \"parcoords\": [{\"line\": {\"colorbar\": {\"outlinewidth\": 0, \"ticks\": \"\"}}, \"type\": \"parcoords\"}], \"pie\": [{\"automargin\": true, \"type\": \"pie\"}], \"scatter\": [{\"marker\": {\"colorbar\": {\"outlinewidth\": 0, \"ticks\": \"\"}}, \"type\": \"scatter\"}], \"scatter3d\": [{\"line\": {\"colorbar\": {\"outlinewidth\": 0, \"ticks\": \"\"}}, \"marker\": {\"colorbar\": {\"outlinewidth\": 0, \"ticks\": \"\"}}, \"type\": \"scatter3d\"}], \"scattercarpet\": [{\"marker\": {\"colorbar\": {\"outlinewidth\": 0, \"ticks\": \"\"}}, \"type\": \"scattercarpet\"}], \"scattergeo\": [{\"marker\": {\"colorbar\": {\"outlinewidth\": 0, \"ticks\": \"\"}}, \"type\": \"scattergeo\"}], \"scattergl\": [{\"marker\": {\"colorbar\": {\"outlinewidth\": 0, \"ticks\": \"\"}}, \"type\": \"scattergl\"}], \"scattermapbox\": [{\"marker\": {\"colorbar\": {\"outlinewidth\": 0, \"ticks\": \"\"}}, \"type\": \"scattermapbox\"}], \"scatterpolar\": [{\"marker\": {\"colorbar\": {\"outlinewidth\": 0, \"ticks\": \"\"}}, \"type\": \"scatterpolar\"}], \"scatterpolargl\": [{\"marker\": {\"colorbar\": {\"outlinewidth\": 0, \"ticks\": \"\"}}, \"type\": \"scatterpolargl\"}], \"scatterternary\": [{\"marker\": {\"colorbar\": {\"outlinewidth\": 0, \"ticks\": \"\"}}, \"type\": \"scatterternary\"}], \"surface\": [{\"colorbar\": {\"outlinewidth\": 0, \"ticks\": \"\"}, \"colorscale\": [[0.0, \"#0d0887\"], [0.1111111111111111, \"#46039f\"], [0.2222222222222222, \"#7201a8\"], [0.3333333333333333, \"#9c179e\"], [0.4444444444444444, \"#bd3786\"], [0.5555555555555556, \"#d8576b\"], [0.6666666666666666, \"#ed7953\"], [0.7777777777777778, \"#fb9f3a\"], [0.8888888888888888, \"#fdca26\"], [1.0, \"#f0f921\"]], \"type\": \"surface\"}], \"table\": [{\"cells\": {\"fill\": {\"color\": \"#EBF0F8\"}, \"line\": {\"color\": \"white\"}}, \"header\": {\"fill\": {\"color\": \"#C8D4E3\"}, \"line\": {\"color\": \"white\"}}, \"type\": \"table\"}]}, \"layout\": {\"annotationdefaults\": {\"arrowcolor\": \"#2a3f5f\", \"arrowhead\": 0, \"arrowwidth\": 1}, \"coloraxis\": {\"colorbar\": {\"outlinewidth\": 0, \"ticks\": \"\"}}, \"colorscale\": {\"diverging\": [[0, \"#8e0152\"], [0.1, \"#c51b7d\"], [0.2, \"#de77ae\"], [0.3, \"#f1b6da\"], [0.4, \"#fde0ef\"], [0.5, \"#f7f7f7\"], [0.6, \"#e6f5d0\"], [0.7, \"#b8e186\"], [0.8, \"#7fbc41\"], [0.9, \"#4d9221\"], [1, \"#276419\"]], \"sequential\": [[0.0, \"#0d0887\"], [0.1111111111111111, \"#46039f\"], [0.2222222222222222, \"#7201a8\"], [0.3333333333333333, \"#9c179e\"], [0.4444444444444444, \"#bd3786\"], [0.5555555555555556, \"#d8576b\"], [0.6666666666666666, \"#ed7953\"], [0.7777777777777778, \"#fb9f3a\"], [0.8888888888888888, \"#fdca26\"], [1.0, \"#f0f921\"]], \"sequentialminus\": [[0.0, \"#0d0887\"], [0.1111111111111111, \"#46039f\"], [0.2222222222222222, \"#7201a8\"], [0.3333333333333333, \"#9c179e\"], [0.4444444444444444, \"#bd3786\"], [0.5555555555555556, \"#d8576b\"], [0.6666666666666666, \"#ed7953\"], [0.7777777777777778, \"#fb9f3a\"], [0.8888888888888888, \"#fdca26\"], [1.0, \"#f0f921\"]]}, \"colorway\": [\"#636efa\", \"#EF553B\", \"#00cc96\", \"#ab63fa\", \"#FFA15A\", \"#19d3f3\", \"#FF6692\", \"#B6E880\", \"#FF97FF\", \"#FECB52\"], \"font\": {\"color\": \"#2a3f5f\"}, \"geo\": {\"bgcolor\": \"white\", \"lakecolor\": \"white\", \"landcolor\": \"#E5ECF6\", \"showlakes\": true, \"showland\": true, \"subunitcolor\": \"white\"}, \"hoverlabel\": {\"align\": \"left\"}, \"hovermode\": \"closest\", \"mapbox\": {\"style\": \"light\"}, \"paper_bgcolor\": \"white\", \"plot_bgcolor\": \"#E5ECF6\", \"polar\": {\"angularaxis\": {\"gridcolor\": \"white\", \"linecolor\": \"white\", \"ticks\": \"\"}, \"bgcolor\": \"#E5ECF6\", \"radialaxis\": {\"gridcolor\": \"white\", \"linecolor\": \"white\", \"ticks\": \"\"}}, \"scene\": {\"xaxis\": {\"backgroundcolor\": \"#E5ECF6\", \"gridcolor\": \"white\", \"gridwidth\": 2, \"linecolor\": \"white\", \"showbackground\": true, \"ticks\": \"\", \"zerolinecolor\": \"white\"}, \"yaxis\": {\"backgroundcolor\": \"#E5ECF6\", \"gridcolor\": \"white\", \"gridwidth\": 2, \"linecolor\": \"white\", \"showbackground\": true, \"ticks\": \"\", \"zerolinecolor\": \"white\"}, \"zaxis\": {\"backgroundcolor\": \"#E5ECF6\", \"gridcolor\": \"white\", \"gridwidth\": 2, \"linecolor\": \"white\", \"showbackground\": true, \"ticks\": \"\", \"zerolinecolor\": \"white\"}}, \"shapedefaults\": {\"line\": {\"color\": \"#2a3f5f\"}}, \"ternary\": {\"aaxis\": {\"gridcolor\": \"white\", \"linecolor\": \"white\", \"ticks\": \"\"}, \"baxis\": {\"gridcolor\": \"white\", \"linecolor\": \"white\", \"ticks\": \"\"}, \"bgcolor\": \"#E5ECF6\", \"caxis\": {\"gridcolor\": \"white\", \"linecolor\": \"white\", \"ticks\": \"\"}}, \"title\": {\"x\": 0.05}, \"xaxis\": {\"automargin\": true, \"gridcolor\": \"white\", \"linecolor\": \"white\", \"ticks\": \"\", \"title\": {\"standoff\": 15}, \"zerolinecolor\": \"white\", \"zerolinewidth\": 2}, \"yaxis\": {\"automargin\": true, \"gridcolor\": \"white\", \"linecolor\": \"white\", \"ticks\": \"\", \"title\": {\"standoff\": 15}, \"zerolinecolor\": \"white\", \"zerolinewidth\": 2}}}, \"title\": {\"text\": \"Sentiment Percentage\"}},\n",
       "                        {\"responsive\": true}\n",
       "                    ).then(function(){\n",
       "                            \n",
       "var gd = document.getElementById('fa1409a8-653d-4d5a-a367-e3c7f50441c1');\n",
       "var x = new MutationObserver(function (mutations, observer) {{\n",
       "        var display = window.getComputedStyle(gd).display;\n",
       "        if (!display || display === 'none') {{\n",
       "            console.log([gd, 'removed!']);\n",
       "            Plotly.purge(gd);\n",
       "            observer.disconnect();\n",
       "        }}\n",
       "}});\n",
       "\n",
       "// Listen for the removal of the full notebook cells\n",
       "var notebookContainer = gd.closest('#notebook-container');\n",
       "if (notebookContainer) {{\n",
       "    x.observe(notebookContainer, {childList: true});\n",
       "}}\n",
       "\n",
       "// Listen for the clearing of the current output cell\n",
       "var outputEl = gd.closest('.output');\n",
       "if (outputEl) {{\n",
       "    x.observe(outputEl, {childList: true});\n",
       "}}\n",
       "\n",
       "                        })\n",
       "                };\n",
       "                });\n",
       "            </script>\n",
       "        </div>"
      ]
     },
     "metadata": {},
     "output_type": "display_data"
    }
   ],
   "source": [
    "import plotly.express as px\n",
    "\n",
    "fig = px.pie(df_polarit, values='Count', names='Sentiment',\n",
    "             title='Sentiment Percentage',\n",
    "             hover_data=['Sentiment'])\n",
    "\n",
    "fig.update_traces(textposition='inside', textinfo='percent+label')\n",
    "fig.write_image('plots/sentiment-percentage.png')\n",
    "fig.show()"
   ]
  },
  {
   "cell_type": "markdown",
   "metadata": {},
   "source": [
    "## Ratings Count"
   ]
  },
  {
   "cell_type": "code",
   "execution_count": 278,
   "metadata": {},
   "outputs": [],
   "source": [
    "# craete dataframe\n",
    "df_rating = df.groupby(['rating']).count().reset_index()\n",
    "df_rating = df_rating.loc[:,['rating', 'title']]\n",
    "df_rating.rename(columns = {'title':'count'}, inplace = True)"
   ]
  },
  {
   "cell_type": "code",
   "execution_count": 282,
   "metadata": {},
   "outputs": [],
   "source": [
    "df_rating['rating'] = ['1 Star', '2 Stars', '3 Stars', '4 Stars', '5 Stars']"
   ]
  },
  {
   "cell_type": "code",
   "execution_count": 283,
   "metadata": {},
   "outputs": [
    {
     "data": {
      "application/vnd.plotly.v1+json": {
       "config": {
        "plotlyServerURL": "https://plot.ly"
       },
       "data": [
        {
         "type": "bar",
         "x": [
          "1 Star",
          "2 Stars",
          "3 Stars",
          "4 Stars",
          "5 Stars"
         ],
         "y": [
          23,
          17,
          23,
          37,
          200
         ]
        }
       ],
       "layout": {
        "template": {
         "data": {
          "bar": [
           {
            "error_x": {
             "color": "#2a3f5f"
            },
            "error_y": {
             "color": "#2a3f5f"
            },
            "marker": {
             "line": {
              "color": "#E5ECF6",
              "width": 0.5
             }
            },
            "type": "bar"
           }
          ],
          "barpolar": [
           {
            "marker": {
             "line": {
              "color": "#E5ECF6",
              "width": 0.5
             }
            },
            "type": "barpolar"
           }
          ],
          "carpet": [
           {
            "aaxis": {
             "endlinecolor": "#2a3f5f",
             "gridcolor": "white",
             "linecolor": "white",
             "minorgridcolor": "white",
             "startlinecolor": "#2a3f5f"
            },
            "baxis": {
             "endlinecolor": "#2a3f5f",
             "gridcolor": "white",
             "linecolor": "white",
             "minorgridcolor": "white",
             "startlinecolor": "#2a3f5f"
            },
            "type": "carpet"
           }
          ],
          "choropleth": [
           {
            "colorbar": {
             "outlinewidth": 0,
             "ticks": ""
            },
            "type": "choropleth"
           }
          ],
          "contour": [
           {
            "colorbar": {
             "outlinewidth": 0,
             "ticks": ""
            },
            "colorscale": [
             [
              0,
              "#0d0887"
             ],
             [
              0.1111111111111111,
              "#46039f"
             ],
             [
              0.2222222222222222,
              "#7201a8"
             ],
             [
              0.3333333333333333,
              "#9c179e"
             ],
             [
              0.4444444444444444,
              "#bd3786"
             ],
             [
              0.5555555555555556,
              "#d8576b"
             ],
             [
              0.6666666666666666,
              "#ed7953"
             ],
             [
              0.7777777777777778,
              "#fb9f3a"
             ],
             [
              0.8888888888888888,
              "#fdca26"
             ],
             [
              1,
              "#f0f921"
             ]
            ],
            "type": "contour"
           }
          ],
          "contourcarpet": [
           {
            "colorbar": {
             "outlinewidth": 0,
             "ticks": ""
            },
            "type": "contourcarpet"
           }
          ],
          "heatmap": [
           {
            "colorbar": {
             "outlinewidth": 0,
             "ticks": ""
            },
            "colorscale": [
             [
              0,
              "#0d0887"
             ],
             [
              0.1111111111111111,
              "#46039f"
             ],
             [
              0.2222222222222222,
              "#7201a8"
             ],
             [
              0.3333333333333333,
              "#9c179e"
             ],
             [
              0.4444444444444444,
              "#bd3786"
             ],
             [
              0.5555555555555556,
              "#d8576b"
             ],
             [
              0.6666666666666666,
              "#ed7953"
             ],
             [
              0.7777777777777778,
              "#fb9f3a"
             ],
             [
              0.8888888888888888,
              "#fdca26"
             ],
             [
              1,
              "#f0f921"
             ]
            ],
            "type": "heatmap"
           }
          ],
          "heatmapgl": [
           {
            "colorbar": {
             "outlinewidth": 0,
             "ticks": ""
            },
            "colorscale": [
             [
              0,
              "#0d0887"
             ],
             [
              0.1111111111111111,
              "#46039f"
             ],
             [
              0.2222222222222222,
              "#7201a8"
             ],
             [
              0.3333333333333333,
              "#9c179e"
             ],
             [
              0.4444444444444444,
              "#bd3786"
             ],
             [
              0.5555555555555556,
              "#d8576b"
             ],
             [
              0.6666666666666666,
              "#ed7953"
             ],
             [
              0.7777777777777778,
              "#fb9f3a"
             ],
             [
              0.8888888888888888,
              "#fdca26"
             ],
             [
              1,
              "#f0f921"
             ]
            ],
            "type": "heatmapgl"
           }
          ],
          "histogram": [
           {
            "marker": {
             "colorbar": {
              "outlinewidth": 0,
              "ticks": ""
             }
            },
            "type": "histogram"
           }
          ],
          "histogram2d": [
           {
            "colorbar": {
             "outlinewidth": 0,
             "ticks": ""
            },
            "colorscale": [
             [
              0,
              "#0d0887"
             ],
             [
              0.1111111111111111,
              "#46039f"
             ],
             [
              0.2222222222222222,
              "#7201a8"
             ],
             [
              0.3333333333333333,
              "#9c179e"
             ],
             [
              0.4444444444444444,
              "#bd3786"
             ],
             [
              0.5555555555555556,
              "#d8576b"
             ],
             [
              0.6666666666666666,
              "#ed7953"
             ],
             [
              0.7777777777777778,
              "#fb9f3a"
             ],
             [
              0.8888888888888888,
              "#fdca26"
             ],
             [
              1,
              "#f0f921"
             ]
            ],
            "type": "histogram2d"
           }
          ],
          "histogram2dcontour": [
           {
            "colorbar": {
             "outlinewidth": 0,
             "ticks": ""
            },
            "colorscale": [
             [
              0,
              "#0d0887"
             ],
             [
              0.1111111111111111,
              "#46039f"
             ],
             [
              0.2222222222222222,
              "#7201a8"
             ],
             [
              0.3333333333333333,
              "#9c179e"
             ],
             [
              0.4444444444444444,
              "#bd3786"
             ],
             [
              0.5555555555555556,
              "#d8576b"
             ],
             [
              0.6666666666666666,
              "#ed7953"
             ],
             [
              0.7777777777777778,
              "#fb9f3a"
             ],
             [
              0.8888888888888888,
              "#fdca26"
             ],
             [
              1,
              "#f0f921"
             ]
            ],
            "type": "histogram2dcontour"
           }
          ],
          "mesh3d": [
           {
            "colorbar": {
             "outlinewidth": 0,
             "ticks": ""
            },
            "type": "mesh3d"
           }
          ],
          "parcoords": [
           {
            "line": {
             "colorbar": {
              "outlinewidth": 0,
              "ticks": ""
             }
            },
            "type": "parcoords"
           }
          ],
          "pie": [
           {
            "automargin": true,
            "type": "pie"
           }
          ],
          "scatter": [
           {
            "marker": {
             "colorbar": {
              "outlinewidth": 0,
              "ticks": ""
             }
            },
            "type": "scatter"
           }
          ],
          "scatter3d": [
           {
            "line": {
             "colorbar": {
              "outlinewidth": 0,
              "ticks": ""
             }
            },
            "marker": {
             "colorbar": {
              "outlinewidth": 0,
              "ticks": ""
             }
            },
            "type": "scatter3d"
           }
          ],
          "scattercarpet": [
           {
            "marker": {
             "colorbar": {
              "outlinewidth": 0,
              "ticks": ""
             }
            },
            "type": "scattercarpet"
           }
          ],
          "scattergeo": [
           {
            "marker": {
             "colorbar": {
              "outlinewidth": 0,
              "ticks": ""
             }
            },
            "type": "scattergeo"
           }
          ],
          "scattergl": [
           {
            "marker": {
             "colorbar": {
              "outlinewidth": 0,
              "ticks": ""
             }
            },
            "type": "scattergl"
           }
          ],
          "scattermapbox": [
           {
            "marker": {
             "colorbar": {
              "outlinewidth": 0,
              "ticks": ""
             }
            },
            "type": "scattermapbox"
           }
          ],
          "scatterpolar": [
           {
            "marker": {
             "colorbar": {
              "outlinewidth": 0,
              "ticks": ""
             }
            },
            "type": "scatterpolar"
           }
          ],
          "scatterpolargl": [
           {
            "marker": {
             "colorbar": {
              "outlinewidth": 0,
              "ticks": ""
             }
            },
            "type": "scatterpolargl"
           }
          ],
          "scatterternary": [
           {
            "marker": {
             "colorbar": {
              "outlinewidth": 0,
              "ticks": ""
             }
            },
            "type": "scatterternary"
           }
          ],
          "surface": [
           {
            "colorbar": {
             "outlinewidth": 0,
             "ticks": ""
            },
            "colorscale": [
             [
              0,
              "#0d0887"
             ],
             [
              0.1111111111111111,
              "#46039f"
             ],
             [
              0.2222222222222222,
              "#7201a8"
             ],
             [
              0.3333333333333333,
              "#9c179e"
             ],
             [
              0.4444444444444444,
              "#bd3786"
             ],
             [
              0.5555555555555556,
              "#d8576b"
             ],
             [
              0.6666666666666666,
              "#ed7953"
             ],
             [
              0.7777777777777778,
              "#fb9f3a"
             ],
             [
              0.8888888888888888,
              "#fdca26"
             ],
             [
              1,
              "#f0f921"
             ]
            ],
            "type": "surface"
           }
          ],
          "table": [
           {
            "cells": {
             "fill": {
              "color": "#EBF0F8"
             },
             "line": {
              "color": "white"
             }
            },
            "header": {
             "fill": {
              "color": "#C8D4E3"
             },
             "line": {
              "color": "white"
             }
            },
            "type": "table"
           }
          ]
         },
         "layout": {
          "annotationdefaults": {
           "arrowcolor": "#2a3f5f",
           "arrowhead": 0,
           "arrowwidth": 1
          },
          "coloraxis": {
           "colorbar": {
            "outlinewidth": 0,
            "ticks": ""
           }
          },
          "colorscale": {
           "diverging": [
            [
             0,
             "#8e0152"
            ],
            [
             0.1,
             "#c51b7d"
            ],
            [
             0.2,
             "#de77ae"
            ],
            [
             0.3,
             "#f1b6da"
            ],
            [
             0.4,
             "#fde0ef"
            ],
            [
             0.5,
             "#f7f7f7"
            ],
            [
             0.6,
             "#e6f5d0"
            ],
            [
             0.7,
             "#b8e186"
            ],
            [
             0.8,
             "#7fbc41"
            ],
            [
             0.9,
             "#4d9221"
            ],
            [
             1,
             "#276419"
            ]
           ],
           "sequential": [
            [
             0,
             "#0d0887"
            ],
            [
             0.1111111111111111,
             "#46039f"
            ],
            [
             0.2222222222222222,
             "#7201a8"
            ],
            [
             0.3333333333333333,
             "#9c179e"
            ],
            [
             0.4444444444444444,
             "#bd3786"
            ],
            [
             0.5555555555555556,
             "#d8576b"
            ],
            [
             0.6666666666666666,
             "#ed7953"
            ],
            [
             0.7777777777777778,
             "#fb9f3a"
            ],
            [
             0.8888888888888888,
             "#fdca26"
            ],
            [
             1,
             "#f0f921"
            ]
           ],
           "sequentialminus": [
            [
             0,
             "#0d0887"
            ],
            [
             0.1111111111111111,
             "#46039f"
            ],
            [
             0.2222222222222222,
             "#7201a8"
            ],
            [
             0.3333333333333333,
             "#9c179e"
            ],
            [
             0.4444444444444444,
             "#bd3786"
            ],
            [
             0.5555555555555556,
             "#d8576b"
            ],
            [
             0.6666666666666666,
             "#ed7953"
            ],
            [
             0.7777777777777778,
             "#fb9f3a"
            ],
            [
             0.8888888888888888,
             "#fdca26"
            ],
            [
             1,
             "#f0f921"
            ]
           ]
          },
          "colorway": [
           "#636efa",
           "#EF553B",
           "#00cc96",
           "#ab63fa",
           "#FFA15A",
           "#19d3f3",
           "#FF6692",
           "#B6E880",
           "#FF97FF",
           "#FECB52"
          ],
          "font": {
           "color": "#2a3f5f"
          },
          "geo": {
           "bgcolor": "white",
           "lakecolor": "white",
           "landcolor": "#E5ECF6",
           "showlakes": true,
           "showland": true,
           "subunitcolor": "white"
          },
          "hoverlabel": {
           "align": "left"
          },
          "hovermode": "closest",
          "mapbox": {
           "style": "light"
          },
          "paper_bgcolor": "white",
          "plot_bgcolor": "#E5ECF6",
          "polar": {
           "angularaxis": {
            "gridcolor": "white",
            "linecolor": "white",
            "ticks": ""
           },
           "bgcolor": "#E5ECF6",
           "radialaxis": {
            "gridcolor": "white",
            "linecolor": "white",
            "ticks": ""
           }
          },
          "scene": {
           "xaxis": {
            "backgroundcolor": "#E5ECF6",
            "gridcolor": "white",
            "gridwidth": 2,
            "linecolor": "white",
            "showbackground": true,
            "ticks": "",
            "zerolinecolor": "white"
           },
           "yaxis": {
            "backgroundcolor": "#E5ECF6",
            "gridcolor": "white",
            "gridwidth": 2,
            "linecolor": "white",
            "showbackground": true,
            "ticks": "",
            "zerolinecolor": "white"
           },
           "zaxis": {
            "backgroundcolor": "#E5ECF6",
            "gridcolor": "white",
            "gridwidth": 2,
            "linecolor": "white",
            "showbackground": true,
            "ticks": "",
            "zerolinecolor": "white"
           }
          },
          "shapedefaults": {
           "line": {
            "color": "#2a3f5f"
           }
          },
          "ternary": {
           "aaxis": {
            "gridcolor": "white",
            "linecolor": "white",
            "ticks": ""
           },
           "baxis": {
            "gridcolor": "white",
            "linecolor": "white",
            "ticks": ""
           },
           "bgcolor": "#E5ECF6",
           "caxis": {
            "gridcolor": "white",
            "linecolor": "white",
            "ticks": ""
           }
          },
          "title": {
           "x": 0.05
          },
          "xaxis": {
           "automargin": true,
           "gridcolor": "white",
           "linecolor": "white",
           "ticks": "",
           "title": {
            "standoff": 15
           },
           "zerolinecolor": "white",
           "zerolinewidth": 2
          },
          "yaxis": {
           "automargin": true,
           "gridcolor": "white",
           "linecolor": "white",
           "ticks": "",
           "title": {
            "standoff": 15
           },
           "zerolinecolor": "white",
           "zerolinewidth": 2
          }
         }
        },
        "title": {
         "text": "Customer Rating"
        }
       }
      },
      "text/html": [
       "<div>\n",
       "        \n",
       "        \n",
       "            <div id=\"0aba3ff2-8abd-4902-9652-03cedff599da\" class=\"plotly-graph-div\" style=\"height:525px; width:100%;\"></div>\n",
       "            <script type=\"text/javascript\">\n",
       "                require([\"plotly\"], function(Plotly) {\n",
       "                    window.PLOTLYENV=window.PLOTLYENV || {};\n",
       "                    \n",
       "                if (document.getElementById(\"0aba3ff2-8abd-4902-9652-03cedff599da\")) {\n",
       "                    Plotly.newPlot(\n",
       "                        '0aba3ff2-8abd-4902-9652-03cedff599da',\n",
       "                        [{\"type\": \"bar\", \"x\": [\"1 Star\", \"2 Stars\", \"3 Stars\", \"4 Stars\", \"5 Stars\"], \"y\": [23, 17, 23, 37, 200]}],\n",
       "                        {\"template\": {\"data\": {\"bar\": [{\"error_x\": {\"color\": \"#2a3f5f\"}, \"error_y\": {\"color\": \"#2a3f5f\"}, \"marker\": {\"line\": {\"color\": \"#E5ECF6\", \"width\": 0.5}}, \"type\": \"bar\"}], \"barpolar\": [{\"marker\": {\"line\": {\"color\": \"#E5ECF6\", \"width\": 0.5}}, \"type\": \"barpolar\"}], \"carpet\": [{\"aaxis\": {\"endlinecolor\": \"#2a3f5f\", \"gridcolor\": \"white\", \"linecolor\": \"white\", \"minorgridcolor\": \"white\", \"startlinecolor\": \"#2a3f5f\"}, \"baxis\": {\"endlinecolor\": \"#2a3f5f\", \"gridcolor\": \"white\", \"linecolor\": \"white\", \"minorgridcolor\": \"white\", \"startlinecolor\": \"#2a3f5f\"}, \"type\": \"carpet\"}], \"choropleth\": [{\"colorbar\": {\"outlinewidth\": 0, \"ticks\": \"\"}, \"type\": \"choropleth\"}], \"contour\": [{\"colorbar\": {\"outlinewidth\": 0, \"ticks\": \"\"}, \"colorscale\": [[0.0, \"#0d0887\"], [0.1111111111111111, \"#46039f\"], [0.2222222222222222, \"#7201a8\"], [0.3333333333333333, \"#9c179e\"], [0.4444444444444444, \"#bd3786\"], [0.5555555555555556, \"#d8576b\"], [0.6666666666666666, \"#ed7953\"], [0.7777777777777778, \"#fb9f3a\"], [0.8888888888888888, \"#fdca26\"], [1.0, \"#f0f921\"]], \"type\": \"contour\"}], \"contourcarpet\": [{\"colorbar\": {\"outlinewidth\": 0, \"ticks\": \"\"}, \"type\": \"contourcarpet\"}], \"heatmap\": [{\"colorbar\": {\"outlinewidth\": 0, \"ticks\": \"\"}, \"colorscale\": [[0.0, \"#0d0887\"], [0.1111111111111111, \"#46039f\"], [0.2222222222222222, \"#7201a8\"], [0.3333333333333333, \"#9c179e\"], [0.4444444444444444, \"#bd3786\"], [0.5555555555555556, \"#d8576b\"], [0.6666666666666666, \"#ed7953\"], [0.7777777777777778, \"#fb9f3a\"], [0.8888888888888888, \"#fdca26\"], [1.0, \"#f0f921\"]], \"type\": \"heatmap\"}], \"heatmapgl\": [{\"colorbar\": {\"outlinewidth\": 0, \"ticks\": \"\"}, \"colorscale\": [[0.0, \"#0d0887\"], [0.1111111111111111, \"#46039f\"], [0.2222222222222222, \"#7201a8\"], [0.3333333333333333, \"#9c179e\"], [0.4444444444444444, \"#bd3786\"], [0.5555555555555556, \"#d8576b\"], [0.6666666666666666, \"#ed7953\"], [0.7777777777777778, \"#fb9f3a\"], [0.8888888888888888, \"#fdca26\"], [1.0, \"#f0f921\"]], \"type\": \"heatmapgl\"}], \"histogram\": [{\"marker\": {\"colorbar\": {\"outlinewidth\": 0, \"ticks\": \"\"}}, \"type\": \"histogram\"}], \"histogram2d\": [{\"colorbar\": {\"outlinewidth\": 0, \"ticks\": \"\"}, \"colorscale\": [[0.0, \"#0d0887\"], [0.1111111111111111, \"#46039f\"], [0.2222222222222222, \"#7201a8\"], [0.3333333333333333, \"#9c179e\"], [0.4444444444444444, \"#bd3786\"], [0.5555555555555556, \"#d8576b\"], [0.6666666666666666, \"#ed7953\"], [0.7777777777777778, \"#fb9f3a\"], [0.8888888888888888, \"#fdca26\"], [1.0, \"#f0f921\"]], \"type\": \"histogram2d\"}], \"histogram2dcontour\": [{\"colorbar\": {\"outlinewidth\": 0, \"ticks\": \"\"}, \"colorscale\": [[0.0, \"#0d0887\"], [0.1111111111111111, \"#46039f\"], [0.2222222222222222, \"#7201a8\"], [0.3333333333333333, \"#9c179e\"], [0.4444444444444444, \"#bd3786\"], [0.5555555555555556, \"#d8576b\"], [0.6666666666666666, \"#ed7953\"], [0.7777777777777778, \"#fb9f3a\"], [0.8888888888888888, \"#fdca26\"], [1.0, \"#f0f921\"]], \"type\": \"histogram2dcontour\"}], \"mesh3d\": [{\"colorbar\": {\"outlinewidth\": 0, \"ticks\": \"\"}, \"type\": \"mesh3d\"}], \"parcoords\": [{\"line\": {\"colorbar\": {\"outlinewidth\": 0, \"ticks\": \"\"}}, \"type\": \"parcoords\"}], \"pie\": [{\"automargin\": true, \"type\": \"pie\"}], \"scatter\": [{\"marker\": {\"colorbar\": {\"outlinewidth\": 0, \"ticks\": \"\"}}, \"type\": \"scatter\"}], \"scatter3d\": [{\"line\": {\"colorbar\": {\"outlinewidth\": 0, \"ticks\": \"\"}}, \"marker\": {\"colorbar\": {\"outlinewidth\": 0, \"ticks\": \"\"}}, \"type\": \"scatter3d\"}], \"scattercarpet\": [{\"marker\": {\"colorbar\": {\"outlinewidth\": 0, \"ticks\": \"\"}}, \"type\": \"scattercarpet\"}], \"scattergeo\": [{\"marker\": {\"colorbar\": {\"outlinewidth\": 0, \"ticks\": \"\"}}, \"type\": \"scattergeo\"}], \"scattergl\": [{\"marker\": {\"colorbar\": {\"outlinewidth\": 0, \"ticks\": \"\"}}, \"type\": \"scattergl\"}], \"scattermapbox\": [{\"marker\": {\"colorbar\": {\"outlinewidth\": 0, \"ticks\": \"\"}}, \"type\": \"scattermapbox\"}], \"scatterpolar\": [{\"marker\": {\"colorbar\": {\"outlinewidth\": 0, \"ticks\": \"\"}}, \"type\": \"scatterpolar\"}], \"scatterpolargl\": [{\"marker\": {\"colorbar\": {\"outlinewidth\": 0, \"ticks\": \"\"}}, \"type\": \"scatterpolargl\"}], \"scatterternary\": [{\"marker\": {\"colorbar\": {\"outlinewidth\": 0, \"ticks\": \"\"}}, \"type\": \"scatterternary\"}], \"surface\": [{\"colorbar\": {\"outlinewidth\": 0, \"ticks\": \"\"}, \"colorscale\": [[0.0, \"#0d0887\"], [0.1111111111111111, \"#46039f\"], [0.2222222222222222, \"#7201a8\"], [0.3333333333333333, \"#9c179e\"], [0.4444444444444444, \"#bd3786\"], [0.5555555555555556, \"#d8576b\"], [0.6666666666666666, \"#ed7953\"], [0.7777777777777778, \"#fb9f3a\"], [0.8888888888888888, \"#fdca26\"], [1.0, \"#f0f921\"]], \"type\": \"surface\"}], \"table\": [{\"cells\": {\"fill\": {\"color\": \"#EBF0F8\"}, \"line\": {\"color\": \"white\"}}, \"header\": {\"fill\": {\"color\": \"#C8D4E3\"}, \"line\": {\"color\": \"white\"}}, \"type\": \"table\"}]}, \"layout\": {\"annotationdefaults\": {\"arrowcolor\": \"#2a3f5f\", \"arrowhead\": 0, \"arrowwidth\": 1}, \"coloraxis\": {\"colorbar\": {\"outlinewidth\": 0, \"ticks\": \"\"}}, \"colorscale\": {\"diverging\": [[0, \"#8e0152\"], [0.1, \"#c51b7d\"], [0.2, \"#de77ae\"], [0.3, \"#f1b6da\"], [0.4, \"#fde0ef\"], [0.5, \"#f7f7f7\"], [0.6, \"#e6f5d0\"], [0.7, \"#b8e186\"], [0.8, \"#7fbc41\"], [0.9, \"#4d9221\"], [1, \"#276419\"]], \"sequential\": [[0.0, \"#0d0887\"], [0.1111111111111111, \"#46039f\"], [0.2222222222222222, \"#7201a8\"], [0.3333333333333333, \"#9c179e\"], [0.4444444444444444, \"#bd3786\"], [0.5555555555555556, \"#d8576b\"], [0.6666666666666666, \"#ed7953\"], [0.7777777777777778, \"#fb9f3a\"], [0.8888888888888888, \"#fdca26\"], [1.0, \"#f0f921\"]], \"sequentialminus\": [[0.0, \"#0d0887\"], [0.1111111111111111, \"#46039f\"], [0.2222222222222222, \"#7201a8\"], [0.3333333333333333, \"#9c179e\"], [0.4444444444444444, \"#bd3786\"], [0.5555555555555556, \"#d8576b\"], [0.6666666666666666, \"#ed7953\"], [0.7777777777777778, \"#fb9f3a\"], [0.8888888888888888, \"#fdca26\"], [1.0, \"#f0f921\"]]}, \"colorway\": [\"#636efa\", \"#EF553B\", \"#00cc96\", \"#ab63fa\", \"#FFA15A\", \"#19d3f3\", \"#FF6692\", \"#B6E880\", \"#FF97FF\", \"#FECB52\"], \"font\": {\"color\": \"#2a3f5f\"}, \"geo\": {\"bgcolor\": \"white\", \"lakecolor\": \"white\", \"landcolor\": \"#E5ECF6\", \"showlakes\": true, \"showland\": true, \"subunitcolor\": \"white\"}, \"hoverlabel\": {\"align\": \"left\"}, \"hovermode\": \"closest\", \"mapbox\": {\"style\": \"light\"}, \"paper_bgcolor\": \"white\", \"plot_bgcolor\": \"#E5ECF6\", \"polar\": {\"angularaxis\": {\"gridcolor\": \"white\", \"linecolor\": \"white\", \"ticks\": \"\"}, \"bgcolor\": \"#E5ECF6\", \"radialaxis\": {\"gridcolor\": \"white\", \"linecolor\": \"white\", \"ticks\": \"\"}}, \"scene\": {\"xaxis\": {\"backgroundcolor\": \"#E5ECF6\", \"gridcolor\": \"white\", \"gridwidth\": 2, \"linecolor\": \"white\", \"showbackground\": true, \"ticks\": \"\", \"zerolinecolor\": \"white\"}, \"yaxis\": {\"backgroundcolor\": \"#E5ECF6\", \"gridcolor\": \"white\", \"gridwidth\": 2, \"linecolor\": \"white\", \"showbackground\": true, \"ticks\": \"\", \"zerolinecolor\": \"white\"}, \"zaxis\": {\"backgroundcolor\": \"#E5ECF6\", \"gridcolor\": \"white\", \"gridwidth\": 2, \"linecolor\": \"white\", \"showbackground\": true, \"ticks\": \"\", \"zerolinecolor\": \"white\"}}, \"shapedefaults\": {\"line\": {\"color\": \"#2a3f5f\"}}, \"ternary\": {\"aaxis\": {\"gridcolor\": \"white\", \"linecolor\": \"white\", \"ticks\": \"\"}, \"baxis\": {\"gridcolor\": \"white\", \"linecolor\": \"white\", \"ticks\": \"\"}, \"bgcolor\": \"#E5ECF6\", \"caxis\": {\"gridcolor\": \"white\", \"linecolor\": \"white\", \"ticks\": \"\"}}, \"title\": {\"x\": 0.05}, \"xaxis\": {\"automargin\": true, \"gridcolor\": \"white\", \"linecolor\": \"white\", \"ticks\": \"\", \"title\": {\"standoff\": 15}, \"zerolinecolor\": \"white\", \"zerolinewidth\": 2}, \"yaxis\": {\"automargin\": true, \"gridcolor\": \"white\", \"linecolor\": \"white\", \"ticks\": \"\", \"title\": {\"standoff\": 15}, \"zerolinecolor\": \"white\", \"zerolinewidth\": 2}}}, \"title\": {\"text\": \"Customer Rating\"}},\n",
       "                        {\"responsive\": true}\n",
       "                    ).then(function(){\n",
       "                            \n",
       "var gd = document.getElementById('0aba3ff2-8abd-4902-9652-03cedff599da');\n",
       "var x = new MutationObserver(function (mutations, observer) {{\n",
       "        var display = window.getComputedStyle(gd).display;\n",
       "        if (!display || display === 'none') {{\n",
       "            console.log([gd, 'removed!']);\n",
       "            Plotly.purge(gd);\n",
       "            observer.disconnect();\n",
       "        }}\n",
       "}});\n",
       "\n",
       "// Listen for the removal of the full notebook cells\n",
       "var notebookContainer = gd.closest('#notebook-container');\n",
       "if (notebookContainer) {{\n",
       "    x.observe(notebookContainer, {childList: true});\n",
       "}}\n",
       "\n",
       "// Listen for the clearing of the current output cell\n",
       "var outputEl = gd.closest('.output');\n",
       "if (outputEl) {{\n",
       "    x.observe(outputEl, {childList: true});\n",
       "}}\n",
       "\n",
       "                        })\n",
       "                };\n",
       "                });\n",
       "            </script>\n",
       "        </div>"
      ]
     },
     "metadata": {},
     "output_type": "display_data"
    }
   ],
   "source": [
    "# visualize\n",
    "import plotly.graph_objects as go\n",
    "\n",
    "x_value = df_rating['rating'] \n",
    "y_value = df_rating['count']\n",
    "\n",
    "fig = go.Figure([go.Bar(x = x_value, y = y_value)])\n",
    "fig.update_layout(title_text='Customer Rating')\n",
    "fig.write_image('plots/customer-rating.png')\n",
    "fig.show()"
   ]
  },
  {
   "cell_type": "markdown",
   "metadata": {},
   "source": [
    "## Rating Percentage"
   ]
  },
  {
   "cell_type": "code",
   "execution_count": 284,
   "metadata": {},
   "outputs": [
    {
     "data": {
      "application/vnd.plotly.v1+json": {
       "config": {
        "plotlyServerURL": "https://plot.ly"
       },
       "data": [
        {
         "customdata": [
          [
           "1 Star"
          ],
          [
           "2 Stars"
          ],
          [
           "3 Stars"
          ],
          [
           "4 Stars"
          ],
          [
           "5 Stars"
          ]
         ],
         "domain": {
          "x": [
           0,
           1
          ],
          "y": [
           0,
           1
          ]
         },
         "hovertemplate": "rating=%{label}<br>count=%{value}<extra></extra>",
         "labels": [
          "1 Star",
          "2 Stars",
          "3 Stars",
          "4 Stars",
          "5 Stars"
         ],
         "legendgroup": "",
         "name": "",
         "showlegend": true,
         "textinfo": "percent+label",
         "textposition": "inside",
         "type": "pie",
         "values": [
          23,
          17,
          23,
          37,
          200
         ]
        }
       ],
       "layout": {
        "legend": {
         "tracegroupgap": 0
        },
        "template": {
         "data": {
          "bar": [
           {
            "error_x": {
             "color": "#2a3f5f"
            },
            "error_y": {
             "color": "#2a3f5f"
            },
            "marker": {
             "line": {
              "color": "#E5ECF6",
              "width": 0.5
             }
            },
            "type": "bar"
           }
          ],
          "barpolar": [
           {
            "marker": {
             "line": {
              "color": "#E5ECF6",
              "width": 0.5
             }
            },
            "type": "barpolar"
           }
          ],
          "carpet": [
           {
            "aaxis": {
             "endlinecolor": "#2a3f5f",
             "gridcolor": "white",
             "linecolor": "white",
             "minorgridcolor": "white",
             "startlinecolor": "#2a3f5f"
            },
            "baxis": {
             "endlinecolor": "#2a3f5f",
             "gridcolor": "white",
             "linecolor": "white",
             "minorgridcolor": "white",
             "startlinecolor": "#2a3f5f"
            },
            "type": "carpet"
           }
          ],
          "choropleth": [
           {
            "colorbar": {
             "outlinewidth": 0,
             "ticks": ""
            },
            "type": "choropleth"
           }
          ],
          "contour": [
           {
            "colorbar": {
             "outlinewidth": 0,
             "ticks": ""
            },
            "colorscale": [
             [
              0,
              "#0d0887"
             ],
             [
              0.1111111111111111,
              "#46039f"
             ],
             [
              0.2222222222222222,
              "#7201a8"
             ],
             [
              0.3333333333333333,
              "#9c179e"
             ],
             [
              0.4444444444444444,
              "#bd3786"
             ],
             [
              0.5555555555555556,
              "#d8576b"
             ],
             [
              0.6666666666666666,
              "#ed7953"
             ],
             [
              0.7777777777777778,
              "#fb9f3a"
             ],
             [
              0.8888888888888888,
              "#fdca26"
             ],
             [
              1,
              "#f0f921"
             ]
            ],
            "type": "contour"
           }
          ],
          "contourcarpet": [
           {
            "colorbar": {
             "outlinewidth": 0,
             "ticks": ""
            },
            "type": "contourcarpet"
           }
          ],
          "heatmap": [
           {
            "colorbar": {
             "outlinewidth": 0,
             "ticks": ""
            },
            "colorscale": [
             [
              0,
              "#0d0887"
             ],
             [
              0.1111111111111111,
              "#46039f"
             ],
             [
              0.2222222222222222,
              "#7201a8"
             ],
             [
              0.3333333333333333,
              "#9c179e"
             ],
             [
              0.4444444444444444,
              "#bd3786"
             ],
             [
              0.5555555555555556,
              "#d8576b"
             ],
             [
              0.6666666666666666,
              "#ed7953"
             ],
             [
              0.7777777777777778,
              "#fb9f3a"
             ],
             [
              0.8888888888888888,
              "#fdca26"
             ],
             [
              1,
              "#f0f921"
             ]
            ],
            "type": "heatmap"
           }
          ],
          "heatmapgl": [
           {
            "colorbar": {
             "outlinewidth": 0,
             "ticks": ""
            },
            "colorscale": [
             [
              0,
              "#0d0887"
             ],
             [
              0.1111111111111111,
              "#46039f"
             ],
             [
              0.2222222222222222,
              "#7201a8"
             ],
             [
              0.3333333333333333,
              "#9c179e"
             ],
             [
              0.4444444444444444,
              "#bd3786"
             ],
             [
              0.5555555555555556,
              "#d8576b"
             ],
             [
              0.6666666666666666,
              "#ed7953"
             ],
             [
              0.7777777777777778,
              "#fb9f3a"
             ],
             [
              0.8888888888888888,
              "#fdca26"
             ],
             [
              1,
              "#f0f921"
             ]
            ],
            "type": "heatmapgl"
           }
          ],
          "histogram": [
           {
            "marker": {
             "colorbar": {
              "outlinewidth": 0,
              "ticks": ""
             }
            },
            "type": "histogram"
           }
          ],
          "histogram2d": [
           {
            "colorbar": {
             "outlinewidth": 0,
             "ticks": ""
            },
            "colorscale": [
             [
              0,
              "#0d0887"
             ],
             [
              0.1111111111111111,
              "#46039f"
             ],
             [
              0.2222222222222222,
              "#7201a8"
             ],
             [
              0.3333333333333333,
              "#9c179e"
             ],
             [
              0.4444444444444444,
              "#bd3786"
             ],
             [
              0.5555555555555556,
              "#d8576b"
             ],
             [
              0.6666666666666666,
              "#ed7953"
             ],
             [
              0.7777777777777778,
              "#fb9f3a"
             ],
             [
              0.8888888888888888,
              "#fdca26"
             ],
             [
              1,
              "#f0f921"
             ]
            ],
            "type": "histogram2d"
           }
          ],
          "histogram2dcontour": [
           {
            "colorbar": {
             "outlinewidth": 0,
             "ticks": ""
            },
            "colorscale": [
             [
              0,
              "#0d0887"
             ],
             [
              0.1111111111111111,
              "#46039f"
             ],
             [
              0.2222222222222222,
              "#7201a8"
             ],
             [
              0.3333333333333333,
              "#9c179e"
             ],
             [
              0.4444444444444444,
              "#bd3786"
             ],
             [
              0.5555555555555556,
              "#d8576b"
             ],
             [
              0.6666666666666666,
              "#ed7953"
             ],
             [
              0.7777777777777778,
              "#fb9f3a"
             ],
             [
              0.8888888888888888,
              "#fdca26"
             ],
             [
              1,
              "#f0f921"
             ]
            ],
            "type": "histogram2dcontour"
           }
          ],
          "mesh3d": [
           {
            "colorbar": {
             "outlinewidth": 0,
             "ticks": ""
            },
            "type": "mesh3d"
           }
          ],
          "parcoords": [
           {
            "line": {
             "colorbar": {
              "outlinewidth": 0,
              "ticks": ""
             }
            },
            "type": "parcoords"
           }
          ],
          "pie": [
           {
            "automargin": true,
            "type": "pie"
           }
          ],
          "scatter": [
           {
            "marker": {
             "colorbar": {
              "outlinewidth": 0,
              "ticks": ""
             }
            },
            "type": "scatter"
           }
          ],
          "scatter3d": [
           {
            "line": {
             "colorbar": {
              "outlinewidth": 0,
              "ticks": ""
             }
            },
            "marker": {
             "colorbar": {
              "outlinewidth": 0,
              "ticks": ""
             }
            },
            "type": "scatter3d"
           }
          ],
          "scattercarpet": [
           {
            "marker": {
             "colorbar": {
              "outlinewidth": 0,
              "ticks": ""
             }
            },
            "type": "scattercarpet"
           }
          ],
          "scattergeo": [
           {
            "marker": {
             "colorbar": {
              "outlinewidth": 0,
              "ticks": ""
             }
            },
            "type": "scattergeo"
           }
          ],
          "scattergl": [
           {
            "marker": {
             "colorbar": {
              "outlinewidth": 0,
              "ticks": ""
             }
            },
            "type": "scattergl"
           }
          ],
          "scattermapbox": [
           {
            "marker": {
             "colorbar": {
              "outlinewidth": 0,
              "ticks": ""
             }
            },
            "type": "scattermapbox"
           }
          ],
          "scatterpolar": [
           {
            "marker": {
             "colorbar": {
              "outlinewidth": 0,
              "ticks": ""
             }
            },
            "type": "scatterpolar"
           }
          ],
          "scatterpolargl": [
           {
            "marker": {
             "colorbar": {
              "outlinewidth": 0,
              "ticks": ""
             }
            },
            "type": "scatterpolargl"
           }
          ],
          "scatterternary": [
           {
            "marker": {
             "colorbar": {
              "outlinewidth": 0,
              "ticks": ""
             }
            },
            "type": "scatterternary"
           }
          ],
          "surface": [
           {
            "colorbar": {
             "outlinewidth": 0,
             "ticks": ""
            },
            "colorscale": [
             [
              0,
              "#0d0887"
             ],
             [
              0.1111111111111111,
              "#46039f"
             ],
             [
              0.2222222222222222,
              "#7201a8"
             ],
             [
              0.3333333333333333,
              "#9c179e"
             ],
             [
              0.4444444444444444,
              "#bd3786"
             ],
             [
              0.5555555555555556,
              "#d8576b"
             ],
             [
              0.6666666666666666,
              "#ed7953"
             ],
             [
              0.7777777777777778,
              "#fb9f3a"
             ],
             [
              0.8888888888888888,
              "#fdca26"
             ],
             [
              1,
              "#f0f921"
             ]
            ],
            "type": "surface"
           }
          ],
          "table": [
           {
            "cells": {
             "fill": {
              "color": "#EBF0F8"
             },
             "line": {
              "color": "white"
             }
            },
            "header": {
             "fill": {
              "color": "#C8D4E3"
             },
             "line": {
              "color": "white"
             }
            },
            "type": "table"
           }
          ]
         },
         "layout": {
          "annotationdefaults": {
           "arrowcolor": "#2a3f5f",
           "arrowhead": 0,
           "arrowwidth": 1
          },
          "coloraxis": {
           "colorbar": {
            "outlinewidth": 0,
            "ticks": ""
           }
          },
          "colorscale": {
           "diverging": [
            [
             0,
             "#8e0152"
            ],
            [
             0.1,
             "#c51b7d"
            ],
            [
             0.2,
             "#de77ae"
            ],
            [
             0.3,
             "#f1b6da"
            ],
            [
             0.4,
             "#fde0ef"
            ],
            [
             0.5,
             "#f7f7f7"
            ],
            [
             0.6,
             "#e6f5d0"
            ],
            [
             0.7,
             "#b8e186"
            ],
            [
             0.8,
             "#7fbc41"
            ],
            [
             0.9,
             "#4d9221"
            ],
            [
             1,
             "#276419"
            ]
           ],
           "sequential": [
            [
             0,
             "#0d0887"
            ],
            [
             0.1111111111111111,
             "#46039f"
            ],
            [
             0.2222222222222222,
             "#7201a8"
            ],
            [
             0.3333333333333333,
             "#9c179e"
            ],
            [
             0.4444444444444444,
             "#bd3786"
            ],
            [
             0.5555555555555556,
             "#d8576b"
            ],
            [
             0.6666666666666666,
             "#ed7953"
            ],
            [
             0.7777777777777778,
             "#fb9f3a"
            ],
            [
             0.8888888888888888,
             "#fdca26"
            ],
            [
             1,
             "#f0f921"
            ]
           ],
           "sequentialminus": [
            [
             0,
             "#0d0887"
            ],
            [
             0.1111111111111111,
             "#46039f"
            ],
            [
             0.2222222222222222,
             "#7201a8"
            ],
            [
             0.3333333333333333,
             "#9c179e"
            ],
            [
             0.4444444444444444,
             "#bd3786"
            ],
            [
             0.5555555555555556,
             "#d8576b"
            ],
            [
             0.6666666666666666,
             "#ed7953"
            ],
            [
             0.7777777777777778,
             "#fb9f3a"
            ],
            [
             0.8888888888888888,
             "#fdca26"
            ],
            [
             1,
             "#f0f921"
            ]
           ]
          },
          "colorway": [
           "#636efa",
           "#EF553B",
           "#00cc96",
           "#ab63fa",
           "#FFA15A",
           "#19d3f3",
           "#FF6692",
           "#B6E880",
           "#FF97FF",
           "#FECB52"
          ],
          "font": {
           "color": "#2a3f5f"
          },
          "geo": {
           "bgcolor": "white",
           "lakecolor": "white",
           "landcolor": "#E5ECF6",
           "showlakes": true,
           "showland": true,
           "subunitcolor": "white"
          },
          "hoverlabel": {
           "align": "left"
          },
          "hovermode": "closest",
          "mapbox": {
           "style": "light"
          },
          "paper_bgcolor": "white",
          "plot_bgcolor": "#E5ECF6",
          "polar": {
           "angularaxis": {
            "gridcolor": "white",
            "linecolor": "white",
            "ticks": ""
           },
           "bgcolor": "#E5ECF6",
           "radialaxis": {
            "gridcolor": "white",
            "linecolor": "white",
            "ticks": ""
           }
          },
          "scene": {
           "xaxis": {
            "backgroundcolor": "#E5ECF6",
            "gridcolor": "white",
            "gridwidth": 2,
            "linecolor": "white",
            "showbackground": true,
            "ticks": "",
            "zerolinecolor": "white"
           },
           "yaxis": {
            "backgroundcolor": "#E5ECF6",
            "gridcolor": "white",
            "gridwidth": 2,
            "linecolor": "white",
            "showbackground": true,
            "ticks": "",
            "zerolinecolor": "white"
           },
           "zaxis": {
            "backgroundcolor": "#E5ECF6",
            "gridcolor": "white",
            "gridwidth": 2,
            "linecolor": "white",
            "showbackground": true,
            "ticks": "",
            "zerolinecolor": "white"
           }
          },
          "shapedefaults": {
           "line": {
            "color": "#2a3f5f"
           }
          },
          "ternary": {
           "aaxis": {
            "gridcolor": "white",
            "linecolor": "white",
            "ticks": ""
           },
           "baxis": {
            "gridcolor": "white",
            "linecolor": "white",
            "ticks": ""
           },
           "bgcolor": "#E5ECF6",
           "caxis": {
            "gridcolor": "white",
            "linecolor": "white",
            "ticks": ""
           }
          },
          "title": {
           "x": 0.05
          },
          "xaxis": {
           "automargin": true,
           "gridcolor": "white",
           "linecolor": "white",
           "ticks": "",
           "title": {
            "standoff": 15
           },
           "zerolinecolor": "white",
           "zerolinewidth": 2
          },
          "yaxis": {
           "automargin": true,
           "gridcolor": "white",
           "linecolor": "white",
           "ticks": "",
           "title": {
            "standoff": 15
           },
           "zerolinecolor": "white",
           "zerolinewidth": 2
          }
         }
        },
        "title": {
         "text": "Rating Percentage"
        }
       }
      },
      "text/html": [
       "<div>\n",
       "        \n",
       "        \n",
       "            <div id=\"6a7252a5-4bdf-411c-aae4-5bb3741fd723\" class=\"plotly-graph-div\" style=\"height:525px; width:100%;\"></div>\n",
       "            <script type=\"text/javascript\">\n",
       "                require([\"plotly\"], function(Plotly) {\n",
       "                    window.PLOTLYENV=window.PLOTLYENV || {};\n",
       "                    \n",
       "                if (document.getElementById(\"6a7252a5-4bdf-411c-aae4-5bb3741fd723\")) {\n",
       "                    Plotly.newPlot(\n",
       "                        '6a7252a5-4bdf-411c-aae4-5bb3741fd723',\n",
       "                        [{\"customdata\": [[\"1 Star\"], [\"2 Stars\"], [\"3 Stars\"], [\"4 Stars\"], [\"5 Stars\"]], \"domain\": {\"x\": [0.0, 1.0], \"y\": [0.0, 1.0]}, \"hovertemplate\": \"rating=%{label}<br>count=%{value}<extra></extra>\", \"labels\": [\"1 Star\", \"2 Stars\", \"3 Stars\", \"4 Stars\", \"5 Stars\"], \"legendgroup\": \"\", \"name\": \"\", \"showlegend\": true, \"textinfo\": \"percent+label\", \"textposition\": \"inside\", \"type\": \"pie\", \"values\": [23, 17, 23, 37, 200]}],\n",
       "                        {\"legend\": {\"tracegroupgap\": 0}, \"template\": {\"data\": {\"bar\": [{\"error_x\": {\"color\": \"#2a3f5f\"}, \"error_y\": {\"color\": \"#2a3f5f\"}, \"marker\": {\"line\": {\"color\": \"#E5ECF6\", \"width\": 0.5}}, \"type\": \"bar\"}], \"barpolar\": [{\"marker\": {\"line\": {\"color\": \"#E5ECF6\", \"width\": 0.5}}, \"type\": \"barpolar\"}], \"carpet\": [{\"aaxis\": {\"endlinecolor\": \"#2a3f5f\", \"gridcolor\": \"white\", \"linecolor\": \"white\", \"minorgridcolor\": \"white\", \"startlinecolor\": \"#2a3f5f\"}, \"baxis\": {\"endlinecolor\": \"#2a3f5f\", \"gridcolor\": \"white\", \"linecolor\": \"white\", \"minorgridcolor\": \"white\", \"startlinecolor\": \"#2a3f5f\"}, \"type\": \"carpet\"}], \"choropleth\": [{\"colorbar\": {\"outlinewidth\": 0, \"ticks\": \"\"}, \"type\": \"choropleth\"}], \"contour\": [{\"colorbar\": {\"outlinewidth\": 0, \"ticks\": \"\"}, \"colorscale\": [[0.0, \"#0d0887\"], [0.1111111111111111, \"#46039f\"], [0.2222222222222222, \"#7201a8\"], [0.3333333333333333, \"#9c179e\"], [0.4444444444444444, \"#bd3786\"], [0.5555555555555556, \"#d8576b\"], [0.6666666666666666, \"#ed7953\"], [0.7777777777777778, \"#fb9f3a\"], [0.8888888888888888, \"#fdca26\"], [1.0, \"#f0f921\"]], \"type\": \"contour\"}], \"contourcarpet\": [{\"colorbar\": {\"outlinewidth\": 0, \"ticks\": \"\"}, \"type\": \"contourcarpet\"}], \"heatmap\": [{\"colorbar\": {\"outlinewidth\": 0, \"ticks\": \"\"}, \"colorscale\": [[0.0, \"#0d0887\"], [0.1111111111111111, \"#46039f\"], [0.2222222222222222, \"#7201a8\"], [0.3333333333333333, \"#9c179e\"], [0.4444444444444444, \"#bd3786\"], [0.5555555555555556, \"#d8576b\"], [0.6666666666666666, \"#ed7953\"], [0.7777777777777778, \"#fb9f3a\"], [0.8888888888888888, \"#fdca26\"], [1.0, \"#f0f921\"]], \"type\": \"heatmap\"}], \"heatmapgl\": [{\"colorbar\": {\"outlinewidth\": 0, \"ticks\": \"\"}, \"colorscale\": [[0.0, \"#0d0887\"], [0.1111111111111111, \"#46039f\"], [0.2222222222222222, \"#7201a8\"], [0.3333333333333333, \"#9c179e\"], [0.4444444444444444, \"#bd3786\"], [0.5555555555555556, \"#d8576b\"], [0.6666666666666666, \"#ed7953\"], [0.7777777777777778, \"#fb9f3a\"], [0.8888888888888888, \"#fdca26\"], [1.0, \"#f0f921\"]], \"type\": \"heatmapgl\"}], \"histogram\": [{\"marker\": {\"colorbar\": {\"outlinewidth\": 0, \"ticks\": \"\"}}, \"type\": \"histogram\"}], \"histogram2d\": [{\"colorbar\": {\"outlinewidth\": 0, \"ticks\": \"\"}, \"colorscale\": [[0.0, \"#0d0887\"], [0.1111111111111111, \"#46039f\"], [0.2222222222222222, \"#7201a8\"], [0.3333333333333333, \"#9c179e\"], [0.4444444444444444, \"#bd3786\"], [0.5555555555555556, \"#d8576b\"], [0.6666666666666666, \"#ed7953\"], [0.7777777777777778, \"#fb9f3a\"], [0.8888888888888888, \"#fdca26\"], [1.0, \"#f0f921\"]], \"type\": \"histogram2d\"}], \"histogram2dcontour\": [{\"colorbar\": {\"outlinewidth\": 0, \"ticks\": \"\"}, \"colorscale\": [[0.0, \"#0d0887\"], [0.1111111111111111, \"#46039f\"], [0.2222222222222222, \"#7201a8\"], [0.3333333333333333, \"#9c179e\"], [0.4444444444444444, \"#bd3786\"], [0.5555555555555556, \"#d8576b\"], [0.6666666666666666, \"#ed7953\"], [0.7777777777777778, \"#fb9f3a\"], [0.8888888888888888, \"#fdca26\"], [1.0, \"#f0f921\"]], \"type\": \"histogram2dcontour\"}], \"mesh3d\": [{\"colorbar\": {\"outlinewidth\": 0, \"ticks\": \"\"}, \"type\": \"mesh3d\"}], \"parcoords\": [{\"line\": {\"colorbar\": {\"outlinewidth\": 0, \"ticks\": \"\"}}, \"type\": \"parcoords\"}], \"pie\": [{\"automargin\": true, \"type\": \"pie\"}], \"scatter\": [{\"marker\": {\"colorbar\": {\"outlinewidth\": 0, \"ticks\": \"\"}}, \"type\": \"scatter\"}], \"scatter3d\": [{\"line\": {\"colorbar\": {\"outlinewidth\": 0, \"ticks\": \"\"}}, \"marker\": {\"colorbar\": {\"outlinewidth\": 0, \"ticks\": \"\"}}, \"type\": \"scatter3d\"}], \"scattercarpet\": [{\"marker\": {\"colorbar\": {\"outlinewidth\": 0, \"ticks\": \"\"}}, \"type\": \"scattercarpet\"}], \"scattergeo\": [{\"marker\": {\"colorbar\": {\"outlinewidth\": 0, \"ticks\": \"\"}}, \"type\": \"scattergeo\"}], \"scattergl\": [{\"marker\": {\"colorbar\": {\"outlinewidth\": 0, \"ticks\": \"\"}}, \"type\": \"scattergl\"}], \"scattermapbox\": [{\"marker\": {\"colorbar\": {\"outlinewidth\": 0, \"ticks\": \"\"}}, \"type\": \"scattermapbox\"}], \"scatterpolar\": [{\"marker\": {\"colorbar\": {\"outlinewidth\": 0, \"ticks\": \"\"}}, \"type\": \"scatterpolar\"}], \"scatterpolargl\": [{\"marker\": {\"colorbar\": {\"outlinewidth\": 0, \"ticks\": \"\"}}, \"type\": \"scatterpolargl\"}], \"scatterternary\": [{\"marker\": {\"colorbar\": {\"outlinewidth\": 0, \"ticks\": \"\"}}, \"type\": \"scatterternary\"}], \"surface\": [{\"colorbar\": {\"outlinewidth\": 0, \"ticks\": \"\"}, \"colorscale\": [[0.0, \"#0d0887\"], [0.1111111111111111, \"#46039f\"], [0.2222222222222222, \"#7201a8\"], [0.3333333333333333, \"#9c179e\"], [0.4444444444444444, \"#bd3786\"], [0.5555555555555556, \"#d8576b\"], [0.6666666666666666, \"#ed7953\"], [0.7777777777777778, \"#fb9f3a\"], [0.8888888888888888, \"#fdca26\"], [1.0, \"#f0f921\"]], \"type\": \"surface\"}], \"table\": [{\"cells\": {\"fill\": {\"color\": \"#EBF0F8\"}, \"line\": {\"color\": \"white\"}}, \"header\": {\"fill\": {\"color\": \"#C8D4E3\"}, \"line\": {\"color\": \"white\"}}, \"type\": \"table\"}]}, \"layout\": {\"annotationdefaults\": {\"arrowcolor\": \"#2a3f5f\", \"arrowhead\": 0, \"arrowwidth\": 1}, \"coloraxis\": {\"colorbar\": {\"outlinewidth\": 0, \"ticks\": \"\"}}, \"colorscale\": {\"diverging\": [[0, \"#8e0152\"], [0.1, \"#c51b7d\"], [0.2, \"#de77ae\"], [0.3, \"#f1b6da\"], [0.4, \"#fde0ef\"], [0.5, \"#f7f7f7\"], [0.6, \"#e6f5d0\"], [0.7, \"#b8e186\"], [0.8, \"#7fbc41\"], [0.9, \"#4d9221\"], [1, \"#276419\"]], \"sequential\": [[0.0, \"#0d0887\"], [0.1111111111111111, \"#46039f\"], [0.2222222222222222, \"#7201a8\"], [0.3333333333333333, \"#9c179e\"], [0.4444444444444444, \"#bd3786\"], [0.5555555555555556, \"#d8576b\"], [0.6666666666666666, \"#ed7953\"], [0.7777777777777778, \"#fb9f3a\"], [0.8888888888888888, \"#fdca26\"], [1.0, \"#f0f921\"]], \"sequentialminus\": [[0.0, \"#0d0887\"], [0.1111111111111111, \"#46039f\"], [0.2222222222222222, \"#7201a8\"], [0.3333333333333333, \"#9c179e\"], [0.4444444444444444, \"#bd3786\"], [0.5555555555555556, \"#d8576b\"], [0.6666666666666666, \"#ed7953\"], [0.7777777777777778, \"#fb9f3a\"], [0.8888888888888888, \"#fdca26\"], [1.0, \"#f0f921\"]]}, \"colorway\": [\"#636efa\", \"#EF553B\", \"#00cc96\", \"#ab63fa\", \"#FFA15A\", \"#19d3f3\", \"#FF6692\", \"#B6E880\", \"#FF97FF\", \"#FECB52\"], \"font\": {\"color\": \"#2a3f5f\"}, \"geo\": {\"bgcolor\": \"white\", \"lakecolor\": \"white\", \"landcolor\": \"#E5ECF6\", \"showlakes\": true, \"showland\": true, \"subunitcolor\": \"white\"}, \"hoverlabel\": {\"align\": \"left\"}, \"hovermode\": \"closest\", \"mapbox\": {\"style\": \"light\"}, \"paper_bgcolor\": \"white\", \"plot_bgcolor\": \"#E5ECF6\", \"polar\": {\"angularaxis\": {\"gridcolor\": \"white\", \"linecolor\": \"white\", \"ticks\": \"\"}, \"bgcolor\": \"#E5ECF6\", \"radialaxis\": {\"gridcolor\": \"white\", \"linecolor\": \"white\", \"ticks\": \"\"}}, \"scene\": {\"xaxis\": {\"backgroundcolor\": \"#E5ECF6\", \"gridcolor\": \"white\", \"gridwidth\": 2, \"linecolor\": \"white\", \"showbackground\": true, \"ticks\": \"\", \"zerolinecolor\": \"white\"}, \"yaxis\": {\"backgroundcolor\": \"#E5ECF6\", \"gridcolor\": \"white\", \"gridwidth\": 2, \"linecolor\": \"white\", \"showbackground\": true, \"ticks\": \"\", \"zerolinecolor\": \"white\"}, \"zaxis\": {\"backgroundcolor\": \"#E5ECF6\", \"gridcolor\": \"white\", \"gridwidth\": 2, \"linecolor\": \"white\", \"showbackground\": true, \"ticks\": \"\", \"zerolinecolor\": \"white\"}}, \"shapedefaults\": {\"line\": {\"color\": \"#2a3f5f\"}}, \"ternary\": {\"aaxis\": {\"gridcolor\": \"white\", \"linecolor\": \"white\", \"ticks\": \"\"}, \"baxis\": {\"gridcolor\": \"white\", \"linecolor\": \"white\", \"ticks\": \"\"}, \"bgcolor\": \"#E5ECF6\", \"caxis\": {\"gridcolor\": \"white\", \"linecolor\": \"white\", \"ticks\": \"\"}}, \"title\": {\"x\": 0.05}, \"xaxis\": {\"automargin\": true, \"gridcolor\": \"white\", \"linecolor\": \"white\", \"ticks\": \"\", \"title\": {\"standoff\": 15}, \"zerolinecolor\": \"white\", \"zerolinewidth\": 2}, \"yaxis\": {\"automargin\": true, \"gridcolor\": \"white\", \"linecolor\": \"white\", \"ticks\": \"\", \"title\": {\"standoff\": 15}, \"zerolinecolor\": \"white\", \"zerolinewidth\": 2}}}, \"title\": {\"text\": \"Rating Percentage\"}},\n",
       "                        {\"responsive\": true}\n",
       "                    ).then(function(){\n",
       "                            \n",
       "var gd = document.getElementById('6a7252a5-4bdf-411c-aae4-5bb3741fd723');\n",
       "var x = new MutationObserver(function (mutations, observer) {{\n",
       "        var display = window.getComputedStyle(gd).display;\n",
       "        if (!display || display === 'none') {{\n",
       "            console.log([gd, 'removed!']);\n",
       "            Plotly.purge(gd);\n",
       "            observer.disconnect();\n",
       "        }}\n",
       "}});\n",
       "\n",
       "// Listen for the removal of the full notebook cells\n",
       "var notebookContainer = gd.closest('#notebook-container');\n",
       "if (notebookContainer) {{\n",
       "    x.observe(notebookContainer, {childList: true});\n",
       "}}\n",
       "\n",
       "// Listen for the clearing of the current output cell\n",
       "var outputEl = gd.closest('.output');\n",
       "if (outputEl) {{\n",
       "    x.observe(outputEl, {childList: true});\n",
       "}}\n",
       "\n",
       "                        })\n",
       "                };\n",
       "                });\n",
       "            </script>\n",
       "        </div>"
      ]
     },
     "metadata": {},
     "output_type": "display_data"
    }
   ],
   "source": [
    "fig = px.pie(df_rating, values='count', names='rating',\n",
    "             title='Rating Percentage',\n",
    "             hover_data=['rating'], \n",
    "             labels={'count':'count'})\n",
    "\n",
    "fig.update_traces(textposition='inside', textinfo='percent+label')\n",
    "fig.write_image('plots/rating-percentage.png')\n",
    "fig.show()"
   ]
  },
  {
   "cell_type": "markdown",
   "metadata": {},
   "source": [
    "## Visualize Sentiment by Date"
   ]
  },
  {
   "cell_type": "code",
   "execution_count": 290,
   "metadata": {},
   "outputs": [],
   "source": [
    "# We modify the date keeping only the year and the month\n",
    "def NewDate(date):\n",
    "    newDate = (str(date.year) + '-' + str(date.month))\n",
    "    return newDate\n",
    "\n",
    "df['date'] = df['date'].apply(lambda x: NewDate(x))"
   ]
  },
  {
   "cell_type": "code",
   "execution_count": 291,
   "metadata": {},
   "outputs": [],
   "source": [
    "# groupby date\n",
    "df_date = df.groupby(['date', 'polarityString']).count().reset_index()\n",
    "df_date.sort_values('date', ascending = False, inplace = True)\n",
    "\n",
    "# subset and rename \n",
    "df_date = df_date.loc[:, ['date','polarityString','title']]\n",
    "df_date.rename(columns = {'title':'count'}, inplace = True)"
   ]
  },
  {
   "cell_type": "code",
   "execution_count": 292,
   "metadata": {},
   "outputs": [
    {
     "data": {
      "image/png": "[encoded data removed]",
      "text/plain": [
       "<Figure size 815.225x720 with 1 Axes>"
      ]
     },
     "metadata": {},
     "output_type": "display_data"
    }
   ],
   "source": [
    "import seaborn as sns\n",
    "import matplotlib.pyplot as plt\n",
    "sns.set(style=\"darkgrid\")\n",
    "\n",
    "# Draw a nested barplot to show survival for class and sex\n",
    "g = sns.catplot(x=\"count\", y=\"date\", hue=\"polarityString\", data= df_date, height=10, kind=\"bar\", palette=\"muted\")\n",
    "plt.title('Sentiment by Date')\n",
    "\n",
    "g.savefig('plots/sentiment-date.png')"
   ]
  },
  {
   "cell_type": "code",
   "execution_count": 299,
   "metadata": {},
   "outputs": [
    {
     "data": {
      "text/html": [
       "<div>\n",
       "<style scoped>\n",
       "    .dataframe tbody tr th:only-of-type {\n",
       "        vertical-align: middle;\n",
       "    }\n",
       "\n",
       "    .dataframe tbody tr th {\n",
       "        vertical-align: top;\n",
       "    }\n",
       "\n",
       "    .dataframe thead th {\n",
       "        text-align: right;\n",
       "    }\n",
       "</style>\n",
       "<table border=\"1\" class=\"dataframe\">\n",
       "  <thead>\n",
       "    <tr style=\"text-align: right;\">\n",
       "      <th></th>\n",
       "      <th>title</th>\n",
       "      <th>content</th>\n",
       "      <th>date</th>\n",
       "      <th>variant</th>\n",
       "      <th>images</th>\n",
       "      <th>verified</th>\n",
       "      <th>author</th>\n",
       "      <th>rating</th>\n",
       "      <th>product</th>\n",
       "      <th>url</th>\n",
       "      <th>polarity</th>\n",
       "      <th>polarityString</th>\n",
       "    </tr>\n",
       "  </thead>\n",
       "  <tbody>\n",
       "    <tr>\n",
       "      <th>209</th>\n",
       "      <td>Good quality</td>\n",
       "      <td>I think maybe I could’ve got a extra wide 7 1/...</td>\n",
       "      <td>2020-5</td>\n",
       "      <td>Size: 7.5 Color: White/Metallic Silver/Dark Grey</td>\n",
       "      <td>None</td>\n",
       "      <td>Yes</td>\n",
       "      <td>lilliean</td>\n",
       "      <td>5.0</td>\n",
       "      <td>Nike Women's Reax Run 5 Running Shoes</td>\n",
       "      <td>https://www.amazon.com/Nike-Womens-Reax-Runnin...</td>\n",
       "      <td>-0.033333</td>\n",
       "      <td>NEGATIVE</td>\n",
       "    </tr>\n",
       "    <tr>\n",
       "      <th>298</th>\n",
       "      <td>Good shoe slightly pricey</td>\n",
       "      <td>Surprisingly comfortable usually nike shoes ar...</td>\n",
       "      <td>2020-5</td>\n",
       "      <td>Size: 8.5 Color: Black/White/Mtlc Cool Grey</td>\n",
       "      <td>None</td>\n",
       "      <td>Yes</td>\n",
       "      <td>Brandi</td>\n",
       "      <td>5.0</td>\n",
       "      <td>Nike Women's Reax Run 5 Running Shoes</td>\n",
       "      <td>https://www.amazon.com/Nike-Womens-Reax-Runnin...</td>\n",
       "      <td>-0.016667</td>\n",
       "      <td>NEGATIVE</td>\n",
       "    </tr>\n",
       "    <tr>\n",
       "      <th>165</th>\n",
       "      <td>Bomb.com</td>\n",
       "      <td>They look good. They are super comfortable to ...</td>\n",
       "      <td>2020-5</td>\n",
       "      <td>Size: 8.5 Color: White/Metallic Silver/Dark Grey</td>\n",
       "      <td>None</td>\n",
       "      <td>Yes</td>\n",
       "      <td>julia munson</td>\n",
       "      <td>5.0</td>\n",
       "      <td>Nike Women's Reax Run 5 Running Shoes</td>\n",
       "      <td>https://www.amazon.com/Nike-Womens-Reax-Runnin...</td>\n",
       "      <td>0.477778</td>\n",
       "      <td>POSITIVE</td>\n",
       "    </tr>\n",
       "    <tr>\n",
       "      <th>55</th>\n",
       "      <td>💘</td>\n",
       "      <td>I read all reviews. They were stiff, but I wor...</td>\n",
       "      <td>2020-5</td>\n",
       "      <td>Size: 7 Color: White/Metallic Silver/Dark Grey</td>\n",
       "      <td>None</td>\n",
       "      <td>Yes</td>\n",
       "      <td>CHARLENE MARLOW</td>\n",
       "      <td>5.0</td>\n",
       "      <td>Nike Women's Reax Run 5 Running Shoes</td>\n",
       "      <td>https://www.amazon.com/Nike-Womens-Reax-Runnin...</td>\n",
       "      <td>0.274286</td>\n",
       "      <td>POSITIVE</td>\n",
       "    </tr>\n",
       "    <tr>\n",
       "      <th>112</th>\n",
       "      <td>PERFECT WALKIN SHOE :)</td>\n",
       "      <td>Ahhhhh . This is a perfect walking shoe</td>\n",
       "      <td>2020-5</td>\n",
       "      <td>Size: 8 Color: White/Metallic Silver/Dark Grey</td>\n",
       "      <td>None</td>\n",
       "      <td>Yes</td>\n",
       "      <td>Lil</td>\n",
       "      <td>5.0</td>\n",
       "      <td>Nike Women's Reax Run 5 Running Shoes</td>\n",
       "      <td>https://www.amazon.com/Nike-Womens-Reax-Runnin...</td>\n",
       "      <td>1.000000</td>\n",
       "      <td>POSITIVE</td>\n",
       "    </tr>\n",
       "    <tr>\n",
       "      <th>...</th>\n",
       "      <td>...</td>\n",
       "      <td>...</td>\n",
       "      <td>...</td>\n",
       "      <td>...</td>\n",
       "      <td>...</td>\n",
       "      <td>...</td>\n",
       "      <td>...</td>\n",
       "      <td>...</td>\n",
       "      <td>...</td>\n",
       "      <td>...</td>\n",
       "      <td>...</td>\n",
       "      <td>...</td>\n",
       "    </tr>\n",
       "    <tr>\n",
       "      <th>4</th>\n",
       "      <td>Cute and Stylish..</td>\n",
       "      <td>Great workout shoes. Very comfortable.</td>\n",
       "      <td>2017-9</td>\n",
       "      <td>None</td>\n",
       "      <td>https://images-na.ssl-images-amazon.com/images...</td>\n",
       "      <td>Yes</td>\n",
       "      <td>Angel Buchanan</td>\n",
       "      <td>5.0</td>\n",
       "      <td>Nike Women's Reax Run 5 Running Shoes</td>\n",
       "      <td>https://www.amazon.com/Nike-Womens-Reax-Runnin...</td>\n",
       "      <td>0.660000</td>\n",
       "      <td>POSITIVE</td>\n",
       "    </tr>\n",
       "    <tr>\n",
       "      <th>6</th>\n",
       "      <td>Great shoes</td>\n",
       "      <td>This is my second pair. I think these shoes ar...</td>\n",
       "      <td>2017-8</td>\n",
       "      <td>Size: 9 Color: White/Metallic Silver/Dark Grey</td>\n",
       "      <td>None</td>\n",
       "      <td>Yes</td>\n",
       "      <td>Amy Klein</td>\n",
       "      <td>5.0</td>\n",
       "      <td>Nike Women's Reax Run 5 Running Shoes</td>\n",
       "      <td>https://www.amazon.com/Nike-Womens-Reax-Runnin...</td>\n",
       "      <td>0.073611</td>\n",
       "      <td>POSITIVE</td>\n",
       "    </tr>\n",
       "    <tr>\n",
       "      <th>169</th>\n",
       "      <td>Superb running shoe!</td>\n",
       "      <td>Received in a timely manner from the seller.  ...</td>\n",
       "      <td>2017-7</td>\n",
       "      <td>Size: 8 Color: White/Metallic Silver/Dark Grey</td>\n",
       "      <td>None</td>\n",
       "      <td>Yes</td>\n",
       "      <td>J4ssss</td>\n",
       "      <td>5.0</td>\n",
       "      <td>Nike Women's Reax Run 5 Running Shoes</td>\n",
       "      <td>https://www.amazon.com/Nike-Womens-Reax-Runnin...</td>\n",
       "      <td>0.200000</td>\n",
       "      <td>POSITIVE</td>\n",
       "    </tr>\n",
       "    <tr>\n",
       "      <th>5</th>\n",
       "      <td>Great, Comfortable Shoe</td>\n",
       "      <td>This is my second pair.  They are the most com...</td>\n",
       "      <td>2017-7</td>\n",
       "      <td>Size: 9 Color: White/Metallic Silver/Dark Grey</td>\n",
       "      <td>None</td>\n",
       "      <td>Yes</td>\n",
       "      <td>msgrnbay</td>\n",
       "      <td>5.0</td>\n",
       "      <td>Nike Women's Reax Run 5 Running Shoes</td>\n",
       "      <td>https://www.amazon.com/Nike-Womens-Reax-Runnin...</td>\n",
       "      <td>0.205682</td>\n",
       "      <td>POSITIVE</td>\n",
       "    </tr>\n",
       "    <tr>\n",
       "      <th>126</th>\n",
       "      <td>Four Stars</td>\n",
       "      <td>Fits great, very comfortable.  Little wide at ...</td>\n",
       "      <td>2016-5</td>\n",
       "      <td>Size: 8 Color: White/Metallic Silver/Dark Grey</td>\n",
       "      <td>None</td>\n",
       "      <td>Yes</td>\n",
       "      <td>Amazon Customer</td>\n",
       "      <td>4.0</td>\n",
       "      <td>Nike Women's Reax Run 5 Running Shoes</td>\n",
       "      <td>https://www.amazon.com/Nike-Womens-Reax-Runnin...</td>\n",
       "      <td>0.258125</td>\n",
       "      <td>POSITIVE</td>\n",
       "    </tr>\n",
       "  </tbody>\n",
       "</table>\n",
       "<p>300 rows × 12 columns</p>\n",
       "</div>"
      ],
      "text/plain": [
       "                         title  \\\n",
       "209               Good quality   \n",
       "298  Good shoe slightly pricey   \n",
       "165                   Bomb.com   \n",
       "55                           💘   \n",
       "112     PERFECT WALKIN SHOE :)   \n",
       "..                         ...   \n",
       "4           Cute and Stylish..   \n",
       "6                  Great shoes   \n",
       "169       Superb running shoe!   \n",
       "5      Great, Comfortable Shoe   \n",
       "126                 Four Stars   \n",
       "\n",
       "                                               content    date  \\\n",
       "209  I think maybe I could’ve got a extra wide 7 1/...  2020-5   \n",
       "298  Surprisingly comfortable usually nike shoes ar...  2020-5   \n",
       "165  They look good. They are super comfortable to ...  2020-5   \n",
       "55   I read all reviews. They were stiff, but I wor...  2020-5   \n",
       "112            Ahhhhh . This is a perfect walking shoe  2020-5   \n",
       "..                                                 ...     ...   \n",
       "4               Great workout shoes. Very comfortable.  2017-9   \n",
       "6    This is my second pair. I think these shoes ar...  2017-8   \n",
       "169  Received in a timely manner from the seller.  ...  2017-7   \n",
       "5    This is my second pair.  They are the most com...  2017-7   \n",
       "126  Fits great, very comfortable.  Little wide at ...  2016-5   \n",
       "\n",
       "                                              variant  \\\n",
       "209  Size: 7.5 Color: White/Metallic Silver/Dark Grey   \n",
       "298       Size: 8.5 Color: Black/White/Mtlc Cool Grey   \n",
       "165  Size: 8.5 Color: White/Metallic Silver/Dark Grey   \n",
       "55     Size: 7 Color: White/Metallic Silver/Dark Grey   \n",
       "112    Size: 8 Color: White/Metallic Silver/Dark Grey   \n",
       "..                                                ...   \n",
       "4                                                None   \n",
       "6      Size: 9 Color: White/Metallic Silver/Dark Grey   \n",
       "169    Size: 8 Color: White/Metallic Silver/Dark Grey   \n",
       "5      Size: 9 Color: White/Metallic Silver/Dark Grey   \n",
       "126    Size: 8 Color: White/Metallic Silver/Dark Grey   \n",
       "\n",
       "                                                images verified  \\\n",
       "209                                               None      Yes   \n",
       "298                                               None      Yes   \n",
       "165                                               None      Yes   \n",
       "55                                                None      Yes   \n",
       "112                                               None      Yes   \n",
       "..                                                 ...      ...   \n",
       "4    https://images-na.ssl-images-amazon.com/images...      Yes   \n",
       "6                                                 None      Yes   \n",
       "169                                               None      Yes   \n",
       "5                                                 None      Yes   \n",
       "126                                               None      Yes   \n",
       "\n",
       "              author rating                                product  \\\n",
       "209         lilliean    5.0  Nike Women's Reax Run 5 Running Shoes   \n",
       "298           Brandi    5.0  Nike Women's Reax Run 5 Running Shoes   \n",
       "165     julia munson    5.0  Nike Women's Reax Run 5 Running Shoes   \n",
       "55   CHARLENE MARLOW    5.0  Nike Women's Reax Run 5 Running Shoes   \n",
       "112              Lil    5.0  Nike Women's Reax Run 5 Running Shoes   \n",
       "..               ...    ...                                    ...   \n",
       "4     Angel Buchanan    5.0  Nike Women's Reax Run 5 Running Shoes   \n",
       "6          Amy Klein    5.0  Nike Women's Reax Run 5 Running Shoes   \n",
       "169           J4ssss    5.0  Nike Women's Reax Run 5 Running Shoes   \n",
       "5           msgrnbay    5.0  Nike Women's Reax Run 5 Running Shoes   \n",
       "126  Amazon Customer    4.0  Nike Women's Reax Run 5 Running Shoes   \n",
       "\n",
       "                                                   url  polarity  \\\n",
       "209  https://www.amazon.com/Nike-Womens-Reax-Runnin... -0.033333   \n",
       "298  https://www.amazon.com/Nike-Womens-Reax-Runnin... -0.016667   \n",
       "165  https://www.amazon.com/Nike-Womens-Reax-Runnin...  0.477778   \n",
       "55   https://www.amazon.com/Nike-Womens-Reax-Runnin...  0.274286   \n",
       "112  https://www.amazon.com/Nike-Womens-Reax-Runnin...  1.000000   \n",
       "..                                                 ...       ...   \n",
       "4    https://www.amazon.com/Nike-Womens-Reax-Runnin...  0.660000   \n",
       "6    https://www.amazon.com/Nike-Womens-Reax-Runnin...  0.073611   \n",
       "169  https://www.amazon.com/Nike-Womens-Reax-Runnin...  0.200000   \n",
       "5    https://www.amazon.com/Nike-Womens-Reax-Runnin...  0.205682   \n",
       "126  https://www.amazon.com/Nike-Womens-Reax-Runnin...  0.258125   \n",
       "\n",
       "    polarityString  \n",
       "209       NEGATIVE  \n",
       "298       NEGATIVE  \n",
       "165       POSITIVE  \n",
       "55        POSITIVE  \n",
       "112       POSITIVE  \n",
       "..             ...  \n",
       "4         POSITIVE  \n",
       "6         POSITIVE  \n",
       "169       POSITIVE  \n",
       "5         POSITIVE  \n",
       "126       POSITIVE  \n",
       "\n",
       "[300 rows x 12 columns]"
      ]
     },
     "execution_count": 299,
     "metadata": {},
     "output_type": "execute_result"
    }
   ],
   "source": [
    "df"
   ]
  },
  {
   "cell_type": "markdown",
   "metadata": {},
   "source": [
    "# Visualize sells by date"
   ]
  },
  {
   "cell_type": "code",
   "execution_count": 315,
   "metadata": {},
   "outputs": [],
   "source": [
    "# groupby \n",
    "df_sell = df.groupby(['date', 'verified']).count().reset_index()\n",
    "df_sell = df_sell.loc[:, ['date', 'title']]\n",
    "df_sell.rename(columns = {'title':'sells'}, inplace = True)"
   ]
  },
  {
   "cell_type": "code",
   "execution_count": 316,
   "metadata": {},
   "outputs": [
    {
     "data": {
      "application/vnd.plotly.v1+json": {
       "config": {
        "plotlyServerURL": "https://plot.ly"
       },
       "data": [
        {
         "marker": {
          "color": "rgb(230, 115, 0)"
         },
         "type": "bar",
         "x": [
          "2016-5",
          "2017-7",
          "2017-8",
          "2017-9",
          "2018-10",
          "2018-11",
          "2018-12",
          "2018-8",
          "2018-9",
          "2019-1",
          "2019-10",
          "2019-11",
          "2019-12",
          "2019-2",
          "2019-3",
          "2019-4",
          "2019-5",
          "2019-6",
          "2019-7",
          "2019-8",
          "2019-9",
          "2020-1",
          "2020-2",
          "2020-3",
          "2020-4",
          "2020-5"
         ],
         "y": [
          1,
          2,
          1,
          1,
          11,
          6,
          7,
          5,
          6,
          5,
          17,
          17,
          23,
          7,
          10,
          9,
          16,
          18,
          11,
          12,
          7,
          32,
          22,
          18,
          26,
          10
         ]
        }
       ],
       "layout": {
        "template": {
         "data": {
          "bar": [
           {
            "error_x": {
             "color": "#2a3f5f"
            },
            "error_y": {
             "color": "#2a3f5f"
            },
            "marker": {
             "line": {
              "color": "#E5ECF6",
              "width": 0.5
             }
            },
            "type": "bar"
           }
          ],
          "barpolar": [
           {
            "marker": {
             "line": {
              "color": "#E5ECF6",
              "width": 0.5
             }
            },
            "type": "barpolar"
           }
          ],
          "carpet": [
           {
            "aaxis": {
             "endlinecolor": "#2a3f5f",
             "gridcolor": "white",
             "linecolor": "white",
             "minorgridcolor": "white",
             "startlinecolor": "#2a3f5f"
            },
            "baxis": {
             "endlinecolor": "#2a3f5f",
             "gridcolor": "white",
             "linecolor": "white",
             "minorgridcolor": "white",
             "startlinecolor": "#2a3f5f"
            },
            "type": "carpet"
           }
          ],
          "choropleth": [
           {
            "colorbar": {
             "outlinewidth": 0,
             "ticks": ""
            },
            "type": "choropleth"
           }
          ],
          "contour": [
           {
            "colorbar": {
             "outlinewidth": 0,
             "ticks": ""
            },
            "colorscale": [
             [
              0,
              "#0d0887"
             ],
             [
              0.1111111111111111,
              "#46039f"
             ],
             [
              0.2222222222222222,
              "#7201a8"
             ],
             [
              0.3333333333333333,
              "#9c179e"
             ],
             [
              0.4444444444444444,
              "#bd3786"
             ],
             [
              0.5555555555555556,
              "#d8576b"
             ],
             [
              0.6666666666666666,
              "#ed7953"
             ],
             [
              0.7777777777777778,
              "#fb9f3a"
             ],
             [
              0.8888888888888888,
              "#fdca26"
             ],
             [
              1,
              "#f0f921"
             ]
            ],
            "type": "contour"
           }
          ],
          "contourcarpet": [
           {
            "colorbar": {
             "outlinewidth": 0,
             "ticks": ""
            },
            "type": "contourcarpet"
           }
          ],
          "heatmap": [
           {
            "colorbar": {
             "outlinewidth": 0,
             "ticks": ""
            },
            "colorscale": [
             [
              0,
              "#0d0887"
             ],
             [
              0.1111111111111111,
              "#46039f"
             ],
             [
              0.2222222222222222,
              "#7201a8"
             ],
             [
              0.3333333333333333,
              "#9c179e"
             ],
             [
              0.4444444444444444,
              "#bd3786"
             ],
             [
              0.5555555555555556,
              "#d8576b"
             ],
             [
              0.6666666666666666,
              "#ed7953"
             ],
             [
              0.7777777777777778,
              "#fb9f3a"
             ],
             [
              0.8888888888888888,
              "#fdca26"
             ],
             [
              1,
              "#f0f921"
             ]
            ],
            "type": "heatmap"
           }
          ],
          "heatmapgl": [
           {
            "colorbar": {
             "outlinewidth": 0,
             "ticks": ""
            },
            "colorscale": [
             [
              0,
              "#0d0887"
             ],
             [
              0.1111111111111111,
              "#46039f"
             ],
             [
              0.2222222222222222,
              "#7201a8"
             ],
             [
              0.3333333333333333,
              "#9c179e"
             ],
             [
              0.4444444444444444,
              "#bd3786"
             ],
             [
              0.5555555555555556,
              "#d8576b"
             ],
             [
              0.6666666666666666,
              "#ed7953"
             ],
             [
              0.7777777777777778,
              "#fb9f3a"
             ],
             [
              0.8888888888888888,
              "#fdca26"
             ],
             [
              1,
              "#f0f921"
             ]
            ],
            "type": "heatmapgl"
           }
          ],
          "histogram": [
           {
            "marker": {
             "colorbar": {
              "outlinewidth": 0,
              "ticks": ""
             }
            },
            "type": "histogram"
           }
          ],
          "histogram2d": [
           {
            "colorbar": {
             "outlinewidth": 0,
             "ticks": ""
            },
            "colorscale": [
             [
              0,
              "#0d0887"
             ],
             [
              0.1111111111111111,
              "#46039f"
             ],
             [
              0.2222222222222222,
              "#7201a8"
             ],
             [
              0.3333333333333333,
              "#9c179e"
             ],
             [
              0.4444444444444444,
              "#bd3786"
             ],
             [
              0.5555555555555556,
              "#d8576b"
             ],
             [
              0.6666666666666666,
              "#ed7953"
             ],
             [
              0.7777777777777778,
              "#fb9f3a"
             ],
             [
              0.8888888888888888,
              "#fdca26"
             ],
             [
              1,
              "#f0f921"
             ]
            ],
            "type": "histogram2d"
           }
          ],
          "histogram2dcontour": [
           {
            "colorbar": {
             "outlinewidth": 0,
             "ticks": ""
            },
            "colorscale": [
             [
              0,
              "#0d0887"
             ],
             [
              0.1111111111111111,
              "#46039f"
             ],
             [
              0.2222222222222222,
              "#7201a8"
             ],
             [
              0.3333333333333333,
              "#9c179e"
             ],
             [
              0.4444444444444444,
              "#bd3786"
             ],
             [
              0.5555555555555556,
              "#d8576b"
             ],
             [
              0.6666666666666666,
              "#ed7953"
             ],
             [
              0.7777777777777778,
              "#fb9f3a"
             ],
             [
              0.8888888888888888,
              "#fdca26"
             ],
             [
              1,
              "#f0f921"
             ]
            ],
            "type": "histogram2dcontour"
           }
          ],
          "mesh3d": [
           {
            "colorbar": {
             "outlinewidth": 0,
             "ticks": ""
            },
            "type": "mesh3d"
           }
          ],
          "parcoords": [
           {
            "line": {
             "colorbar": {
              "outlinewidth": 0,
              "ticks": ""
             }
            },
            "type": "parcoords"
           }
          ],
          "pie": [
           {
            "automargin": true,
            "type": "pie"
           }
          ],
          "scatter": [
           {
            "marker": {
             "colorbar": {
              "outlinewidth": 0,
              "ticks": ""
             }
            },
            "type": "scatter"
           }
          ],
          "scatter3d": [
           {
            "line": {
             "colorbar": {
              "outlinewidth": 0,
              "ticks": ""
             }
            },
            "marker": {
             "colorbar": {
              "outlinewidth": 0,
              "ticks": ""
             }
            },
            "type": "scatter3d"
           }
          ],
          "scattercarpet": [
           {
            "marker": {
             "colorbar": {
              "outlinewidth": 0,
              "ticks": ""
             }
            },
            "type": "scattercarpet"
           }
          ],
          "scattergeo": [
           {
            "marker": {
             "colorbar": {
              "outlinewidth": 0,
              "ticks": ""
             }
            },
            "type": "scattergeo"
           }
          ],
          "scattergl": [
           {
            "marker": {
             "colorbar": {
              "outlinewidth": 0,
              "ticks": ""
             }
            },
            "type": "scattergl"
           }
          ],
          "scattermapbox": [
           {
            "marker": {
             "colorbar": {
              "outlinewidth": 0,
              "ticks": ""
             }
            },
            "type": "scattermapbox"
           }
          ],
          "scatterpolar": [
           {
            "marker": {
             "colorbar": {
              "outlinewidth": 0,
              "ticks": ""
             }
            },
            "type": "scatterpolar"
           }
          ],
          "scatterpolargl": [
           {
            "marker": {
             "colorbar": {
              "outlinewidth": 0,
              "ticks": ""
             }
            },
            "type": "scatterpolargl"
           }
          ],
          "scatterternary": [
           {
            "marker": {
             "colorbar": {
              "outlinewidth": 0,
              "ticks": ""
             }
            },
            "type": "scatterternary"
           }
          ],
          "surface": [
           {
            "colorbar": {
             "outlinewidth": 0,
             "ticks": ""
            },
            "colorscale": [
             [
              0,
              "#0d0887"
             ],
             [
              0.1111111111111111,
              "#46039f"
             ],
             [
              0.2222222222222222,
              "#7201a8"
             ],
             [
              0.3333333333333333,
              "#9c179e"
             ],
             [
              0.4444444444444444,
              "#bd3786"
             ],
             [
              0.5555555555555556,
              "#d8576b"
             ],
             [
              0.6666666666666666,
              "#ed7953"
             ],
             [
              0.7777777777777778,
              "#fb9f3a"
             ],
             [
              0.8888888888888888,
              "#fdca26"
             ],
             [
              1,
              "#f0f921"
             ]
            ],
            "type": "surface"
           }
          ],
          "table": [
           {
            "cells": {
             "fill": {
              "color": "#EBF0F8"
             },
             "line": {
              "color": "white"
             }
            },
            "header": {
             "fill": {
              "color": "#C8D4E3"
             },
             "line": {
              "color": "white"
             }
            },
            "type": "table"
           }
          ]
         },
         "layout": {
          "annotationdefaults": {
           "arrowcolor": "#2a3f5f",
           "arrowhead": 0,
           "arrowwidth": 1
          },
          "coloraxis": {
           "colorbar": {
            "outlinewidth": 0,
            "ticks": ""
           }
          },
          "colorscale": {
           "diverging": [
            [
             0,
             "#8e0152"
            ],
            [
             0.1,
             "#c51b7d"
            ],
            [
             0.2,
             "#de77ae"
            ],
            [
             0.3,
             "#f1b6da"
            ],
            [
             0.4,
             "#fde0ef"
            ],
            [
             0.5,
             "#f7f7f7"
            ],
            [
             0.6,
             "#e6f5d0"
            ],
            [
             0.7,
             "#b8e186"
            ],
            [
             0.8,
             "#7fbc41"
            ],
            [
             0.9,
             "#4d9221"
            ],
            [
             1,
             "#276419"
            ]
           ],
           "sequential": [
            [
             0,
             "#0d0887"
            ],
            [
             0.1111111111111111,
             "#46039f"
            ],
            [
             0.2222222222222222,
             "#7201a8"
            ],
            [
             0.3333333333333333,
             "#9c179e"
            ],
            [
             0.4444444444444444,
             "#bd3786"
            ],
            [
             0.5555555555555556,
             "#d8576b"
            ],
            [
             0.6666666666666666,
             "#ed7953"
            ],
            [
             0.7777777777777778,
             "#fb9f3a"
            ],
            [
             0.8888888888888888,
             "#fdca26"
            ],
            [
             1,
             "#f0f921"
            ]
           ],
           "sequentialminus": [
            [
             0,
             "#0d0887"
            ],
            [
             0.1111111111111111,
             "#46039f"
            ],
            [
             0.2222222222222222,
             "#7201a8"
            ],
            [
             0.3333333333333333,
             "#9c179e"
            ],
            [
             0.4444444444444444,
             "#bd3786"
            ],
            [
             0.5555555555555556,
             "#d8576b"
            ],
            [
             0.6666666666666666,
             "#ed7953"
            ],
            [
             0.7777777777777778,
             "#fb9f3a"
            ],
            [
             0.8888888888888888,
             "#fdca26"
            ],
            [
             1,
             "#f0f921"
            ]
           ]
          },
          "colorway": [
           "#636efa",
           "#EF553B",
           "#00cc96",
           "#ab63fa",
           "#FFA15A",
           "#19d3f3",
           "#FF6692",
           "#B6E880",
           "#FF97FF",
           "#FECB52"
          ],
          "font": {
           "color": "#2a3f5f"
          },
          "geo": {
           "bgcolor": "white",
           "lakecolor": "white",
           "landcolor": "#E5ECF6",
           "showlakes": true,
           "showland": true,
           "subunitcolor": "white"
          },
          "hoverlabel": {
           "align": "left"
          },
          "hovermode": "closest",
          "mapbox": {
           "style": "light"
          },
          "paper_bgcolor": "white",
          "plot_bgcolor": "#E5ECF6",
          "polar": {
           "angularaxis": {
            "gridcolor": "white",
            "linecolor": "white",
            "ticks": ""
           },
           "bgcolor": "#E5ECF6",
           "radialaxis": {
            "gridcolor": "white",
            "linecolor": "white",
            "ticks": ""
           }
          },
          "scene": {
           "xaxis": {
            "backgroundcolor": "#E5ECF6",
            "gridcolor": "white",
            "gridwidth": 2,
            "linecolor": "white",
            "showbackground": true,
            "ticks": "",
            "zerolinecolor": "white"
           },
           "yaxis": {
            "backgroundcolor": "#E5ECF6",
            "gridcolor": "white",
            "gridwidth": 2,
            "linecolor": "white",
            "showbackground": true,
            "ticks": "",
            "zerolinecolor": "white"
           },
           "zaxis": {
            "backgroundcolor": "#E5ECF6",
            "gridcolor": "white",
            "gridwidth": 2,
            "linecolor": "white",
            "showbackground": true,
            "ticks": "",
            "zerolinecolor": "white"
           }
          },
          "shapedefaults": {
           "line": {
            "color": "#2a3f5f"
           }
          },
          "ternary": {
           "aaxis": {
            "gridcolor": "white",
            "linecolor": "white",
            "ticks": ""
           },
           "baxis": {
            "gridcolor": "white",
            "linecolor": "white",
            "ticks": ""
           },
           "bgcolor": "#E5ECF6",
           "caxis": {
            "gridcolor": "white",
            "linecolor": "white",
            "ticks": ""
           }
          },
          "title": {
           "x": 0.05
          },
          "xaxis": {
           "automargin": true,
           "gridcolor": "white",
           "linecolor": "white",
           "ticks": "",
           "title": {
            "standoff": 15
           },
           "zerolinecolor": "white",
           "zerolinewidth": 2
          },
          "yaxis": {
           "automargin": true,
           "gridcolor": "white",
           "linecolor": "white",
           "ticks": "",
           "title": {
            "standoff": 15
           },
           "zerolinecolor": "white",
           "zerolinewidth": 2
          }
         }
        },
        "title": {
         "text": "Sells by Date"
        }
       }
      },
      "text/html": [
       "<div>\n",
       "        \n",
       "        \n",
       "            <div id=\"e7f6e83e-be5c-4c77-9860-91894ba163b4\" class=\"plotly-graph-div\" style=\"height:525px; width:100%;\"></div>\n",
       "            <script type=\"text/javascript\">\n",
       "                require([\"plotly\"], function(Plotly) {\n",
       "                    window.PLOTLYENV=window.PLOTLYENV || {};\n",
       "                    \n",
       "                if (document.getElementById(\"e7f6e83e-be5c-4c77-9860-91894ba163b4\")) {\n",
       "                    Plotly.newPlot(\n",
       "                        'e7f6e83e-be5c-4c77-9860-91894ba163b4',\n",
       "                        [{\"marker\": {\"color\": \"rgb(230, 115, 0)\"}, \"type\": \"bar\", \"x\": [\"2016-5\", \"2017-7\", \"2017-8\", \"2017-9\", \"2018-10\", \"2018-11\", \"2018-12\", \"2018-8\", \"2018-9\", \"2019-1\", \"2019-10\", \"2019-11\", \"2019-12\", \"2019-2\", \"2019-3\", \"2019-4\", \"2019-5\", \"2019-6\", \"2019-7\", \"2019-8\", \"2019-9\", \"2020-1\", \"2020-2\", \"2020-3\", \"2020-4\", \"2020-5\"], \"y\": [1, 2, 1, 1, 11, 6, 7, 5, 6, 5, 17, 17, 23, 7, 10, 9, 16, 18, 11, 12, 7, 32, 22, 18, 26, 10]}],\n",
       "                        {\"template\": {\"data\": {\"bar\": [{\"error_x\": {\"color\": \"#2a3f5f\"}, \"error_y\": {\"color\": \"#2a3f5f\"}, \"marker\": {\"line\": {\"color\": \"#E5ECF6\", \"width\": 0.5}}, \"type\": \"bar\"}], \"barpolar\": [{\"marker\": {\"line\": {\"color\": \"#E5ECF6\", \"width\": 0.5}}, \"type\": \"barpolar\"}], \"carpet\": [{\"aaxis\": {\"endlinecolor\": \"#2a3f5f\", \"gridcolor\": \"white\", \"linecolor\": \"white\", \"minorgridcolor\": \"white\", \"startlinecolor\": \"#2a3f5f\"}, \"baxis\": {\"endlinecolor\": \"#2a3f5f\", \"gridcolor\": \"white\", \"linecolor\": \"white\", \"minorgridcolor\": \"white\", \"startlinecolor\": \"#2a3f5f\"}, \"type\": \"carpet\"}], \"choropleth\": [{\"colorbar\": {\"outlinewidth\": 0, \"ticks\": \"\"}, \"type\": \"choropleth\"}], \"contour\": [{\"colorbar\": {\"outlinewidth\": 0, \"ticks\": \"\"}, \"colorscale\": [[0.0, \"#0d0887\"], [0.1111111111111111, \"#46039f\"], [0.2222222222222222, \"#7201a8\"], [0.3333333333333333, \"#9c179e\"], [0.4444444444444444, \"#bd3786\"], [0.5555555555555556, \"#d8576b\"], [0.6666666666666666, \"#ed7953\"], [0.7777777777777778, \"#fb9f3a\"], [0.8888888888888888, \"#fdca26\"], [1.0, \"#f0f921\"]], \"type\": \"contour\"}], \"contourcarpet\": [{\"colorbar\": {\"outlinewidth\": 0, \"ticks\": \"\"}, \"type\": \"contourcarpet\"}], \"heatmap\": [{\"colorbar\": {\"outlinewidth\": 0, \"ticks\": \"\"}, \"colorscale\": [[0.0, \"#0d0887\"], [0.1111111111111111, \"#46039f\"], [0.2222222222222222, \"#7201a8\"], [0.3333333333333333, \"#9c179e\"], [0.4444444444444444, \"#bd3786\"], [0.5555555555555556, \"#d8576b\"], [0.6666666666666666, \"#ed7953\"], [0.7777777777777778, \"#fb9f3a\"], [0.8888888888888888, \"#fdca26\"], [1.0, \"#f0f921\"]], \"type\": \"heatmap\"}], \"heatmapgl\": [{\"colorbar\": {\"outlinewidth\": 0, \"ticks\": \"\"}, \"colorscale\": [[0.0, \"#0d0887\"], [0.1111111111111111, \"#46039f\"], [0.2222222222222222, \"#7201a8\"], [0.3333333333333333, \"#9c179e\"], [0.4444444444444444, \"#bd3786\"], [0.5555555555555556, \"#d8576b\"], [0.6666666666666666, \"#ed7953\"], [0.7777777777777778, \"#fb9f3a\"], [0.8888888888888888, \"#fdca26\"], [1.0, \"#f0f921\"]], \"type\": \"heatmapgl\"}], \"histogram\": [{\"marker\": {\"colorbar\": {\"outlinewidth\": 0, \"ticks\": \"\"}}, \"type\": \"histogram\"}], \"histogram2d\": [{\"colorbar\": {\"outlinewidth\": 0, \"ticks\": \"\"}, \"colorscale\": [[0.0, \"#0d0887\"], [0.1111111111111111, \"#46039f\"], [0.2222222222222222, \"#7201a8\"], [0.3333333333333333, \"#9c179e\"], [0.4444444444444444, \"#bd3786\"], [0.5555555555555556, \"#d8576b\"], [0.6666666666666666, \"#ed7953\"], [0.7777777777777778, \"#fb9f3a\"], [0.8888888888888888, \"#fdca26\"], [1.0, \"#f0f921\"]], \"type\": \"histogram2d\"}], \"histogram2dcontour\": [{\"colorbar\": {\"outlinewidth\": 0, \"ticks\": \"\"}, \"colorscale\": [[0.0, \"#0d0887\"], [0.1111111111111111, \"#46039f\"], [0.2222222222222222, \"#7201a8\"], [0.3333333333333333, \"#9c179e\"], [0.4444444444444444, \"#bd3786\"], [0.5555555555555556, \"#d8576b\"], [0.6666666666666666, \"#ed7953\"], [0.7777777777777778, \"#fb9f3a\"], [0.8888888888888888, \"#fdca26\"], [1.0, \"#f0f921\"]], \"type\": \"histogram2dcontour\"}], \"mesh3d\": [{\"colorbar\": {\"outlinewidth\": 0, \"ticks\": \"\"}, \"type\": \"mesh3d\"}], \"parcoords\": [{\"line\": {\"colorbar\": {\"outlinewidth\": 0, \"ticks\": \"\"}}, \"type\": \"parcoords\"}], \"pie\": [{\"automargin\": true, \"type\": \"pie\"}], \"scatter\": [{\"marker\": {\"colorbar\": {\"outlinewidth\": 0, \"ticks\": \"\"}}, \"type\": \"scatter\"}], \"scatter3d\": [{\"line\": {\"colorbar\": {\"outlinewidth\": 0, \"ticks\": \"\"}}, \"marker\": {\"colorbar\": {\"outlinewidth\": 0, \"ticks\": \"\"}}, \"type\": \"scatter3d\"}], \"scattercarpet\": [{\"marker\": {\"colorbar\": {\"outlinewidth\": 0, \"ticks\": \"\"}}, \"type\": \"scattercarpet\"}], \"scattergeo\": [{\"marker\": {\"colorbar\": {\"outlinewidth\": 0, \"ticks\": \"\"}}, \"type\": \"scattergeo\"}], \"scattergl\": [{\"marker\": {\"colorbar\": {\"outlinewidth\": 0, \"ticks\": \"\"}}, \"type\": \"scattergl\"}], \"scattermapbox\": [{\"marker\": {\"colorbar\": {\"outlinewidth\": 0, \"ticks\": \"\"}}, \"type\": \"scattermapbox\"}], \"scatterpolar\": [{\"marker\": {\"colorbar\": {\"outlinewidth\": 0, \"ticks\": \"\"}}, \"type\": \"scatterpolar\"}], \"scatterpolargl\": [{\"marker\": {\"colorbar\": {\"outlinewidth\": 0, \"ticks\": \"\"}}, \"type\": \"scatterpolargl\"}], \"scatterternary\": [{\"marker\": {\"colorbar\": {\"outlinewidth\": 0, \"ticks\": \"\"}}, \"type\": \"scatterternary\"}], \"surface\": [{\"colorbar\": {\"outlinewidth\": 0, \"ticks\": \"\"}, \"colorscale\": [[0.0, \"#0d0887\"], [0.1111111111111111, \"#46039f\"], [0.2222222222222222, \"#7201a8\"], [0.3333333333333333, \"#9c179e\"], [0.4444444444444444, \"#bd3786\"], [0.5555555555555556, \"#d8576b\"], [0.6666666666666666, \"#ed7953\"], [0.7777777777777778, \"#fb9f3a\"], [0.8888888888888888, \"#fdca26\"], [1.0, \"#f0f921\"]], \"type\": \"surface\"}], \"table\": [{\"cells\": {\"fill\": {\"color\": \"#EBF0F8\"}, \"line\": {\"color\": \"white\"}}, \"header\": {\"fill\": {\"color\": \"#C8D4E3\"}, \"line\": {\"color\": \"white\"}}, \"type\": \"table\"}]}, \"layout\": {\"annotationdefaults\": {\"arrowcolor\": \"#2a3f5f\", \"arrowhead\": 0, \"arrowwidth\": 1}, \"coloraxis\": {\"colorbar\": {\"outlinewidth\": 0, \"ticks\": \"\"}}, \"colorscale\": {\"diverging\": [[0, \"#8e0152\"], [0.1, \"#c51b7d\"], [0.2, \"#de77ae\"], [0.3, \"#f1b6da\"], [0.4, \"#fde0ef\"], [0.5, \"#f7f7f7\"], [0.6, \"#e6f5d0\"], [0.7, \"#b8e186\"], [0.8, \"#7fbc41\"], [0.9, \"#4d9221\"], [1, \"#276419\"]], \"sequential\": [[0.0, \"#0d0887\"], [0.1111111111111111, \"#46039f\"], [0.2222222222222222, \"#7201a8\"], [0.3333333333333333, \"#9c179e\"], [0.4444444444444444, \"#bd3786\"], [0.5555555555555556, \"#d8576b\"], [0.6666666666666666, \"#ed7953\"], [0.7777777777777778, \"#fb9f3a\"], [0.8888888888888888, \"#fdca26\"], [1.0, \"#f0f921\"]], \"sequentialminus\": [[0.0, \"#0d0887\"], [0.1111111111111111, \"#46039f\"], [0.2222222222222222, \"#7201a8\"], [0.3333333333333333, \"#9c179e\"], [0.4444444444444444, \"#bd3786\"], [0.5555555555555556, \"#d8576b\"], [0.6666666666666666, \"#ed7953\"], [0.7777777777777778, \"#fb9f3a\"], [0.8888888888888888, \"#fdca26\"], [1.0, \"#f0f921\"]]}, \"colorway\": [\"#636efa\", \"#EF553B\", \"#00cc96\", \"#ab63fa\", \"#FFA15A\", \"#19d3f3\", \"#FF6692\", \"#B6E880\", \"#FF97FF\", \"#FECB52\"], \"font\": {\"color\": \"#2a3f5f\"}, \"geo\": {\"bgcolor\": \"white\", \"lakecolor\": \"white\", \"landcolor\": \"#E5ECF6\", \"showlakes\": true, \"showland\": true, \"subunitcolor\": \"white\"}, \"hoverlabel\": {\"align\": \"left\"}, \"hovermode\": \"closest\", \"mapbox\": {\"style\": \"light\"}, \"paper_bgcolor\": \"white\", \"plot_bgcolor\": \"#E5ECF6\", \"polar\": {\"angularaxis\": {\"gridcolor\": \"white\", \"linecolor\": \"white\", \"ticks\": \"\"}, \"bgcolor\": \"#E5ECF6\", \"radialaxis\": {\"gridcolor\": \"white\", \"linecolor\": \"white\", \"ticks\": \"\"}}, \"scene\": {\"xaxis\": {\"backgroundcolor\": \"#E5ECF6\", \"gridcolor\": \"white\", \"gridwidth\": 2, \"linecolor\": \"white\", \"showbackground\": true, \"ticks\": \"\", \"zerolinecolor\": \"white\"}, \"yaxis\": {\"backgroundcolor\": \"#E5ECF6\", \"gridcolor\": \"white\", \"gridwidth\": 2, \"linecolor\": \"white\", \"showbackground\": true, \"ticks\": \"\", \"zerolinecolor\": \"white\"}, \"zaxis\": {\"backgroundcolor\": \"#E5ECF6\", \"gridcolor\": \"white\", \"gridwidth\": 2, \"linecolor\": \"white\", \"showbackground\": true, \"ticks\": \"\", \"zerolinecolor\": \"white\"}}, \"shapedefaults\": {\"line\": {\"color\": \"#2a3f5f\"}}, \"ternary\": {\"aaxis\": {\"gridcolor\": \"white\", \"linecolor\": \"white\", \"ticks\": \"\"}, \"baxis\": {\"gridcolor\": \"white\", \"linecolor\": \"white\", \"ticks\": \"\"}, \"bgcolor\": \"#E5ECF6\", \"caxis\": {\"gridcolor\": \"white\", \"linecolor\": \"white\", \"ticks\": \"\"}}, \"title\": {\"x\": 0.05}, \"xaxis\": {\"automargin\": true, \"gridcolor\": \"white\", \"linecolor\": \"white\", \"ticks\": \"\", \"title\": {\"standoff\": 15}, \"zerolinecolor\": \"white\", \"zerolinewidth\": 2}, \"yaxis\": {\"automargin\": true, \"gridcolor\": \"white\", \"linecolor\": \"white\", \"ticks\": \"\", \"title\": {\"standoff\": 15}, \"zerolinecolor\": \"white\", \"zerolinewidth\": 2}}}, \"title\": {\"text\": \"Sells by Date\"}},\n",
       "                        {\"responsive\": true}\n",
       "                    ).then(function(){\n",
       "                            \n",
       "var gd = document.getElementById('e7f6e83e-be5c-4c77-9860-91894ba163b4');\n",
       "var x = new MutationObserver(function (mutations, observer) {{\n",
       "        var display = window.getComputedStyle(gd).display;\n",
       "        if (!display || display === 'none') {{\n",
       "            console.log([gd, 'removed!']);\n",
       "            Plotly.purge(gd);\n",
       "            observer.disconnect();\n",
       "        }}\n",
       "}});\n",
       "\n",
       "// Listen for the removal of the full notebook cells\n",
       "var notebookContainer = gd.closest('#notebook-container');\n",
       "if (notebookContainer) {{\n",
       "    x.observe(notebookContainer, {childList: true});\n",
       "}}\n",
       "\n",
       "// Listen for the clearing of the current output cell\n",
       "var outputEl = gd.closest('.output');\n",
       "if (outputEl) {{\n",
       "    x.observe(outputEl, {childList: true});\n",
       "}}\n",
       "\n",
       "                        })\n",
       "                };\n",
       "                });\n",
       "            </script>\n",
       "        </div>"
      ]
     },
     "metadata": {},
     "output_type": "display_data"
    }
   ],
   "source": [
    "# plot the number of sells by date\n",
    "x_value = df_sell['date']\n",
    "y_value = df_sell['sells']\n",
    "\n",
    "fig = go.Figure([go.Bar(x = x_value, y = y_value)])\n",
    "\n",
    "fig.update_traces(marker_color='rgb(230, 115, 0)')\n",
    "\n",
    "fig.update_layout(title_text='Sells by Date')\n",
    "\n",
    "fig.write_image('plots/sells.png')\n",
    "\n",
    "fig.show()"
   ]
  },
  {
   "cell_type": "code",
   "execution_count": null,
   "metadata": {},
   "outputs": [],
   "source": []
  }
 ],
 "metadata": {
  "kernelspec": {
   "display_name": "Python 3",
   "language": "python",
   "name": "python3"
  },
  "language_info": {
   "codemirror_mode": {
    "name": "ipython",
    "version": 3
   },
   "file_extension": ".py",
   "mimetype": "text/x-python",
   "name": "python",
   "nbconvert_exporter": "python",
   "pygments_lexer": "ipython3",
   "version": "3.7.6"
  }
 },
 "nbformat": 4,
 "nbformat_minor": 4
}
